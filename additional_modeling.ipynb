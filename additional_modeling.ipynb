{
  "nbformat": 4,
  "nbformat_minor": 0,
  "metadata": {
    "kernelspec": {
      "name": "python3",
      "display_name": "Python 3"
    },
    "toc": {
      "base_numbering": 1,
      "nav_menu": {},
      "number_sections": true,
      "sideBar": true,
      "skip_h1_title": false,
      "title_cell": "Table of Contents",
      "title_sidebar": "Contents",
      "toc_cell": true,
      "toc_position": {},
      "toc_section_display": true,
      "toc_window_display": false
    },
    "colab": {
      "name": "additional-modeling.ipynb",
      "provenance": []
    },
    "accelerator": "GPU"
  },
  "cells": [
    {
      "cell_type": "markdown",
      "metadata": {
        "toc": true,
        "id": "2VdUWyIY7oXn",
        "colab_type": "text"
      },
      "source": [
        "<h1>Table of Contents<span class=\"tocSkip\"></span></h1>\n",
        "<div class=\"toc\"><ul class=\"toc-item\"></ul></div>"
      ]
    },
    {
      "cell_type": "code",
      "metadata": {
        "ExecuteTime": {
          "end_time": "2020-02-18T00:19:01.275054Z",
          "start_time": "2020-02-18T00:18:57.355758Z"
        },
        "id": "dszVP-Fn7oXp",
        "colab_type": "code",
        "colab": {}
      },
      "source": [
        "# Load the first packages we'll need\n",
        "import pandas as pd\n",
        "import numpy as np\n",
        "import matplotlib.pyplot as plt\n",
        "%matplotlib inline\n",
        "import seaborn as sns"
      ],
      "execution_count": 0,
      "outputs": []
    },
    {
      "cell_type": "code",
      "metadata": {
        "id": "a81JSZCC7oXu",
        "colab_type": "code",
        "colab": {}
      },
      "source": [
        "# Read in the text and target dataset from local copy\n",
        "data_clean = pd.read_csv('data_clean.csv')"
      ],
      "execution_count": 0,
      "outputs": []
    },
    {
      "cell_type": "code",
      "metadata": {
        "id": "7hx6GWsE7oXx",
        "colab_type": "code",
        "colab": {
          "base_uri": "https://localhost:8080/",
          "height": 34
        },
        "outputId": "3dac5cc2-d964-49d6-cf2a-b5aba52d3026"
      },
      "source": [
        "# Alternatively, read in the text and target dataset from Google Drive\n",
        "# Connect to Drive\n",
        "from google.colab import drive\n",
        "drive.mount('/content/drive')"
      ],
      "execution_count": 2,
      "outputs": [
        {
          "output_type": "stream",
          "text": [
            "Drive already mounted at /content/drive; to attempt to forcibly remount, call drive.mount(\"/content/drive\", force_remount=True).\n"
          ],
          "name": "stdout"
        }
      ]
    },
    {
      "cell_type": "code",
      "metadata": {
        "id": "2S5vQXh_7oX1",
        "colab_type": "code",
        "colab": {
          "base_uri": "https://localhost:8080/",
          "height": 204
        },
        "outputId": "0328a2d3-9ce9-4a01-b157-4f9568e2de7d"
      },
      "source": [
        "# Read in dataset from Drive\n",
        "data_clean = pd.read_csv(\"/content/drive/My Drive/helpful-reviews/data_clean.csv\")\n",
        "data_clean.drop('Unnamed: 0', axis=1, inplace=True)\n",
        "\n",
        "# Create boolean column `helpful_1`\n",
        "data_clean['helpful_1'] = np.where(data_clean['helpful'] > 0, 1, 0)\n",
        "data_clean.head()"
      ],
      "execution_count": 2,
      "outputs": [
        {
          "output_type": "execute_result",
          "data": {
            "text/html": [
              "<div>\n",
              "<style scoped>\n",
              "    .dataframe tbody tr th:only-of-type {\n",
              "        vertical-align: middle;\n",
              "    }\n",
              "\n",
              "    .dataframe tbody tr th {\n",
              "        vertical-align: top;\n",
              "    }\n",
              "\n",
              "    .dataframe thead th {\n",
              "        text-align: right;\n",
              "    }\n",
              "</style>\n",
              "<table border=\"1\" class=\"dataframe\">\n",
              "  <thead>\n",
              "    <tr style=\"text-align: right;\">\n",
              "      <th></th>\n",
              "      <th>helpful</th>\n",
              "      <th>text</th>\n",
              "      <th>helpful_1</th>\n",
              "    </tr>\n",
              "  </thead>\n",
              "  <tbody>\n",
              "    <tr>\n",
              "      <th>0</th>\n",
              "      <td>1</td>\n",
              "      <td>I have bought several of the Vitality canned d...</td>\n",
              "      <td>1</td>\n",
              "    </tr>\n",
              "    <tr>\n",
              "      <th>1</th>\n",
              "      <td>0</td>\n",
              "      <td>Product arrived labeled as Jumbo Salted Peanut...</td>\n",
              "      <td>0</td>\n",
              "    </tr>\n",
              "    <tr>\n",
              "      <th>2</th>\n",
              "      <td>1</td>\n",
              "      <td>This is a confection that has been around a fe...</td>\n",
              "      <td>1</td>\n",
              "    </tr>\n",
              "    <tr>\n",
              "      <th>3</th>\n",
              "      <td>3</td>\n",
              "      <td>If you are looking for the secret ingredient i...</td>\n",
              "      <td>1</td>\n",
              "    </tr>\n",
              "    <tr>\n",
              "      <th>4</th>\n",
              "      <td>0</td>\n",
              "      <td>Great taffy at a great price.  There was a wid...</td>\n",
              "      <td>0</td>\n",
              "    </tr>\n",
              "  </tbody>\n",
              "</table>\n",
              "</div>"
            ],
            "text/plain": [
              "   helpful                                               text  helpful_1\n",
              "0        1  I have bought several of the Vitality canned d...          1\n",
              "1        0  Product arrived labeled as Jumbo Salted Peanut...          0\n",
              "2        1  This is a confection that has been around a fe...          1\n",
              "3        3  If you are looking for the secret ingredient i...          1\n",
              "4        0  Great taffy at a great price.  There was a wid...          0"
            ]
          },
          "metadata": {
            "tags": []
          },
          "execution_count": 2
        }
      ]
    },
    {
      "cell_type": "code",
      "metadata": {
        "id": "IdhDgNnq7oX4",
        "colab_type": "code",
        "colab": {
          "base_uri": "https://localhost:8080/",
          "height": 51
        },
        "outputId": "a7f47fbe-b239-4f50-df11-a3ea4b3fc8df"
      },
      "source": [
        "# Find splitting point for 80% train, 10% validation, 10% test\n",
        "all_length = len(data_clean)\n",
        "train_len = round(0.8 * all_length)\n",
        "val_len = round(0.1 * all_length)\n",
        "\n",
        "print('Train set length:', train_len)\n",
        "print('Validation set length:', val_len)"
      ],
      "execution_count": 3,
      "outputs": [
        {
          "output_type": "stream",
          "text": [
            "Train set length: 314863\n",
            "Validation set length: 39358\n"
          ],
          "name": "stdout"
        }
      ]
    },
    {
      "cell_type": "code",
      "metadata": {
        "id": "r8kE0ZuP7oX8",
        "colab_type": "code",
        "colab": {}
      },
      "source": [
        "# Train-val-test split\n",
        "from sklearn.model_selection import train_test_split\n",
        "\n",
        "y = data_clean['helpful_1']\n",
        "X = data_clean['text']\n",
        "\n",
        "X_train, X_test, y_train, y_test = train_test_split(X, y, test_size=val_len,\n",
        "                                                    random_state=123)\n",
        "X_train, X_val, y_train, y_val = train_test_split(X_train, y_train, \n",
        "                                                test_size=val_len,\n",
        "                                                random_state=123)"
      ],
      "execution_count": 0,
      "outputs": []
    },
    {
      "cell_type": "code",
      "metadata": {
        "id": "RTgNc1_f7oYA",
        "colab_type": "code",
        "colab": {
          "base_uri": "https://localhost:8080/",
          "height": 51
        },
        "outputId": "38e1e7ec-034b-4b68-db01-39500082eb90"
      },
      "source": [
        "# Set up stopwords to be removed\n",
        "import nltk\n",
        "nltk.download('stopwords')\n",
        "from nltk.corpus import stopwords\n",
        "import string\n",
        "\n",
        "stop_list = stopwords.words('english')\n",
        "stop_list += list(string.punctuation)\n",
        "stop_list += ['br', '.<', '..', '...', '``', \"''\", '--', 'http', 'https',\n",
        "              'com', 'www']"
      ],
      "execution_count": 14,
      "outputs": [
        {
          "output_type": "stream",
          "text": [
            "[nltk_data] Downloading package stopwords to /root/nltk_data...\n",
            "[nltk_data]   Unzipping corpora/stopwords.zip.\n"
          ],
          "name": "stdout"
        }
      ]
    },
    {
      "cell_type": "code",
      "metadata": {
        "id": "dp7cr5ho7oYD",
        "colab_type": "code",
        "colab": {
          "base_uri": "https://localhost:8080/",
          "height": 80
        },
        "outputId": "2be38e0c-e501-4696-df36-17b471520a02"
      },
      "source": [
        "# Import needed packages/classes\n",
        "from keras.preprocessing.sequence import pad_sequences\n",
        "from keras.layers import Input, Dense, LSTM, Embedding\n",
        "from keras.layers import Dropout, Activation, Bidirectional, GlobalMaxPool1D\n",
        "from keras.models import Sequential\n",
        "from keras import initializers, regularizers, constraints, optimizers, layers\n",
        "from keras import callbacks\n",
        "from keras.preprocessing import text, sequence\n",
        "import tensorflow as tf"
      ],
      "execution_count": 5,
      "outputs": [
        {
          "output_type": "stream",
          "text": [
            "Using TensorFlow backend.\n"
          ],
          "name": "stderr"
        },
        {
          "output_type": "display_data",
          "data": {
            "text/html": [
              "<p style=\"color: red;\">\n",
              "The default version of TensorFlow in Colab will soon switch to TensorFlow 2.x.<br>\n",
              "We recommend you <a href=\"https://www.tensorflow.org/guide/migrate\" target=\"_blank\">upgrade</a> now \n",
              "or ensure your notebook will continue to use TensorFlow 1.x via the <code>%tensorflow_version 1.x</code> magic:\n",
              "<a href=\"https://colab.research.google.com/notebooks/tensorflow_version.ipynb\" target=\"_blank\">more info</a>.</p>\n"
            ],
            "text/plain": [
              "<IPython.core.display.HTML object>"
            ]
          },
          "metadata": {
            "tags": []
          }
        }
      ]
    },
    {
      "cell_type": "code",
      "metadata": {
        "id": "FUii9IyJ7oYG",
        "colab_type": "code",
        "colab": {}
      },
      "source": [
        "# Create sequences of tokens uniform in length for all reviews (~ 35 sec.)\n",
        "tokenizer = text.Tokenizer(num_words=20000)\n",
        "tokenizer.fit_on_texts(list(X_train))\n",
        "X_train_tok = tokenizer.texts_to_sequences(X_train)\n",
        "X_train_tok_pad = sequence.pad_sequences(X_train_tok, maxlen=1000)\n",
        "\n",
        "X_val_tok = tokenizer.texts_to_sequences(X_val)\n",
        "X_val_tok_pad = sequence.pad_sequences(X_val_tok, maxlen=1000)"
      ],
      "execution_count": 0,
      "outputs": []
    },
    {
      "cell_type": "code",
      "metadata": {
        "id": "0odk0pST8D6j",
        "colab_type": "code",
        "colab": {}
      },
      "source": [
        "# Tokenize the test set\n",
        "X_test_tok = tokenizer.texts_to_sequences(X_test)\n",
        "X_test_tok_pad = sequence.pad_sequences(X_test_tok, maxlen=1000)"
      ],
      "execution_count": 0,
      "outputs": []
    },
    {
      "cell_type": "code",
      "metadata": {
        "id": "Zy8bdx2F7oYK",
        "colab_type": "code",
        "colab": {
          "base_uri": "https://localhost:8080/",
          "height": 578
        },
        "outputId": "4a9fcbcf-f189-49e3-9d5c-1f0631985bc1"
      },
      "source": [
        "# Build a GRU network (~ 1:15)\n",
        "from keras import callbacks\n",
        "\n",
        "checkpoint = callbacks.ModelCheckpoint('/content/drive/My Drive/helpful-reviews/gru_model_embed_50.h5',\n",
        "                                       monitor='val_acc', \n",
        "                                       save_best_only=True)\n",
        "early_stop = callbacks.EarlyStopping(monitor='val_loss', \n",
        "                                     min_delta=0.001, \n",
        "                                     patience=5) \n",
        "\n",
        "embed_size = 50\n",
        "model = tf.keras.models.Sequential()\n",
        "model.add(tf.keras.layers.Embedding(200000, embed_size, \n",
        "                                    input_shape=(1000,)))\n",
        "model.add(tf.keras.layers.GRU(25, return_sequences=True, input_shape=(50,)))\n",
        "model.add(tf.keras.layers.GRU(25, return_sequences=True, input_shape=(50,)))\n",
        "model.add(tf.keras.layers.GlobalMaxPool1D())\n",
        "model.add(tf.keras.layers.Dropout(0.5))\n",
        "model.add(tf.keras.layers.Dense(50, activation='relu'))\n",
        "model.add(tf.keras.layers.Dropout(0.5))\n",
        "model.add(tf.keras.layers.Dense(50, activation='relu'))\n",
        "model.add(tf.keras.layers.Dropout(0.5))\n",
        "model.add(tf.keras.layers.Dense(1, activation='relu'))\n",
        "\n",
        "model.compile(loss='binary_crossentropy', optimizer='adam', \n",
        "              metrics=['accuracy'])\n",
        "history = model.fit(X_train_tok_pad, y_train, epochs=50, batch_size=4096, \n",
        "                    validation_data=(X_val_tok_pad, y_val),\n",
        "                    callbacks=[checkpoint, early_stop])"
      ],
      "execution_count": 13,
      "outputs": [
        {
          "output_type": "stream",
          "text": [
            "Train on 314863 samples, validate on 39358 samples\n",
            "Epoch 1/50\n",
            "314863/314863 [==============================] - 271s 862us/sample - loss: 1.0192 - acc: 0.5202 - val_loss: 0.7015 - val_acc: 0.5292\n",
            "Epoch 2/50\n",
            "314863/314863 [==============================] - 270s 856us/sample - loss: 0.7376 - acc: 0.5171 - val_loss: 0.6943 - val_acc: 0.5292\n",
            "Epoch 3/50\n",
            "314863/314863 [==============================] - 267s 847us/sample - loss: 0.7230 - acc: 0.5236 - val_loss: 0.6876 - val_acc: 0.5347\n",
            "Epoch 4/50\n",
            "314863/314863 [==============================] - 267s 848us/sample - loss: 0.7135 - acc: 0.5351 - val_loss: 0.6829 - val_acc: 0.5480\n",
            "Epoch 5/50\n",
            "314863/314863 [==============================] - 268s 851us/sample - loss: 0.7066 - acc: 0.5465 - val_loss: 0.6872 - val_acc: 0.5442\n",
            "Epoch 6/50\n",
            "314863/314863 [==============================] - 268s 852us/sample - loss: 0.7019 - acc: 0.5578 - val_loss: 0.6758 - val_acc: 0.5706\n",
            "Epoch 7/50\n",
            "314863/314863 [==============================] - 268s 851us/sample - loss: 0.6951 - acc: 0.5694 - val_loss: 0.6735 - val_acc: 0.5775\n",
            "Epoch 8/50\n",
            "314863/314863 [==============================] - 267s 846us/sample - loss: 0.6971 - acc: 0.5690 - val_loss: 0.6730 - val_acc: 0.5884\n",
            "Epoch 9/50\n",
            "314863/314863 [==============================] - 264s 840us/sample - loss: 0.6939 - acc: 0.5717 - val_loss: 0.6850 - val_acc: 0.5575\n",
            "Epoch 10/50\n",
            "314863/314863 [==============================] - 263s 836us/sample - loss: 0.6861 - acc: 0.5830 - val_loss: 0.6699 - val_acc: 0.5864\n",
            "Epoch 11/50\n",
            "314863/314863 [==============================] - 265s 842us/sample - loss: 0.6909 - acc: 0.5748 - val_loss: 0.6671 - val_acc: 0.5925\n",
            "Epoch 12/50\n",
            "314863/314863 [==============================] - 265s 840us/sample - loss: 0.6830 - acc: 0.5870 - val_loss: 0.6688 - val_acc: 0.5899\n",
            "Epoch 13/50\n",
            "314863/314863 [==============================] - 263s 836us/sample - loss: 0.6793 - acc: 0.5951 - val_loss: 0.6728 - val_acc: 0.5829\n",
            "Epoch 14/50\n",
            "314863/314863 [==============================] - 264s 838us/sample - loss: 0.6820 - acc: 0.5863 - val_loss: 0.6677 - val_acc: 0.5918\n",
            "Epoch 15/50\n",
            "314863/314863 [==============================] - 264s 837us/sample - loss: 0.6738 - acc: 0.5991 - val_loss: 0.6707 - val_acc: 0.5872\n",
            "Epoch 16/50\n",
            "314863/314863 [==============================] - 263s 836us/sample - loss: 0.6741 - acc: 0.6044 - val_loss: 0.6707 - val_acc: 0.5880\n"
          ],
          "name": "stdout"
        }
      ]
    },
    {
      "cell_type": "code",
      "metadata": {
        "id": "izHGUt7p7oYO",
        "colab_type": "code",
        "colab": {
          "base_uri": "https://localhost:8080/",
          "height": 621
        },
        "outputId": "f7ad6fb6-3bef-492e-c2b7-41d08ec9e98f"
      },
      "source": [
        "# Visualize loss and accuracy over training epochs\n",
        "x = [i for i in range(1, 17)]\n",
        "\n",
        "plt.figure(figsize=(12, 10))\n",
        "plt.plot(x, history.history['acc'], label='Train Accuracy')\n",
        "plt.plot(x, history.history['loss'], label='Train Loss')\n",
        "plt.plot(x, history.history['val_acc'], label='Val. Accuracy')\n",
        "plt.plot(x, history.history['val_loss'], label='Val. Loss')\n",
        "plt.title('Model performance over 16 training epochs')\n",
        "plt.xlabel('Epochs')\n",
        "plt.legend()\n",
        "plt.show();"
      ],
      "execution_count": 16,
      "outputs": [
        {
          "output_type": "display_data",
          "data": {
            "image/png": "[encoded data removed]",
            "text/plain": [
              "<Figure size 864x720 with 1 Axes>"
            ]
          },
          "metadata": {
            "tags": []
          }
        }
      ]
    },
    {
      "cell_type": "code",
      "metadata": {
        "id": "Ls_seToeR5oJ",
        "colab_type": "code",
        "colab": {
          "base_uri": "https://localhost:8080/",
          "height": 34
        },
        "outputId": "7cf57461-4d0d-4ff8-e2b4-f5d8ad0fbcee"
      },
      "source": [
        "# Try a multinomial naive Bayes classifier\n",
        "# Inspired by https://www.kaggle.com/paragap/amazon-product-rating-prediction-basis-review\n",
        "from sklearn.pipeline import Pipeline\n",
        "from sklearn.feature_extraction.text import CountVectorizer, TfidfTransformer\n",
        "from sklearn.naive_bayes import MultinomialNB\n",
        "\n",
        "clf = Pipeline([\n",
        "    ('vect', CountVectorizer(stop_words=stop_list)),\n",
        "    ('tfidf', TfidfTransformer()),\n",
        "    ('classifier', MultinomialNB()),\n",
        "    ])\n",
        "\n",
        "nb_clf = clf.fit(X_train, y_train)\n",
        "print('Accuracy:', nb_clf.score(X_val, y_val))"
      ],
      "execution_count": 15,
      "outputs": [
        {
          "output_type": "stream",
          "text": [
            "Accuracy: 0.6005894608465877\n"
          ],
          "name": "stdout"
        }
      ]
    },
    {
      "cell_type": "code",
      "metadata": {
        "id": "gQpjaFUNW2xy",
        "colab_type": "code",
        "colab": {
          "base_uri": "https://localhost:8080/",
          "height": 34
        },
        "outputId": "dedaf172-ef5e-4ba7-f22a-ee3baf970b8c"
      },
      "source": [
        "# Try a random forest\n",
        "from sklearn.ensemble import RandomForestClassifier\n",
        "clf = Pipeline([\n",
        "    ('vect', CountVectorizer(stop_words=stop_list)),\n",
        "    ('tfidf', TfidfTransformer()),\n",
        "    ('classifier', RandomForestClassifier(n_jobs= -1)),\n",
        "    ])\n",
        "\n",
        "model = clf.fit(X_train,y_train)\n",
        "print(\"Accuracy:\", model.score(X_val,y_val))"
      ],
      "execution_count": 18,
      "outputs": [
        {
          "output_type": "stream",
          "text": [
            "Accuracy: 0.5905279739824179\n"
          ],
          "name": "stdout"
        }
      ]
    },
    {
      "cell_type": "code",
      "metadata": {
        "id": "3XxFlfvVXuh_",
        "colab_type": "code",
        "colab": {
          "base_uri": "https://localhost:8080/",
          "height": 34
        },
        "outputId": "5292a66f-4df3-4e96-c9ee-3c213d0736fd"
      },
      "source": [
        "# Try a Bernoulli naive Bayes classifier\n",
        "from sklearn.pipeline import Pipeline\n",
        "from sklearn.feature_extraction.text import CountVectorizer, TfidfTransformer\n",
        "from sklearn.naive_bayes import BernoulliNB\n",
        "\n",
        "clf = Pipeline([\n",
        "    ('vect', CountVectorizer(binary=True, stop_words=stop_list)),\n",
        "    ('classifier', BernoulliNB()),\n",
        "    ])\n",
        "\n",
        "bnb_clf = clf.fit(X_train, y_train)\n",
        "print('Accuracy:', bnb_clf.score(X_val, y_val))"
      ],
      "execution_count": 20,
      "outputs": [
        {
          "output_type": "stream",
          "text": [
            "Accuracy: 0.5848620356725444\n"
          ],
          "name": "stdout"
        }
      ]
    },
    {
      "cell_type": "code",
      "metadata": {
        "id": "0sL0mCMTir-9",
        "colab_type": "code",
        "colab": {}
      },
      "source": [
        ""
      ],
      "execution_count": 0,
      "outputs": []
    }
  ]
}