{
 "cells": [
  {
   "cell_type": "markdown",
   "metadata": {},
   "source": [
    "# Load data"
   ]
  },
  {
   "cell_type": "code",
   "execution_count": 1,
   "metadata": {
    "ExecuteTime": {
     "end_time": "2019-12-16T16:56:06.491049Z",
     "start_time": "2019-12-16T16:56:03.891783Z"
    }
   },
   "outputs": [],
   "source": [
    "import pandas as pd\n",
    "import numpy as np\n",
    "import matplotlib.pyplot as plt\n",
    "%matplotlib inline"
   ]
  },
  {
   "cell_type": "code",
   "execution_count": 2,
   "metadata": {
    "ExecuteTime": {
     "end_time": "2019-12-16T16:59:17.380887Z",
     "start_time": "2019-12-16T16:59:13.152731Z"
    }
   },
   "outputs": [
    {
     "data": {
      "text/html": [
       "<div>\n",
       "<style scoped>\n",
       "    .dataframe tbody tr th:only-of-type {\n",
       "        vertical-align: middle;\n",
       "    }\n",
       "\n",
       "    .dataframe tbody tr th {\n",
       "        vertical-align: top;\n",
       "    }\n",
       "\n",
       "    .dataframe thead th {\n",
       "        text-align: right;\n",
       "    }\n",
       "</style>\n",
       "<table border=\"1\" class=\"dataframe\">\n",
       "  <thead>\n",
       "    <tr style=\"text-align: right;\">\n",
       "      <th></th>\n",
       "      <th>Id</th>\n",
       "      <th>ProductId</th>\n",
       "      <th>UserId</th>\n",
       "      <th>ProfileName</th>\n",
       "      <th>HelpfulnessNumerator</th>\n",
       "      <th>HelpfulnessDenominator</th>\n",
       "      <th>Score</th>\n",
       "      <th>Time</th>\n",
       "      <th>Summary</th>\n",
       "      <th>Text</th>\n",
       "    </tr>\n",
       "  </thead>\n",
       "  <tbody>\n",
       "    <tr>\n",
       "      <td>0</td>\n",
       "      <td>1</td>\n",
       "      <td>B001E4KFG0</td>\n",
       "      <td>A3SGXH7AUHU8GW</td>\n",
       "      <td>delmartian</td>\n",
       "      <td>1</td>\n",
       "      <td>1</td>\n",
       "      <td>5</td>\n",
       "      <td>1303862400</td>\n",
       "      <td>Good Quality Dog Food</td>\n",
       "      <td>I have bought several of the Vitality canned d...</td>\n",
       "    </tr>\n",
       "    <tr>\n",
       "      <td>1</td>\n",
       "      <td>2</td>\n",
       "      <td>B00813GRG4</td>\n",
       "      <td>A1D87F6ZCVE5NK</td>\n",
       "      <td>dll pa</td>\n",
       "      <td>0</td>\n",
       "      <td>0</td>\n",
       "      <td>1</td>\n",
       "      <td>1346976000</td>\n",
       "      <td>Not as Advertised</td>\n",
       "      <td>Product arrived labeled as Jumbo Salted Peanut...</td>\n",
       "    </tr>\n",
       "    <tr>\n",
       "      <td>2</td>\n",
       "      <td>3</td>\n",
       "      <td>B000LQOCH0</td>\n",
       "      <td>ABXLMWJIXXAIN</td>\n",
       "      <td>Natalia Corres \"Natalia Corres\"</td>\n",
       "      <td>1</td>\n",
       "      <td>1</td>\n",
       "      <td>4</td>\n",
       "      <td>1219017600</td>\n",
       "      <td>\"Delight\" says it all</td>\n",
       "      <td>This is a confection that has been around a fe...</td>\n",
       "    </tr>\n",
       "    <tr>\n",
       "      <td>3</td>\n",
       "      <td>4</td>\n",
       "      <td>B000UA0QIQ</td>\n",
       "      <td>A395BORC6FGVXV</td>\n",
       "      <td>Karl</td>\n",
       "      <td>3</td>\n",
       "      <td>3</td>\n",
       "      <td>2</td>\n",
       "      <td>1307923200</td>\n",
       "      <td>Cough Medicine</td>\n",
       "      <td>If you are looking for the secret ingredient i...</td>\n",
       "    </tr>\n",
       "    <tr>\n",
       "      <td>4</td>\n",
       "      <td>5</td>\n",
       "      <td>B006K2ZZ7K</td>\n",
       "      <td>A1UQRSCLF8GW1T</td>\n",
       "      <td>Michael D. Bigham \"M. Wassir\"</td>\n",
       "      <td>0</td>\n",
       "      <td>0</td>\n",
       "      <td>5</td>\n",
       "      <td>1350777600</td>\n",
       "      <td>Great taffy</td>\n",
       "      <td>Great taffy at a great price.  There was a wid...</td>\n",
       "    </tr>\n",
       "  </tbody>\n",
       "</table>\n",
       "</div>"
      ],
      "text/plain": [
       "   Id   ProductId          UserId                      ProfileName  \\\n",
       "0   1  B001E4KFG0  A3SGXH7AUHU8GW                       delmartian   \n",
       "1   2  B00813GRG4  A1D87F6ZCVE5NK                           dll pa   \n",
       "2   3  B000LQOCH0   ABXLMWJIXXAIN  Natalia Corres \"Natalia Corres\"   \n",
       "3   4  B000UA0QIQ  A395BORC6FGVXV                             Karl   \n",
       "4   5  B006K2ZZ7K  A1UQRSCLF8GW1T    Michael D. Bigham \"M. Wassir\"   \n",
       "\n",
       "   HelpfulnessNumerator  HelpfulnessDenominator  Score        Time  \\\n",
       "0                     1                       1      5  1303862400   \n",
       "1                     0                       0      1  1346976000   \n",
       "2                     1                       1      4  1219017600   \n",
       "3                     3                       3      2  1307923200   \n",
       "4                     0                       0      5  1350777600   \n",
       "\n",
       "                 Summary                                               Text  \n",
       "0  Good Quality Dog Food  I have bought several of the Vitality canned d...  \n",
       "1      Not as Advertised  Product arrived labeled as Jumbo Salted Peanut...  \n",
       "2  \"Delight\" says it all  This is a confection that has been around a fe...  \n",
       "3         Cough Medicine  If you are looking for the secret ingredient i...  \n",
       "4            Great taffy  Great taffy at a great price.  There was a wid...  "
      ]
     },
     "execution_count": 2,
     "metadata": {},
     "output_type": "execute_result"
    }
   ],
   "source": [
    "data = pd.read_csv('./data/Reviews.csv')\n",
    "data.head()"
   ]
  },
  {
   "cell_type": "markdown",
   "metadata": {},
   "source": [
    "# Look for duplicates/weird stuff"
   ]
  },
  {
   "cell_type": "code",
   "execution_count": 4,
   "metadata": {
    "ExecuteTime": {
     "end_time": "2019-12-16T17:00:18.467353Z",
     "start_time": "2019-12-16T17:00:18.316995Z"
    }
   },
   "outputs": [
    {
     "data": {
      "text/plain": [
       "B007JFMH8M    913\n",
       "B0026RQTGE    632\n",
       "B002QWP89S    632\n",
       "B002QWHJOU    632\n",
       "B002QWP8H0    632\n",
       "             ... \n",
       "B008QPBSXE      1\n",
       "B001YJ2VGM      1\n",
       "B003PM4X9E      1\n",
       "B004D6UAWK      1\n",
       "B0084JFD7E      1\n",
       "Name: ProductId, Length: 74258, dtype: int64"
      ]
     },
     "execution_count": 4,
     "metadata": {},
     "output_type": "execute_result"
    }
   ],
   "source": [
    "# Check for multiple reviews of same product\n",
    "data.ProductId.value_counts()"
   ]
  },
  {
   "cell_type": "code",
   "execution_count": 5,
   "metadata": {
    "ExecuteTime": {
     "end_time": "2019-12-16T17:00:42.009415Z",
     "start_time": "2019-12-16T17:00:41.499063Z"
    }
   },
   "outputs": [
    {
     "data": {
      "text/plain": [
       "A3OXHLG6DIBRW8    448\n",
       "A1YUL9PCJR3JTY    421\n",
       "AY12DBB0U420B     389\n",
       "A281NPSIMI1C2R    365\n",
       "A1Z54EM24Y40LL    256\n",
       "                 ... \n",
       "A1N15DDUYPDXVO      1\n",
       "A2JXHUQYM3OXH7      1\n",
       "A2B8TQ3M0VRKV8      1\n",
       "A3EEZ8YWOTBR2W      1\n",
       "A36ZJ8VITNWRBC      1\n",
       "Name: UserId, Length: 256059, dtype: int64"
      ]
     },
     "execution_count": 5,
     "metadata": {},
     "output_type": "execute_result"
    }
   ],
   "source": [
    "# Check for multiple reviews by same user\n",
    "data.UserId.value_counts()"
   ]
  },
  {
   "cell_type": "code",
   "execution_count": 7,
   "metadata": {
    "ExecuteTime": {
     "end_time": "2019-12-16T17:03:12.027516Z",
     "start_time": "2019-12-16T17:03:11.969400Z"
    }
   },
   "outputs": [
    {
     "data": {
      "text/plain": [
       "count    568454.000000\n",
       "mean          1.743817\n",
       "std           7.636513\n",
       "min           0.000000\n",
       "25%           0.000000\n",
       "50%           0.000000\n",
       "75%           2.000000\n",
       "max         866.000000\n",
       "Name: HelpfulnessNumerator, dtype: float64"
      ]
     },
     "execution_count": 7,
     "metadata": {},
     "output_type": "execute_result"
    }
   ],
   "source": [
    "# Check summary stats on helpfulness votes\n",
    "data.HelpfulnessNumerator.describe()"
   ]
  },
  {
   "cell_type": "code",
   "execution_count": 15,
   "metadata": {
    "ExecuteTime": {
     "end_time": "2019-12-16T17:08:04.704442Z",
     "start_time": "2019-12-16T17:08:04.688474Z"
    }
   },
   "outputs": [
    {
     "data": {
      "text/plain": [
       "190733    see update at end of review<br /><br />******************<br /><br />I was lamenting about only having frech lettuce, herbs, chives, and tomatoes from may garden during the long fall-winter-spring parts of the year. The refrigerated stuff from the grocery store goes bad right away and does not taste as good as the fresh stuff from the garden, either.<br /><br />Then I saw a Time Magazine page on the new AeroGrow AeroGarden, and I just had to try it out. After reading the AeroGrow website before making the purchase, I realized that buying one garden would not work for me, as the tomatoes cannot be grown in the same garden as lettuce & herbs. This is partially due to the large amount of room taken up by the tomatoes, and also because the lamp/watering cycle is different and finally because the nutrients are different.<br /><br />So, I bought two gardens, along with the Salad Greens seed kit and Cherry Tomato seed kit. Each garden comes with a mixed herb kit, so I figured to mix in a few herbs with the other seeds, and if they did not work, no big loss.<br /><br />The products came quickly and the instructions for assembly were very clear and well written with excellent diagrams. I came to realize that this somewhat pricey product at least comes from a company that produces a classy product (a rare thing these days). I found a space on a shelf beside the basement stairs, and placed both assembled gardens there. I also bought and placed a digital thermometer with maximum/minimum temperature memory readouts ($10 at Radio Shack), because I was unsure of what temperature extremes the plants might experience in that location (68-72 as it turns out).<br /><br />The seed kits contain pre-seeded planting pods. Each pod is basically a plastic cup shaped frame with two pieces of foam rubber inside the cup part, like two slices of bread with the seeds sandwiched between them. They simply insert into the seven holes in the top of the garden's water tank. The Salad Greens and Herbs come with seven pods per kit, while the Tomatos come with three pods plus four hole plugs-the plants are bigger so three of them take up thw whole space available. The hole plugs prevent evaporation of the water through the unoccupied holes.<br /><br />The water tank holds exactly one gallon of regular drinking water. Well water is not recommended, presumably because of impurities, and since I am on a well I bought two one-gallon plastic jugs of 'drinking water' at the store for 50 cents each and filled the tanks with their contents. A pump in the tank takes water and pipes it to the rim of each of the seven holes in the tank's top, and here the trickle of water flows into the foam sandwich of each seed pod. The foam stays moist and the rest of the water drips back down into the tank. The garden's 'computer' cycles the water flow on and off according to the amount recommended for the type of plant being grown. A water level sensor turns on a flashing red light when it is time to add more water to the tank.<br /><br />The top of the garden is a reflector with two compact-fluorescent lamps, of the variety that has the special ultraviolet (UV) coating that causes the emmitted light to resemble sunlight. The reflector rides on a vertical pole that extends up from the garden's base, so you can raise and lower the lamps as required to keep them the correct distance above the plants. The garden's 'computer' also turns the lamps on and off according to a schedule tailored to the type of plant. If using the gardens in a place where the light might be a problem at night, you can syncronize the computer so that the lights are on only during the daytime and off when you are trying to sleep.<br /><br />The seed kits come with little clear plastic cups that cover each pod until the seeds have germinated, then you can dispose of them. The kits also come with a bag of nutrient tablets, which you add to the water tank when the computer prompts you to by flashing a red light. The nutrients are tailored to the type of plant being grown, and there are enough of them to feed the plants during their anticipated life span.<br /><br />I planted one garden with five salad green (leaf lettuce) pods, plus one pod each from the Herb kit, chives and parsley. The other garden got the threee pods from the Cherry Tomato kit; two reds and one yellow variety.<br /><br />Each seed pod has a label that tells you how many days to wait for plants to appear after germination. All of my plants appeared like clockwork.<br /><br />I have had the gardens for about six weeks now, and have been enjoying salads containing lettuce, parsley and chives plus other odds and ends from the fridge, for the last two or three weeks. The lettuce and herbs are all beautiful, with no problems from bugs or too much/too little water, excessive temperatures, etc. No need to wash the plants or check for bugs or pick off bad spots, everything goes straight to the salad bowl. What a joy! Even with only fi...\n",
       "Name: Text, dtype: object"
      ]
     },
     "execution_count": 15,
     "metadata": {},
     "output_type": "execute_result"
    }
   ],
   "source": [
    "# View the review most frequently voted helpful\n",
    "data[data.HelpfulnessNumerator == 866]['Text']\n",
    "\n",
    "pd.options.display.max_colwidth = 5000\n",
    "data[data.HelpfulnessNumerator == 866]['Text']"
   ]
  },
  {
   "cell_type": "code",
   "execution_count": 17,
   "metadata": {
    "ExecuteTime": {
     "end_time": "2019-12-16T17:10:46.478144Z",
     "start_time": "2019-12-16T17:10:46.270091Z"
    },
    "scrolled": true
   },
   "outputs": [
    {
     "data": {
      "text/plain": [
       "7650"
      ]
     },
     "execution_count": 17,
     "metadata": {},
     "output_type": "execute_result"
    }
   ],
   "source": [
    "# Look for duplicate reviews using ProductId + UserId\n",
    "dupes = data.duplicated(subset=['ProductId', 'UserId'])\n",
    "dupes.sum()"
   ]
  },
  {
   "cell_type": "markdown",
   "metadata": {},
   "source": [
    "So it seems there may be 7,650 times where the same user reviewed the same product more than once."
   ]
  },
  {
   "cell_type": "code",
   "execution_count": 18,
   "metadata": {
    "ExecuteTime": {
     "end_time": "2019-12-16T17:11:07.574144Z",
     "start_time": "2019-12-16T17:11:07.557480Z"
    }
   },
   "outputs": [
    {
     "data": {
      "text/plain": [
       "426       True\n",
       "429       True\n",
       "435       True\n",
       "467       True\n",
       "485       True\n",
       "          ... \n",
       "568056    True\n",
       "568060    True\n",
       "568062    True\n",
       "568067    True\n",
       "568144    True\n",
       "Length: 7650, dtype: bool"
      ]
     },
     "execution_count": 18,
     "metadata": {},
     "output_type": "execute_result"
    }
   ],
   "source": [
    "# Investigate a potential duplicate reviewer\n",
    "dupes[dupes == True]"
   ]
  },
  {
   "cell_type": "code",
   "execution_count": 20,
   "metadata": {
    "ExecuteTime": {
     "end_time": "2019-12-16T17:11:40.347783Z",
     "start_time": "2019-12-16T17:11:40.334561Z"
    }
   },
   "outputs": [
    {
     "data": {
      "text/plain": [
       "Id                                                                                                                                                                                                                                                                                                                                                                                       430\n",
       "ProductId                                                                                                                                                                                                                                                                                                                                                                         B000G6RYNE\n",
       "UserId                                                                                                                                                                                                                                                                                                                                                                        A1IRN1M05TPOVT\n",
       "ProfileName                                                                                                                                                                                                                                                                                                                                                     Sharon M. Helfand \"Scrapper\"\n",
       "HelpfulnessNumerator                                                                                                                                                                                                                                                                                                                                                                       0\n",
       "HelpfulnessDenominator                                                                                                                                                                                                                                                                                                                                                                     0\n",
       "Score                                                                                                                                                                                                                                                                                                                                                                                      5\n",
       "Time                                                                                                                                                                                                                                                                                                                                                                              1331078400\n",
       "Summary                                                                                                                                                                                                                                                                                                                                                    Kettle potato chips:  Sweet onion\n",
       "Text                      WOW!  I have eaten quite a few potato chips in my day. Kettle chips are the BEST non-baked chips I have eaten. I decided to try the sweet onion chips, since I've never had them. I now have a FAVORITE!! If you like onions, this is a MUST buy! I will definitely reorder these, as I mentioned above, they are the BEST I have ever eaten! The flavor is GREAT.\n",
       "Name: 429, dtype: object"
      ]
     },
     "execution_count": 20,
     "metadata": {},
     "output_type": "execute_result"
    }
   ],
   "source": [
    "# Investigate a potential duplicate reviewer\n",
    "data.iloc[429,]"
   ]
  },
  {
   "cell_type": "code",
   "execution_count": 24,
   "metadata": {
    "ExecuteTime": {
     "end_time": "2019-12-16T17:15:08.641999Z",
     "start_time": "2019-12-16T17:15:08.550329Z"
    },
    "scrolled": false
   },
   "outputs": [
    {
     "data": {
      "text/html": [
       "<div>\n",
       "<style scoped>\n",
       "    .dataframe tbody tr th:only-of-type {\n",
       "        vertical-align: middle;\n",
       "    }\n",
       "\n",
       "    .dataframe tbody tr th {\n",
       "        vertical-align: top;\n",
       "    }\n",
       "\n",
       "    .dataframe thead th {\n",
       "        text-align: right;\n",
       "    }\n",
       "</style>\n",
       "<table border=\"1\" class=\"dataframe\">\n",
       "  <thead>\n",
       "    <tr style=\"text-align: right;\">\n",
       "      <th></th>\n",
       "      <th>Id</th>\n",
       "      <th>HelpfulnessNumerator</th>\n",
       "      <th>HelpfulnessDenominator</th>\n",
       "      <th>Score</th>\n",
       "      <th>Time</th>\n",
       "    </tr>\n",
       "  </thead>\n",
       "  <tbody>\n",
       "    <tr>\n",
       "      <td>count</td>\n",
       "      <td>49.000000</td>\n",
       "      <td>49.000000</td>\n",
       "      <td>49.000000</td>\n",
       "      <td>49.000000</td>\n",
       "      <td>4.900000e+01</td>\n",
       "    </tr>\n",
       "    <tr>\n",
       "      <td>mean</td>\n",
       "      <td>309519.102041</td>\n",
       "      <td>0.224490</td>\n",
       "      <td>0.224490</td>\n",
       "      <td>4.979592</td>\n",
       "      <td>1.319677e+09</td>\n",
       "    </tr>\n",
       "    <tr>\n",
       "      <td>std</td>\n",
       "      <td>192180.078790</td>\n",
       "      <td>0.654004</td>\n",
       "      <td>0.654004</td>\n",
       "      <td>0.142857</td>\n",
       "      <td>2.135026e+07</td>\n",
       "    </tr>\n",
       "    <tr>\n",
       "      <td>min</td>\n",
       "      <td>424.000000</td>\n",
       "      <td>0.000000</td>\n",
       "      <td>0.000000</td>\n",
       "      <td>4.000000</td>\n",
       "      <td>1.243901e+09</td>\n",
       "    </tr>\n",
       "    <tr>\n",
       "      <td>25%</td>\n",
       "      <td>112884.000000</td>\n",
       "      <td>0.000000</td>\n",
       "      <td>0.000000</td>\n",
       "      <td>5.000000</td>\n",
       "      <td>1.316477e+09</td>\n",
       "    </tr>\n",
       "    <tr>\n",
       "      <td>50%</td>\n",
       "      <td>331780.000000</td>\n",
       "      <td>0.000000</td>\n",
       "      <td>0.000000</td>\n",
       "      <td>5.000000</td>\n",
       "      <td>1.331078e+09</td>\n",
       "    </tr>\n",
       "    <tr>\n",
       "      <td>75%</td>\n",
       "      <td>481356.000000</td>\n",
       "      <td>0.000000</td>\n",
       "      <td>0.000000</td>\n",
       "      <td>5.000000</td>\n",
       "      <td>1.334621e+09</td>\n",
       "    </tr>\n",
       "    <tr>\n",
       "      <td>max</td>\n",
       "      <td>552864.000000</td>\n",
       "      <td>4.000000</td>\n",
       "      <td>4.000000</td>\n",
       "      <td>5.000000</td>\n",
       "      <td>1.334621e+09</td>\n",
       "    </tr>\n",
       "  </tbody>\n",
       "</table>\n",
       "</div>"
      ],
      "text/plain": [
       "                  Id  HelpfulnessNumerator  HelpfulnessDenominator      Score  \\\n",
       "count      49.000000             49.000000               49.000000  49.000000   \n",
       "mean   309519.102041              0.224490                0.224490   4.979592   \n",
       "std    192180.078790              0.654004                0.654004   0.142857   \n",
       "min       424.000000              0.000000                0.000000   4.000000   \n",
       "25%    112884.000000              0.000000                0.000000   5.000000   \n",
       "50%    331780.000000              0.000000                0.000000   5.000000   \n",
       "75%    481356.000000              0.000000                0.000000   5.000000   \n",
       "max    552864.000000              4.000000                4.000000   5.000000   \n",
       "\n",
       "               Time  \n",
       "count  4.900000e+01  \n",
       "mean   1.319677e+09  \n",
       "std    2.135026e+07  \n",
       "min    1.243901e+09  \n",
       "25%    1.316477e+09  \n",
       "50%    1.331078e+09  \n",
       "75%    1.334621e+09  \n",
       "max    1.334621e+09  "
      ]
     },
     "execution_count": 24,
     "metadata": {},
     "output_type": "execute_result"
    }
   ],
   "source": [
    "# Check out all reviews by 'Scrapper'\n",
    "scrapper = data[data.UserId == 'A1IRN1M05TPOVT']\n",
    "scrapper.describe()"
   ]
  },
  {
   "cell_type": "code",
   "execution_count": 25,
   "metadata": {
    "ExecuteTime": {
     "end_time": "2019-12-16T17:15:37.114645Z",
     "start_time": "2019-12-16T17:15:37.102237Z"
    }
   },
   "outputs": [
    {
     "data": {
      "text/plain": [
       "B0058AMY5G    2\n",
       "B000LKXBL4    2\n",
       "B001SAXPEO    2\n",
       "B0058AMY10    2\n",
       "B000G6MBUA    2\n",
       "B000LKVD5U    2\n",
       "B0012XBD7I    2\n",
       "B006WYSFZK    2\n",
       "B000G6RYNE    2\n",
       "B004728MI4    2\n",
       "B00472I5A4    2\n",
       "B0058AMYTC    2\n",
       "B0058AMY74    2\n",
       "B000G6O2QG    2\n",
       "B005C955WC    1\n",
       "B00018CWZW    1\n",
       "B000KGW2BY    1\n",
       "B004ASBLJ2    1\n",
       "B000H27NU6    1\n",
       "B00017LEZC    1\n",
       "B000EQT77M    1\n",
       "B003FDG468    1\n",
       "B001HBXO54    1\n",
       "B003V8QGAG    1\n",
       "B0089Q2AAA    1\n",
       "B003ZXFWP2    1\n",
       "B003V8Y7DE    1\n",
       "B004VJ9UCA    1\n",
       "B0089Q2A8M    1\n",
       "B000EQX6QK    1\n",
       "B003V8WNIK    1\n",
       "B002DZIL24    1\n",
       "B000HVVMQI    1\n",
       "B002YJCA30    1\n",
       "B000E1FZIW    1\n",
       "Name: ProductId, dtype: int64"
      ]
     },
     "execution_count": 25,
     "metadata": {},
     "output_type": "execute_result"
    }
   ],
   "source": [
    "# See how many potentially duplicate reviews Scrapper produced\n",
    "scrapper.ProductId.value_counts()"
   ]
  },
  {
   "cell_type": "code",
   "execution_count": 26,
   "metadata": {
    "ExecuteTime": {
     "end_time": "2019-12-16T17:16:11.317853Z",
     "start_time": "2019-12-16T17:16:11.302823Z"
    },
    "scrolled": true
   },
   "outputs": [
    {
     "data": {
      "text/plain": [
       "I have never met a Kettle brand chip I did not like. These chips have a great loaded potato flavor, which are flavorful. I like the sweet onion chips better, but these are also at the top of the list for great-tasting potato chips. Kettle chips are great chips f/the money!                                                                                     14\n",
       "WOW!  I have eaten quite a few potato chips in my day. Kettle chips are the BEST non-baked chips I have eaten. I decided to try the sweet onion chips, since I've never had them. I now have a FAVORITE!! If you like onions, this is a MUST buy! I will definitely reorder these, as I mentioned above, they are the BEST I have ever eaten! The flavor is GREAT.    14\n",
       "These are some of the BEST chips I have ever eaten! Since they were popped and not fried, they have a fresh, non-greasy taste! I would recommend these to anyone watching their diet. FANTASTIC!!                                                                                                                                                                      5\n",
       "As an alternative to regular potato chips, these are GREAT!  They are not greasy and very healthy.  I would recommend them to anyone looking for an alternative to greasy chips.                                                                                                                                                                                       3\n",
       "If you like chocolate and also like shortbread cookies, these are a must have! They are miniature, so you can pop a bunch in your mouth at once! Good combination!                                                                                                                                                                                                     1\n",
       "This is the best hot cocoa I have ever tasted!  Great flavor!  I use less than indicated.  FANTASTIC!                                                                                                                                                                                                                                                                  1\n",
       "I highly recommend this popcorn if you don't like picking hulls out of your teeth!  Both the kettle corn and plain are very good.                                                                                                                                                                                                                                      1\n",
       "After ordering this the first time, I decided to reorder. If you like Slim Jims, you will love these. They are a convenient size and mild. They make a great snack for in between meals. I highly recommend these!                                                                                                                                                     1\n",
       "If you like green tea with a hint of fruit, you will like this; great flavor!  Lipton tea is one of the best, as far as tea goes.  My entire family enjoys this tea.                                                                                                                                                                                                   1\n",
       "If you crave chocolate, these truffles are for you, especially if you like variety. I personally love the dark chocolate, but the peanut butter ones are also extremely good. If you like white chocolate, then you will enjoy the Lindt white chocolate truffles. I highly recommend this product!                                                                    1\n",
       "These are the best healthy chips I have put in my mouth!  They are crunchy and very flavorful!  You can dip them, but I think they are great right from the package.                                                                                                                                                                                                   1\n",
       "If you like Cheez-It crackers, there is no doubt you will like their snack mix.  There are items you are used to (pretzels) as well as some you have never seen in a snack mix!  I highly recommend this.  Just be careful--it can be addictive!                                                                                                                       1\n",
       "Do you like peanuts in your trail mix?  If so this is for you.<br />I personally don't like a lot of peanuts, but the chocolate pieces, cashews, and raisins make up for the large amount of peanuts.  Also, if you have a person who loves peanuts in your household, it works out well!                                                                              1\n",
       "The Amish Country popcorn is very good stove-top popcorn.  It really does not matter what color you purchase, as that goes away and turn white after popping.  But the flavor remains!  I highly recommend this for great tasting popcorn.                                                                                                                             1\n",
       "If you are looking for a good, mild, oriental rice cracker mix, this is it! Taste is fantastic, price very reasonable.  The down side is the shipping, which costs more than the total of 4 or 5 products!<br />But I would still recommend.                                                                                                                           1\n",
       "As far as healthy chips go, this is the BEST chip I have ever eaten! Medora popcorners, plain are also good. However, after trying the white cheddar, I was hooked! I like them so much I may put them on the every-other-month auto shipment! You may get a few that didn't pop right, but for the most part, these are fantastic! I highly recommend.                1\n",
       "These cookies have got to be the BEST chocolate cookie in retail. I have eaten chocolate chip cookies and Walker's shortbread cookies. Both are great cookies. If you are a chocoholic like myself, you will order these!! As previously stated, they are the BEST chocolate cookies ever! I would definitely reorder!                                                 1\n",
       "Name: Text, dtype: int64"
      ]
     },
     "execution_count": 26,
     "metadata": {},
     "output_type": "execute_result"
    }
   ],
   "source": [
    "# View Scrapper's duplicate reviews\n",
    "scrapper.Text.value_counts()"
   ]
  },
  {
   "cell_type": "markdown",
   "metadata": {},
   "source": [
    "\"Scrapper\" has written 36 non-unique reviews. Something is fishy! Are there other \"Scrappers\" out there?"
   ]
  },
  {
   "cell_type": "code",
   "execution_count": 30,
   "metadata": {
    "ExecuteTime": {
     "end_time": "2019-12-16T17:20:49.128184Z",
     "start_time": "2019-12-16T17:20:48.471656Z"
    },
    "scrolled": false
   },
   "outputs": [
    {
     "data": {
      "text/plain": [
       "This review will make me sound really stupid, but whatever. I don't really care as long as people find out what's real and can avoid my mistakes.<br /><br />I got my wonderful little sweet Bella Bean when she was a few days shy of three years old. She had been bounced around from house to house and eating whatever was cheap. I have had cats around me my entire life, for about twenty-five years now. My mother always just fed them whatever, the kinds of food you buy in the supermarket - Friskies, Nine Lives, Kit & Kaboodle, stuff like that. And our cats were always fine, at least in terms of their eating habits. They would eat in the morning, stop when they were done, come back, and eat some more when they got hungry.<br /><br />My housemate at the time was working for Hill's and assured me that this was the best food ever made, so great, so on and so forth. I now know that she is an utter buffoon, but I initially trusted her judgment, which is so unfortunate because she doesn't think. She also had plenty of coupons for free or deeply discounted bags, which made it a much more attractive choice.<br /><br />I first tried feeding the little Bean an unmeasured amount of Science Diet in a bowl, but that didn't work, as she would devour it in one sitting. So then I took to measuring it, and she did the same thing. Then I started parsing it out to twice a day. That didn't work either, because she would start going crazy in the middle of the day, running around, intentionally destroying things, deliberately spilling her water, crying, etc., until she got more food. So then I split it into three servings. Same thing. Then it got to be four servings. That was a little better, but it was too much maintenance and unrealistic to be around every day to feed her four times. So then it went back to three. All the while, I was trying to reduce the amount of food I was feeding her to less than 3/4 of a cup because she was a little chubby. Reducing was hell. She became even more hungry, but I figured she would get used to it. Not really.<br /><br />For over a year, she would wake me up every morning looking for food in a serious way, knocking things off my desk, ripping up any paper she could find, scratching at the door and committing general acts of mischief. As soon as she got food, she was back to her sweet self, but only for three or four hours.<br /><br />We thought she was bored, we thought she was a little nutty, and maybe even had a kitty eating disorder. She always wanted food. It was kind of funny but in the end it was just sad.<br /><br />A few weeks back, we took her to a new (good, non-money factory) vet for her second checkup since I've had her. I talked with him about her being always hungry. He asked what she ate, and I told him the adult indoor Science Diet. Without saying as much, he basically told me that this food is garbage and I should look for something else. He said cat food should have a protein followed by a carbohydrate as the first two ingredients. Science Diet does, in a very loose, by-product kind of way - ground up slaughterhouse leftovers and corn dust. Then they put a bunch of vitamins in it to make it \"healthy,\" instead of just using good ingredients from the beginning. Not that I care about spending money on the Bean, but this food is way too expensive for what it is.<br /><br />So we began transitioning her onto Wellness indoor formula about two weeks ago. She is still eating 50 percent Science Diet with 50 percent Wellness (you really shouldn't just give a cat different food one day out of the blue) but SHE NEVER FREAKS OUT ANYMORE. It's amazing. And it's 100 percent because she is eating real food now, along with that sawdust and chicken hearts I still regrettable have to feed her. We have her down to eating twice a day, only 1/3 cup in TOTAL. She was eating three times a day, 5/8 of a cup in total. Now she eats some in the morning, walks away, eats some more a few hours later, and then looks for dinner about twelve hours after her initial feeding. No more knocking things over, no more trashing Dad's papers on the desk, no more howling, no more deliberately spilled water on the floor. It's incredible.<br /><br />I feel so bad that I was doing this to her for so long. We really thought she was just being dramatic or whatever. But no, she was genuinely hungry because she wasn't eating any real food.<br /><br />Do your cat a favor - buy her or him so food made with real ingredients, things you would eat - Wellness, Halo, Innova, Evo, whatever. Figure it out for yourself, but please don't feed your cat this. It's garbage.    199\n",
       "Diamond Almonds<br />Almonds are a good source of magnesium. One ounce contain approximately 20% of the RDA for an adult recommended dietary allowance (RDA)<br />Recommended Dietary Allowance (RDA) the amounts of selected nutrients considered adequate to meet the known nutrient needs of healthy people. The RDA is based on scientific knowledge and has been presented by a committee of the Food and Nutrition Board (FNB) of the National Academy of Sciences (NAS). The Canadian equivalent is the Recommended Nutrient Intakes. RDA is generally accepted throughout the world as a valid source of information. At least 40 different nations have as well as organizations have published standards similar to the RDA.<br /><br />Magnesium is the fourth most abundant mineral in the body and is essential to good health. Approximately 50% of total body magnesium is found in bone. The other half is found predominantly inside cells of body tissues and organs. Only 1% of magnesium is found in blood, but the body works very hard to keep blood levels of magnesium constant.<br />Magnesium is needed for more than 300 biochemical reactions in the body. It helps maintain normal muscle and nerve function, keeps heart rhythm steady, supports a healthy immune system, and keeps bones strong. Magnesium also helps regulate blood sugar levels, promotes normal blood pressure, and is known to be involved in energy metabolism and protein synthesis. There is an increased interest in the role of magnesium in preventing and managing disorders such as hypertension, cardiovascular disease, and diabetes. Dietary magnesium is absorbed in the small intestines. Are you taking enough magnesium in the diet? The recommended daily allowance is 300mgs/day for men, 350mgs for women. Magnesium is extremely safe by mouth - too much simply causes diarrhea. Try increasing the amount of magnesium you take by mouth until it causes diarrhea, then reduce the dose slightly so it does not. This is called taking magnesium to bowel tolerance (just like using vitamin C to bowel tolerance.<br /><br />Almonds are a good source of Fiber.<br />One ounce contains approximately 12% of the RDA for an adult.<br />So, in summary, Almonds are a very healthy snack, so what's left to say?<br /><br />Two things:<br />1st be cautious about \"bowel tolerance\" or \"happy bowels\" if you prefer.<br />2nd Taste.  I realize that taste is a personal thing.  That's why they make chocolate, strawberry, and vanilla.<br /><br />Here's my current favorites\"<br /><br /> 1st Blue Diamond Dark mint dark chocolate (reminds me of the chocolate mint Girl Scout Cookies with less sugar).<br /><br />2nd Blue diamond Dark Chocolate Oven Roasted<br />3rd  Blue diamond Blue Butter Toffee<br />4thd Blue Diamond Almonds Bold Habanero BBQ (reminds me of  BBQ potato chips again with less sugar).<br />5th Bold Blazin Buffalo Wing<br />6th Blue Diamond Almonds Cinnamon Brown Sugar<br />7th  Blue Diamond Almonds Lime `n Chili<br />8th  Blue Diamond Almonds Smokehouse<br />9th  Bold Wasabi & Soy Sauce<br /><br />But that's just me: you might have a completely different take on these flavors.<br /> 4th  and 5th are very close.<br /><br />Gunner<br />May, 2012                                                                                                                                                                                                                                                                                                                                                                                                                                                                                                                                                                                                                                                                                                                                                                                                                                                                                                                                                                                                                                                                                                                                                                                                                                                                                                                                                                                                                                                                               126\n",
       "I have two cats, one 6 and one 2 years old. Both are indoor cats in excellent health. I saw the negative review and talked to my vet about it. I've also asked a number of veterinary professionals what to feed my cats and they all answer the same thing: Science Diet. Sure, you'll see stories of how one person's cat had issues, but even if that's 100% true, it's 1 case out of millions. Science and fact aren't based on someone's experience.<br /><br />So my point is, I love my cats and I'm very concerned about their health. I trust people who actually have medical degrees and experience with a wide range of animals. My only caution is do not fall for some hype or scare tactic that recommends some unproven or untested food or some fad diet for your pet. Don't listen to me, don't listen to the negative review. ASK YOUR VET what they recommend, and follow their instructions. My guess is you'll end up buying the Science Diet anyhow.                                                                                                                                                                                                                                                                                                                                                                                                                                                                                                                                                                                                                                                                                                                                                                                                                                                                                                                                                                                                                                                                                                                                                                                                                                                                                                                                                                                                                                                                                                                                                                                                                                                                                                                                                                                                                                                                                                                                                                                                                                                                                                                                                                                                                                                                                                                                                                                                                                                                                                                                                                                                                                                                                                                                                                                                                                                                                                                                                                                                                                                                                                                                                                                                                                                                                                                                                                                                                                                                                                                                                                                                                                                                                                                                                                                                                                        51\n",
       "The pet food industry can be one of the most infuriating as you start doing research and discovering what trash manufacturers (and the vets who get paid off by the manufacturers) push onto the unsuspecting public. For reference, don't ask your vet - do some Internet research at sites like, for example, [...]. What you'll find is that even the supposed \"high-end\" lines from basically every major supermarket label are horrible for your fuzzy friends. People who trust the marketing or trust their vets overpay and feed their cats foods that are full of carcinogens, cheap ingredients that are inappropriate for a cat's digestive system, and byproducts that provide nothing of value and are basically a way to make cheap profit off of literal garbage. It's a tragedy, as these same cats end up with shorter lifespans, kidney problems, UTIs, cancer, and a host of other issues, all of which could have been avoided by a high quality food.<br /><br />This is an A-Grade food. What you'll find here is very high protein content, many meat meals, good carbs and oils, and no grains, which is great as a cat is not an omnivore, it's a carnivore, and it simply does not need grains. It has 50 percent protein, which is among the highest you'll see in cat food. The first 4 ingredients are all meats.<br /><br />What you will NOT find here is the kind of junk you'll see in things like Purina One and Science Diet - byproducts (aka beaks, feathers, bird feet), brewers rice (aka the waste product from making beer), wheat flour (a leading cause of pet allergies), corn gluten (a cheap waste of space), and things like \"liver flavor\" (because they don't want to pay for the real thing). I didn't just pull those ingredients out of the air - I was reading the ingredients list of Purina One. It's pathetic.<br /><br />Don't feed your cats trash. Pay a little more to feed them good food now, and they'll lead longer, healthier, more satisfied lives as a result. It's worth it.                                                                                                                                                                                                                                                                                                                                                                                                                                                                                                                                                                                                                                                                                                                                                                                                                                                                                                                                                                                                                                                                                                                                                                                                                                                                                                                                                                                                                                                                                                                                                                                                                                                                                                                                                                                                                                                                                                                                                                                                                                                                                                                                                                                                                                                                                                                                                                                                                                                                                                                                                                                                                                                                                                                                                                   45\n",
       "I'm addicted to salty and tangy flavors, so when I opened my first bag of Sea Salt & Vinegar Kettle Brand chips I knew I had a perfect complement to my vegetable trays of cucumber, carrot, celery and cherry tomatoes. Skip the dip; balance the tangy chips by alternating bites of raw vegetable.<br /><br />As an Oregonian, I'm proud to share these delectable snacks with friends, especially those living outside our state and who haven't experienced gourmet chips. I tell them Kettle Brand does for potato chips what microbrews did for beer.<br /><br />Kettle Brand potato chips are unmistakable--a light gold color, rich flavor and amazing crunch. Kettle Brand chips are also a healthier snacking option than the major chip brands. Kettle Brand chips don't have trans fats, MSG or artificial flavors and colorings. The company also has a line of organic potato chips and all of their products are certified Kosher.<br /><br />I also recommend <a href=\"http://www.amazon.com/gp/product/B000G6MBV4\">Kettle Chips Honey Dijon</a> and <a href=\"http://www.amazon.com/gp/product/B000G6Q4GM\">Kettle Chips Spicy Thai</a>.<br /><br />Annette Solomon, a reporter for the Salem Statesman Journal recently noted that a glass of wine goes nicely with these chips. Solomon wrote, \"...you could be missing out on a wonderful pairing. These chips are spicy, so you would want to select a semi-sweet white wine. Also, a moderate amount of acid will subdue the strong flavors of ginger, lime, garlic and cilantro without over-powering them. Classically, a German-style Riesling fits these parameters perfectly.\"                                                                                                                                                                                                                                                                                                                                                                                                                                                                                                                                                                                                                                                                                                                                                                                                                                                                                                                                                                                                                                                                                                                                                                                                                                                                                                                                                                                                                                                                                                                                                                                                                                                                                                                                                                                                                                                                                                                                                                                                                                                                                                                                                                                                                                                                                                                                                                                                                                                                                                                                                                                                                                                                                                                                                                                                                                                                                                                                                                                                                                                                                                                                                           42\n",
       "                                                                                                                                                                                                                                                                                                                                                                                                                                                                                                                                                                                                                                                                                                                                                                                                                                                                                                                                                                                                                                                                                                                                                                                                                                                                                                                                                                                                                                                                                                                                                                                                                                                                                                                                                                                                                                                                                                                                                                                                                                                                                                                                                                                                                                                                                                                                                                                                                                                                                                                                                                                                                                                                                                                                                                                                                                                                                                                                                                                                                                                                                                                                                                                                                                                                                                                                                                                                                                                                                                                                                                                                                                                                                                                                                                                                                                                                                                                                                                                                                                                                                                                                                                                                                                                                                                                                                                                                                                                                                                                                                                                                                                                                                                                                                                                                                 ... \n",
       "It's the white stuff, not that awful sweet pink stuff. The pieces are relatively big, but have lots of snap and good fresh gingery flavor. It's perfect for sushi.                                                                                                                                                                                                                                                                                                                                                                                                                                                                                                                                                                                                                                                                                                                                                                                                                                                                                                                                                                                                                                                                                                                                                                                                                                                                                                                                                                                                                                                                                                                                                                                                                                                                                                                                                                                                                                                                                                                                                                                                                                                                                                                                                                                                                                                                                                                                                                                                                                                                                                                                                                                                                                                                                                                                                                                                                                                                                                                                                                                                                                                                                                                                                                                                                                                                                                                                                                                                                                                                                                                                                                                                                                                                                                                                                                                                                                                                                                                                                                                                                                                                                                                                                                                                                                                                                                                                                                                                                                                                                                                                                                                                                                                  1\n",
       "The secret to great Japanese curry is to mix the roux.  I usually mix this with the kokumaro brand and it comes out great.  If you are vegetarian, like I am, replace some of the water with coconut milk to make it richer.                                                                                                                                                                                                                                                                                                                                                                                                                                                                                                                                                                                                                                                                                                                                                                                                                                                                                                                                                                                                                                                                                                                                                                                                                                                                                                                                                                                                                                                                                                                                                                                                                                                                                                                                                                                                                                                                                                                                                                                                                                                                                                                                                                                                                                                                                                                                                                                                                                                                                                                                                                                                                                                                                                                                                                                                                                                                                                                                                                                                                                                                                                                                                                                                                                                                                                                                                                                                                                                                                                                                                                                                                                                                                                                                                                                                                                                                                                                                                                                                                                                                                                                                                                                                                                                                                                                                                                                                                                                                                                                                                                                        1\n",
       "These cherries come very fresh, sweet, a bit tart, and very tasty.  I put a bag in the fridge for everyday snacking, packaged up a bunch of bags to keep for snacks in my locker at work, and put the last bag in the freezer for later.  So far have only tried for snacking, but I'm sure they'd be good in baked goods as well, in fact will probably try that this Christmas.                                                                                                                                                                                                                                                                                                                                                                                                                                                                                                                                                                                                                                                                                                                                                                                                                                                                                                                                                                                                                                                                                                                                                                                                                                                                                                                                                                                                                                                                                                                                                                                                                                                                                                                                                                                                                                                                                                                                                                                                                                                                                                                                                                                                                                                                                                                                                                                                                                                                                                                                                                                                                                                                                                                                                                                                                                                                                                                                                                                                                                                                                                                                                                                                                                                                                                                                                                                                                                                                                                                                                                                                                                                                                                                                                                                                                                                                                                                                                                                                                                                                                                                                                                                                                                                                                                                                                                                                                                   1\n",
       "make sure you read the title/description and don't be an idiot like me.  I thought I was ordering whole beans.  The coffee is OK, but I prefer beans.                                                                                                                                                                                                                                                                                                                                                                                                                                                                                                                                                                                                                                                                                                                                                                                                                                                                                                                                                                                                                                                                                                                                                                                                                                                                                                                                                                                                                                                                                                                                                                                                                                                                                                                                                                                                                                                                                                                                                                                                                                                                                                                                                                                                                                                                                                                                                                                                                                                                                                                                                                                                                                                                                                                                                                                                                                                                                                                                                                                                                                                                                                                                                                                                                                                                                                                                                                                                                                                                                                                                                                                                                                                                                                                                                                                                                                                                                                                                                                                                                                                                                                                                                                                                                                                                                                                                                                                                                                                                                                                                                                                                                                                               1\n",
       "Though the price keeps going up, these are still slightly better price than I can get at any of our local stores, especially when you add the recently increased sales tax to the cost.  We actually prefer the individually wrapped packages (3 crackers per package) for freshness, but for some reason the price of those have gotten ridiculous.                                                                                                                                                                                                                                                                                                                                                                                                                                                                                                                                                                                                                                                                                                                                                                                                                                                                                                                                                                                                                                                                                                                                                                                                                                                                                                                                                                                                                                                                                                                                                                                                                                                                                                                                                                                                                                                                                                                                                                                                                                                                                                                                                                                                                                                                                                                                                                                                                                                                                                                                                                                                                                                                                                                                                                                                                                                                                                                                                                                                                                                                                                                                                                                                                                                                                                                                                                                                                                                                                                                                                                                                                                                                                                                                                                                                                                                                                                                                                                                                                                                                                                                                                                                                                                                                                                                                                                                                                                                                1\n",
       "Name: Text, Length: 393579, dtype: int64"
      ]
     },
     "execution_count": 30,
     "metadata": {},
     "output_type": "execute_result"
    }
   ],
   "source": [
    "# Find all duplicate review texts\n",
    "data.Text.value_counts()"
   ]
  },
  {
   "cell_type": "markdown",
   "metadata": {},
   "source": [
    "The first review in this printout occurs 199 times in the dataset. I think it would be safe to consider any non-unique review text as spam."
   ]
  },
  {
   "cell_type": "code",
   "execution_count": 40,
   "metadata": {
    "ExecuteTime": {
     "end_time": "2019-12-16T17:25:30.794756Z",
     "start_time": "2019-12-16T17:25:30.081465Z"
    },
    "scrolled": true
   },
   "outputs": [
    {
     "data": {
      "text/plain": [
       "174875"
      ]
     },
     "execution_count": 40,
     "metadata": {},
     "output_type": "execute_result"
    }
   ],
   "source": [
    "# Count non-unique review texts\n",
    "dupe_texts = data.duplicated(subset=['Text'])\n",
    "dupe_texts[dupe_texts == True].count()"
   ]
  },
  {
   "cell_type": "markdown",
   "metadata": {},
   "source": [
    "Almost 175,000 of the review texts are non-unique! They must go."
   ]
  },
  {
   "cell_type": "code",
   "execution_count": 42,
   "metadata": {
    "ExecuteTime": {
     "end_time": "2019-12-16T17:27:43.870474Z",
     "start_time": "2019-12-16T17:27:43.068867Z"
    }
   },
   "outputs": [],
   "source": [
    "# Select just the unique reviews\n",
    "data_no_dupe_texts = data.drop_duplicates(subset=['Text'])"
   ]
  },
  {
   "cell_type": "code",
   "execution_count": 45,
   "metadata": {
    "ExecuteTime": {
     "end_time": "2019-12-16T17:29:02.147411Z",
     "start_time": "2019-12-16T17:29:01.998569Z"
    },
    "scrolled": true
   },
   "outputs": [
    {
     "name": "stdout",
     "output_type": "stream",
     "text": [
      "<class 'pandas.core.frame.DataFrame'>\n",
      "Int64Index: 393579 entries, 0 to 568453\n",
      "Data columns (total 10 columns):\n",
      "Id                        393579 non-null int64\n",
      "ProductId                 393579 non-null object\n",
      "UserId                    393579 non-null object\n",
      "ProfileName               393568 non-null object\n",
      "HelpfulnessNumerator      393579 non-null int64\n",
      "HelpfulnessDenominator    393579 non-null int64\n",
      "Score                     393579 non-null int64\n",
      "Time                      393579 non-null int64\n",
      "Summary                   393576 non-null object\n",
      "Text                      393579 non-null object\n",
      "dtypes: int64(5), object(5)\n",
      "memory usage: 33.0+ MB\n"
     ]
    }
   ],
   "source": [
    "# Check counts and missing values\n",
    "data_no_dupe_texts.info()"
   ]
  },
  {
   "cell_type": "code",
   "execution_count": 95,
   "metadata": {
    "ExecuteTime": {
     "end_time": "2019-12-16T18:54:51.111089Z",
     "start_time": "2019-12-16T18:54:51.078486Z"
    }
   },
   "outputs": [
    {
     "data": {
      "text/plain": [
       "count    393579.000000\n",
       "mean        433.829178\n",
       "std         433.002351\n",
       "min          12.000000\n",
       "25%         181.000000\n",
       "50%         304.000000\n",
       "75%         527.000000\n",
       "max       21409.000000\n",
       "Name: Text_len, dtype: float64"
      ]
     },
     "execution_count": 95,
     "metadata": {},
     "output_type": "execute_result"
    }
   ],
   "source": [
    "# View summary stats on review length\n",
    "data_no_dupe_texts.Text_len.describe()"
   ]
  },
  {
   "cell_type": "code",
   "execution_count": 92,
   "metadata": {
    "ExecuteTime": {
     "end_time": "2019-12-16T18:51:12.357655Z",
     "start_time": "2019-12-16T18:51:12.322301Z"
    }
   },
   "outputs": [
    {
     "data": {
      "text/plain": [
       "401.84140521431726"
      ]
     },
     "execution_count": 92,
     "metadata": {},
     "output_type": "execute_result"
    }
   ],
   "source": [
    "# Get average length of a review that only got downvotes on helpfulness\n",
    "data_no_dupe_texts[(data_no_dupe_texts.HelpfulnessDenominator > 0) & (data_no_dupe_texts.HelpfulnessNumerator == 0)]['Text_len'].mean()"
   ]
  },
  {
   "cell_type": "code",
   "execution_count": 93,
   "metadata": {
    "ExecuteTime": {
     "end_time": "2019-12-16T18:52:18.461854Z",
     "start_time": "2019-12-16T18:52:18.378009Z"
    }
   },
   "outputs": [
    {
     "data": {
      "text/plain": [
       "417.15998352970985"
      ]
     },
     "execution_count": 93,
     "metadata": {},
     "output_type": "execute_result"
    }
   ],
   "source": [
    "# Get average length of a review that only got upvotes on helpfulness\n",
    "data_no_dupe_texts[data_no_dupe_texts.HelpfulnessDenominator == data_no_dupe_texts.HelpfulnessNumerator]['Text_len'].mean()"
   ]
  },
  {
   "cell_type": "markdown",
   "metadata": {},
   "source": [
    "This is really interesting. Length of review has nothing to do with helpfulness. Both only-downvoted and only-upvoted reviews were similar in length to each other and to the average length."
   ]
  },
  {
   "cell_type": "code",
   "execution_count": 46,
   "metadata": {
    "ExecuteTime": {
     "end_time": "2019-12-16T17:38:29.302914Z",
     "start_time": "2019-12-16T17:38:28.967412Z"
    }
   },
   "outputs": [
    {
     "data": {
      "image/png": "[encoded data removed]",
      "text/plain": [
       "<Figure size 432x288 with 1 Axes>"
      ]
     },
     "metadata": {
      "needs_background": "light"
     },
     "output_type": "display_data"
    }
   ],
   "source": [
    "# View histogram of helpfulness votes\n",
    "data_no_dupe_texts.HelpfulnessNumerator.hist();"
   ]
  },
  {
   "cell_type": "code",
   "execution_count": 47,
   "metadata": {
    "ExecuteTime": {
     "end_time": "2019-12-16T17:38:45.388804Z",
     "start_time": "2019-12-16T17:38:45.135748Z"
    }
   },
   "outputs": [
    {
     "data": {
      "image/png": "[encoded data removed]",
      "text/plain": [
       "<Figure size 432x288 with 1 Axes>"
      ]
     },
     "metadata": {
      "needs_background": "light"
     },
     "output_type": "display_data"
    }
   ],
   "source": [
    "# View histogram of reviewers' product ratings\n",
    "data_no_dupe_texts.Score.hist();"
   ]
  },
  {
   "cell_type": "code",
   "execution_count": 68,
   "metadata": {
    "ExecuteTime": {
     "end_time": "2019-12-16T17:57:02.932157Z",
     "start_time": "2019-12-16T17:56:58.905728Z"
    },
    "scrolled": false
   },
   "outputs": [
    {
     "name": "stderr",
     "output_type": "stream",
     "text": [
      "/Users/jennykreiger/anaconda3/envs/learn-env/lib/python3.6/site-packages/ipykernel_launcher.py:1: SettingWithCopyWarning: \n",
      "A value is trying to be set on a copy of a slice from a DataFrame.\n",
      "Try using .loc[row_indexer,col_indexer] = value instead\n",
      "\n",
      "See the caveats in the documentation: http://pandas.pydata.org/pandas-docs/stable/user_guide/indexing.html#returning-a-view-versus-a-copy\n",
      "  \"\"\"Entry point for launching an IPython kernel.\n"
     ]
    },
    {
     "data": {
      "text/html": [
       "<div>\n",
       "<style scoped>\n",
       "    .dataframe tbody tr th:only-of-type {\n",
       "        vertical-align: middle;\n",
       "    }\n",
       "\n",
       "    .dataframe tbody tr th {\n",
       "        vertical-align: top;\n",
       "    }\n",
       "\n",
       "    .dataframe thead th {\n",
       "        text-align: right;\n",
       "    }\n",
       "</style>\n",
       "<table border=\"1\" class=\"dataframe\">\n",
       "  <thead>\n",
       "    <tr style=\"text-align: right;\">\n",
       "      <th></th>\n",
       "      <th>Id</th>\n",
       "      <th>ProductId</th>\n",
       "      <th>UserId</th>\n",
       "      <th>ProfileName</th>\n",
       "      <th>HelpfulnessNumerator</th>\n",
       "      <th>HelpfulnessDenominator</th>\n",
       "      <th>Score</th>\n",
       "      <th>Time</th>\n",
       "      <th>Summary</th>\n",
       "      <th>Text</th>\n",
       "      <th>Text_len</th>\n",
       "    </tr>\n",
       "  </thead>\n",
       "  <tbody>\n",
       "    <tr>\n",
       "      <td>0</td>\n",
       "      <td>1</td>\n",
       "      <td>B001E4KFG0</td>\n",
       "      <td>A3SGXH7AUHU8GW</td>\n",
       "      <td>delmartian</td>\n",
       "      <td>1</td>\n",
       "      <td>1</td>\n",
       "      <td>5</td>\n",
       "      <td>1303862400</td>\n",
       "      <td>Good Quality Dog Food</td>\n",
       "      <td>I have bought several of the Vitality canned dog food products and have found them all to be of good quality. The product looks more like a stew than a processed meat and it smells better. My Labrador is finicky and she appreciates this product better than  most.</td>\n",
       "      <td>263</td>\n",
       "    </tr>\n",
       "    <tr>\n",
       "      <td>1</td>\n",
       "      <td>2</td>\n",
       "      <td>B00813GRG4</td>\n",
       "      <td>A1D87F6ZCVE5NK</td>\n",
       "      <td>dll pa</td>\n",
       "      <td>0</td>\n",
       "      <td>0</td>\n",
       "      <td>1</td>\n",
       "      <td>1346976000</td>\n",
       "      <td>Not as Advertised</td>\n",
       "      <td>Product arrived labeled as Jumbo Salted Peanuts...the peanuts were actually small sized unsalted. Not sure if this was an error or if the vendor intended to represent the product as \"Jumbo\".</td>\n",
       "      <td>190</td>\n",
       "    </tr>\n",
       "    <tr>\n",
       "      <td>2</td>\n",
       "      <td>3</td>\n",
       "      <td>B000LQOCH0</td>\n",
       "      <td>ABXLMWJIXXAIN</td>\n",
       "      <td>Natalia Corres \"Natalia Corres\"</td>\n",
       "      <td>1</td>\n",
       "      <td>1</td>\n",
       "      <td>4</td>\n",
       "      <td>1219017600</td>\n",
       "      <td>\"Delight\" says it all</td>\n",
       "      <td>This is a confection that has been around a few centuries.  It is a light, pillowy citrus gelatin with nuts - in this case Filberts. And it is cut into tiny squares and then liberally coated with powdered sugar.  And it is a tiny mouthful of heaven.  Not too chewy, and very flavorful.  I highly recommend this yummy treat.  If you are familiar with the story of C.S. Lewis' \"The Lion, The Witch, and The Wardrobe\" - this is the treat that seduces Edmund into selling out his Brother and Sisters to the Witch.</td>\n",
       "      <td>509</td>\n",
       "    </tr>\n",
       "    <tr>\n",
       "      <td>3</td>\n",
       "      <td>4</td>\n",
       "      <td>B000UA0QIQ</td>\n",
       "      <td>A395BORC6FGVXV</td>\n",
       "      <td>Karl</td>\n",
       "      <td>3</td>\n",
       "      <td>3</td>\n",
       "      <td>2</td>\n",
       "      <td>1307923200</td>\n",
       "      <td>Cough Medicine</td>\n",
       "      <td>If you are looking for the secret ingredient in Robitussin I believe I have found it.  I got this in addition to the Root Beer Extract I ordered (which was good) and made some cherry soda.  The flavor is very medicinal.</td>\n",
       "      <td>219</td>\n",
       "    </tr>\n",
       "    <tr>\n",
       "      <td>4</td>\n",
       "      <td>5</td>\n",
       "      <td>B006K2ZZ7K</td>\n",
       "      <td>A1UQRSCLF8GW1T</td>\n",
       "      <td>Michael D. Bigham \"M. Wassir\"</td>\n",
       "      <td>0</td>\n",
       "      <td>0</td>\n",
       "      <td>5</td>\n",
       "      <td>1350777600</td>\n",
       "      <td>Great taffy</td>\n",
       "      <td>Great taffy at a great price.  There was a wide assortment of yummy taffy.  Delivery was very quick.  If your a taffy lover, this is a deal.</td>\n",
       "      <td>140</td>\n",
       "    </tr>\n",
       "  </tbody>\n",
       "</table>\n",
       "</div>"
      ],
      "text/plain": [
       "   Id   ProductId          UserId                      ProfileName  \\\n",
       "0   1  B001E4KFG0  A3SGXH7AUHU8GW                       delmartian   \n",
       "1   2  B00813GRG4  A1D87F6ZCVE5NK                           dll pa   \n",
       "2   3  B000LQOCH0   ABXLMWJIXXAIN  Natalia Corres \"Natalia Corres\"   \n",
       "3   4  B000UA0QIQ  A395BORC6FGVXV                             Karl   \n",
       "4   5  B006K2ZZ7K  A1UQRSCLF8GW1T    Michael D. Bigham \"M. Wassir\"   \n",
       "\n",
       "   HelpfulnessNumerator  HelpfulnessDenominator  Score        Time  \\\n",
       "0                     1                       1      5  1303862400   \n",
       "1                     0                       0      1  1346976000   \n",
       "2                     1                       1      4  1219017600   \n",
       "3                     3                       3      2  1307923200   \n",
       "4                     0                       0      5  1350777600   \n",
       "\n",
       "                 Summary  \\\n",
       "0  Good Quality Dog Food   \n",
       "1      Not as Advertised   \n",
       "2  \"Delight\" says it all   \n",
       "3         Cough Medicine   \n",
       "4            Great taffy   \n",
       "\n",
       "                                                                                                                                                                                                                                                                                                                                                                                                                                                                                                                            Text  \\\n",
       "0                                                                                                                                                                                                                                                        I have bought several of the Vitality canned dog food products and have found them all to be of good quality. The product looks more like a stew than a processed meat and it smells better. My Labrador is finicky and she appreciates this product better than  most.   \n",
       "1                                                                                                                                                                                                                                                                                                                                 Product arrived labeled as Jumbo Salted Peanuts...the peanuts were actually small sized unsalted. Not sure if this was an error or if the vendor intended to represent the product as \"Jumbo\".   \n",
       "2  This is a confection that has been around a few centuries.  It is a light, pillowy citrus gelatin with nuts - in this case Filberts. And it is cut into tiny squares and then liberally coated with powdered sugar.  And it is a tiny mouthful of heaven.  Not too chewy, and very flavorful.  I highly recommend this yummy treat.  If you are familiar with the story of C.S. Lewis' \"The Lion, The Witch, and The Wardrobe\" - this is the treat that seduces Edmund into selling out his Brother and Sisters to the Witch.   \n",
       "3                                                                                                                                                                                                                                                                                                    If you are looking for the secret ingredient in Robitussin I believe I have found it.  I got this in addition to the Root Beer Extract I ordered (which was good) and made some cherry soda.  The flavor is very medicinal.   \n",
       "4                                                                                                                                                                                                                                                                                                                                                                                   Great taffy at a great price.  There was a wide assortment of yummy taffy.  Delivery was very quick.  If your a taffy lover, this is a deal.   \n",
       "\n",
       "   Text_len  \n",
       "0       263  \n",
       "1       190  \n",
       "2       509  \n",
       "3       219  \n",
       "4       140  "
      ]
     },
     "execution_count": 68,
     "metadata": {},
     "output_type": "execute_result"
    }
   ],
   "source": [
    "# Calculate a column for character lengths of review texts\n",
    "data_no_dupe_texts['Text_len'] = [len(data_no_dupe_texts.loc[row, 'Text']) for row in data_no_dupe_texts.index]\n",
    "data_no_dupe_texts.head()"
   ]
  },
  {
   "cell_type": "code",
   "execution_count": 74,
   "metadata": {
    "ExecuteTime": {
     "end_time": "2019-12-16T18:02:12.846621Z",
     "start_time": "2019-12-16T18:02:08.035820Z"
    }
   },
   "outputs": [
    {
     "data": {
      "image/png": "[encoded data removed]",
      "text/plain": [
       "<Figure size 864x432 with 1 Axes>"
      ]
     },
     "metadata": {
      "needs_background": "light"
     },
     "output_type": "display_data"
    }
   ],
   "source": [
    "# Plot length of review v. number of 'helpful' votes\n",
    "plt.figure(figsize=(12,6))\n",
    "plt.scatter(data_no_dupe_texts.HelpfulnessNumerator, data_no_dupe_texts.Text_len)\n",
    "plt.xlabel('Helpfulness votes')\n",
    "plt.ylabel('Length (characters)')\n",
    "plt.title('Review length v. helpfulness votes')\n",
    "plt.show();"
   ]
  },
  {
   "cell_type": "code",
   "execution_count": 75,
   "metadata": {
    "ExecuteTime": {
     "end_time": "2019-12-16T18:02:17.683185Z",
     "start_time": "2019-12-16T18:02:12.850810Z"
    }
   },
   "outputs": [
    {
     "data": {
      "image/png": "[encoded data removed]",
      "text/plain": [
       "<Figure size 864x432 with 1 Axes>"
      ]
     },
     "metadata": {
      "needs_background": "light"
     },
     "output_type": "display_data"
    }
   ],
   "source": [
    "# Plot reviewer's rating of product v. number of 'helpful' votes\n",
    "plt.figure(figsize=(12,6))\n",
    "plt.scatter(data_no_dupe_texts.HelpfulnessNumerator, data_no_dupe_texts.Score)\n",
    "plt.xlabel('Helpfulness votes')\n",
    "plt.ylabel('Product rating')\n",
    "plt.title('Original reviewer\\'s product rating v. helpfulness votes')\n",
    "plt.show();"
   ]
  },
  {
   "cell_type": "code",
   "execution_count": 76,
   "metadata": {
    "ExecuteTime": {
     "end_time": "2019-12-16T18:02:22.435568Z",
     "start_time": "2019-12-16T18:02:17.687735Z"
    },
    "scrolled": true
   },
   "outputs": [
    {
     "data": {
      "image/png": "[encoded data removed]",
      "text/plain": [
       "<Figure size 864x432 with 1 Axes>"
      ]
     },
     "metadata": {
      "needs_background": "light"
     },
     "output_type": "display_data"
    }
   ],
   "source": [
    "# Plot length of review v. reviewer's rating of product\n",
    "plt.figure(figsize=(12,6))\n",
    "plt.scatter(data_no_dupe_texts.Text_len, data_no_dupe_texts.Score)\n",
    "plt.xlabel('Length of review')\n",
    "plt.ylabel('Product rating')\n",
    "plt.title('Original reviewer\\'s product rating v. length of review')\n",
    "plt.show();"
   ]
  },
  {
   "cell_type": "code",
   "execution_count": 89,
   "metadata": {
    "ExecuteTime": {
     "end_time": "2019-12-16T18:48:14.647875Z",
     "start_time": "2019-12-16T18:48:09.892563Z"
    }
   },
   "outputs": [
    {
     "data": {
      "image/png": "[encoded data removed]",
      "text/plain": [
       "<Figure size 864x432 with 1 Axes>"
      ]
     },
     "metadata": {
      "needs_background": "light"
     },
     "output_type": "display_data"
    }
   ],
   "source": [
    "# Plot positive 'helpful' votes v. total votes on helpfulness\n",
    "plt.figure(figsize=(12,6))\n",
    "plt.scatter(data_no_dupe_texts.HelpfulnessNumerator, data_no_dupe_texts.HelpfulnessDenominator)\n",
    "plt.xlabel('Helpfulness upvotes')\n",
    "plt.ylabel('Total helpfulness votes')\n",
    "plt.title('Upvotes v. total votes on helpfulness')\n",
    "plt.show();"
   ]
  },
  {
   "cell_type": "code",
   "execution_count": 85,
   "metadata": {
    "ExecuteTime": {
     "end_time": "2019-12-16T18:27:51.826856Z",
     "start_time": "2019-12-16T18:26:55.856814Z"
    }
   },
   "outputs": [
    {
     "data": {
      "image/png": "[encoded data removed]",
      "text/plain": [
       "<Figure size 864x864 with 9 Axes>"
      ]
     },
     "metadata": {
      "needs_background": "light"
     },
     "output_type": "display_data"
    }
   ],
   "source": [
    "# Look for linear relationships\n",
    "pd.plotting.scatter_matrix(data_no_dupe_texts[['HelpfulnessNumerator', \n",
    "                                               'Score', \n",
    "                                               'Text_len']], \n",
    "                           figsize=(12,12));"
   ]
  },
  {
   "cell_type": "code",
   "execution_count": 86,
   "metadata": {
    "ExecuteTime": {
     "end_time": "2019-12-16T18:29:55.873848Z",
     "start_time": "2019-12-16T18:29:55.825531Z"
    }
   },
   "outputs": [
    {
     "data": {
      "text/html": [
       "<div>\n",
       "<style scoped>\n",
       "    .dataframe tbody tr th:only-of-type {\n",
       "        vertical-align: middle;\n",
       "    }\n",
       "\n",
       "    .dataframe tbody tr th {\n",
       "        vertical-align: top;\n",
       "    }\n",
       "\n",
       "    .dataframe thead th {\n",
       "        text-align: right;\n",
       "    }\n",
       "</style>\n",
       "<table border=\"1\" class=\"dataframe\">\n",
       "  <thead>\n",
       "    <tr style=\"text-align: right;\">\n",
       "      <th></th>\n",
       "      <th>HelpfulnessNumerator</th>\n",
       "      <th>Score</th>\n",
       "      <th>Text_len</th>\n",
       "    </tr>\n",
       "  </thead>\n",
       "  <tbody>\n",
       "    <tr>\n",
       "      <td>HelpfulnessNumerator</td>\n",
       "      <td>1.000000</td>\n",
       "      <td>-0.036113</td>\n",
       "      <td>0.172175</td>\n",
       "    </tr>\n",
       "    <tr>\n",
       "      <td>Score</td>\n",
       "      <td>-0.036113</td>\n",
       "      <td>1.000000</td>\n",
       "      <td>-0.068555</td>\n",
       "    </tr>\n",
       "    <tr>\n",
       "      <td>Text_len</td>\n",
       "      <td>0.172175</td>\n",
       "      <td>-0.068555</td>\n",
       "      <td>1.000000</td>\n",
       "    </tr>\n",
       "  </tbody>\n",
       "</table>\n",
       "</div>"
      ],
      "text/plain": [
       "                      HelpfulnessNumerator     Score  Text_len\n",
       "HelpfulnessNumerator              1.000000 -0.036113  0.172175\n",
       "Score                            -0.036113  1.000000 -0.068555\n",
       "Text_len                          0.172175 -0.068555  1.000000"
      ]
     },
     "execution_count": 86,
     "metadata": {},
     "output_type": "execute_result"
    }
   ],
   "source": [
    "# Check for correlations\n",
    "data_no_dupe_texts[['HelpfulnessNumerator', 'Score', 'Text_len']].corr()"
   ]
  },
  {
   "cell_type": "markdown",
   "metadata": {},
   "source": [
    "There appear to be no linear relationships between any two of these variables. This is good news! It means I can&mdash;and <em>have to</em>&mdash;train a model on the texts alone.\n",
    "\n",
    "Key things learned so far:\n",
    "- There are a number of duplicate reviews, and it is probably best just to drop all instances after the first one.\n",
    "- Most reviews have 0 or few helpfulness votes; the 75th percentile is 2 votes, but there are some reviews with up to 866 votes.\n",
    "- There is no notable correlation between review length and helpfulness. Helpful reviews may be of any length.\n",
    "- There is no notable correlation between product rating and helpfulness of review. Reviewers can write helpful reviews whether they liked the product or not.\n",
    "- There is no notable correlation between review length and product rating. Reviews come in all lengths regardless of the reviewer's opinion of the product.\n",
    "\n",
    "Some of my key assumptions:\n",
    "- If a reader finds a review helpful, they may or may not mark it as \"helpful.\" If they do not find it helpful, they are more likely to move on without interacting with the review further. What I'm trying to measure is what motivates a reader to actively vote a review \"helpful\" when they could just read it and move on.\n",
    "- I consider repeated identical reviews to be spam. I don't know whether the repeated identical reviews in the dataset were created as part of a spamming effort, or if they were simply recorded multiple times by whoever collected this dataset. Either way, I am keeping only the first instance of a duplicated review. I can't think of any situation where identical reviews could represent real, natural reviewing activity. I assume that if a person wants to review a product more than once, they will either update their original review or write a new unique review."
   ]
  },
  {
   "cell_type": "code",
   "execution_count": 87,
   "metadata": {
    "ExecuteTime": {
     "end_time": "2019-12-16T18:45:54.606900Z",
     "start_time": "2019-12-16T18:45:54.535664Z"
    }
   },
   "outputs": [
    {
     "name": "stdout",
     "output_type": "stream",
     "text": [
      "<class 'pandas.core.frame.DataFrame'>\n",
      "Int64Index: 393579 entries, 0 to 568453\n",
      "Data columns (total 2 columns):\n",
      "helpful    393579 non-null int64\n",
      "text       393579 non-null object\n",
      "dtypes: int64(1), object(1)\n",
      "memory usage: 19.0+ MB\n"
     ]
    }
   ],
   "source": [
    "# Make a copy of the dataset with just the feature and target\n",
    "data_clean = data_no_dupe_texts[['HelpfulnessNumerator', 'Text']]\n",
    "data_clean.columns = ['helpful', 'text']\n",
    "data_clean.info()"
   ]
  },
  {
   "cell_type": "code",
   "execution_count": 96,
   "metadata": {
    "ExecuteTime": {
     "end_time": "2019-12-16T20:16:51.589792Z",
     "start_time": "2019-12-16T20:16:45.783868Z"
    }
   },
   "outputs": [],
   "source": [
    "data_clean.to_csv('data_clean.csv')"
   ]
  },
  {
   "cell_type": "markdown",
   "metadata": {},
   "source": [
    "# Advanced exploration/preprocessing\n",
    "\n",
    "Things to try:\n",
    "- remove stopwords\n",
    "- lemmatize\n",
    "- frequency distributions on most upvoted reviews to see what are the most used words\n",
    "- bigrams or other n-grams and their mutual information scores"
   ]
  },
  {
   "cell_type": "markdown",
   "metadata": {
    "heading_collapsed": true
   },
   "source": [
    "## Trying everything once with a single review text"
   ]
  },
  {
   "cell_type": "code",
   "execution_count": 100,
   "metadata": {
    "ExecuteTime": {
     "end_time": "2019-12-16T21:39:54.343572Z",
     "start_time": "2019-12-16T21:39:54.335644Z"
    },
    "hidden": true
   },
   "outputs": [
    {
     "data": {
      "text/plain": [
       "\"I don't know if it's the cactus or the tequila or just the unique combination of ingredients, but the flavour of this hot sauce makes it one of a kind!  We picked up a bottle once on a trip we were on and brought it back home with us and were totally blown away!  When we realized that we simply couldn't find it anywhere in our city we were bummed.<br /><br />Now, because of the magic of the internet, we have a case of the sauce and are ecstatic because of it.<br /><br />If you love hot sauce..I mean really love hot sauce, but don't want a sauce that tastelessly burns your throat, grab a bottle of Tequila Picante Gourmet de Inclan.  Just realize that once you taste it, you will never want to use any other sauce.<br /><br />Thank you for the personal, incredible service!\""
      ]
     },
     "execution_count": 100,
     "metadata": {},
     "output_type": "execute_result"
    }
   ],
   "source": [
    "sample = data_clean.loc[10, 'text']\n",
    "sample"
   ]
  },
  {
   "cell_type": "code",
   "execution_count": 161,
   "metadata": {
    "ExecuteTime": {
     "end_time": "2019-12-16T22:18:32.168813Z",
     "start_time": "2019-12-16T22:18:32.158511Z"
    },
    "hidden": true
   },
   "outputs": [],
   "source": [
    "# Set up stopwords to be removed\n",
    "from nltk.corpus import stopwords\n",
    "import string\n",
    "\n",
    "stop_list = stopwords.words('english')\n",
    "stop_list += list(string.punctuation)\n",
    "stop_list += ['br', '.<', '..', '...', '``', \"''\", '--']"
   ]
  },
  {
   "cell_type": "code",
   "execution_count": 121,
   "metadata": {
    "ExecuteTime": {
     "end_time": "2019-12-16T21:49:18.133587Z",
     "start_time": "2019-12-16T21:49:18.120091Z"
    },
    "hidden": true
   },
   "outputs": [
    {
     "data": {
      "text/plain": [
       "[\"n't\",\n",
       " 'know',\n",
       " \"'s\",\n",
       " 'cactus',\n",
       " 'tequila',\n",
       " 'unique',\n",
       " 'combination',\n",
       " 'ingredients',\n",
       " 'flavour',\n",
       " 'hot',\n",
       " 'sauce',\n",
       " 'makes',\n",
       " 'one',\n",
       " 'kind',\n",
       " 'picked',\n",
       " 'bottle',\n",
       " 'trip',\n",
       " 'brought',\n",
       " 'back',\n",
       " 'home',\n",
       " 'us',\n",
       " 'totally',\n",
       " 'blown',\n",
       " 'away',\n",
       " 'realized',\n",
       " 'simply',\n",
       " 'could',\n",
       " \"n't\",\n",
       " 'find',\n",
       " 'anywhere',\n",
       " 'city',\n",
       " 'bummed.',\n",
       " 'magic',\n",
       " 'internet',\n",
       " 'case',\n",
       " 'sauce',\n",
       " 'ecstatic',\n",
       " 'it.',\n",
       " 'love',\n",
       " 'hot',\n",
       " 'sauce..i',\n",
       " 'mean',\n",
       " 'really',\n",
       " 'love',\n",
       " 'hot',\n",
       " 'sauce',\n",
       " \"n't\",\n",
       " 'want',\n",
       " 'sauce',\n",
       " 'tastelessly',\n",
       " 'burns',\n",
       " 'throat',\n",
       " 'grab',\n",
       " 'bottle',\n",
       " 'tequila',\n",
       " 'picante',\n",
       " 'gourmet',\n",
       " 'de',\n",
       " 'inclan',\n",
       " 'realize',\n",
       " 'taste',\n",
       " 'never',\n",
       " 'want',\n",
       " 'use',\n",
       " 'sauce.',\n",
       " 'thank',\n",
       " 'personal',\n",
       " 'incredible',\n",
       " 'service']"
      ]
     },
     "execution_count": 121,
     "metadata": {},
     "output_type": "execute_result"
    }
   ],
   "source": [
    "# Set up baseline tokenizer\n",
    "from nltk import word_tokenize\n",
    "\n",
    "tokens = word_tokenize(sample)\n",
    "clean_tokens = [word.lower() for word in tokens if word.lower() not in stop_list]\n",
    "clean_tokens"
   ]
  },
  {
   "cell_type": "code",
   "execution_count": 119,
   "metadata": {
    "ExecuteTime": {
     "end_time": "2019-12-16T21:48:11.282703Z",
     "start_time": "2019-12-16T21:48:10.192223Z"
    },
    "hidden": true
   },
   "outputs": [
    {
     "data": {
      "image/png": "[encoded data removed]",
      "text/plain": [
       "<Figure size 432x288 with 1 Axes>"
      ]
     },
     "metadata": {
      "needs_background": "light"
     },
     "output_type": "display_data"
    }
   ],
   "source": [
    "# Set up FreqDist()\n",
    "from nltk import FreqDist\n",
    "\n",
    "freqdist = FreqDist(clean_tokens)\n",
    "plt.barh(y=[key for key in freqdist.keys()], width=[val for val in freqdist.values()]);"
   ]
  },
  {
   "cell_type": "code",
   "execution_count": 123,
   "metadata": {
    "ExecuteTime": {
     "end_time": "2019-12-16T21:51:49.161370Z",
     "start_time": "2019-12-16T21:51:46.909190Z"
    },
    "hidden": true,
    "scrolled": true
   },
   "outputs": [
    {
     "data": {
      "text/plain": [
       "[\"n't\",\n",
       " 'know',\n",
       " \"'s\",\n",
       " 'cactus',\n",
       " 'tequila',\n",
       " 'unique',\n",
       " 'combination',\n",
       " 'ingredient',\n",
       " 'flavour',\n",
       " 'hot',\n",
       " 'sauce',\n",
       " 'make',\n",
       " 'one',\n",
       " 'kind',\n",
       " 'picked',\n",
       " 'bottle',\n",
       " 'trip',\n",
       " 'brought',\n",
       " 'back',\n",
       " 'home',\n",
       " 'u',\n",
       " 'totally',\n",
       " 'blown',\n",
       " 'away',\n",
       " 'realized',\n",
       " 'simply',\n",
       " 'could',\n",
       " \"n't\",\n",
       " 'find',\n",
       " 'anywhere',\n",
       " 'city',\n",
       " 'bummed.',\n",
       " 'magic',\n",
       " 'internet',\n",
       " 'case',\n",
       " 'sauce',\n",
       " 'ecstatic',\n",
       " 'it.',\n",
       " 'love',\n",
       " 'hot',\n",
       " 'sauce..i',\n",
       " 'mean',\n",
       " 'really',\n",
       " 'love',\n",
       " 'hot',\n",
       " 'sauce',\n",
       " \"n't\",\n",
       " 'want',\n",
       " 'sauce',\n",
       " 'tastelessly',\n",
       " 'burn',\n",
       " 'throat',\n",
       " 'grab',\n",
       " 'bottle',\n",
       " 'tequila',\n",
       " 'picante',\n",
       " 'gourmet',\n",
       " 'de',\n",
       " 'inclan',\n",
       " 'realize',\n",
       " 'taste',\n",
       " 'never',\n",
       " 'want',\n",
       " 'use',\n",
       " 'sauce.',\n",
       " 'thank',\n",
       " 'personal',\n",
       " 'incredible',\n",
       " 'service']"
      ]
     },
     "execution_count": 123,
     "metadata": {},
     "output_type": "execute_result"
    }
   ],
   "source": [
    "# Set up lemmatizer\n",
    "from nltk.stem.wordnet import WordNetLemmatizer\n",
    "\n",
    "lem = WordNetLemmatizer()\n",
    "lemmata = []\n",
    "for word in clean_tokens:\n",
    "    lemmata.append(lem.lemmatize(word))\n",
    "lemmata"
   ]
  },
  {
   "cell_type": "markdown",
   "metadata": {},
   "source": [
    "## Try it all again with every \"helpful\" review combined"
   ]
  },
  {
   "cell_type": "code",
   "execution_count": 126,
   "metadata": {
    "ExecuteTime": {
     "end_time": "2019-12-16T21:56:13.679701Z",
     "start_time": "2019-12-16T21:56:11.374226Z"
    },
    "scrolled": true
   },
   "outputs": [
    {
     "data": {
      "text/plain": [
       "91666026"
      ]
     },
     "execution_count": 126,
     "metadata": {},
     "output_type": "execute_result"
    }
   ],
   "source": [
    "# Get all helpful reviews\n",
    "helpful = data_clean[data_clean.helpful > 0]\n",
    "combined_text = ''\n",
    "for row in helpful.index:\n",
    "    combined_text += helpful.loc[row, 'text']\n",
    "\n",
    "len(combined_text)"
   ]
  },
  {
   "cell_type": "code",
   "execution_count": 187,
   "metadata": {
    "ExecuteTime": {
     "end_time": "2019-12-16T23:48:21.803194Z",
     "start_time": "2019-12-16T23:48:21.793398Z"
    }
   },
   "outputs": [
    {
     "data": {
      "text/plain": [
       "186453"
      ]
     },
     "execution_count": 187,
     "metadata": {},
     "output_type": "execute_result"
    }
   ],
   "source": [
    "# Get number of reviews\n",
    "len(helpful)"
   ]
  },
  {
   "cell_type": "code",
   "execution_count": 128,
   "metadata": {
    "ExecuteTime": {
     "end_time": "2019-12-16T22:03:44.620034Z",
     "start_time": "2019-12-16T22:01:21.495858Z"
    }
   },
   "outputs": [],
   "source": [
    "# Tokenize\n",
    "tokens = word_tokenize(combined_text)"
   ]
  },
  {
   "cell_type": "code",
   "execution_count": 184,
   "metadata": {
    "ExecuteTime": {
     "end_time": "2019-12-16T23:47:30.122923Z",
     "start_time": "2019-12-16T23:47:30.099775Z"
    }
   },
   "outputs": [
    {
     "data": {
      "text/plain": [
       "19961316"
      ]
     },
     "execution_count": 184,
     "metadata": {},
     "output_type": "execute_result"
    }
   ],
   "source": [
    "# Get total number of tokens\n",
    "len(tokens)"
   ]
  },
  {
   "cell_type": "code",
   "execution_count": 162,
   "metadata": {
    "ExecuteTime": {
     "end_time": "2019-12-16T22:19:30.754352Z",
     "start_time": "2019-12-16T22:18:44.615054Z"
    }
   },
   "outputs": [],
   "source": [
    "# Convert all tokens to lowercase\n",
    "lower_tokens = [word.lower() for word in tokens if word.lower() not in stop_list]"
   ]
  },
  {
   "cell_type": "code",
   "execution_count": 163,
   "metadata": {
    "ExecuteTime": {
     "end_time": "2019-12-16T22:20:16.435729Z",
     "start_time": "2019-12-16T22:19:30.757646Z"
    }
   },
   "outputs": [],
   "source": [
    "# Lemmatize\n",
    "lemma_tokens = [lem.lemmatize(word) for word in lower_tokens]"
   ]
  },
  {
   "cell_type": "code",
   "execution_count": 164,
   "metadata": {
    "ExecuteTime": {
     "end_time": "2019-12-16T22:20:25.019647Z",
     "start_time": "2019-12-16T22:20:16.439059Z"
    }
   },
   "outputs": [],
   "source": [
    "# Get frequency distribution\n",
    "freqdist = FreqDist(lemma_tokens)"
   ]
  },
  {
   "cell_type": "code",
   "execution_count": 188,
   "metadata": {
    "ExecuteTime": {
     "end_time": "2019-12-16T23:49:12.776350Z",
     "start_time": "2019-12-16T23:49:12.770281Z"
    }
   },
   "outputs": [
    {
     "data": {
      "text/plain": [
       "201856"
      ]
     },
     "execution_count": 188,
     "metadata": {},
     "output_type": "execute_result"
    }
   ],
   "source": [
    "# Get number of unique tokens\n",
    "len(freqdist)"
   ]
  },
  {
   "cell_type": "code",
   "execution_count": 148,
   "metadata": {
    "ExecuteTime": {
     "end_time": "2019-12-16T22:13:14.316225Z",
     "start_time": "2019-12-16T22:13:14.251622Z"
    }
   },
   "outputs": [],
   "source": [
    "# Select top 50 words\n",
    "top_50 = freqdist.most_common(50)"
   ]
  },
  {
   "cell_type": "code",
   "execution_count": 149,
   "metadata": {
    "ExecuteTime": {
     "end_time": "2019-12-16T22:13:15.659103Z",
     "start_time": "2019-12-16T22:13:14.318930Z"
    }
   },
   "outputs": [
    {
     "data": {
      "image/png": "[encoded data removed]",
      "text/plain": [
       "<Figure size 1152x720 with 1 Axes>"
      ]
     },
     "metadata": {
      "needs_background": "light"
     },
     "output_type": "display_data"
    }
   ],
   "source": [
    "# Plot top 50 words\n",
    "plt.figure(figsize=(16,10))\n",
    "plt.barh(y=[x[0] for x in top_50], width=[x[1] for x in top_50])\n",
    "plt.xlabel('Number of occurences')\n",
    "plt.ylabel('Top words')\n",
    "plt.title('Most common words in \"helpful\" reviews')\n",
    "plt.show();"
   ]
  },
  {
   "cell_type": "code",
   "execution_count": 165,
   "metadata": {
    "ExecuteTime": {
     "end_time": "2019-12-16T22:20:25.079002Z",
     "start_time": "2019-12-16T22:20:25.022826Z"
    }
   },
   "outputs": [],
   "source": [
    "# Get top 100 words\n",
    "top_100 = freqdist.most_common(100)"
   ]
  },
  {
   "cell_type": "code",
   "execution_count": 166,
   "metadata": {
    "ExecuteTime": {
     "end_time": "2019-12-16T22:20:28.982902Z",
     "start_time": "2019-12-16T22:20:25.083432Z"
    }
   },
   "outputs": [
    {
     "data": {
      "image/png": "[encoded data removed]",
      "text/plain": [
       "<Figure size 1152x1152 with 1 Axes>"
      ]
     },
     "metadata": {
      "needs_background": "light"
     },
     "output_type": "display_data"
    }
   ],
   "source": [
    "# Plot top 100 words\n",
    "plt.figure(figsize=(16,16))\n",
    "plt.barh(y=[x[0] for x in top_100], width=[x[1] for x in top_100])\n",
    "plt.xlabel('Number of occurences')\n",
    "plt.ylabel('Top words')\n",
    "plt.title('Most common words in \"helpful\" reviews')\n",
    "plt.show();"
   ]
  },
  {
   "cell_type": "markdown",
   "metadata": {
    "heading_collapsed": true
   },
   "source": [
    "### Look at bigrams"
   ]
  },
  {
   "cell_type": "code",
   "execution_count": 167,
   "metadata": {
    "ExecuteTime": {
     "end_time": "2019-12-16T22:23:24.496935Z",
     "start_time": "2019-12-16T22:22:29.016010Z"
    },
    "hidden": true,
    "scrolled": false
   },
   "outputs": [
    {
     "data": {
      "text/plain": [
       "[(('ca', \"n't\"), 0.00152568357473086),\n",
       " (('taste', 'like'), 0.001025859242584942),\n",
       " (('wo', \"n't\"), 0.0007550925729135553),\n",
       " (('grocery', 'store'), 0.0007136114837888143),\n",
       " (('href=', 'http'), 0.0006616461633468311),\n",
       " (('green', 'tea'), 0.0005728720742584429),\n",
       " ((\"'ve\", 'tried'), 0.000554752587525383),\n",
       " (('highly', 'recommend'), 0.0005403937489822033),\n",
       " (('peanut', 'butter'), 0.0005251232381505679),\n",
       " (('could', \"n't\"), 0.000507117710453565),\n",
       " (('taste', 'good'), 0.0004998243321459181),\n",
       " ((\"n't\", 'like'), 0.0004817048454128582),\n",
       " (('taste', 'great'), 0.00047703252493452197),\n",
       " ((\"n't\", 'know'), 0.0004758929345739522),\n",
       " (('much', 'better'), 0.00047008102373504617),\n",
       " (('dog', 'food'), 0.0004442123225501115),\n",
       " (('gluten', 'free'), 0.0004381724936390915),\n",
       " (('would', \"n't\"), 0.0004368049852064077),\n",
       " ((\"n't\", 'get'), 0.0003870048864495071),\n",
       " (('really', 'good'), 0.00034438420696419626),\n",
       " (('olive', 'oil'), 0.0003440423298560253),\n",
       " (('year', 'old'), 0.00033583727925992266),\n",
       " (('really', 'like'), 0.00032888577806044686),\n",
       " (('year', 'ago'), 0.00032797410577199097),\n",
       " (('first', 'time'), 0.0003211365636085721),\n",
       " (('cat', 'food'), 0.00031441298048121024),\n",
       " (('coconut', 'oil'), 0.0003080312744620193),\n",
       " ((\"n't\", 'even'), 0.0002988005925414039),\n",
       " ((\"'s\", 'good'), 0.00029845871543323293),\n",
       " ((\"'ve\", 'ever'), 0.0002952678624236375),\n",
       " (('great', 'product'), 0.00028888615640444655),\n",
       " (('would', 'recommend'), 0.0002880884431520477),\n",
       " ((\"'m\", 'sure'), 0.0002853534262866801),\n",
       " (('dark', 'chocolate'), 0.00028353008170976845),\n",
       " ((\"n't\", 'taste'), 0.00027840192508720433),\n",
       " (('tea', 'bag'), 0.0002760087853300077),\n",
       " (('even', 'though'), 0.0002737296046088681),\n",
       " ((\"'s\", 'great'), 0.00027315980942858317),\n",
       " (('subscribe', 'save'), 0.0002712225058156145),\n",
       " (('cup', 'coffee'), 0.0002696270793108168),\n",
       " ((\"n't\", 'find'), 0.00026746185762573413),\n",
       " (('hard', 'find'), 0.00026256161907528395),\n",
       " ((\"n't\", 'want'), 0.00025845909377723267),\n",
       " ((\"n't\", 'think'), 0.00025731950341666284),\n",
       " (('long', 'time'), 0.0002480888214960474),\n",
       " (('pretty', 'good'), 0.0002379464672869761),\n",
       " (('5', 'star'), 0.00023521145042160855),\n",
       " (('make', 'sure'), 0.00023521145042160855),\n",
       " (('local', 'store'), 0.00022928558054664553),\n",
       " (('dog', 'love'), 0.00022392950585196743)]"
      ]
     },
     "execution_count": 167,
     "metadata": {},
     "output_type": "execute_result"
    }
   ],
   "source": [
    "# Do bigrams\n",
    "import nltk\n",
    "bigram_measures = nltk.collocations.BigramAssocMeasures()\n",
    "\n",
    "finder = nltk.collocations.BigramCollocationFinder.from_words(lemma_tokens)\n",
    "\n",
    "scored = finder.score_ngrams(bigram_measures.raw_freq)\n",
    "\n",
    "scored[:50]"
   ]
  },
  {
   "cell_type": "code",
   "execution_count": 168,
   "metadata": {
    "ExecuteTime": {
     "end_time": "2019-12-16T22:25:32.974333Z",
     "start_time": "2019-12-16T22:25:00.770677Z"
    },
    "hidden": true,
    "scrolled": false
   },
   "outputs": [
    {
     "data": {
      "text/plain": [
       "[(('vergnano', '1882'), 20.743053245793853),\n",
       " (('algernon', 'freeman-mitford'), 20.48001883996006),\n",
       " (('ping', 'pong'), 20.257626418623612),\n",
       " (('riso', 'bello'), 20.257626418623612),\n",
       " (('bbp', 'okc'), 20.25762641862361),\n",
       " (('dentie', 'toothpowder'), 20.25762641862361),\n",
       " (('dunaliella', 'salina'), 20.25762641862361),\n",
       " (('saf®', 'bakipan®'), 20.25762641862361),\n",
       " (('vialone', 'nano'), 20.216984434126264),\n",
       " (('192f', '204'), 20.064981340681214),\n",
       " (('cucina', 'antica'), 20.064981340681214),\n",
       " (('j.j.', 'gottenbos'), 20.064981340681214),\n",
       " (('nagasaki', 'jjamppong'), 20.064981340681214),\n",
       " (('r.k.', 'downey'), 20.064981340681214),\n",
       " (('r.o', 'vles'), 20.064981340681214),\n",
       " (('robblen', 'r.k.'), 20.064981340681214),\n",
       " (('vles', 'j.j.'), 20.064981340681214),\n",
       " (('y.', 'golovko'), 20.064981340681214),\n",
       " (('fischer', 'wieser'), 20.06498134068121),\n",
       " (('star®', 'saf®'), 20.06498134068121),\n",
       " (('lymph', 'node'), 20.035233997287165),\n",
       " (('insightful', 'inspirational'), 19.994592012789816),\n",
       " (('//www.amazon.com/gp/product/b000buddty', 'rsvp'), 19.895056339238902),\n",
       " (('teeli', 'frieling/swissgold'), 19.895056339238902),\n",
       " (('uva', 'ursi'), 19.895056339238902),\n",
       " (('bona', 'fide'), 19.842588919344767),\n",
       " (('sao', 'tome'), 19.842588919344767),\n",
       " (('readable', 'insightful'), 19.801946934847418),\n",
       " (('keratosis', 'pilaris'), 19.743053245793853),\n",
       " (('roo', 'rook'), 19.743053245793853),\n",
       " (('taj', 'mahal'), 19.743053245793853),\n",
       " (('101012', 'crunch®'), 19.672663917902455),\n",
       " (('tovolo', 'teeli'), 19.632021933405106),\n",
       " (('kaldi', 's04'), 19.605549722043918),\n",
       " (('mikhail', 'y.'), 19.605549722043918),\n",
       " (('trichoderma', 'longibrachiatum'), 19.605549722043918),\n",
       " (('cepes', 'bolets'), 19.57955451351097),\n",
       " (('burrowing', 'varment'), 19.550408167851455),\n",
       " (('phu', 'quoc'), 19.550408167851455),\n",
       " (('huevos', 'rancheros'), 19.532486259854192),\n",
       " (('maurice', 'sendak'), 19.520660824457405),\n",
       " (('yip', 'yap'), 19.520660824457405),\n",
       " (('agua', 'frescas'), 19.48001883996006),\n",
       " (('saudi', 'arabia'), 19.48001883996006),\n",
       " (('duane', 'reade'), 19.480018839960056),\n",
       " (('fattoria', 'estense'), 19.480018839960056),\n",
       " (('tex', 'mex'), 19.480018839960056),\n",
       " (('jacques', 'pepin'), 19.386909435568576),\n",
       " (('carne', 'asada'), 19.364541622540123),\n",
       " (('edgar', 'cayce'), 19.364541622540123)]"
      ]
     },
     "execution_count": 168,
     "metadata": {},
     "output_type": "execute_result"
    }
   ],
   "source": [
    "# Get mutual information scores\n",
    "pmi_finder = nltk.collocations.BigramCollocationFinder.from_words(lemma_tokens)\n",
    "\n",
    "pmi_finder.apply_freq_filter(5)\n",
    "\n",
    "pmi_scored = pmi_finder.score_ngrams(bigram_measures.pmi)\n",
    "\n",
    "pmi_scored[:50]"
   ]
  },
  {
   "cell_type": "markdown",
   "metadata": {
    "heading_collapsed": true
   },
   "source": [
    "### Look at trigrams"
   ]
  },
  {
   "cell_type": "code",
   "execution_count": 170,
   "metadata": {
    "ExecuteTime": {
     "end_time": "2019-12-16T22:37:33.361186Z",
     "start_time": "2019-12-16T22:34:44.648696Z"
    },
    "hidden": true
   },
   "outputs": [
    {
     "data": {
      "text/plain": [
       "[(('local', 'grocery', 'store'), 0.00016672206975136303),\n",
       " (('ca', \"n't\", 'find'), 0.00011407299509303787),\n",
       " (('health', 'food', 'store'), 0.00010461439510030845),\n",
       " (('ca', \"n't\", 'get'), 0.00010438647702819449),\n",
       " ((\"'s\", 'red', 'mill'), 9.469995896335112e-05),\n",
       " (('could', \"n't\", 'find'), 9.196494209798357e-05),\n",
       " (('bob', \"'s\", 'red'), 9.093931077347075e-05),\n",
       " (('ca', \"n't\", 'wait'), 9.059743366529981e-05),\n",
       " (('high', 'fructose', 'corn'), 8.854617101627414e-05),\n",
       " (('ca', \"n't\", 'beat'), 8.809033487204622e-05),\n",
       " (('fructose', 'corn', 'syrup'), 8.444364571822283e-05),\n",
       " ((\"n't\", 'taste', 'like'), 7.45292095812655e-05),\n",
       " (('ca', \"n't\", 'say'), 7.247794693223985e-05),\n",
       " (('would', 'highly', 'recommend'), 7.099647946349909e-05),\n",
       " (('go', 'long', 'way'), 7.008480717504325e-05),\n",
       " (('/a', 'href=', 'http'), 6.928709392264438e-05),\n",
       " (('trader', 'joe', \"'s\"), 6.86033397063025e-05),\n",
       " (('pack', '6', '/a'), 6.495665055247911e-05),\n",
       " (('ca', \"n't\", 'go'), 6.484269151642213e-05),\n",
       " (('pack', '12', '/a'), 6.301934693951043e-05),\n",
       " (('earth', \"'s\", 'best'), 6.039828911019987e-05),\n",
       " (('highly', 'recommend', 'product'), 5.914473971357308e-05),\n",
       " (('ca', \"n't\", 'believe'), 5.732139513666138e-05),\n",
       " ((\"n't\", 'go', 'wrong'), 5.675159995637648e-05),\n",
       " (('last', 'long', 'time'), 5.105364815352744e-05),\n",
       " (('wo', \"n't\", 'eat'), 4.88884264684448e-05),\n",
       " (('local', 'health', 'food'), 4.717904092759009e-05),\n",
       " (('ca', \"n't\", 'tell'), 4.70650818915331e-05),\n",
       " (('decided', 'give', 'try'), 4.672320478336216e-05),\n",
       " (('little', 'go', 'long'), 4.660924574730518e-05),\n",
       " ((\"'ve\", 'ever', 'tasted'), 4.489986020645047e-05),\n",
       " (('taste', 'much', 'better'), 4.489986020645047e-05),\n",
       " (('wo', \"n't\", 'buy'), 4.489986020645047e-05),\n",
       " (('ca', \"n't\", 'even'), 4.2848597557424814e-05),\n",
       " (('taste', 'like', 'real'), 4.2734638521367834e-05),\n",
       " (('amazon', \"'s\", 'price'), 4.2164843341082927e-05),\n",
       " ((\"'ve\", 'tried', 'many'), 4.2050884305025946e-05),\n",
       " (('give', '5', 'star'), 4.2050884305025946e-05),\n",
       " (('ca', \"n't\", 'eat'), 4.068337587234218e-05),\n",
       " (('wo', \"n't\", 'buying'), 4.056941683628519e-05),\n",
       " (('would', 'recommend', 'anyone'), 4.034149876417123e-05),\n",
       " ((\"'s\", 'hard', 'find'), 4.022753972811425e-05),\n",
       " (('could', \"n't\", 'get'), 3.9657744547829345e-05),\n",
       " ((\"n't\", 'get', 'enough'), 3.840419515120256e-05),\n",
       " (('would', 'definitely', 'recommend'), 3.772044093486067e-05),\n",
       " (('find', 'grocery', 'store'), 3.760648189880369e-05),\n",
       " (('taste', 'exactly', 'like'), 3.760648189880369e-05),\n",
       " (('probably', 'wo', \"n't\"), 3.63529325021769e-05),\n",
       " ((\"n't\", 'wait', 'try'), 3.601105539400596e-05),\n",
       " (('taste', 'really', 'good'), 3.601105539400596e-05)]"
      ]
     },
     "execution_count": 170,
     "metadata": {},
     "output_type": "execute_result"
    }
   ],
   "source": [
    "# View top trigrams by raw frequency\n",
    "trigram_measures = nltk.collocations.TrigramAssocMeasures()\n",
    "\n",
    "tri_finder = nltk.collocations.TrigramCollocationFinder.from_words(lemma_tokens)\n",
    "\n",
    "tri_scored = tri_finder.score_ngrams(trigram_measures.raw_freq)\n",
    "\n",
    "tri_scored[:50]"
   ]
  },
  {
   "cell_type": "code",
   "execution_count": 171,
   "metadata": {
    "ExecuteTime": {
     "end_time": "2019-12-16T22:38:40.445039Z",
     "start_time": "2019-12-16T22:37:33.370703Z"
    },
    "hidden": true,
    "scrolled": true
   },
   "outputs": [
    {
     "data": {
      "text/plain": [
       "[(('tovolo', 'teeli', 'frieling/swissgold'), 40.37507517919895),\n",
       " (('star®', 'saf®', 'bakipan®'), 40.322607759304816),\n",
       " (('r.o', 'vles', 'j.j.'), 40.12996268136243),\n",
       " (('robblen', 'r.k.', 'downey'), 40.12996268136243),\n",
       " (('vles', 'j.j.', 'gottenbos'), 40.12996268136243),\n",
       " (('readable', 'insightful', 'inspirational'), 40.05957335347102),\n",
       " (('//www.amazon.com/gp/product/b0012s1v2a', 'oster', '5965'),\n",
       "  39.73764525858367),\n",
       " (('mikhail', 'y.', 'golovko'), 39.67053106272513),\n",
       " (('5965', 'stainless-steel', '1-1/2-liter'), 39.28196577480747),\n",
       " (('h.m.s', 'peregrine', 'cavendish'), 38.466048839246454),\n",
       " (('oster', '5965', 'stainless-steel'), 38.05957335347102),\n",
       " (('sir', 'algernon', 'freeman-mitford'), 38.0531470843116),\n",
       " (('y.', 'golovko', 'eric'), 37.96003767992011),\n",
       " (('dunaliella', 'salina', 'algae'), 37.930290336526056),\n",
       " (('downey', 'a.', 'ashri'), 37.70369792666033),\n",
       " (('r.k.', 'downey', 'a.'), 37.70369792666033),\n",
       " (('nutr', '1982', 'apr'), 37.67463546105787),\n",
       " (('192f', '204', 'f.'), 37.60640072530541),\n",
       " (('hoo', 'roo', 'rook'), 37.598581220846114),\n",
       " (('bifidobacgterium', 'longum', 'enterococcus'), 37.50060606128281),\n",
       " (('anthony', 'trendl', 'editor'), 37.4157171636963),\n",
       " (('acidolphilus', 'bacillus', 'subtilis'), 37.37507517919895),\n",
       " (('1989', 'pp', '36-86.'), 37.16417839670034),\n",
       " (('bircherm', 'uuml', 'esli'), 37.14412074435908),\n",
       " (('epigallocatechin', 'gallate', 'egcg'), 37.08556856200397),\n",
       " (('ne', 'sais', 'quoi'), 37.050144596150076),\n",
       " (('g.', 'robblen', 'r.k.'), 36.901143990866544),\n",
       " (('gottenbos', 'g.', 'robblen'), 36.901143990866544),\n",
       " (('j.j.', 'gottenbos', 'g.'), 36.901143990866544),\n",
       " (('aaa', 'aaa', 'aaa'), 36.84561175966896),\n",
       " (('101012', 'crunch®', 'thinkthin'), 36.830754662975146),\n",
       " (('clandinin', 'mt', 'yamashiro'), 36.80803458647507),\n",
       " (('haba', 'ntilde', 'ero'), 36.80803458647507),\n",
       " (('je', 'ne', 'sais'), 36.80503209831354),\n",
       " (('aceto', 'balsamico', 'tradizionale'), 36.67053106272513),\n",
       " (('1982', 'apr', '112'), 36.45224303972142),\n",
       " (('kramer', 'et', 'al.'), 36.32623515480931),\n",
       " (('d.', 'mikels', 'esq.i'), 36.20960982594735),\n",
       " (('rescuing', 'fostering', 'adopting'), 36.127147665755366),\n",
       " (('li', 'hing', 'mui'), 36.12353641220299),\n",
       " (('fat-induced', 'myocardial', 'lesion'), 36.06521991661217),\n",
       " (('myocardial', 'lesion', 'clandinin'), 36.06521991661217),\n",
       " (('ting', 'ting', 'jahe'), 35.99896319182844),\n",
       " (('quickly-nice', 'story.', 'niederegger'), 35.96254453553068),\n",
       " (('contributed', '632,500', 'propaganda'), 35.95200930616417),\n",
       " (('austrian', 'swede', 'renowned'), 35.93766986689165),\n",
       " (('a.', 'ashri', 'editor'), 35.89634300460273),\n",
       " (('632,500', 'propaganda', 'campaign'), 35.87257483866978),\n",
       " (('//www.amazon.com/gp/product/b000buddty', 'rsvp', 'manual'),\n",
       "  35.77814003681172),\n",
       " ((\"5'-monophosphate\", 'disodium', 'uridine'), 35.74194539601729)]"
      ]
     },
     "execution_count": 171,
     "metadata": {},
     "output_type": "execute_result"
    }
   ],
   "source": [
    "# View top trigrams by mutual information score\n",
    "tri_pmi_finder = nltk.collocations.TrigramCollocationFinder.from_words(lemma_tokens)\n",
    "\n",
    "tri_pmi_finder.apply_freq_filter(5)\n",
    "\n",
    "tri_pmi_scored = tri_pmi_finder.score_ngrams(trigram_measures.pmi)\n",
    "\n",
    "tri_pmi_scored[:50]"
   ]
  },
  {
   "cell_type": "markdown",
   "metadata": {
    "heading_collapsed": true
   },
   "source": [
    "## Advanced EDA takeaways"
   ]
  },
  {
   "cell_type": "markdown",
   "metadata": {
    "hidden": true
   },
   "source": [
    "Takeaways from frequency distributions:\n",
    "- The most common words represent a mix of positive and negative feelings toward products and situations. One the one hand, reviewers talk about \"liking\" or \"loving\" products, but they also talk about things they \"can't,\" \"won't,\" or \"don't\" do. \n",
    "- Tea, coffee, and chocolate stand out as top products; sugar, oil, and milk are frequently mentioned ingredients.\n",
    "- Cat and dog feature heavily because the dataset includes reviews of pet foods as well as gourmet products.\n",
    "- Comments on the packaging appear to be common (bag, box, and pack appear in the top 100).\n",
    "- There may be a frequent contrast between Amazon and local stores."
   ]
  },
  {
   "cell_type": "markdown",
   "metadata": {
    "hidden": true
   },
   "source": [
    "Takeaways from bigrams:\n",
    "\n",
    "- The most frequently occurring bigram is \"can't\"; there seems to be an emphasis in reviews on something the writer can't get or do, and maybe the product is solving that (or exacerbating the problem).\n",
    "- Green tea, peanut butter, olive oil, coconut oil, dark chocolate, and tea bags are frequently mentioned foods.\n",
    "- There are lots of positive comparisons in the bigrams: tastes good, tastes great, much better.\n",
    "- Although there is no correlation between positivity and helpfulness of a review, \"highly recommend,\" \"would recommend,\" and \"5 star\" occur frequently.\n",
    "- The bigrams highlight gluten allergy/sensitivity as a major concern of reviewers."
   ]
  },
  {
   "cell_type": "markdown",
   "metadata": {
    "hidden": true
   },
   "source": [
    "Takeaways from trigrams:\n",
    "\n",
    "Trigrams highlight key phrases that aren't as apparent when looking at frequency distributions or bigrams. \n",
    "\n",
    "- Trigrams show an emphasis on pain points that the product/Amazon may have solved. Phrases like \"can't/couldn't get,\" \"can't/couldn't find,\" \"can't/won't eat\" occur relatively frequently.\n",
    "- Trigrams also highlight discussion of local stores and \"Amazon's price.\"\n",
    "- Bob's Red Mill and Trader Joe's are frequently named in reviews.\n",
    "- High fructose corn syrup is the only ingredient that appears at the trigram level.\n",
    "- Trigrams highlight taste comparisons as a common feature of reviews."
   ]
  },
  {
   "cell_type": "markdown",
   "metadata": {
    "hidden": true
   },
   "source": [
    "Mutual information scores do not seem very helpful at either the bigram or trigram level. At best they highlight a few additional brand names. At worst they pick up on phrases that look spammy. "
   ]
  },
  {
   "cell_type": "markdown",
   "metadata": {},
   "source": [
    "## Try looking at the unhelpful reviews to see if they're very different"
   ]
  },
  {
   "cell_type": "code",
   "execution_count": 172,
   "metadata": {
    "ExecuteTime": {
     "end_time": "2019-12-16T23:21:04.739420Z",
     "start_time": "2019-12-16T23:21:00.134976Z"
    },
    "scrolled": true
   },
   "outputs": [
    {
     "data": {
      "text/plain": [
       "79080028"
      ]
     },
     "execution_count": 172,
     "metadata": {},
     "output_type": "execute_result"
    }
   ],
   "source": [
    "# Get all unhelpful reviews\n",
    "unhelpful = data_clean[data_clean.helpful == 0]\n",
    "combined_text_unhelpful = ''\n",
    "for row in unhelpful.index:\n",
    "    combined_text_unhelpful += unhelpful.loc[row, 'text']\n",
    "\n",
    "len(combined_text_unhelpful)"
   ]
  },
  {
   "cell_type": "code",
   "execution_count": 186,
   "metadata": {
    "ExecuteTime": {
     "end_time": "2019-12-16T23:48:11.683314Z",
     "start_time": "2019-12-16T23:48:11.675687Z"
    }
   },
   "outputs": [
    {
     "data": {
      "text/plain": [
       "207126"
      ]
     },
     "execution_count": 186,
     "metadata": {},
     "output_type": "execute_result"
    }
   ],
   "source": [
    "# Get number of reviews\n",
    "len(unhelpful)"
   ]
  },
  {
   "cell_type": "code",
   "execution_count": 176,
   "metadata": {
    "ExecuteTime": {
     "end_time": "2019-12-16T23:26:36.840481Z",
     "start_time": "2019-12-16T23:24:13.188322Z"
    }
   },
   "outputs": [],
   "source": [
    "# Tokenize\n",
    "tokens_unhelpful = word_tokenize(combined_text_unhelpful)"
   ]
  },
  {
   "cell_type": "code",
   "execution_count": 185,
   "metadata": {
    "ExecuteTime": {
     "end_time": "2019-12-16T23:47:52.393946Z",
     "start_time": "2019-12-16T23:47:52.383738Z"
    }
   },
   "outputs": [
    {
     "data": {
      "text/plain": [
       "17132378"
      ]
     },
     "execution_count": 185,
     "metadata": {},
     "output_type": "execute_result"
    }
   ],
   "source": [
    "# Get total number of tokens\n",
    "len(tokens_unhelpful)"
   ]
  },
  {
   "cell_type": "code",
   "execution_count": 177,
   "metadata": {
    "ExecuteTime": {
     "end_time": "2019-12-16T23:27:19.381865Z",
     "start_time": "2019-12-16T23:26:36.850676Z"
    }
   },
   "outputs": [],
   "source": [
    "# Convert all tokens to lowercase\n",
    "lower_tokens_unhelpful = [word.lower() for word in tokens_unhelpful if word.lower() not in stop_list]"
   ]
  },
  {
   "cell_type": "code",
   "execution_count": 178,
   "metadata": {
    "ExecuteTime": {
     "end_time": "2019-12-16T23:27:59.820347Z",
     "start_time": "2019-12-16T23:27:19.386325Z"
    }
   },
   "outputs": [],
   "source": [
    "# Lemmatize\n",
    "lemma_tokens_unhelpful = [lem.lemmatize(word) for word in lower_tokens_unhelpful]"
   ]
  },
  {
   "cell_type": "code",
   "execution_count": 179,
   "metadata": {
    "ExecuteTime": {
     "end_time": "2019-12-16T23:28:08.629187Z",
     "start_time": "2019-12-16T23:27:59.825145Z"
    }
   },
   "outputs": [],
   "source": [
    "# Get frequency distribution\n",
    "freqdist_unhelpful = FreqDist(lemma_tokens_unhelpful)"
   ]
  },
  {
   "cell_type": "code",
   "execution_count": 189,
   "metadata": {
    "ExecuteTime": {
     "end_time": "2019-12-16T23:49:58.922435Z",
     "start_time": "2019-12-16T23:49:58.916085Z"
    }
   },
   "outputs": [
    {
     "data": {
      "text/plain": [
       "183037"
      ]
     },
     "execution_count": 189,
     "metadata": {},
     "output_type": "execute_result"
    }
   ],
   "source": [
    "# Get number of unique tokens\n",
    "len(freqdist_unhelpful)"
   ]
  },
  {
   "cell_type": "code",
   "execution_count": 180,
   "metadata": {
    "ExecuteTime": {
     "end_time": "2019-12-16T23:28:08.681771Z",
     "start_time": "2019-12-16T23:28:08.632364Z"
    }
   },
   "outputs": [],
   "source": [
    "# Select top 50 words\n",
    "top_50_unhelpful = freqdist_unhelpful.most_common(50)"
   ]
  },
  {
   "cell_type": "code",
   "execution_count": 181,
   "metadata": {
    "ExecuteTime": {
     "end_time": "2019-12-16T23:28:10.871236Z",
     "start_time": "2019-12-16T23:28:08.685104Z"
    }
   },
   "outputs": [
    {
     "data": {
      "image/png": "[encoded data removed]",
      "text/plain": [
       "<Figure size 1152x720 with 1 Axes>"
      ]
     },
     "metadata": {
      "needs_background": "light"
     },
     "output_type": "display_data"
    }
   ],
   "source": [
    "# Plot top 50 words\n",
    "plt.figure(figsize=(16,10))\n",
    "plt.barh(y=[x[0] for x in top_50_unhelpful], \n",
    "         width=[x[1] for x in top_50_unhelpful])\n",
    "plt.xlabel('Number of occurences')\n",
    "plt.ylabel('Top words')\n",
    "plt.title('Most common words in \"unhelpful\" reviews')\n",
    "plt.show();"
   ]
  },
  {
   "cell_type": "code",
   "execution_count": 182,
   "metadata": {
    "ExecuteTime": {
     "end_time": "2019-12-16T23:28:10.929287Z",
     "start_time": "2019-12-16T23:28:10.874430Z"
    }
   },
   "outputs": [],
   "source": [
    "# Get top 100 words\n",
    "top_100_unhelpful = freqdist_unhelpful.most_common(100)"
   ]
  },
  {
   "cell_type": "code",
   "execution_count": 183,
   "metadata": {
    "ExecuteTime": {
     "end_time": "2019-12-16T23:28:12.630814Z",
     "start_time": "2019-12-16T23:28:10.933448Z"
    },
    "scrolled": true
   },
   "outputs": [
    {
     "data": {
      "image/png": "[encoded data removed]",
      "text/plain": [
       "<Figure size 1152x1152 with 1 Axes>"
      ]
     },
     "metadata": {
      "needs_background": "light"
     },
     "output_type": "display_data"
    }
   ],
   "source": [
    "# Plot top 100 words\n",
    "plt.figure(figsize=(16,16))\n",
    "plt.barh(y=[x[0] for x in top_100_unhelpful], \n",
    "         width=[x[1] for x in top_100_unhelpful])\n",
    "plt.xlabel('Number of occurences')\n",
    "plt.ylabel('Top words')\n",
    "plt.title('Most common words in \"unhelpful\" reviews')\n",
    "plt.show();"
   ]
  },
  {
   "cell_type": "code",
   "execution_count": 205,
   "metadata": {
    "ExecuteTime": {
     "end_time": "2019-12-17T00:08:26.201173Z",
     "start_time": "2019-12-17T00:08:25.779325Z"
    }
   },
   "outputs": [
    {
     "data": {
      "image/png": "[encoded data removed]",
      "text/plain": [
       "<Figure size 1152x432 with 3 Axes>"
      ]
     },
     "metadata": {
      "needs_background": "light"
     },
     "output_type": "display_data"
    }
   ],
   "source": [
    "# Compare helpful and unhelpful review data subsets\n",
    "fig, axes = plt.subplots(1, 3, figsize=(16,6))\n",
    "\n",
    "ax1 = axes[0]\n",
    "ax1.bar(x=['Helpful', 'Unhelpful'], height=[len(helpful), len(unhelpful)], \n",
    "        color=['tab:cyan', 'tab:olive'])\n",
    "ax1.set_title('Number of reviews')\n",
    "\n",
    "ax2 = axes[1]\n",
    "ax2.bar(x=['Helpful', 'Unhelpful'], height=[len(tokens), len(tokens_unhelpful)],\n",
    "        color=['tab:cyan', 'tab:olive'])\n",
    "ax2.set_title('Total number of tokens')\n",
    "\n",
    "ax3 = axes[2]\n",
    "ax3.bar(x=['Helpful', 'Unhelpful'], height=[len(freqdist), len(freqdist_unhelpful)],\n",
    "        color=['tab:cyan', 'tab:olive'])\n",
    "ax3.set_title('Number of unique tokens')\n",
    "\n",
    "plt.show();"
   ]
  },
  {
   "cell_type": "markdown",
   "metadata": {},
   "source": [
    "GUESS WHAT: The vocabularies of helpful and unhelpful reviews are VERY SIMILAR. This means we have a machine learning problem on our hands. I would not be able to distinguish a helpful from an unhelpful review by vocabulary alone. Let's see if a neural network can do it!"
   ]
  },
  {
   "cell_type": "markdown",
   "metadata": {},
   "source": [
    "# Preprocessing\n",
    "\n",
    "Things to try:\n",
    "- word2vec (which requires tokenization, stopword removal first)\n",
    "- glove or word2vec\n",
    "- RNN\n",
    "- LTSM\n"
   ]
  },
  {
   "cell_type": "code",
   "execution_count": null,
   "metadata": {},
   "outputs": [],
   "source": []
  }
 ],
 "metadata": {
  "kernelspec": {
   "display_name": "learn-env",
   "language": "python",
   "name": "learn-env"
  },
  "language_info": {
   "codemirror_mode": {
    "name": "ipython",
    "version": 3
   },
   "file_extension": ".py",
   "mimetype": "text/x-python",
   "name": "python",
   "nbconvert_exporter": "python",
   "pygments_lexer": "ipython3",
   "version": "3.6.6"
  },
  "toc": {
   "base_numbering": 1,
   "nav_menu": {},
   "number_sections": true,
   "sideBar": true,
   "skip_h1_title": false,
   "title_cell": "Table of Contents",
   "title_sidebar": "Contents",
   "toc_cell": false,
   "toc_position": {},
   "toc_section_display": true,
   "toc_window_display": false
  }
 },
 "nbformat": 4,
 "nbformat_minor": 2
}
