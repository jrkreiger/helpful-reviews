{
 "cells": [
  {
   "cell_type": "markdown",
   "metadata": {},
   "source": [
    "# Introduction: Insights from \"Helpful\" Product Reviews"
   ]
  },
  {
   "cell_type": "markdown",
   "metadata": {},
   "source": [
    "Many e-commerce sites offer users the opportunity to post their own reviews of products they have purchased. These reviews contain a wealth of information about users' experiences with a company's products, and other users may read these reviews when considering making a purchase. But because reviews consist mainly of user-generated text, it can be difficult for a business to extract insights from thousands of them. \n",
    "\n",
    "On some e-commerce sites, users have the opportunity to rate another user's product review as \"helpful\" or not, and analyzing these \"helpful\" reviews can help a business understand what its customers want to know about its products before buying.\n",
    "\n",
    "This project aims to answer these two questions:\n",
    "- What can we learn about a business's products and its customers from user-generated reviews that were rated \"helpful\" by other users?\n",
    "- Can we predict whether a review will be rated \"helpful\" using machine learning or deep learning?\n",
    "\n",
    "The [dataset I used for this project comes from Amazon (via Kaggle)](https://www.kaggle.com/snap/amazon-fine-food-reviews) and consists of over 500,000 reviews, mostly of food products, written between 2002 and 2012."
   ]
  },
  {
   "cell_type": "markdown",
   "metadata": {},
   "source": [
    "## Summay of findings\n",
    "\n",
    "(For more, see _Interpretations and Recommendations_ below.)\n",
    "\n",
    "- a\n",
    "- b\n",
    "- c"
   ]
  },
  {
   "cell_type": "markdown",
   "metadata": {},
   "source": [
    "## Costs and benefits of this project"
   ]
  },
  {
   "cell_type": "markdown",
   "metadata": {},
   "source": [
    "Any data science project can have costs and benefits, both in terms of resources like time and computing power, and in terms of the project's potential impact on human beings. Here is a summary of what I see as the pros and cons of the work I do here:\n",
    "\n",
    "_Benefits_\n",
    "- A business can learn about its products and customers.\n",
    "- If a business improves its product or website based on things learned here, customers may have a better user experience.\n",
    "\n",
    "_Costs_\n",
    "- Machine learning, and especially deep learning, can be costly in terms of labor, computing power, and energy use.\n",
    "- The dataset consists of user-generated reviews, and some users could potentially be identified by their profile names or by information they provided in their reviews. Although users originally posted their reviews knowing that they would be publicly visible, they did not have the opportunity to choose whether their data would appear in this dataset. "
   ]
  },
  {
   "cell_type": "markdown",
   "metadata": {},
   "source": [
    "## About this repo\n",
    "\n",
    "This repository contains the following files:\n",
    "- a\n",
    "- b\n",
    "- c\n",
    "\n",
    "The full dataset can be downloaded at [https://www.kaggle.com/snap/amazon-fine-food-reviews](https://www.kaggle.com/snap/amazon-fine-food-reviews).\n",
    "\n",
    "For more technical details, see the Appendix below."
   ]
  },
  {
   "cell_type": "markdown",
   "metadata": {},
   "source": [
    "# Analysis of \"helpful\" reviews"
   ]
  },
  {
   "cell_type": "markdown",
   "metadata": {},
   "source": [
    "What can we learn about a business's products and its customers from user-generated reviews that were rated \"helpful\" by other users? In this section I try to discover the following:\n",
    "\n",
    "- Key words and phrases in \"helpful\" v. unhelpful (or unrated) reviews\n",
    "- Any relationships between \"helpfulness\" and a review's positivity, length, or other features\n",
    "- Any patterns in the content, structure, or narrative style of \"helpful\" reviews that might inform business decisions (particularly decisions about how to describe products on the company website)\n",
    "- Problems or weird things to watch out for in a collection of user-generated reviews"
   ]
  },
  {
   "cell_type": "markdown",
   "metadata": {
    "colab_type": "text",
    "id": "jnK5XeGHNMy5"
   },
   "source": [
    "## Load data"
   ]
  },
  {
   "cell_type": "markdown",
   "metadata": {},
   "source": [
    "Let's load in the data so we can get started."
   ]
  },
  {
   "cell_type": "code",
   "execution_count": 11,
   "metadata": {
    "ExecuteTime": {
     "end_time": "2020-01-09T17:22:46.811967Z",
     "start_time": "2020-01-09T17:22:45.579119Z"
    },
    "colab": {},
    "colab_type": "code",
    "id": "QCo3QFn3NMy8"
   },
   "outputs": [],
   "source": [
    "# Load the first packages we'll need\n",
    "import pandas as pd\n",
    "import numpy as np\n",
    "import matplotlib.pyplot as plt\n",
    "%matplotlib inline\n",
    "import seaborn as sns"
   ]
  },
  {
   "cell_type": "code",
   "execution_count": 2,
   "metadata": {
    "ExecuteTime": {
     "end_time": "2020-01-09T17:09:40.757806Z",
     "start_time": "2020-01-09T17:09:36.540055Z"
    },
    "colab": {},
    "colab_type": "code",
    "id": "ehKwDzcTNMy_"
   },
   "outputs": [
    {
     "data": {
      "text/html": [
       "<div>\n",
       "<style scoped>\n",
       "    .dataframe tbody tr th:only-of-type {\n",
       "        vertical-align: middle;\n",
       "    }\n",
       "\n",
       "    .dataframe tbody tr th {\n",
       "        vertical-align: top;\n",
       "    }\n",
       "\n",
       "    .dataframe thead th {\n",
       "        text-align: right;\n",
       "    }\n",
       "</style>\n",
       "<table border=\"1\" class=\"dataframe\">\n",
       "  <thead>\n",
       "    <tr style=\"text-align: right;\">\n",
       "      <th></th>\n",
       "      <th>Id</th>\n",
       "      <th>ProductId</th>\n",
       "      <th>UserId</th>\n",
       "      <th>ProfileName</th>\n",
       "      <th>HelpfulnessNumerator</th>\n",
       "      <th>HelpfulnessDenominator</th>\n",
       "      <th>Score</th>\n",
       "      <th>Time</th>\n",
       "      <th>Summary</th>\n",
       "      <th>Text</th>\n",
       "    </tr>\n",
       "  </thead>\n",
       "  <tbody>\n",
       "    <tr>\n",
       "      <td>0</td>\n",
       "      <td>1</td>\n",
       "      <td>B001E4KFG0</td>\n",
       "      <td>A3SGXH7AUHU8GW</td>\n",
       "      <td>delmartian</td>\n",
       "      <td>1</td>\n",
       "      <td>1</td>\n",
       "      <td>5</td>\n",
       "      <td>1303862400</td>\n",
       "      <td>Good Quality Dog Food</td>\n",
       "      <td>I have bought several of the Vitality canned d...</td>\n",
       "    </tr>\n",
       "    <tr>\n",
       "      <td>1</td>\n",
       "      <td>2</td>\n",
       "      <td>B00813GRG4</td>\n",
       "      <td>A1D87F6ZCVE5NK</td>\n",
       "      <td>dll pa</td>\n",
       "      <td>0</td>\n",
       "      <td>0</td>\n",
       "      <td>1</td>\n",
       "      <td>1346976000</td>\n",
       "      <td>Not as Advertised</td>\n",
       "      <td>Product arrived labeled as Jumbo Salted Peanut...</td>\n",
       "    </tr>\n",
       "    <tr>\n",
       "      <td>2</td>\n",
       "      <td>3</td>\n",
       "      <td>B000LQOCH0</td>\n",
       "      <td>ABXLMWJIXXAIN</td>\n",
       "      <td>Natalia Corres \"Natalia Corres\"</td>\n",
       "      <td>1</td>\n",
       "      <td>1</td>\n",
       "      <td>4</td>\n",
       "      <td>1219017600</td>\n",
       "      <td>\"Delight\" says it all</td>\n",
       "      <td>This is a confection that has been around a fe...</td>\n",
       "    </tr>\n",
       "    <tr>\n",
       "      <td>3</td>\n",
       "      <td>4</td>\n",
       "      <td>B000UA0QIQ</td>\n",
       "      <td>A395BORC6FGVXV</td>\n",
       "      <td>Karl</td>\n",
       "      <td>3</td>\n",
       "      <td>3</td>\n",
       "      <td>2</td>\n",
       "      <td>1307923200</td>\n",
       "      <td>Cough Medicine</td>\n",
       "      <td>If you are looking for the secret ingredient i...</td>\n",
       "    </tr>\n",
       "    <tr>\n",
       "      <td>4</td>\n",
       "      <td>5</td>\n",
       "      <td>B006K2ZZ7K</td>\n",
       "      <td>A1UQRSCLF8GW1T</td>\n",
       "      <td>Michael D. Bigham \"M. Wassir\"</td>\n",
       "      <td>0</td>\n",
       "      <td>0</td>\n",
       "      <td>5</td>\n",
       "      <td>1350777600</td>\n",
       "      <td>Great taffy</td>\n",
       "      <td>Great taffy at a great price.  There was a wid...</td>\n",
       "    </tr>\n",
       "  </tbody>\n",
       "</table>\n",
       "</div>"
      ],
      "text/plain": [
       "   Id   ProductId          UserId                      ProfileName  \\\n",
       "0   1  B001E4KFG0  A3SGXH7AUHU8GW                       delmartian   \n",
       "1   2  B00813GRG4  A1D87F6ZCVE5NK                           dll pa   \n",
       "2   3  B000LQOCH0   ABXLMWJIXXAIN  Natalia Corres \"Natalia Corres\"   \n",
       "3   4  B000UA0QIQ  A395BORC6FGVXV                             Karl   \n",
       "4   5  B006K2ZZ7K  A1UQRSCLF8GW1T    Michael D. Bigham \"M. Wassir\"   \n",
       "\n",
       "   HelpfulnessNumerator  HelpfulnessDenominator  Score        Time  \\\n",
       "0                     1                       1      5  1303862400   \n",
       "1                     0                       0      1  1346976000   \n",
       "2                     1                       1      4  1219017600   \n",
       "3                     3                       3      2  1307923200   \n",
       "4                     0                       0      5  1350777600   \n",
       "\n",
       "                 Summary                                               Text  \n",
       "0  Good Quality Dog Food  I have bought several of the Vitality canned d...  \n",
       "1      Not as Advertised  Product arrived labeled as Jumbo Salted Peanut...  \n",
       "2  \"Delight\" says it all  This is a confection that has been around a fe...  \n",
       "3         Cough Medicine  If you are looking for the secret ingredient i...  \n",
       "4            Great taffy  Great taffy at a great price.  There was a wid...  "
      ]
     },
     "execution_count": 2,
     "metadata": {},
     "output_type": "execute_result"
    }
   ],
   "source": [
    "# Read in the data\n",
    "data = pd.read_csv('./data/Reviews.csv')\n",
    "data.head()"
   ]
  },
  {
   "cell_type": "code",
   "execution_count": 3,
   "metadata": {
    "ExecuteTime": {
     "end_time": "2020-01-08T16:43:29.229542Z",
     "start_time": "2020-01-08T16:43:28.814165Z"
    }
   },
   "outputs": [
    {
     "name": "stdout",
     "output_type": "stream",
     "text": [
      "<class 'pandas.core.frame.DataFrame'>\n",
      "RangeIndex: 568454 entries, 0 to 568453\n",
      "Data columns (total 10 columns):\n",
      "Id                        568454 non-null int64\n",
      "ProductId                 568454 non-null object\n",
      "UserId                    568454 non-null object\n",
      "ProfileName               568438 non-null object\n",
      "HelpfulnessNumerator      568454 non-null int64\n",
      "HelpfulnessDenominator    568454 non-null int64\n",
      "Score                     568454 non-null int64\n",
      "Time                      568454 non-null int64\n",
      "Summary                   568427 non-null object\n",
      "Text                      568454 non-null object\n",
      "dtypes: int64(5), object(5)\n",
      "memory usage: 43.4+ MB\n"
     ]
    }
   ],
   "source": [
    "# View the column datatypes and counts\n",
    "data.info()"
   ]
  },
  {
   "cell_type": "markdown",
   "metadata": {},
   "source": [
    "The dataset contains the following variables:\n",
    "- `Id`: a unique identifier for each review\n",
    "- `ProductId`: a unique identifier for each product being reviewed\n",
    "- `UserId`: a unique identifier for each reviewer\n",
    "- `ProfileName`: the display name of each reviewer\n",
    "- `HelpfulnessNumerator`: the number of \"helpful\" votes each review received\n",
    "- `HelpfulnessDenominator`: the total number of votes on helpfulness (upvotes and downvotes)\n",
    "- `Score`: the reviewer's rating of the product, in number of stars from 1 to 5\n",
    "- `Time`: a timestamp for each review\n",
    "- `Summary`: a brief headline or title for each review\n",
    "- `Text`: the text of each review.\n",
    "\n",
    "`HelpfulnessNumerator` is the target I'll try to predict in the modeling section below. For most of my analysis, I focus on `Text`. I don't use `Time` at all because I expect that most interaction with product reviews is asynchronous, i.e., a review could be written and then rated \"helpful\" the same day or years later."
   ]
  },
  {
   "cell_type": "markdown",
   "metadata": {
    "colab_type": "text",
    "id": "3bIYKCprNMzD"
   },
   "source": [
    "## Initial exploration and cleaning"
   ]
  },
  {
   "cell_type": "markdown",
   "metadata": {},
   "source": [
    "### Check for duplicates"
   ]
  },
  {
   "cell_type": "markdown",
   "metadata": {},
   "source": [
    "With such a large dataset, one of my first concerns is whether it contains many duplicate entries. In particular, I am concerned about:\n",
    "\n",
    "- true duplicate entries, i.e., the exact same review of the same product by the same person, and\n",
    "- \"spam\" entries, i.e., the exact same text posted to multiple products."
   ]
  },
  {
   "cell_type": "code",
   "execution_count": 0,
   "metadata": {
    "ExecuteTime": {
     "end_time": "2019-12-16T17:00:18.467353Z",
     "start_time": "2019-12-16T17:00:18.316995Z"
    },
    "colab": {},
    "colab_type": "code",
    "id": "xwWDP0ftNMzE",
    "outputId": "ab7daa88-5665-460d-f796-e44b9e7614ac"
   },
   "outputs": [
    {
     "data": {
      "text/plain": [
       "B007JFMH8M    913\n",
       "B0026RQTGE    632\n",
       "B002QWP89S    632\n",
       "B002QWHJOU    632\n",
       "B002QWP8H0    632\n",
       "             ... \n",
       "B008QPBSXE      1\n",
       "B001YJ2VGM      1\n",
       "B003PM4X9E      1\n",
       "B004D6UAWK      1\n",
       "B0084JFD7E      1\n",
       "Name: ProductId, Length: 74258, dtype: int64"
      ]
     },
     "execution_count": 4,
     "metadata": {
      "tags": []
     },
     "output_type": "execute_result"
    }
   ],
   "source": [
    "# Check for multiple reviews of same product\n",
    "data.ProductId.value_counts()"
   ]
  },
  {
   "cell_type": "markdown",
   "metadata": {},
   "source": [
    "It makes sense that there would be multiple reviews of some products, so these value counts are not unexpected. "
   ]
  },
  {
   "cell_type": "code",
   "execution_count": 0,
   "metadata": {
    "ExecuteTime": {
     "end_time": "2019-12-16T17:00:42.009415Z",
     "start_time": "2019-12-16T17:00:41.499063Z"
    },
    "colab": {},
    "colab_type": "code",
    "id": "2A6gKKSxNMzH",
    "outputId": "6cc35afc-de75-4d4e-d42e-72f0159335ac"
   },
   "outputs": [
    {
     "data": {
      "text/plain": [
       "A3OXHLG6DIBRW8    448\n",
       "A1YUL9PCJR3JTY    421\n",
       "AY12DBB0U420B     389\n",
       "A281NPSIMI1C2R    365\n",
       "A1Z54EM24Y40LL    256\n",
       "                 ... \n",
       "A1N15DDUYPDXVO      1\n",
       "A2JXHUQYM3OXH7      1\n",
       "A2B8TQ3M0VRKV8      1\n",
       "A3EEZ8YWOTBR2W      1\n",
       "A36ZJ8VITNWRBC      1\n",
       "Name: UserId, Length: 256059, dtype: int64"
      ]
     },
     "execution_count": 5,
     "metadata": {
      "tags": []
     },
     "output_type": "execute_result"
    }
   ],
   "source": [
    "# Check for multiple reviews by same user\n",
    "data.UserId.value_counts()"
   ]
  },
  {
   "cell_type": "markdown",
   "metadata": {},
   "source": [
    "It's also reasonable that some reviewers write many reviews, but 448 reviews is quite a lot! Let's see how many times the same combinations of products and reviewers are repeated."
   ]
  },
  {
   "cell_type": "code",
   "execution_count": 0,
   "metadata": {
    "ExecuteTime": {
     "end_time": "2019-12-16T17:10:46.478144Z",
     "start_time": "2019-12-16T17:10:46.270091Z"
    },
    "colab": {},
    "colab_type": "code",
    "id": "68m1RUhzNMzO",
    "outputId": "6ab0a782-1d92-4e79-915f-039becc022a4",
    "scrolled": true
   },
   "outputs": [
    {
     "data": {
      "text/plain": [
       "7650"
      ]
     },
     "execution_count": 17,
     "metadata": {
      "tags": []
     },
     "output_type": "execute_result"
    }
   ],
   "source": [
    "# Look for duplicate reviews using ProductId + UserId\n",
    "dupes = data.duplicated(subset=['ProductId', 'UserId'])\n",
    "dupes.sum()"
   ]
  },
  {
   "cell_type": "markdown",
   "metadata": {
    "colab_type": "text",
    "id": "uDAPov7TNMzQ"
   },
   "source": [
    "So it seems there may be 7,650 times where the same user reviewed the same product more than once. Let's try to inspect some examples and see if we can figure out what's going on."
   ]
  },
  {
   "cell_type": "code",
   "execution_count": 0,
   "metadata": {
    "ExecuteTime": {
     "end_time": "2019-12-16T17:11:07.574144Z",
     "start_time": "2019-12-16T17:11:07.557480Z"
    },
    "colab": {},
    "colab_type": "code",
    "id": "epUYCwqbNMzR",
    "outputId": "e1cd5824-5a0f-46aa-f6d9-1335898e7a4d"
   },
   "outputs": [
    {
     "data": {
      "text/plain": [
       "426       True\n",
       "429       True\n",
       "435       True\n",
       "467       True\n",
       "485       True\n",
       "          ... \n",
       "568056    True\n",
       "568060    True\n",
       "568062    True\n",
       "568067    True\n",
       "568144    True\n",
       "Length: 7650, dtype: bool"
      ]
     },
     "execution_count": 18,
     "metadata": {
      "tags": []
     },
     "output_type": "execute_result"
    }
   ],
   "source": [
    "# Investigate a potential duplicate reviewer\n",
    "dupes[dupes == True]"
   ]
  },
  {
   "cell_type": "markdown",
   "metadata": {},
   "source": [
    "I'll focus on the review at index 429. "
   ]
  },
  {
   "cell_type": "code",
   "execution_count": 0,
   "metadata": {
    "ExecuteTime": {
     "end_time": "2019-12-16T17:11:40.347783Z",
     "start_time": "2019-12-16T17:11:40.334561Z"
    },
    "colab": {},
    "colab_type": "code",
    "id": "tfMVfT9_NMzU",
    "outputId": "35a77efa-0356-4bc3-b7d0-7e34a31e4111"
   },
   "outputs": [
    {
     "data": {
      "text/plain": [
       "Id                                                                                                                                                                                                                                                                                                                                                                                       430\n",
       "ProductId                                                                                                                                                                                                                                                                                                                                                                         B000G6RYNE\n",
       "UserId                                                                                                                                                                                                                                                                                                                                                                        A1IRN1M05TPOVT\n",
       "ProfileName                                                                                                                                                                                                                                                                                                                                                     Sharon M. Helfand \"Scrapper\"\n",
       "HelpfulnessNumerator                                                                                                                                                                                                                                                                                                                                                                       0\n",
       "HelpfulnessDenominator                                                                                                                                                                                                                                                                                                                                                                     0\n",
       "Score                                                                                                                                                                                                                                                                                                                                                                                      5\n",
       "Time                                                                                                                                                                                                                                                                                                                                                                              1331078400\n",
       "Summary                                                                                                                                                                                                                                                                                                                                                    Kettle potato chips:  Sweet onion\n",
       "Text                      WOW!  I have eaten quite a few potato chips in my day. Kettle chips are the BEST non-baked chips I have eaten. I decided to try the sweet onion chips, since I've never had them. I now have a FAVORITE!! If you like onions, this is a MUST buy! I will definitely reorder these, as I mentioned above, they are the BEST I have ever eaten! The flavor is GREAT.\n",
       "Name: 429, dtype: object"
      ]
     },
     "execution_count": 20,
     "metadata": {
      "tags": []
     },
     "output_type": "execute_result"
    }
   ],
   "source": [
    "# Investigate a potential duplicate reviewer\n",
    "data.iloc[429,]"
   ]
  },
  {
   "cell_type": "markdown",
   "metadata": {},
   "source": [
    "At first glance, I have no reason to believe that this is not a legitimate review, other than the fact that it was flagged as a duplicate. The `ProfileName` sounds like a real person (not a garbled alphanumeric string like I might expect from a bot), and the review reads like something a real person might say. There are no phishy-looking links or other weird things in the text itself.\n",
    "\n",
    "Let's take a deeper dive into \"Scrapper's\" reviews."
   ]
  },
  {
   "cell_type": "code",
   "execution_count": 0,
   "metadata": {
    "ExecuteTime": {
     "end_time": "2019-12-16T17:15:08.641999Z",
     "start_time": "2019-12-16T17:15:08.550329Z"
    },
    "colab": {},
    "colab_type": "code",
    "id": "CW38QkJHNMzX",
    "outputId": "a7b6bcc6-84a7-4f5a-b73d-75a3e4351a9d",
    "scrolled": true
   },
   "outputs": [
    {
     "data": {
      "text/html": [
       "<div>\n",
       "<style scoped>\n",
       "    .dataframe tbody tr th:only-of-type {\n",
       "        vertical-align: middle;\n",
       "    }\n",
       "\n",
       "    .dataframe tbody tr th {\n",
       "        vertical-align: top;\n",
       "    }\n",
       "\n",
       "    .dataframe thead th {\n",
       "        text-align: right;\n",
       "    }\n",
       "</style>\n",
       "<table border=\"1\" class=\"dataframe\">\n",
       "  <thead>\n",
       "    <tr style=\"text-align: right;\">\n",
       "      <th></th>\n",
       "      <th>Id</th>\n",
       "      <th>HelpfulnessNumerator</th>\n",
       "      <th>HelpfulnessDenominator</th>\n",
       "      <th>Score</th>\n",
       "      <th>Time</th>\n",
       "    </tr>\n",
       "  </thead>\n",
       "  <tbody>\n",
       "    <tr>\n",
       "      <td>count</td>\n",
       "      <td>49.000000</td>\n",
       "      <td>49.000000</td>\n",
       "      <td>49.000000</td>\n",
       "      <td>49.000000</td>\n",
       "      <td>4.900000e+01</td>\n",
       "    </tr>\n",
       "    <tr>\n",
       "      <td>mean</td>\n",
       "      <td>309519.102041</td>\n",
       "      <td>0.224490</td>\n",
       "      <td>0.224490</td>\n",
       "      <td>4.979592</td>\n",
       "      <td>1.319677e+09</td>\n",
       "    </tr>\n",
       "    <tr>\n",
       "      <td>std</td>\n",
       "      <td>192180.078790</td>\n",
       "      <td>0.654004</td>\n",
       "      <td>0.654004</td>\n",
       "      <td>0.142857</td>\n",
       "      <td>2.135026e+07</td>\n",
       "    </tr>\n",
       "    <tr>\n",
       "      <td>min</td>\n",
       "      <td>424.000000</td>\n",
       "      <td>0.000000</td>\n",
       "      <td>0.000000</td>\n",
       "      <td>4.000000</td>\n",
       "      <td>1.243901e+09</td>\n",
       "    </tr>\n",
       "    <tr>\n",
       "      <td>25%</td>\n",
       "      <td>112884.000000</td>\n",
       "      <td>0.000000</td>\n",
       "      <td>0.000000</td>\n",
       "      <td>5.000000</td>\n",
       "      <td>1.316477e+09</td>\n",
       "    </tr>\n",
       "    <tr>\n",
       "      <td>50%</td>\n",
       "      <td>331780.000000</td>\n",
       "      <td>0.000000</td>\n",
       "      <td>0.000000</td>\n",
       "      <td>5.000000</td>\n",
       "      <td>1.331078e+09</td>\n",
       "    </tr>\n",
       "    <tr>\n",
       "      <td>75%</td>\n",
       "      <td>481356.000000</td>\n",
       "      <td>0.000000</td>\n",
       "      <td>0.000000</td>\n",
       "      <td>5.000000</td>\n",
       "      <td>1.334621e+09</td>\n",
       "    </tr>\n",
       "    <tr>\n",
       "      <td>max</td>\n",
       "      <td>552864.000000</td>\n",
       "      <td>4.000000</td>\n",
       "      <td>4.000000</td>\n",
       "      <td>5.000000</td>\n",
       "      <td>1.334621e+09</td>\n",
       "    </tr>\n",
       "  </tbody>\n",
       "</table>\n",
       "</div>"
      ],
      "text/plain": [
       "                  Id  HelpfulnessNumerator  HelpfulnessDenominator      Score  \\\n",
       "count      49.000000             49.000000               49.000000  49.000000   \n",
       "mean   309519.102041              0.224490                0.224490   4.979592   \n",
       "std    192180.078790              0.654004                0.654004   0.142857   \n",
       "min       424.000000              0.000000                0.000000   4.000000   \n",
       "25%    112884.000000              0.000000                0.000000   5.000000   \n",
       "50%    331780.000000              0.000000                0.000000   5.000000   \n",
       "75%    481356.000000              0.000000                0.000000   5.000000   \n",
       "max    552864.000000              4.000000                4.000000   5.000000   \n",
       "\n",
       "               Time  \n",
       "count  4.900000e+01  \n",
       "mean   1.319677e+09  \n",
       "std    2.135026e+07  \n",
       "min    1.243901e+09  \n",
       "25%    1.316477e+09  \n",
       "50%    1.331078e+09  \n",
       "75%    1.334621e+09  \n",
       "max    1.334621e+09  "
      ]
     },
     "execution_count": 24,
     "metadata": {
      "tags": []
     },
     "output_type": "execute_result"
    }
   ],
   "source": [
    "# Check out all reviews by 'Scrapper'\n",
    "scrapper = data[data.UserId == 'A1IRN1M05TPOVT']\n",
    "scrapper.describe()"
   ]
  },
  {
   "cell_type": "markdown",
   "metadata": {},
   "source": [
    "\"Scrapper\" seems to have very positive opinions of the products she reviews, although she doesn't score a lot of \"helpful\" ratings.\n",
    "\n",
    "How many duplicate reviews has she produced?"
   ]
  },
  {
   "cell_type": "code",
   "execution_count": 0,
   "metadata": {
    "ExecuteTime": {
     "end_time": "2019-12-16T17:15:37.114645Z",
     "start_time": "2019-12-16T17:15:37.102237Z"
    },
    "colab": {},
    "colab_type": "code",
    "id": "suAEXxpxNMza",
    "outputId": "6ee09337-6014-4d38-b638-b8ed022a6224",
    "scrolled": true
   },
   "outputs": [
    {
     "data": {
      "text/plain": [
       "B0058AMY5G    2\n",
       "B000LKXBL4    2\n",
       "B001SAXPEO    2\n",
       "B0058AMY10    2\n",
       "B000G6MBUA    2\n",
       "B000LKVD5U    2\n",
       "B0012XBD7I    2\n",
       "B006WYSFZK    2\n",
       "B000G6RYNE    2\n",
       "B004728MI4    2\n",
       "B00472I5A4    2\n",
       "B0058AMYTC    2\n",
       "B0058AMY74    2\n",
       "B000G6O2QG    2\n",
       "B005C955WC    1\n",
       "B00018CWZW    1\n",
       "B000KGW2BY    1\n",
       "B004ASBLJ2    1\n",
       "B000H27NU6    1\n",
       "B00017LEZC    1\n",
       "B000EQT77M    1\n",
       "B003FDG468    1\n",
       "B001HBXO54    1\n",
       "B003V8QGAG    1\n",
       "B0089Q2AAA    1\n",
       "B003ZXFWP2    1\n",
       "B003V8Y7DE    1\n",
       "B004VJ9UCA    1\n",
       "B0089Q2A8M    1\n",
       "B000EQX6QK    1\n",
       "B003V8WNIK    1\n",
       "B002DZIL24    1\n",
       "B000HVVMQI    1\n",
       "B002YJCA30    1\n",
       "B000E1FZIW    1\n",
       "Name: ProductId, dtype: int64"
      ]
     },
     "execution_count": 25,
     "metadata": {
      "tags": []
     },
     "output_type": "execute_result"
    }
   ],
   "source": [
    "# See how many potentially duplicate reviews Scrapper produced\n",
    "scrapper.ProductId.value_counts()"
   ]
  },
  {
   "cell_type": "markdown",
   "metadata": {},
   "source": [
    "It looks like she reviewed the first 14 products twice each. That's weird, but not _that_ weird; maybe she just wanted to review those products more than once.\n",
    "\n",
    "What about the texts of her reviews? Are they duplicated?"
   ]
  },
  {
   "cell_type": "code",
   "execution_count": 0,
   "metadata": {
    "ExecuteTime": {
     "end_time": "2019-12-16T17:16:11.317853Z",
     "start_time": "2019-12-16T17:16:11.302823Z"
    },
    "colab": {},
    "colab_type": "code",
    "id": "uQpHPgB4NMzc",
    "outputId": "85571feb-c109-4257-da74-f139bd4227e8",
    "scrolled": true
   },
   "outputs": [
    {
     "data": {
      "text/plain": [
       "I have never met a Kettle brand chip I did not like. These chips have a great loaded potato flavor, which are flavorful. I like the sweet onion chips better, but these are also at the top of the list for great-tasting potato chips. Kettle chips are great chips f/the money!                                                                                     14\n",
       "WOW!  I have eaten quite a few potato chips in my day. Kettle chips are the BEST non-baked chips I have eaten. I decided to try the sweet onion chips, since I've never had them. I now have a FAVORITE!! If you like onions, this is a MUST buy! I will definitely reorder these, as I mentioned above, they are the BEST I have ever eaten! The flavor is GREAT.    14\n",
       "These are some of the BEST chips I have ever eaten! Since they were popped and not fried, they have a fresh, non-greasy taste! I would recommend these to anyone watching their diet. FANTASTIC!!                                                                                                                                                                      5\n",
       "As an alternative to regular potato chips, these are GREAT!  They are not greasy and very healthy.  I would recommend them to anyone looking for an alternative to greasy chips.                                                                                                                                                                                       3\n",
       "If you like chocolate and also like shortbread cookies, these are a must have! They are miniature, so you can pop a bunch in your mouth at once! Good combination!                                                                                                                                                                                                     1\n",
       "This is the best hot cocoa I have ever tasted!  Great flavor!  I use less than indicated.  FANTASTIC!                                                                                                                                                                                                                                                                  1\n",
       "I highly recommend this popcorn if you don't like picking hulls out of your teeth!  Both the kettle corn and plain are very good.                                                                                                                                                                                                                                      1\n",
       "After ordering this the first time, I decided to reorder. If you like Slim Jims, you will love these. They are a convenient size and mild. They make a great snack for in between meals. I highly recommend these!                                                                                                                                                     1\n",
       "If you like green tea with a hint of fruit, you will like this; great flavor!  Lipton tea is one of the best, as far as tea goes.  My entire family enjoys this tea.                                                                                                                                                                                                   1\n",
       "If you crave chocolate, these truffles are for you, especially if you like variety. I personally love the dark chocolate, but the peanut butter ones are also extremely good. If you like white chocolate, then you will enjoy the Lindt white chocolate truffles. I highly recommend this product!                                                                    1\n",
       "These are the best healthy chips I have put in my mouth!  They are crunchy and very flavorful!  You can dip them, but I think they are great right from the package.                                                                                                                                                                                                   1\n",
       "If you like Cheez-It crackers, there is no doubt you will like their snack mix.  There are items you are used to (pretzels) as well as some you have never seen in a snack mix!  I highly recommend this.  Just be careful--it can be addictive!                                                                                                                       1\n",
       "Do you like peanuts in your trail mix?  If so this is for you.<br />I personally don't like a lot of peanuts, but the chocolate pieces, cashews, and raisins make up for the large amount of peanuts.  Also, if you have a person who loves peanuts in your household, it works out well!                                                                              1\n",
       "The Amish Country popcorn is very good stove-top popcorn.  It really does not matter what color you purchase, as that goes away and turn white after popping.  But the flavor remains!  I highly recommend this for great tasting popcorn.                                                                                                                             1\n",
       "If you are looking for a good, mild, oriental rice cracker mix, this is it! Taste is fantastic, price very reasonable.  The down side is the shipping, which costs more than the total of 4 or 5 products!<br />But I would still recommend.                                                                                                                           1\n",
       "As far as healthy chips go, this is the BEST chip I have ever eaten! Medora popcorners, plain are also good. However, after trying the white cheddar, I was hooked! I like them so much I may put them on the every-other-month auto shipment! You may get a few that didn't pop right, but for the most part, these are fantastic! I highly recommend.                1\n",
       "These cookies have got to be the BEST chocolate cookie in retail. I have eaten chocolate chip cookies and Walker's shortbread cookies. Both are great cookies. If you are a chocoholic like myself, you will order these!! As previously stated, they are the BEST chocolate cookies ever! I would definitely reorder!                                                 1\n",
       "Name: Text, dtype: int64"
      ]
     },
     "execution_count": 26,
     "metadata": {
      "tags": []
     },
     "output_type": "execute_result"
    }
   ],
   "source": [
    "# View Scrapper's duplicate reviews\n",
    "scrapper.Text.value_counts()"
   ]
  },
  {
   "cell_type": "markdown",
   "metadata": {
    "colab_type": "text",
    "id": "p-EInHPZNMze"
   },
   "source": [
    "\"Scrapper\" has written 36 non-unique reviews. Something is fishy! Why would a person post the exact same review 14 times across various products? This is not behavior I would expect from a \"normal\" customer who is leaving genuine reviews on products they actually purchased. \n",
    "\n",
    "Are there other \"Scrappers\" in this dataset?"
   ]
  },
  {
   "cell_type": "code",
   "execution_count": 5,
   "metadata": {
    "ExecuteTime": {
     "end_time": "2020-01-08T17:40:10.639528Z",
     "start_time": "2020-01-08T17:40:10.051218Z"
    },
    "colab": {},
    "colab_type": "code",
    "id": "sa_1ZVNiNMzf",
    "outputId": "43bd67a8-f30f-4d3a-8263-67eedd224a5a",
    "scrolled": false
   },
   "outputs": [
    {
     "data": {
      "text/plain": [
       "This review will make me sound really stupid, but whatever. I don't really care as long as people find out what's real and can avoid my mistakes.<br /><br />I got my wonderful little sweet Bella Bean when she was a few days shy of three years old. She had been bounced around from house to house and eating whatever was cheap. I have had cats around me my entire life, for about twenty-five years now. My mother always just fed them whatever, the kinds of food you buy in the supermarket - Friskies, Nine Lives, Kit & Kaboodle, stuff like that. And our cats were always fine, at least in terms of their eating habits. They would eat in the morning, stop when they were done, come back, and eat some more when they got hungry.<br /><br />My housemate at the time was working for Hill's and assured me that this was the best food ever made, so great, so on and so forth. I now know that she is an utter buffoon, but I initially trusted her judgment, which is so unfortunate because she doesn't think. She also had plenty of coupons for free or deeply discounted bags, which made it a much more attractive choice.<br /><br />I first tried feeding the little Bean an unmeasured amount of Science Diet in a bowl, but that didn't work, as she would devour it in one sitting. So then I took to measuring it, and she did the same thing. Then I started parsing it out to twice a day. That didn't work either, because she would start going crazy in the middle of the day, running around, intentionally destroying things, deliberately spilling her water, crying, etc., until she got more food. So then I split it into three servings. Same thing. Then it got to be four servings. That was a little better, but it was too much maintenance and unrealistic to be around every day to feed her four times. So then it went back to three. All the while, I was trying to reduce the amount of food I was feeding her to less than 3/4 of a cup because she was a little chubby. Reducing was hell. She became even more hungry, but I figured she would get used to it. Not really.<br /><br />For over a year, she would wake me up every morning looking for food in a serious way, knocking things off my desk, ripping up any paper she could find, scratching at the door and committing general acts of mischief. As soon as she got food, she was back to her sweet self, but only for three or four hours.<br /><br />We thought she was bored, we thought she was a little nutty, and maybe even had a kitty eating disorder. She always wanted food. It was kind of funny but in the end it was just sad.<br /><br />A few weeks back, we took her to a new (good, non-money factory) vet for her second checkup since I've had her. I talked with him about her being always hungry. He asked what she ate, and I told him the adult indoor Science Diet. Without saying as much, he basically told me that this food is garbage and I should look for something else. He said cat food should have a protein followed by a carbohydrate as the first two ingredients. Science Diet does, in a very loose, by-product kind of way - ground up slaughterhouse leftovers and corn dust. Then they put a bunch of vitamins in it to make it \"healthy,\" instead of just using good ingredients from the beginning. Not that I care about spending money on the Bean, but this food is way too expensive for what it is.<br /><br />So we began transitioning her onto Wellness indoor formula about two weeks ago. She is still eating 50 percent Science Diet with 50 percent Wellness (you really shouldn't just give a cat different food one day out of the blue) but SHE NEVER FREAKS OUT ANYMORE. It's amazing. And it's 100 percent because she is eating real food now, along with that sawdust and chicken hearts I still regrettable have to feed her. We have her down to eating twice a day, only 1/3 cup in TOTAL. She was eating three times a day, 5/8 of a cup in total. Now she eats some in the morning, walks away, eats some more a few hours later, and then looks for dinner about twelve hours after her initial feeding. No more knocking things over, no more trashing Dad's papers on the desk, no more howling, no more deliberately spilled water on the floor. It's incredible.<br /><br />I feel so bad that I was doing this to her for so long. We really thought she was just being dramatic or whatever. But no, she was genuinely hungry because she wasn't eating any real food.<br /><br />Do your cat a favor - buy her or him so food made with real ingredients, things you would eat - Wellness, Halo, Innova, Evo, whatever. Figure it out for yourself, but please don't feed your cat this. It's garbage.    199\n",
       "Diamond Almonds<br />Almonds are a good source of magnesium. One ounce contain approximately 20% of the RDA for an adult recommended dietary allowance (RDA)<br />Recommended Dietary Allowance (RDA) the amounts of selected nutrients considered adequate to meet the known nutrient needs of healthy people. The RDA is based on scientific knowledge and has been presented by a committee of the Food and Nutrition Board (FNB) of the National Academy of Sciences (NAS). The Canadian equivalent is the Recommended Nutrient Intakes. RDA is generally accepted throughout the world as a valid source of information. At least 40 different nations have as well as organizations have published standards similar to the RDA.<br /><br />Magnesium is the fourth most abundant mineral in the body and is essential to good health. Approximately 50% of total body magnesium is found in bone. The other half is found predominantly inside cells of body tissues and organs. Only 1% of magnesium is found in blood, but the body works very hard to keep blood levels of magnesium constant.<br />Magnesium is needed for more than 300 biochemical reactions in the body. It helps maintain normal muscle and nerve function, keeps heart rhythm steady, supports a healthy immune system, and keeps bones strong. Magnesium also helps regulate blood sugar levels, promotes normal blood pressure, and is known to be involved in energy metabolism and protein synthesis. There is an increased interest in the role of magnesium in preventing and managing disorders such as hypertension, cardiovascular disease, and diabetes. Dietary magnesium is absorbed in the small intestines. Are you taking enough magnesium in the diet? The recommended daily allowance is 300mgs/day for men, 350mgs for women. Magnesium is extremely safe by mouth - too much simply causes diarrhea. Try increasing the amount of magnesium you take by mouth until it causes diarrhea, then reduce the dose slightly so it does not. This is called taking magnesium to bowel tolerance (just like using vitamin C to bowel tolerance.<br /><br />Almonds are a good source of Fiber.<br />One ounce contains approximately 12% of the RDA for an adult.<br />So, in summary, Almonds are a very healthy snack, so what's left to say?<br /><br />Two things:<br />1st be cautious about \"bowel tolerance\" or \"happy bowels\" if you prefer.<br />2nd Taste.  I realize that taste is a personal thing.  That's why they make chocolate, strawberry, and vanilla.<br /><br />Here's my current favorites\"<br /><br /> 1st Blue Diamond Dark mint dark chocolate (reminds me of the chocolate mint Girl Scout Cookies with less sugar).<br /><br />2nd Blue diamond Dark Chocolate Oven Roasted<br />3rd  Blue diamond Blue Butter Toffee<br />4thd Blue Diamond Almonds Bold Habanero BBQ (reminds me of  BBQ potato chips again with less sugar).<br />5th Bold Blazin Buffalo Wing<br />6th Blue Diamond Almonds Cinnamon Brown Sugar<br />7th  Blue Diamond Almonds Lime `n Chili<br />8th  Blue Diamond Almonds Smokehouse<br />9th  Bold Wasabi & Soy Sauce<br /><br />But that's just me: you might have a completely different take on these flavors.<br /> 4th  and 5th are very close.<br /><br />Gunner<br />May, 2012                                                                                                                                                                                                                                                                                                                                                                                                                                                                                                                                                                                                                                                                                                                                                                                                                                                                                                                                                                                                                                                                                                                                                                                                                                                                                                                                                                                                                                                                               126\n",
       "Name: Text, dtype: int64"
      ]
     },
     "execution_count": 5,
     "metadata": {},
     "output_type": "execute_result"
    }
   ],
   "source": [
    "# Find all duplicate review texts\n",
    "data.Text.value_counts()[:2]"
   ]
  },
  {
   "cell_type": "markdown",
   "metadata": {
    "colab_type": "text",
    "id": "oU7GiSnyNMzh"
   },
   "source": [
    "The first review in this printout occurs 199 times in the dataset. I can't imagine any normal circumstance under which a genuine customer would post this exact text that many times. \n",
    "\n",
    "I think it would be safe to consider any non-unique review text as spam and remove all but the first instance from the dataset. How many spam reviews are there?"
   ]
  },
  {
   "cell_type": "code",
   "execution_count": 4,
   "metadata": {
    "ExecuteTime": {
     "end_time": "2020-01-09T17:10:06.075355Z",
     "start_time": "2020-01-09T17:10:05.334303Z"
    },
    "colab": {},
    "colab_type": "code",
    "id": "XrmBjOkJNMzi",
    "outputId": "d78fa413-3aef-45f2-c155-29c083a23c32",
    "scrolled": true
   },
   "outputs": [
    {
     "data": {
      "text/plain": [
       "174875"
      ]
     },
     "execution_count": 4,
     "metadata": {},
     "output_type": "execute_result"
    }
   ],
   "source": [
    "# Count non-unique review texts\n",
    "dupe_texts = data.duplicated(subset=['Text'])\n",
    "dupe_texts[dupe_texts == True].count()"
   ]
  },
  {
   "cell_type": "markdown",
   "metadata": {
    "colab_type": "text",
    "id": "QuWiqhQmNMzl"
   },
   "source": [
    "Almost 175,000 of the review texts are non-unique! They must go."
   ]
  },
  {
   "cell_type": "code",
   "execution_count": 5,
   "metadata": {
    "ExecuteTime": {
     "end_time": "2020-01-09T17:10:07.902869Z",
     "start_time": "2020-01-09T17:10:07.133568Z"
    },
    "colab": {},
    "colab_type": "code",
    "id": "6_QP7s8uNMzm"
   },
   "outputs": [],
   "source": [
    "# Select just the unique reviews\n",
    "data_no_dupe_texts = data.drop_duplicates(subset=['Text'])"
   ]
  },
  {
   "cell_type": "code",
   "execution_count": 7,
   "metadata": {
    "ExecuteTime": {
     "end_time": "2020-01-08T17:44:10.156759Z",
     "start_time": "2020-01-08T17:44:09.923660Z"
    },
    "colab": {},
    "colab_type": "code",
    "id": "RcD_p0SeNMzo",
    "outputId": "e42a02e0-657a-472d-ee18-01e62554f2ed",
    "scrolled": false
   },
   "outputs": [
    {
     "name": "stdout",
     "output_type": "stream",
     "text": [
      "<class 'pandas.core.frame.DataFrame'>\n",
      "Int64Index: 393579 entries, 0 to 568453\n",
      "Data columns (total 10 columns):\n",
      "Id                        393579 non-null int64\n",
      "ProductId                 393579 non-null object\n",
      "UserId                    393579 non-null object\n",
      "ProfileName               393568 non-null object\n",
      "HelpfulnessNumerator      393579 non-null int64\n",
      "HelpfulnessDenominator    393579 non-null int64\n",
      "Score                     393579 non-null int64\n",
      "Time                      393579 non-null int64\n",
      "Summary                   393576 non-null object\n",
      "Text                      393579 non-null object\n",
      "dtypes: int64(5), object(5)\n",
      "memory usage: 33.0+ MB\n"
     ]
    }
   ],
   "source": [
    "# Check counts and missing values\n",
    "data_no_dupe_texts.info()"
   ]
  },
  {
   "cell_type": "markdown",
   "metadata": {},
   "source": [
    "Now I can be confident that I am dealing with unique reviews. "
   ]
  },
  {
   "cell_type": "markdown",
   "metadata": {},
   "source": [
    "### Determine how to handle `HelpfulnessNumerator`"
   ]
  },
  {
   "cell_type": "markdown",
   "metadata": {},
   "source": [
    "Below I'm going to use `HelpfulnessNumerator` as the target for my predictions, so first I need to know more about this variable. How is it distributed? And should I treat it as continuous or categorical?\n",
    "\n",
    "Let's check the distribution first."
   ]
  },
  {
   "cell_type": "code",
   "execution_count": 8,
   "metadata": {
    "ExecuteTime": {
     "end_time": "2020-01-08T18:01:19.447313Z",
     "start_time": "2020-01-08T18:01:19.374462Z"
    },
    "colab": {},
    "colab_type": "code",
    "id": "N0CmW3nVNMzJ",
    "outputId": "b87cd72d-72ea-4671-9a64-4393ef26535e"
   },
   "outputs": [
    {
     "data": {
      "text/plain": [
       "count    393579.000000\n",
       "mean          1.733535\n",
       "std           6.873517\n",
       "min           0.000000\n",
       "25%           0.000000\n",
       "50%           0.000000\n",
       "75%           2.000000\n",
       "max         866.000000\n",
       "Name: HelpfulnessNumerator, dtype: float64"
      ]
     },
     "execution_count": 8,
     "metadata": {},
     "output_type": "execute_result"
    }
   ],
   "source": [
    "# Check summary stats on helpfulness votes\n",
    "data_no_dupe_texts.HelpfulnessNumerator.describe()"
   ]
  },
  {
   "cell_type": "code",
   "execution_count": 15,
   "metadata": {
    "ExecuteTime": {
     "end_time": "2020-01-08T18:23:04.633830Z",
     "start_time": "2020-01-08T18:23:03.789532Z"
    },
    "scrolled": true
   },
   "outputs": [
    {
     "data": {
      "image/png": "[encoded data removed]",
      "text/plain": [
       "<Figure size 1152x288 with 2 Axes>"
      ]
     },
     "metadata": {
      "needs_background": "light"
     },
     "output_type": "display_data"
    }
   ],
   "source": [
    "# Visualize the distribution of values\n",
    "fig, axes = plt.subplots(1, 2, figsize=(16,4))\n",
    "\n",
    "ax1 = axes[0]\n",
    "data_no_dupe_texts.HelpfulnessNumerator.plot(kind='box', ax=ax1)\n",
    "\n",
    "ax2 = axes[1]\n",
    "data_no_dupe_texts.HelpfulnessDenominator.plot(kind='hist', ax=ax2)\n",
    "\n",
    "plt.show();"
   ]
  },
  {
   "cell_type": "markdown",
   "metadata": {},
   "source": [
    "From these plots and the summary stats above I can see that the vast majority of reviews received no \"helpful\" votes, while a very small number received huge numbers of \"helpful\" votes.\n",
    "\n",
    "When it comes time for modeling, I will treat this as a classification problem and create a boolean column to record whether a review received 0 helpful votes or more than 0. "
   ]
  },
  {
   "cell_type": "markdown",
   "metadata": {},
   "source": [
    "### Calculate lengths of reviews"
   ]
  },
  {
   "cell_type": "markdown",
   "metadata": {},
   "source": [
    "In the section below, I'm going to check for correlations between `HelpfulnessNumerator` and other variables, and I want the length of each review to be one of them. I'll calculate that here."
   ]
  },
  {
   "cell_type": "code",
   "execution_count": 6,
   "metadata": {
    "ExecuteTime": {
     "end_time": "2020-01-09T17:10:21.326617Z",
     "start_time": "2020-01-09T17:10:17.463045Z"
    },
    "colab": {},
    "colab_type": "code",
    "id": "zmX0sVcQNMz8",
    "outputId": "689a2018-cd53-4bbd-a0f3-16aeb70bd2de",
    "scrolled": true
   },
   "outputs": [
    {
     "name": "stderr",
     "output_type": "stream",
     "text": [
      "/Users/jennykreiger/anaconda3/envs/learn-env/lib/python3.6/site-packages/ipykernel_launcher.py:2: SettingWithCopyWarning: \n",
      "A value is trying to be set on a copy of a slice from a DataFrame.\n",
      "Try using .loc[row_indexer,col_indexer] = value instead\n",
      "\n",
      "See the caveats in the documentation: http://pandas.pydata.org/pandas-docs/stable/user_guide/indexing.html#returning-a-view-versus-a-copy\n",
      "  \n"
     ]
    },
    {
     "data": {
      "text/html": [
       "<div>\n",
       "<style scoped>\n",
       "    .dataframe tbody tr th:only-of-type {\n",
       "        vertical-align: middle;\n",
       "    }\n",
       "\n",
       "    .dataframe tbody tr th {\n",
       "        vertical-align: top;\n",
       "    }\n",
       "\n",
       "    .dataframe thead th {\n",
       "        text-align: right;\n",
       "    }\n",
       "</style>\n",
       "<table border=\"1\" class=\"dataframe\">\n",
       "  <thead>\n",
       "    <tr style=\"text-align: right;\">\n",
       "      <th></th>\n",
       "      <th>Id</th>\n",
       "      <th>ProductId</th>\n",
       "      <th>UserId</th>\n",
       "      <th>ProfileName</th>\n",
       "      <th>HelpfulnessNumerator</th>\n",
       "      <th>HelpfulnessDenominator</th>\n",
       "      <th>Score</th>\n",
       "      <th>Time</th>\n",
       "      <th>Summary</th>\n",
       "      <th>Text</th>\n",
       "      <th>Text_len</th>\n",
       "    </tr>\n",
       "  </thead>\n",
       "  <tbody>\n",
       "    <tr>\n",
       "      <td>0</td>\n",
       "      <td>1</td>\n",
       "      <td>B001E4KFG0</td>\n",
       "      <td>A3SGXH7AUHU8GW</td>\n",
       "      <td>delmartian</td>\n",
       "      <td>1</td>\n",
       "      <td>1</td>\n",
       "      <td>5</td>\n",
       "      <td>1303862400</td>\n",
       "      <td>Good Quality Dog Food</td>\n",
       "      <td>I have bought several of the Vitality canned d...</td>\n",
       "      <td>263</td>\n",
       "    </tr>\n",
       "    <tr>\n",
       "      <td>1</td>\n",
       "      <td>2</td>\n",
       "      <td>B00813GRG4</td>\n",
       "      <td>A1D87F6ZCVE5NK</td>\n",
       "      <td>dll pa</td>\n",
       "      <td>0</td>\n",
       "      <td>0</td>\n",
       "      <td>1</td>\n",
       "      <td>1346976000</td>\n",
       "      <td>Not as Advertised</td>\n",
       "      <td>Product arrived labeled as Jumbo Salted Peanut...</td>\n",
       "      <td>190</td>\n",
       "    </tr>\n",
       "    <tr>\n",
       "      <td>2</td>\n",
       "      <td>3</td>\n",
       "      <td>B000LQOCH0</td>\n",
       "      <td>ABXLMWJIXXAIN</td>\n",
       "      <td>Natalia Corres \"Natalia Corres\"</td>\n",
       "      <td>1</td>\n",
       "      <td>1</td>\n",
       "      <td>4</td>\n",
       "      <td>1219017600</td>\n",
       "      <td>\"Delight\" says it all</td>\n",
       "      <td>This is a confection that has been around a fe...</td>\n",
       "      <td>509</td>\n",
       "    </tr>\n",
       "    <tr>\n",
       "      <td>3</td>\n",
       "      <td>4</td>\n",
       "      <td>B000UA0QIQ</td>\n",
       "      <td>A395BORC6FGVXV</td>\n",
       "      <td>Karl</td>\n",
       "      <td>3</td>\n",
       "      <td>3</td>\n",
       "      <td>2</td>\n",
       "      <td>1307923200</td>\n",
       "      <td>Cough Medicine</td>\n",
       "      <td>If you are looking for the secret ingredient i...</td>\n",
       "      <td>219</td>\n",
       "    </tr>\n",
       "    <tr>\n",
       "      <td>4</td>\n",
       "      <td>5</td>\n",
       "      <td>B006K2ZZ7K</td>\n",
       "      <td>A1UQRSCLF8GW1T</td>\n",
       "      <td>Michael D. Bigham \"M. Wassir\"</td>\n",
       "      <td>0</td>\n",
       "      <td>0</td>\n",
       "      <td>5</td>\n",
       "      <td>1350777600</td>\n",
       "      <td>Great taffy</td>\n",
       "      <td>Great taffy at a great price.  There was a wid...</td>\n",
       "      <td>140</td>\n",
       "    </tr>\n",
       "  </tbody>\n",
       "</table>\n",
       "</div>"
      ],
      "text/plain": [
       "   Id   ProductId          UserId                      ProfileName  \\\n",
       "0   1  B001E4KFG0  A3SGXH7AUHU8GW                       delmartian   \n",
       "1   2  B00813GRG4  A1D87F6ZCVE5NK                           dll pa   \n",
       "2   3  B000LQOCH0   ABXLMWJIXXAIN  Natalia Corres \"Natalia Corres\"   \n",
       "3   4  B000UA0QIQ  A395BORC6FGVXV                             Karl   \n",
       "4   5  B006K2ZZ7K  A1UQRSCLF8GW1T    Michael D. Bigham \"M. Wassir\"   \n",
       "\n",
       "   HelpfulnessNumerator  HelpfulnessDenominator  Score        Time  \\\n",
       "0                     1                       1      5  1303862400   \n",
       "1                     0                       0      1  1346976000   \n",
       "2                     1                       1      4  1219017600   \n",
       "3                     3                       3      2  1307923200   \n",
       "4                     0                       0      5  1350777600   \n",
       "\n",
       "                 Summary                                               Text  \\\n",
       "0  Good Quality Dog Food  I have bought several of the Vitality canned d...   \n",
       "1      Not as Advertised  Product arrived labeled as Jumbo Salted Peanut...   \n",
       "2  \"Delight\" says it all  This is a confection that has been around a fe...   \n",
       "3         Cough Medicine  If you are looking for the secret ingredient i...   \n",
       "4            Great taffy  Great taffy at a great price.  There was a wid...   \n",
       "\n",
       "   Text_len  \n",
       "0       263  \n",
       "1       190  \n",
       "2       509  \n",
       "3       219  \n",
       "4       140  "
      ]
     },
     "execution_count": 6,
     "metadata": {},
     "output_type": "execute_result"
    }
   ],
   "source": [
    "# Calculate a column for character lengths of review texts\n",
    "data_no_dupe_texts['Text_len'] = [len(data_no_dupe_texts.loc[row, 'Text']) for row in data_no_dupe_texts.index]\n",
    "data_no_dupe_texts.head()"
   ]
  },
  {
   "cell_type": "code",
   "execution_count": 26,
   "metadata": {
    "ExecuteTime": {
     "end_time": "2020-01-09T17:32:34.539438Z",
     "start_time": "2020-01-09T17:32:26.103721Z"
    },
    "scrolled": false
   },
   "outputs": [
    {
     "data": {
      "image/png": "[encoded data removed]",
      "text/plain": [
       "<Figure size 1152x576 with 2 Axes>"
      ]
     },
     "metadata": {
      "needs_background": "light"
     },
     "output_type": "display_data"
    }
   ],
   "source": [
    "# Visualize lengths of reviews (in characters)\n",
    "fig, axes = plt.subplots(2, 1, figsize=(16,8))\n",
    "ax1 = axes[0]\n",
    "sns.stripplot(x='Text_len', data=data_no_dupe_texts, alpha=0.25, ax=ax1)\n",
    "\n",
    "ax2 = axes[1]\n",
    "sns.boxplot(x='Text_len', data=data_no_dupe_texts, ax=ax2)\n",
    "plt.suptitle('Lengths of reviews (in characters)', fontsize=18)\n",
    "\n",
    "plt.show();"
   ]
  },
  {
   "cell_type": "code",
   "execution_count": 27,
   "metadata": {
    "ExecuteTime": {
     "end_time": "2020-01-09T17:33:19.820133Z",
     "start_time": "2020-01-09T17:33:19.784161Z"
    },
    "scrolled": true
   },
   "outputs": [
    {
     "data": {
      "text/plain": [
       "count    393579.000000\n",
       "mean        433.829178\n",
       "std         433.002351\n",
       "min          12.000000\n",
       "25%         181.000000\n",
       "50%         304.000000\n",
       "75%         527.000000\n",
       "max       21409.000000\n",
       "Name: Text_len, dtype: float64"
      ]
     },
     "execution_count": 27,
     "metadata": {},
     "output_type": "execute_result"
    }
   ],
   "source": [
    "# Get summary stats on Text_len\n",
    "data_no_dupe_texts.Text_len.describe()"
   ]
  },
  {
   "cell_type": "markdown",
   "metadata": {},
   "source": [
    "It appears that the vast majority of reviews are pretty short, i.e., well under 1,000 characters. But there are also some really long-winded reviews that are several thousand characters long. Apparently there was no character limit on the input form, or if there was, it was set well over 20,000 characters."
   ]
  },
  {
   "cell_type": "markdown",
   "metadata": {},
   "source": [
    "### Check for correlations with \"helpfulness\""
   ]
  },
  {
   "cell_type": "markdown",
   "metadata": {},
   "source": [
    "Before I go to the trouble of trying to predict helpfulness from the texts of reviews, I want to see if any of my other variables could do the same job. Here I'll check for correlations between `HelpfulnessNumerator` and several other variables, both ones that came in the dataset and some new ones I engineered."
   ]
  },
  {
   "cell_type": "code",
   "execution_count": 38,
   "metadata": {
    "ExecuteTime": {
     "end_time": "2020-01-10T15:30:37.696694Z",
     "start_time": "2020-01-10T15:30:37.573117Z"
    }
   },
   "outputs": [],
   "source": [
    "# Get a copy of data_no_dupe_texts\n",
    "data = data_no_dupe_texts.copy()"
   ]
  },
  {
   "cell_type": "markdown",
   "metadata": {},
   "source": [
    "First, I'll create a new variable to represent how many times a product's ID occurs in the dataset."
   ]
  },
  {
   "cell_type": "code",
   "execution_count": 39,
   "metadata": {
    "ExecuteTime": {
     "end_time": "2020-01-10T15:30:42.514263Z",
     "start_time": "2020-01-10T15:30:38.578648Z"
    }
   },
   "outputs": [],
   "source": [
    "# Create `ProductIdCount` variable\n",
    "prod_id_counts = data.ProductId.value_counts()\n",
    "data['ProductIdCount'] = [prod_id_counts[idx] for idx in data['ProductId']]"
   ]
  },
  {
   "cell_type": "markdown",
   "metadata": {},
   "source": [
    "Next I'll create a boolean column to indicate whether a product's `ProductIdCount` is in the top 1%. This gives me a handy way to separate the most frequently reviewed products from those that weren't reviewed very often."
   ]
  },
  {
   "cell_type": "code",
   "execution_count": 40,
   "metadata": {
    "ExecuteTime": {
     "end_time": "2020-01-10T15:30:42.530268Z",
     "start_time": "2020-01-10T15:30:42.517411Z"
    }
   },
   "outputs": [],
   "source": [
    "# Create `ProductMostReviewed` variable\n",
    "data['ProductMostReviewed'] = np.where(data['ProductIdCount'] > np.quantile(prod_id_counts, 0.99), 1, 0)"
   ]
  },
  {
   "cell_type": "markdown",
   "metadata": {},
   "source": [
    "Now I'll do something similar for `UserId`: calculate how many times each `UserId` occurs, and calculate whether a given `UserId` is in the top 1% most common IDs."
   ]
  },
  {
   "cell_type": "code",
   "execution_count": 41,
   "metadata": {
    "ExecuteTime": {
     "end_time": "2020-01-10T15:30:46.871586Z",
     "start_time": "2020-01-10T15:30:42.534621Z"
    }
   },
   "outputs": [],
   "source": [
    "# Calculate similar columns for `UserId`\n",
    "user_id_counts = data.UserId.value_counts()\n",
    "data['UserIdCount'] = [user_id_counts[idx] for idx in data['UserId']]\n",
    "\n",
    "data['TopReviewer'] = np.where(data['UserIdCount'] > np.quantile(user_id_counts, 0.99), 1, 0)"
   ]
  },
  {
   "cell_type": "markdown",
   "metadata": {},
   "source": [
    "Rather than deal with the somewhat confusing `HelpfulnessDenominator` column, I will calculate the difference between it and `HelpfulnessNumerator` as a new column called `Downvotes`. This will represent the number of times someone voted negatively on the helpfulness of a review. Keep in mind that many reviews received no votes on helpfulness either way."
   ]
  },
  {
   "cell_type": "code",
   "execution_count": 42,
   "metadata": {
    "ExecuteTime": {
     "end_time": "2020-01-10T15:30:46.887739Z",
     "start_time": "2020-01-10T15:30:46.875084Z"
    }
   },
   "outputs": [],
   "source": [
    "# Calculate `Downvotes` column\n",
    "data['Downvotes'] = data['HelpfulnessDenominator'] - data['HelpfulnessNumerator']"
   ]
  },
  {
   "cell_type": "markdown",
   "metadata": {},
   "source": [
    "Now let's take a look at all the columns just to review what we have:"
   ]
  },
  {
   "cell_type": "code",
   "execution_count": 43,
   "metadata": {
    "ExecuteTime": {
     "end_time": "2020-01-10T15:30:47.156208Z",
     "start_time": "2020-01-10T15:30:46.891132Z"
    },
    "scrolled": true
   },
   "outputs": [
    {
     "name": "stdout",
     "output_type": "stream",
     "text": [
      "<class 'pandas.core.frame.DataFrame'>\n",
      "Int64Index: 393579 entries, 0 to 568453\n",
      "Data columns (total 16 columns):\n",
      "Id                        393579 non-null int64\n",
      "ProductId                 393579 non-null object\n",
      "UserId                    393579 non-null object\n",
      "ProfileName               393568 non-null object\n",
      "HelpfulnessNumerator      393579 non-null int64\n",
      "HelpfulnessDenominator    393579 non-null int64\n",
      "Score                     393579 non-null int64\n",
      "Time                      393579 non-null int64\n",
      "Summary                   393576 non-null object\n",
      "Text                      393579 non-null object\n",
      "Text_len                  393579 non-null int64\n",
      "ProductIdCount            393579 non-null int64\n",
      "ProductMostReviewed       393579 non-null int64\n",
      "UserIdCount               393579 non-null int64\n",
      "TopReviewer               393579 non-null int64\n",
      "Downvotes                 393579 non-null int64\n",
      "dtypes: int64(11), object(5)\n",
      "memory usage: 51.0+ MB\n"
     ]
    }
   ],
   "source": [
    "# Check info\n",
    "data.info()"
   ]
  },
  {
   "cell_type": "markdown",
   "metadata": {},
   "source": [
    "Now I'm ready to check for correlations among the variables."
   ]
  },
  {
   "cell_type": "code",
   "execution_count": 45,
   "metadata": {
    "ExecuteTime": {
     "end_time": "2020-01-10T15:30:57.338471Z",
     "start_time": "2020-01-10T15:30:57.240240Z"
    },
    "scrolled": false
   },
   "outputs": [
    {
     "data": {
      "text/html": [
       "<div>\n",
       "<style scoped>\n",
       "    .dataframe tbody tr th:only-of-type {\n",
       "        vertical-align: middle;\n",
       "    }\n",
       "\n",
       "    .dataframe tbody tr th {\n",
       "        vertical-align: top;\n",
       "    }\n",
       "\n",
       "    .dataframe thead th {\n",
       "        text-align: right;\n",
       "    }\n",
       "</style>\n",
       "<table border=\"1\" class=\"dataframe\">\n",
       "  <thead>\n",
       "    <tr style=\"text-align: right;\">\n",
       "      <th></th>\n",
       "      <th>HelpfulnessNumerator</th>\n",
       "      <th>Score</th>\n",
       "      <th>Text_len</th>\n",
       "      <th>ProductIdCount</th>\n",
       "      <th>ProductMostReviewed</th>\n",
       "      <th>UserIdCount</th>\n",
       "      <th>TopReviewer</th>\n",
       "      <th>Downvotes</th>\n",
       "    </tr>\n",
       "  </thead>\n",
       "  <tbody>\n",
       "    <tr>\n",
       "      <td>HelpfulnessNumerator</td>\n",
       "      <td>1.000000</td>\n",
       "      <td>-0.036113</td>\n",
       "      <td>0.172175</td>\n",
       "      <td>-0.002520</td>\n",
       "      <td>0.010340</td>\n",
       "      <td>0.009040</td>\n",
       "      <td>0.005662</td>\n",
       "      <td>0.225819</td>\n",
       "    </tr>\n",
       "    <tr>\n",
       "      <td>Score</td>\n",
       "      <td>-0.036113</td>\n",
       "      <td>1.000000</td>\n",
       "      <td>-0.068555</td>\n",
       "      <td>-0.016376</td>\n",
       "      <td>-0.028534</td>\n",
       "      <td>0.017774</td>\n",
       "      <td>-0.003941</td>\n",
       "      <td>-0.282804</td>\n",
       "    </tr>\n",
       "    <tr>\n",
       "      <td>Text_len</td>\n",
       "      <td>0.172175</td>\n",
       "      <td>-0.068555</td>\n",
       "      <td>1.000000</td>\n",
       "      <td>0.076947</td>\n",
       "      <td>0.094800</td>\n",
       "      <td>0.177398</td>\n",
       "      <td>0.227655</td>\n",
       "      <td>0.061923</td>\n",
       "    </tr>\n",
       "    <tr>\n",
       "      <td>ProductIdCount</td>\n",
       "      <td>-0.002520</td>\n",
       "      <td>-0.016376</td>\n",
       "      <td>0.076947</td>\n",
       "      <td>1.000000</td>\n",
       "      <td>0.743660</td>\n",
       "      <td>0.010863</td>\n",
       "      <td>0.098177</td>\n",
       "      <td>0.008076</td>\n",
       "    </tr>\n",
       "    <tr>\n",
       "      <td>ProductMostReviewed</td>\n",
       "      <td>0.010340</td>\n",
       "      <td>-0.028534</td>\n",
       "      <td>0.094800</td>\n",
       "      <td>0.743660</td>\n",
       "      <td>1.000000</td>\n",
       "      <td>0.010548</td>\n",
       "      <td>0.102361</td>\n",
       "      <td>0.017622</td>\n",
       "    </tr>\n",
       "    <tr>\n",
       "      <td>UserIdCount</td>\n",
       "      <td>0.009040</td>\n",
       "      <td>0.017774</td>\n",
       "      <td>0.177398</td>\n",
       "      <td>0.010863</td>\n",
       "      <td>0.010548</td>\n",
       "      <td>1.000000</td>\n",
       "      <td>0.579754</td>\n",
       "      <td>-0.011029</td>\n",
       "    </tr>\n",
       "    <tr>\n",
       "      <td>TopReviewer</td>\n",
       "      <td>0.005662</td>\n",
       "      <td>-0.003941</td>\n",
       "      <td>0.227655</td>\n",
       "      <td>0.098177</td>\n",
       "      <td>0.102361</td>\n",
       "      <td>0.579754</td>\n",
       "      <td>1.000000</td>\n",
       "      <td>-0.008282</td>\n",
       "    </tr>\n",
       "    <tr>\n",
       "      <td>Downvotes</td>\n",
       "      <td>0.225819</td>\n",
       "      <td>-0.282804</td>\n",
       "      <td>0.061923</td>\n",
       "      <td>0.008076</td>\n",
       "      <td>0.017622</td>\n",
       "      <td>-0.011029</td>\n",
       "      <td>-0.008282</td>\n",
       "      <td>1.000000</td>\n",
       "    </tr>\n",
       "  </tbody>\n",
       "</table>\n",
       "</div>"
      ],
      "text/plain": [
       "                      HelpfulnessNumerator     Score  Text_len  \\\n",
       "HelpfulnessNumerator              1.000000 -0.036113  0.172175   \n",
       "Score                            -0.036113  1.000000 -0.068555   \n",
       "Text_len                          0.172175 -0.068555  1.000000   \n",
       "ProductIdCount                   -0.002520 -0.016376  0.076947   \n",
       "ProductMostReviewed               0.010340 -0.028534  0.094800   \n",
       "UserIdCount                       0.009040  0.017774  0.177398   \n",
       "TopReviewer                       0.005662 -0.003941  0.227655   \n",
       "Downvotes                         0.225819 -0.282804  0.061923   \n",
       "\n",
       "                      ProductIdCount  ProductMostReviewed  UserIdCount  \\\n",
       "HelpfulnessNumerator       -0.002520             0.010340     0.009040   \n",
       "Score                      -0.016376            -0.028534     0.017774   \n",
       "Text_len                    0.076947             0.094800     0.177398   \n",
       "ProductIdCount              1.000000             0.743660     0.010863   \n",
       "ProductMostReviewed         0.743660             1.000000     0.010548   \n",
       "UserIdCount                 0.010863             0.010548     1.000000   \n",
       "TopReviewer                 0.098177             0.102361     0.579754   \n",
       "Downvotes                   0.008076             0.017622    -0.011029   \n",
       "\n",
       "                      TopReviewer  Downvotes  \n",
       "HelpfulnessNumerator     0.005662   0.225819  \n",
       "Score                   -0.003941  -0.282804  \n",
       "Text_len                 0.227655   0.061923  \n",
       "ProductIdCount           0.098177   0.008076  \n",
       "ProductMostReviewed      0.102361   0.017622  \n",
       "UserIdCount              0.579754  -0.011029  \n",
       "TopReviewer              1.000000  -0.008282  \n",
       "Downvotes               -0.008282   1.000000  "
      ]
     },
     "execution_count": 45,
     "metadata": {},
     "output_type": "execute_result"
    }
   ],
   "source": [
    "# Calculate Pearson coefficient of correlation\n",
    "data_for_corr = data.drop(['Id', 'ProductId', 'UserId', 'ProfileName', 'Time',\n",
    "                           'HelpfulnessDenominator', 'Summary', 'Text'], \n",
    "                          axis=1)\n",
    "\n",
    "data_for_corr.corr()"
   ]
  },
  {
   "cell_type": "code",
   "execution_count": 46,
   "metadata": {
    "ExecuteTime": {
     "end_time": "2020-01-10T15:31:01.942562Z",
     "start_time": "2020-01-10T15:31:01.566264Z"
    }
   },
   "outputs": [
    {
     "data": {
      "image/png": "[encoded data removed]",
      "text/plain": [
       "<Figure size 432x288 with 2 Axes>"
      ]
     },
     "metadata": {
      "needs_background": "light"
     },
     "output_type": "display_data"
    }
   ],
   "source": [
    "# Visualize correlation coefficients as a heatmap\n",
    "sns.heatmap(data_for_corr.corr());"
   ]
  },
  {
   "cell_type": "code",
   "execution_count": 62,
   "metadata": {
    "ExecuteTime": {
     "end_time": "2020-01-10T16:41:03.950881Z",
     "start_time": "2020-01-10T16:29:42.212643Z"
    },
    "colab": {},
    "colab_type": "code",
    "id": "4hdWld6DNM0L",
    "outputId": "aac3ad86-11b5-4ade-f9c9-58a9cf2fb729",
    "scrolled": true
   },
   "outputs": [
    {
     "data": {
      "image/png": "[encoded data removed]",
      "text/plain": [
       "<Figure size 864x864 with 64 Axes>"
      ]
     },
     "metadata": {
      "needs_background": "light"
     },
     "output_type": "display_data"
    }
   ],
   "source": [
    "# Look for linear relationships\n",
    "pd.plotting.scatter_matrix(data_for_corr, \n",
    "                           figsize=(12,12));"
   ]
  },
  {
   "cell_type": "markdown",
   "metadata": {},
   "source": [
    "There are several important insights to be gained here:\n",
    "- `HelpfulnessNumerator` is not strongly correlated with any of the other variables. \n",
    "- The only strong correlations are between variables that are calculated from one another (e.g., `UserIdCount` and `TopReviewer`.\n",
    "- Because `HelpfulnessNumerator` is not strongly correlated with `Score` or `Text_len`, I can infer that \"helpful\" reviews can be of any length and of any degree of positivity/negativity.\n",
    "- The corpus of reviews skews positive in sentiment; a rating of 5/5 is by far the most common score.\n",
    "\n",
    "Given these outcomes, it seems that we must turn to the texts of the reviews themselves to try to predict helpfulness; other variables just won't do the job."
   ]
  },
  {
   "cell_type": "markdown",
   "metadata": {},
   "source": [
    "### View the most and least \"helpful\" reviews"
   ]
  },
  {
   "cell_type": "markdown",
   "metadata": {},
   "source": [
    "I think it's worthwhile to do some qualitative analysis of the most and least \"helpful\" reviews. This may help me make better decisions when it comes time to engineer features on the texts themselves (e.g., tokenization, n-grams)."
   ]
  },
  {
   "cell_type": "code",
   "execution_count": 59,
   "metadata": {
    "ExecuteTime": {
     "end_time": "2020-01-10T15:52:09.071831Z",
     "start_time": "2020-01-10T15:52:09.009484Z"
    },
    "scrolled": false
   },
   "outputs": [
    {
     "data": {
      "text/html": [
       "<div>\n",
       "<style scoped>\n",
       "    .dataframe tbody tr th:only-of-type {\n",
       "        vertical-align: middle;\n",
       "    }\n",
       "\n",
       "    .dataframe tbody tr th {\n",
       "        vertical-align: top;\n",
       "    }\n",
       "\n",
       "    .dataframe thead th {\n",
       "        text-align: right;\n",
       "    }\n",
       "</style>\n",
       "<table border=\"1\" class=\"dataframe\">\n",
       "  <thead>\n",
       "    <tr style=\"text-align: right;\">\n",
       "      <th></th>\n",
       "      <th>Id</th>\n",
       "      <th>ProductId</th>\n",
       "      <th>UserId</th>\n",
       "      <th>ProfileName</th>\n",
       "      <th>HelpfulnessNumerator</th>\n",
       "      <th>HelpfulnessDenominator</th>\n",
       "      <th>Score</th>\n",
       "      <th>Time</th>\n",
       "      <th>Summary</th>\n",
       "      <th>Text</th>\n",
       "      <th>Text_len</th>\n",
       "      <th>ProductIdCount</th>\n",
       "      <th>ProductMostReviewed</th>\n",
       "      <th>UserIdCount</th>\n",
       "      <th>TopReviewer</th>\n",
       "      <th>Downvotes</th>\n",
       "    </tr>\n",
       "  </thead>\n",
       "  <tbody>\n",
       "    <tr>\n",
       "      <td>190733</td>\n",
       "      <td>190734</td>\n",
       "      <td>B000FI4O90</td>\n",
       "      <td>A1GQGYROVZVW49</td>\n",
       "      <td>P. Schmidt</td>\n",
       "      <td>866</td>\n",
       "      <td>878</td>\n",
       "      <td>5</td>\n",
       "      <td>1164672000</td>\n",
       "      <td>Works as Advertised - Classy Product</td>\n",
       "      <td>see update at end of review&lt;br /&gt;&lt;br /&gt;******************&lt;br /&gt;&lt;br /&gt;I was lamenting about only ...</td>\n",
       "      <td>6918</td>\n",
       "      <td>190</td>\n",
       "      <td>1</td>\n",
       "      <td>1</td>\n",
       "      <td>0</td>\n",
       "      <td>12</td>\n",
       "    </tr>\n",
       "  </tbody>\n",
       "</table>\n",
       "</div>"
      ],
      "text/plain": [
       "            Id   ProductId          UserId ProfileName  HelpfulnessNumerator  \\\n",
       "190733  190734  B000FI4O90  A1GQGYROVZVW49  P. Schmidt                   866   \n",
       "\n",
       "        HelpfulnessDenominator  Score        Time  \\\n",
       "190733                     878      5  1164672000   \n",
       "\n",
       "                                     Summary  \\\n",
       "190733  Works as Advertised - Classy Product   \n",
       "\n",
       "                                                                                                       Text  \\\n",
       "190733  see update at end of review<br /><br />******************<br /><br />I was lamenting about only ...   \n",
       "\n",
       "        Text_len  ProductIdCount  ProductMostReviewed  UserIdCount  \\\n",
       "190733      6918             190                    1            1   \n",
       "\n",
       "        TopReviewer  Downvotes  \n",
       "190733            0         12  "
      ]
     },
     "execution_count": 59,
     "metadata": {},
     "output_type": "execute_result"
    }
   ],
   "source": [
    "# View the most \"helpful\" review\n",
    "pd.options.display.max_colwidth = 100\n",
    "data[data.HelpfulnessNumerator == max(data.HelpfulnessNumerator)]"
   ]
  },
  {
   "cell_type": "code",
   "execution_count": 49,
   "metadata": {
    "ExecuteTime": {
     "end_time": "2020-01-10T15:38:36.777542Z",
     "start_time": "2020-01-10T15:38:36.724053Z"
    },
    "colab": {},
    "colab_type": "code",
    "id": "XmA4FpMSNMzM",
    "outputId": "ff80fa8a-9b3d-4d1f-81af-52e401715813",
    "scrolled": true
   },
   "outputs": [
    {
     "data": {
      "text/plain": [
       "190733    see update at end of review<br /><br />******************<br /><br />I was lamenting about only having frech lettuce, herbs, chives, and tomatoes from may garden during the long fall-winter-spring parts of the year. The refrigerated stuff from the grocery store goes bad right away and does not taste as good as the fresh stuff from the garden, either.<br /><br />Then I saw a Time Magazine page on the new AeroGrow AeroGarden, and I just had to try it out. After reading the AeroGrow website before making the purchase, I realized that buying one garden would not work for me, as the tomatoes cannot be grown in the same garden as lettuce & herbs. This is partially due to the large amount of room taken up by the tomatoes, and also because the lamp/watering cycle is different and finally because the nutrients are different.<br /><br />So, I bought two gardens, along with the Salad Greens seed kit and Cherry Tomato seed kit. Each garden comes with a mixed herb kit, so I figured to mix in a few herbs with the other seeds, and if they did not work, no big loss.<br /><br />The products came quickly and the instructions for assembly were very clear and well written with excellent diagrams. I came to realize that this somewhat pricey product at least comes from a company that produces a classy product (a rare thing these days). I found a space on a shelf beside the basement stairs, and placed both assembled gardens there. I also bought and placed a digital thermometer with maximum/minimum temperature memory readouts ($10 at Radio Shack), because I was unsure of what temperature extremes the plants might experience in that location (68-72 as it turns out).<br /><br />The seed kits contain pre-seeded planting pods. Each pod is basically a plastic cup shaped frame with two pieces of foam rubber inside the cup part, like two slices of bread with the seeds sandwiched between them. They simply insert into the seven holes in the top of the garden's water tank. The Salad Greens and Herbs come with seven pods per kit, while the Tomatos come with three pods plus four hole plugs-the plants are bigger so three of them take up thw whole space available. The hole plugs prevent evaporation of the water through the unoccupied holes.<br /><br />The water tank holds exactly one gallon of regular drinking water. Well water is not recommended, presumably because of impurities, and since I am on a well I bought two one-gallon plastic jugs of 'drinking water' at the store for 50 cents each and filled the tanks with their contents. A pump in the tank takes water and pipes it to the rim of each of the seven holes in the tank's top, and here the trickle of water flows into the foam sandwich of each seed pod. The foam stays moist and the rest of the water drips back down into the tank. The garden's 'computer' cycles the water flow on and off according to the amount recommended for the type of plant being grown. A water level sensor turns on a flashing red light when it is time to add more water to the tank.<br /><br />The top of the garden is a reflector with two compact-fluorescent lamps, of the variety that has the special ultraviolet (UV) coating that causes the emmitted light to resemble sunlight. The reflector rides on a vertical pole that extends up from the garden's base, so you can raise and lower the lamps as required to keep them the correct distance above the plants. The garden's 'computer' also turns the lamps on and off according to a schedule tailored to the type of plant. If using the gardens in a place where the light might be a problem at night, you can syncronize the computer so that the lights are on only during the daytime and off when you are trying to sleep.<br /><br />The seed kits come with little clear plastic cups that cover each pod until the seeds have germinated, then you can dispose of them. The kits also come with a bag of nutrient tablets, which you add to the water tank when the computer prompts you to by flashing a red light. The nutrients are tailored to the type of plant being grown, and there are enough of them to feed the plants during their anticipated life span.<br /><br />I planted one garden with five salad green (leaf lettuce) pods, plus one pod each from the Herb kit, chives and parsley. The other garden got the threee pods from the Cherry Tomato kit; two reds and one yellow variety.<br /><br />Each seed pod has a label that tells you how many days to wait for plants to appear after germination. All of my plants appeared like clockwork.<br /><br />I have had the gardens for about six weeks now, and have been enjoying salads containing lettuce, parsley and chives plus other odds and ends from the fridge, for the last two or three weeks. The lettuce and herbs are all beautiful, with no problems from bugs or too much/too little water, excessive temperatures, etc. No need to wash the plants or check for bugs or pick off bad spots, everything goes straight to the salad bowl. What a joy! Even with only five lettuce plants, I have to eat two meals including salad each day to keep up with the growth. This would easily feed two people, and if all seven salad green pods had been used, three people.<br /><br />The tomatoes are all doing well ahnd have been pruned according to instructions. It will be some time yet before they produce flowers, and then fruit. But based on the health of the plants, I expect a good yield.<br /><br />Each seed kit comes with a full color manual/booklet that covers all aspects of 'planting', germinating, feeding, pruning (if required) and then harvesting the plants. There are also photos of plants where things have gone wrong (leaves burned because the lamps were not raised up as the plants grew taller, etc) with clear instructions on how to recognize problems and correct them. Harvesting instructions clearly tell how much can be taken at a time without killing the plant, and so on.<br /><br />The AeroGrow gardens are a well designed, well built product with excellent documentation. All my visitors are amazed at how well the product works, and many have gone out and bought their own. I anticipate years of improved eating because of this product.<br /><br />*****************<br /><br />Update November 2007<br /><br />I used my two gardens all Winter (2006/2007) until it was time to start getting produce from my real (outdoor) garden in the Summer, at which time I put the little gardens to rest for the season. During their use, I got a large crop of cherry tomatoes, all of which were beautiful. I went through on crop of lettuce and salad greens, and when the lettuce finally bolted, I replanted with only lettuce (no chives, etc this time) and got another couple of months worth of lettuce. I have now fired them up again in the Fall, and have nice little plants popping up. Aerogrow has more seed options available now, so I have planted a more interesting kind of lettuce.\n",
       "Name: Text, dtype: object"
      ]
     },
     "execution_count": 49,
     "metadata": {},
     "output_type": "execute_result"
    }
   ],
   "source": [
    "# View the full text of this review \n",
    "pd.options.display.max_colwidth = 7000\n",
    "data[data.HelpfulnessNumerator == max(data.HelpfulnessNumerator)]['Text']"
   ]
  },
  {
   "cell_type": "markdown",
   "metadata": {},
   "source": [
    "Here are my initial observations on this review:\n",
    "- The review received 866 upvotes and 12 downvotes on its helpfulness.\n",
    "- It has a narrative arc starting with a problem, leading to the discovery of the product, and then the process of using the product to solve the problem.\n",
    "- It contains lots of details about the product itself, including how it works, what parts it contains, what supplementary parts the user had to purchase, etc.\n",
    "- The reviewer contributed only this one review to the dataset.\n",
    "- The product itself was in the top 1% most reviewed products.\n",
    "\n",
    "Let's do the same for the review with the most downvotes."
   ]
  },
  {
   "cell_type": "code",
   "execution_count": 60,
   "metadata": {
    "ExecuteTime": {
     "end_time": "2020-01-10T15:52:16.952643Z",
     "start_time": "2020-01-10T15:52:16.867196Z"
    }
   },
   "outputs": [
    {
     "data": {
      "text/html": [
       "<div>\n",
       "<style scoped>\n",
       "    .dataframe tbody tr th:only-of-type {\n",
       "        vertical-align: middle;\n",
       "    }\n",
       "\n",
       "    .dataframe tbody tr th {\n",
       "        vertical-align: top;\n",
       "    }\n",
       "\n",
       "    .dataframe thead th {\n",
       "        text-align: right;\n",
       "    }\n",
       "</style>\n",
       "<table border=\"1\" class=\"dataframe\">\n",
       "  <thead>\n",
       "    <tr style=\"text-align: right;\">\n",
       "      <th></th>\n",
       "      <th>Id</th>\n",
       "      <th>ProductId</th>\n",
       "      <th>UserId</th>\n",
       "      <th>ProfileName</th>\n",
       "      <th>HelpfulnessNumerator</th>\n",
       "      <th>HelpfulnessDenominator</th>\n",
       "      <th>Score</th>\n",
       "      <th>Time</th>\n",
       "      <th>Summary</th>\n",
       "      <th>Text</th>\n",
       "      <th>Text_len</th>\n",
       "      <th>ProductIdCount</th>\n",
       "      <th>ProductMostReviewed</th>\n",
       "      <th>UserIdCount</th>\n",
       "      <th>TopReviewer</th>\n",
       "      <th>Downvotes</th>\n",
       "    </tr>\n",
       "  </thead>\n",
       "  <tbody>\n",
       "    <tr>\n",
       "      <td>470626</td>\n",
       "      <td>470627</td>\n",
       "      <td>B001LUM1ZU</td>\n",
       "      <td>A1H6VW0W3UIK0K</td>\n",
       "      <td>Tyler Durden \"The first rule of amazon.com is...</td>\n",
       "      <td>5</td>\n",
       "      <td>145</td>\n",
       "      <td>1</td>\n",
       "      <td>1243555200</td>\n",
       "      <td>Should be illegal...</td>\n",
       "      <td>As if mayonnaise wasn't unhealthy enough for you they have to add bacon to it now!  And we wonde...</td>\n",
       "      <td>495</td>\n",
       "      <td>76</td>\n",
       "      <td>1</td>\n",
       "      <td>1</td>\n",
       "      <td>0</td>\n",
       "      <td>140</td>\n",
       "    </tr>\n",
       "  </tbody>\n",
       "</table>\n",
       "</div>"
      ],
      "text/plain": [
       "            Id   ProductId          UserId  \\\n",
       "470626  470627  B001LUM1ZU  A1H6VW0W3UIK0K   \n",
       "\n",
       "                                             ProfileName  \\\n",
       "470626  Tyler Durden \"The first rule of amazon.com is...   \n",
       "\n",
       "        HelpfulnessNumerator  HelpfulnessDenominator  Score        Time  \\\n",
       "470626                     5                     145      1  1243555200   \n",
       "\n",
       "                     Summary  \\\n",
       "470626  Should be illegal...   \n",
       "\n",
       "                                                                                                       Text  \\\n",
       "470626  As if mayonnaise wasn't unhealthy enough for you they have to add bacon to it now!  And we wonde...   \n",
       "\n",
       "        Text_len  ProductIdCount  ProductMostReviewed  UserIdCount  \\\n",
       "470626       495              76                    1            1   \n",
       "\n",
       "        TopReviewer  Downvotes  \n",
       "470626            0        140  "
      ]
     },
     "execution_count": 60,
     "metadata": {},
     "output_type": "execute_result"
    }
   ],
   "source": [
    "# View review with most downvotes\n",
    "pd.options.display.max_colwidth = 100\n",
    "data[data.Downvotes == max(data.Downvotes)]"
   ]
  },
  {
   "cell_type": "code",
   "execution_count": 61,
   "metadata": {
    "ExecuteTime": {
     "end_time": "2020-01-10T15:52:58.992232Z",
     "start_time": "2020-01-10T15:52:58.939647Z"
    }
   },
   "outputs": [
    {
     "data": {
      "text/plain": [
       "470626    As if mayonnaise wasn't unhealthy enough for you they have to add bacon to it now!  And we wonder why the heart disease rate is so high in our country.  In fact, more americans DIE every year from Salmonela poisoning than from swine flu, lightning strikes and roadside bombs combined!  Look it up!  I can't wait to be President so we can outlaw mayonnaise and put the criminals who make it behind bars where they belong and in this instance, THE DEATH PENALTY for wasting perfectly good bacon!!!\n",
       "Name: Text, dtype: object"
      ]
     },
     "execution_count": 61,
     "metadata": {},
     "output_type": "execute_result"
    }
   ],
   "source": [
    "# View the full text of this review \n",
    "pd.options.display.max_colwidth = 500\n",
    "data[data.Downvotes == max(data.Downvotes)]['Text']"
   ]
  },
  {
   "cell_type": "markdown",
   "metadata": {},
   "source": [
    "Some observations on this review:\n",
    "- The review received 5 upvotes and 140 downvotes on helpfulness.\n",
    "- The reviewer's profile name contains references to <i>Fight Club</i>, which matches the cynical tone of the review.\n",
    "- It lacks the problem-product-solution arc of the most helpful review; instead, it has a harsh tone throughout and climaxes with a call for capital punishment for the product's makers.\n",
    "- The product is among the top 1% most reviewed products.\n",
    "- The reviewer contributed only this one review to the dataset.\n",
    "\n",
    "Keep in mind that readers don't have to vote on the helpfulness of a review at all; they can simply read it and move on. These two reviews represent extreme cases where readers were motivated to vote up or down on helpfulness instead of just scrolling past. "
   ]
  },
  {
   "cell_type": "markdown",
   "metadata": {},
   "source": [
    "### Meet the top reviewers"
   ]
  },
  {
   "cell_type": "markdown",
   "metadata": {},
   "source": [
    "#### The most prolific reviewer"
   ]
  },
  {
   "cell_type": "code",
   "execution_count": 68,
   "metadata": {
    "ExecuteTime": {
     "end_time": "2020-01-10T18:19:54.711695Z",
     "start_time": "2020-01-10T18:19:54.647098Z"
    },
    "scrolled": true
   },
   "outputs": [
    {
     "data": {
      "text/html": [
       "<div>\n",
       "<style scoped>\n",
       "    .dataframe tbody tr th:only-of-type {\n",
       "        vertical-align: middle;\n",
       "    }\n",
       "\n",
       "    .dataframe tbody tr th {\n",
       "        vertical-align: top;\n",
       "    }\n",
       "\n",
       "    .dataframe thead th {\n",
       "        text-align: right;\n",
       "    }\n",
       "</style>\n",
       "<table border=\"1\" class=\"dataframe\">\n",
       "  <thead>\n",
       "    <tr style=\"text-align: right;\">\n",
       "      <th></th>\n",
       "      <th>Id</th>\n",
       "      <th>ProductId</th>\n",
       "      <th>UserId</th>\n",
       "      <th>ProfileName</th>\n",
       "      <th>HelpfulnessNumerator</th>\n",
       "      <th>HelpfulnessDenominator</th>\n",
       "      <th>Score</th>\n",
       "      <th>Time</th>\n",
       "      <th>Summary</th>\n",
       "      <th>Text</th>\n",
       "      <th>Text_len</th>\n",
       "      <th>ProductIdCount</th>\n",
       "      <th>ProductMostReviewed</th>\n",
       "      <th>UserIdCount</th>\n",
       "      <th>TopReviewer</th>\n",
       "      <th>Downvotes</th>\n",
       "    </tr>\n",
       "  </thead>\n",
       "  <tbody>\n",
       "    <tr>\n",
       "      <td>109</td>\n",
       "      <td>110</td>\n",
       "      <td>B001REEG6C</td>\n",
       "      <td>AY12DBB0U420B</td>\n",
       "      <td>Gary Peterson</td>\n",
       "      <td>0</td>\n",
       "      <td>0</td>\n",
       "      <td>5</td>\n",
       "      <td>1316390400</td>\n",
       "      <td>My Idea of a Good Diet Food.</td>\n",
       "      <td>I'm presently on a diet and I was at my Fresh and Easy Neighborhood Grocery looking over possibl...</td>\n",
       "      <td>741</td>\n",
       "      <td>3</td>\n",
       "      <td>0</td>\n",
       "      <td>329</td>\n",
       "      <td>1</td>\n",
       "      <td>0</td>\n",
       "    </tr>\n",
       "    <tr>\n",
       "      <td>2196</td>\n",
       "      <td>2197</td>\n",
       "      <td>B008YAXFWI</td>\n",
       "      <td>AY12DBB0U420B</td>\n",
       "      <td>Gary Peterson</td>\n",
       "      <td>0</td>\n",
       "      <td>0</td>\n",
       "      <td>4</td>\n",
       "      <td>1346630400</td>\n",
       "      <td>Mild Taste, But Delicious.</td>\n",
       "      <td>A nearby Fresh and Easy Neighborhood Market stocks a number of gourmet imported products and I e...</td>\n",
       "      <td>461</td>\n",
       "      <td>1</td>\n",
       "      <td>0</td>\n",
       "      <td>329</td>\n",
       "      <td>1</td>\n",
       "      <td>0</td>\n",
       "    </tr>\n",
       "    <tr>\n",
       "      <td>3016</td>\n",
       "      <td>3017</td>\n",
       "      <td>B0025UALB6</td>\n",
       "      <td>AY12DBB0U420B</td>\n",
       "      <td>Gary Peterson</td>\n",
       "      <td>0</td>\n",
       "      <td>0</td>\n",
       "      <td>4</td>\n",
       "      <td>1316736000</td>\n",
       "      <td>Good Nutrition and Right Size.</td>\n",
       "      <td>When I'm working, I always carry my own lunch. It's so much better than the food court, and I ha...</td>\n",
       "      <td>1026</td>\n",
       "      <td>5</td>\n",
       "      <td>0</td>\n",
       "      <td>329</td>\n",
       "      <td>1</td>\n",
       "      <td>0</td>\n",
       "    </tr>\n",
       "    <tr>\n",
       "      <td>3528</td>\n",
       "      <td>3529</td>\n",
       "      <td>B005TY2REE</td>\n",
       "      <td>AY12DBB0U420B</td>\n",
       "      <td>Gary Peterson</td>\n",
       "      <td>0</td>\n",
       "      <td>0</td>\n",
       "      <td>4</td>\n",
       "      <td>1333756800</td>\n",
       "      <td>No cholesterol. No Sodium. Not Very Sweet. Good Taste.</td>\n",
       "      <td>In my trip through the health area of my local food market I stumbled upon Enjoy Life Boom Choco...</td>\n",
       "      <td>540</td>\n",
       "      <td>1</td>\n",
       "      <td>0</td>\n",
       "      <td>329</td>\n",
       "      <td>1</td>\n",
       "      <td>0</td>\n",
       "    </tr>\n",
       "    <tr>\n",
       "      <td>3826</td>\n",
       "      <td>3827</td>\n",
       "      <td>B000X2CWTM</td>\n",
       "      <td>AY12DBB0U420B</td>\n",
       "      <td>Gary Peterson</td>\n",
       "      <td>1</td>\n",
       "      <td>1</td>\n",
       "      <td>5</td>\n",
       "      <td>1263340800</td>\n",
       "      <td>Mmmmmmmm!</td>\n",
       "      <td>I've always liked licorice candy and the best licorice I've ever had was obtained at Ikea. It wa...</td>\n",
       "      <td>552</td>\n",
       "      <td>37</td>\n",
       "      <td>0</td>\n",
       "      <td>329</td>\n",
       "      <td>1</td>\n",
       "      <td>0</td>\n",
       "    </tr>\n",
       "  </tbody>\n",
       "</table>\n",
       "</div>"
      ],
      "text/plain": [
       "        Id   ProductId         UserId    ProfileName  HelpfulnessNumerator  \\\n",
       "109    110  B001REEG6C  AY12DBB0U420B  Gary Peterson                     0   \n",
       "2196  2197  B008YAXFWI  AY12DBB0U420B  Gary Peterson                     0   \n",
       "3016  3017  B0025UALB6  AY12DBB0U420B  Gary Peterson                     0   \n",
       "3528  3529  B005TY2REE  AY12DBB0U420B  Gary Peterson                     0   \n",
       "3826  3827  B000X2CWTM  AY12DBB0U420B  Gary Peterson                     1   \n",
       "\n",
       "      HelpfulnessDenominator  Score        Time  \\\n",
       "109                        0      5  1316390400   \n",
       "2196                       0      4  1346630400   \n",
       "3016                       0      4  1316736000   \n",
       "3528                       0      4  1333756800   \n",
       "3826                       1      5  1263340800   \n",
       "\n",
       "                                                     Summary  \\\n",
       "109                             My Idea of a Good Diet Food.   \n",
       "2196                              Mild Taste, But Delicious.   \n",
       "3016                          Good Nutrition and Right Size.   \n",
       "3528  No cholesterol. No Sodium. Not Very Sweet. Good Taste.   \n",
       "3826                                               Mmmmmmmm!   \n",
       "\n",
       "                                                                                                     Text  \\\n",
       "109   I'm presently on a diet and I was at my Fresh and Easy Neighborhood Grocery looking over possibl...   \n",
       "2196  A nearby Fresh and Easy Neighborhood Market stocks a number of gourmet imported products and I e...   \n",
       "3016  When I'm working, I always carry my own lunch. It's so much better than the food court, and I ha...   \n",
       "3528  In my trip through the health area of my local food market I stumbled upon Enjoy Life Boom Choco...   \n",
       "3826  I've always liked licorice candy and the best licorice I've ever had was obtained at Ikea. It wa...   \n",
       "\n",
       "      Text_len  ProductIdCount  ProductMostReviewed  UserIdCount  TopReviewer  \\\n",
       "109        741               3                    0          329            1   \n",
       "2196       461               1                    0          329            1   \n",
       "3016      1026               5                    0          329            1   \n",
       "3528       540               1                    0          329            1   \n",
       "3826       552              37                    0          329            1   \n",
       "\n",
       "      Downvotes  \n",
       "109           0  \n",
       "2196          0  \n",
       "3016          0  \n",
       "3528          0  \n",
       "3826          0  "
      ]
     },
     "execution_count": 68,
     "metadata": {},
     "output_type": "execute_result"
    }
   ],
   "source": [
    "# Identify the reviewer who wrote the most reviews\n",
    "pd.options.display.max_colwidth = 100\n",
    "gary = data[data.UserIdCount == max(data.UserIdCount)]\n",
    "gary.head()"
   ]
  },
  {
   "cell_type": "code",
   "execution_count": 73,
   "metadata": {
    "ExecuteTime": {
     "end_time": "2020-01-10T18:22:04.892956Z",
     "start_time": "2020-01-10T18:22:04.821394Z"
    }
   },
   "outputs": [
    {
     "data": {
      "text/html": [
       "<div>\n",
       "<style scoped>\n",
       "    .dataframe tbody tr th:only-of-type {\n",
       "        vertical-align: middle;\n",
       "    }\n",
       "\n",
       "    .dataframe tbody tr th {\n",
       "        vertical-align: top;\n",
       "    }\n",
       "\n",
       "    .dataframe thead th {\n",
       "        text-align: right;\n",
       "    }\n",
       "</style>\n",
       "<table border=\"1\" class=\"dataframe\">\n",
       "  <thead>\n",
       "    <tr style=\"text-align: right;\">\n",
       "      <th></th>\n",
       "      <th>Id</th>\n",
       "      <th>HelpfulnessNumerator</th>\n",
       "      <th>HelpfulnessDenominator</th>\n",
       "      <th>Score</th>\n",
       "      <th>Time</th>\n",
       "      <th>Text_len</th>\n",
       "      <th>ProductIdCount</th>\n",
       "      <th>ProductMostReviewed</th>\n",
       "      <th>UserIdCount</th>\n",
       "      <th>TopReviewer</th>\n",
       "      <th>Downvotes</th>\n",
       "    </tr>\n",
       "  </thead>\n",
       "  <tbody>\n",
       "    <tr>\n",
       "      <td>count</td>\n",
       "      <td>329.000000</td>\n",
       "      <td>329.000000</td>\n",
       "      <td>329.000000</td>\n",
       "      <td>329.000000</td>\n",
       "      <td>3.290000e+02</td>\n",
       "      <td>329.000000</td>\n",
       "      <td>329.000000</td>\n",
       "      <td>329.000000</td>\n",
       "      <td>329.0</td>\n",
       "      <td>329.0</td>\n",
       "      <td>329.000000</td>\n",
       "    </tr>\n",
       "    <tr>\n",
       "      <td>mean</td>\n",
       "      <td>270291.358663</td>\n",
       "      <td>1.124620</td>\n",
       "      <td>1.234043</td>\n",
       "      <td>4.659574</td>\n",
       "      <td>1.321395e+09</td>\n",
       "      <td>820.571429</td>\n",
       "      <td>16.410334</td>\n",
       "      <td>0.039514</td>\n",
       "      <td>329.0</td>\n",
       "      <td>1.0</td>\n",
       "      <td>0.109422</td>\n",
       "    </tr>\n",
       "    <tr>\n",
       "      <td>std</td>\n",
       "      <td>170106.232415</td>\n",
       "      <td>2.728514</td>\n",
       "      <td>2.968831</td>\n",
       "      <td>0.657676</td>\n",
       "      <td>3.073342e+07</td>\n",
       "      <td>298.758848</td>\n",
       "      <td>50.576783</td>\n",
       "      <td>0.195110</td>\n",
       "      <td>0.0</td>\n",
       "      <td>0.0</td>\n",
       "      <td>0.390672</td>\n",
       "    </tr>\n",
       "    <tr>\n",
       "      <td>min</td>\n",
       "      <td>110.000000</td>\n",
       "      <td>0.000000</td>\n",
       "      <td>0.000000</td>\n",
       "      <td>2.000000</td>\n",
       "      <td>1.226880e+09</td>\n",
       "      <td>385.000000</td>\n",
       "      <td>1.000000</td>\n",
       "      <td>0.000000</td>\n",
       "      <td>329.0</td>\n",
       "      <td>1.0</td>\n",
       "      <td>0.000000</td>\n",
       "    </tr>\n",
       "    <tr>\n",
       "      <td>25%</td>\n",
       "      <td>99740.000000</td>\n",
       "      <td>0.000000</td>\n",
       "      <td>0.000000</td>\n",
       "      <td>4.000000</td>\n",
       "      <td>1.316822e+09</td>\n",
       "      <td>618.000000</td>\n",
       "      <td>1.000000</td>\n",
       "      <td>0.000000</td>\n",
       "      <td>329.0</td>\n",
       "      <td>1.0</td>\n",
       "      <td>0.000000</td>\n",
       "    </tr>\n",
       "    <tr>\n",
       "      <td>50%</td>\n",
       "      <td>271766.000000</td>\n",
       "      <td>0.000000</td>\n",
       "      <td>0.000000</td>\n",
       "      <td>5.000000</td>\n",
       "      <td>1.333757e+09</td>\n",
       "      <td>746.000000</td>\n",
       "      <td>3.000000</td>\n",
       "      <td>0.000000</td>\n",
       "      <td>329.0</td>\n",
       "      <td>1.0</td>\n",
       "      <td>0.000000</td>\n",
       "    </tr>\n",
       "    <tr>\n",
       "      <td>75%</td>\n",
       "      <td>409657.000000</td>\n",
       "      <td>1.000000</td>\n",
       "      <td>1.000000</td>\n",
       "      <td>5.000000</td>\n",
       "      <td>1.341187e+09</td>\n",
       "      <td>939.000000</td>\n",
       "      <td>13.000000</td>\n",
       "      <td>0.000000</td>\n",
       "      <td>329.0</td>\n",
       "      <td>1.0</td>\n",
       "      <td>0.000000</td>\n",
       "    </tr>\n",
       "    <tr>\n",
       "      <td>max</td>\n",
       "      <td>566680.000000</td>\n",
       "      <td>20.000000</td>\n",
       "      <td>22.000000</td>\n",
       "      <td>5.000000</td>\n",
       "      <td>1.350950e+09</td>\n",
       "      <td>2516.000000</td>\n",
       "      <td>456.000000</td>\n",
       "      <td>1.000000</td>\n",
       "      <td>329.0</td>\n",
       "      <td>1.0</td>\n",
       "      <td>2.000000</td>\n",
       "    </tr>\n",
       "  </tbody>\n",
       "</table>\n",
       "</div>"
      ],
      "text/plain": [
       "                  Id  HelpfulnessNumerator  HelpfulnessDenominator  \\\n",
       "count     329.000000            329.000000              329.000000   \n",
       "mean   270291.358663              1.124620                1.234043   \n",
       "std    170106.232415              2.728514                2.968831   \n",
       "min       110.000000              0.000000                0.000000   \n",
       "25%     99740.000000              0.000000                0.000000   \n",
       "50%    271766.000000              0.000000                0.000000   \n",
       "75%    409657.000000              1.000000                1.000000   \n",
       "max    566680.000000             20.000000               22.000000   \n",
       "\n",
       "            Score          Time     Text_len  ProductIdCount  \\\n",
       "count  329.000000  3.290000e+02   329.000000      329.000000   \n",
       "mean     4.659574  1.321395e+09   820.571429       16.410334   \n",
       "std      0.657676  3.073342e+07   298.758848       50.576783   \n",
       "min      2.000000  1.226880e+09   385.000000        1.000000   \n",
       "25%      4.000000  1.316822e+09   618.000000        1.000000   \n",
       "50%      5.000000  1.333757e+09   746.000000        3.000000   \n",
       "75%      5.000000  1.341187e+09   939.000000       13.000000   \n",
       "max      5.000000  1.350950e+09  2516.000000      456.000000   \n",
       "\n",
       "       ProductMostReviewed  UserIdCount  TopReviewer   Downvotes  \n",
       "count           329.000000        329.0        329.0  329.000000  \n",
       "mean              0.039514        329.0          1.0    0.109422  \n",
       "std               0.195110          0.0          0.0    0.390672  \n",
       "min               0.000000        329.0          1.0    0.000000  \n",
       "25%               0.000000        329.0          1.0    0.000000  \n",
       "50%               0.000000        329.0          1.0    0.000000  \n",
       "75%               0.000000        329.0          1.0    0.000000  \n",
       "max               1.000000        329.0          1.0    2.000000  "
      ]
     },
     "execution_count": 73,
     "metadata": {},
     "output_type": "execute_result"
    }
   ],
   "source": [
    "# View summary stats\n",
    "gary.describe()"
   ]
  },
  {
   "cell_type": "code",
   "execution_count": 72,
   "metadata": {
    "ExecuteTime": {
     "end_time": "2020-01-10T18:21:30.757189Z",
     "start_time": "2020-01-10T18:21:30.748202Z"
    }
   },
   "outputs": [
    {
     "name": "stdout",
     "output_type": "stream",
     "text": [
      "I'm presently on a diet and I was at my Fresh and Easy Neighborhood Grocery looking over possible diet foods. I wanted things that were tasty, non-fat and low in calories. I came home with about a dozen items. That's how I discovered the Tillen Farms Pickled Crispy Asparagus. Well, I've always liked asparagus anyway and I've enjoyed several brands of pickled asparagus. This Tillen Farms brand is really, really good! It's the best I can recall. There's an excellent flavor and a big clove of garlic down in  the bottom of the jar which I'm looking forward to eating. I can't believe how good this asparagus tastes and right on the front it says \"only 60 calories per jar!\" Now this is my idea of a good diet food!<br /><br />Gary Peterson\n",
      "\n",
      "\n",
      "A nearby Fresh and Easy Neighborhood Market stocks a number of gourmet imported products and I enjoy trying them. One is a variety of Baxters soups from Canada. Today, I had the Butternut Squash and Red Pepper Soup. Quite good. Smooth and mellow. Mild taste, but delicious. Goes down real easy and it only comes to 90 calories per serving (2 servings per can). Alas, the sodium content is a bit higher than I like. Otherwise, very good.<br /><br />Gary Peterson\n",
      "\n",
      "\n",
      "When I'm working, I always carry my own lunch. It's so much better than the food court, and I have much better regulation of my nutrient intake. Finding items having high protein without high fat is the most difficult task. Tuna is excellent and these little Chicken of the Sea White Tuna Cups fill the bill. Put one in the lunch with a few fresh fruit and veggie items and perhaps a few dried fruits and nuts. It's good nutrition, and there's no worry about weight gain. Also, when I'm camping, I like to take a batch of these tuna cups along. In both cases, the cup size just the right for one serving.<br /><br />I had a minor problem with the latest tuna cups, and it might be just a batch problem. My latest tuna was very dry. I almost had to choke it down. And it seemed rather tasteless. I've had these cups in the past and they seemed much better. I have not been satisfied with the present ones. However, I like the product and the serving size and It will not deter me from future purchases.<br /><br />Gary Peterson\n",
      "\n",
      "\n",
      "In my trip through the health area of my local food market I stumbled upon Enjoy Life Boom Choco Boom Dark Chocolate Bar. I just can't resist trying things such as this. Into the cart it went. It's rather good. It says it's dairy, nut and soy free, and I'll take their word. The question is taste. Well, it's a good tasting bar. I have a couple others that I would regard higher. but this one is quite good. It's a bit high in calories (170 per bar) but has no cholesterol or sodium. Not bad. I'll pick it up again.<br /><br />Gary Peterson\n",
      "\n",
      "\n",
      "I've always liked licorice candy and the best licorice I've ever had was obtained at Ikea. It was from Sweden. Yum! In any case, I've mentioned this around and then a box of Panda Soft Licorice appeared in my Christmas stocking.<br /><br />The Panda licorice is good. Real good. Excellent flavor. Nice and chewy. Good aftertaste. I'd rank it with the best I've had. It's imported from Finland and is made from all natural ingredients. In my opinion, it doesn't quite make it up to the licorice I obtain at Ikea, but it's close.<br /><br />Gary Peterson\n",
      "\n",
      "\n"
     ]
    }
   ],
   "source": [
    "# View just the review texts\n",
    "pd.options.display.max_colwidth = 1000\n",
    "for n in gary.index[:5]:\n",
    "    print(gary.loc[n, 'Text'])\n",
    "    print('\\n')"
   ]
  },
  {
   "cell_type": "markdown",
   "metadata": {},
   "source": [
    "The most prolific reviewer in the dataset is \"Gary Peterson,\" who contributed 329 reviews. As the sample above shows, his reviews are generally positive, very focused on health/nutritional concerns, and structured with a narrative arc from problem to product to solution. \n",
    "\n",
    "I'm surprised to see that \"Gary Peterson\" frequently describes purchasing the reviewed product at a local store, not on Amazon. There could be many other reviewers who left reviews on Amazon for products purchased elsewhere, but I don't have a convenient way to distinguish them in the dataset.\n",
    "\n",
    "Now I'll do another calculated column to identify the reviewer who received the most helpful votes overall (i.e., the sum of the `HelpfulnessNumerator` field after grouping by `UserId`."
   ]
  },
  {
   "cell_type": "markdown",
   "metadata": {},
   "source": [
    "#### The most \"helpful\" reviewer"
   ]
  },
  {
   "cell_type": "code",
   "execution_count": 74,
   "metadata": {
    "ExecuteTime": {
     "end_time": "2020-01-10T18:28:21.620992Z",
     "start_time": "2020-01-10T18:28:16.999994Z"
    }
   },
   "outputs": [],
   "source": [
    "# Calculate each reviewer's total number of \"helpful\" votes\n",
    "user_help_votes = data.groupby('UserId')['HelpfulnessNumerator'].sum()\n",
    "data['UserHelpVotes'] = [user_help_votes[index] for index in data['UserId']]"
   ]
  },
  {
   "cell_type": "code",
   "execution_count": 76,
   "metadata": {
    "ExecuteTime": {
     "end_time": "2020-01-10T18:28:38.546392Z",
     "start_time": "2020-01-10T18:28:38.483342Z"
    }
   },
   "outputs": [
    {
     "data": {
      "text/html": [
       "<div>\n",
       "<style scoped>\n",
       "    .dataframe tbody tr th:only-of-type {\n",
       "        vertical-align: middle;\n",
       "    }\n",
       "\n",
       "    .dataframe tbody tr th {\n",
       "        vertical-align: top;\n",
       "    }\n",
       "\n",
       "    .dataframe thead th {\n",
       "        text-align: right;\n",
       "    }\n",
       "</style>\n",
       "<table border=\"1\" class=\"dataframe\">\n",
       "  <thead>\n",
       "    <tr style=\"text-align: right;\">\n",
       "      <th></th>\n",
       "      <th>Id</th>\n",
       "      <th>ProductId</th>\n",
       "      <th>UserId</th>\n",
       "      <th>ProfileName</th>\n",
       "      <th>HelpfulnessNumerator</th>\n",
       "      <th>HelpfulnessDenominator</th>\n",
       "      <th>Score</th>\n",
       "      <th>Time</th>\n",
       "      <th>Summary</th>\n",
       "      <th>Text</th>\n",
       "      <th>Text_len</th>\n",
       "      <th>ProductIdCount</th>\n",
       "      <th>ProductMostReviewed</th>\n",
       "      <th>UserIdCount</th>\n",
       "      <th>TopReviewer</th>\n",
       "      <th>Downvotes</th>\n",
       "      <th>UserHelpVotes</th>\n",
       "    </tr>\n",
       "  </thead>\n",
       "  <tbody>\n",
       "    <tr>\n",
       "      <td>190733</td>\n",
       "      <td>190734</td>\n",
       "      <td>B000FI4O90</td>\n",
       "      <td>A1GQGYROVZVW49</td>\n",
       "      <td>P. Schmidt</td>\n",
       "      <td>866</td>\n",
       "      <td>878</td>\n",
       "      <td>5</td>\n",
       "      <td>1164672000</td>\n",
       "      <td>Works as Advertised - Classy Product</td>\n",
       "      <td>see update at end of review&lt;br /&gt;&lt;br /&gt;******************&lt;br /&gt;&lt;br /&gt;I was lamenting about only ...</td>\n",
       "      <td>6918</td>\n",
       "      <td>190</td>\n",
       "      <td>1</td>\n",
       "      <td>1</td>\n",
       "      <td>0</td>\n",
       "      <td>12</td>\n",
       "      <td>866</td>\n",
       "    </tr>\n",
       "  </tbody>\n",
       "</table>\n",
       "</div>"
      ],
      "text/plain": [
       "            Id   ProductId          UserId ProfileName  HelpfulnessNumerator  \\\n",
       "190733  190734  B000FI4O90  A1GQGYROVZVW49  P. Schmidt                   866   \n",
       "\n",
       "        HelpfulnessDenominator  Score        Time  \\\n",
       "190733                     878      5  1164672000   \n",
       "\n",
       "                                     Summary  \\\n",
       "190733  Works as Advertised - Classy Product   \n",
       "\n",
       "                                                                                                       Text  \\\n",
       "190733  see update at end of review<br /><br />******************<br /><br />I was lamenting about only ...   \n",
       "\n",
       "        Text_len  ProductIdCount  ProductMostReviewed  UserIdCount  \\\n",
       "190733      6918             190                    1            1   \n",
       "\n",
       "        TopReviewer  Downvotes  UserHelpVotes  \n",
       "190733            0         12            866  "
      ]
     },
     "execution_count": 76,
     "metadata": {},
     "output_type": "execute_result"
    }
   ],
   "source": [
    "# Identify the reviewer who received the most \"helpful\" votes\n",
    "pd.options.display.max_colwidth = 100\n",
    "data[data.UserHelpVotes == max(data.UserHelpVotes)]"
   ]
  },
  {
   "cell_type": "markdown",
   "metadata": {},
   "source": [
    "The most \"helpful\" reviewer is \"P. Schmidt,\" author of the top-rated review of the Aerogarden above. Although it was his only review in the dataset, it scored him more \"helpful\" votes than any of the other reviewers scored across their reviews combined."
   ]
  },
  {
   "cell_type": "markdown",
   "metadata": {},
   "source": [
    "#### The most frequently reviewed product"
   ]
  },
  {
   "cell_type": "markdown",
   "metadata": {},
   "source": [
    "Finally, let's examine the most frequently reviewed product to see what we can learn from its reviews."
   ]
  },
  {
   "cell_type": "code",
   "execution_count": 86,
   "metadata": {
    "ExecuteTime": {
     "end_time": "2020-01-10T18:34:54.296688Z",
     "start_time": "2020-01-10T18:34:54.216794Z"
    },
    "scrolled": true
   },
   "outputs": [
    {
     "data": {
      "text/html": [
       "<div>\n",
       "<style scoped>\n",
       "    .dataframe tbody tr th:only-of-type {\n",
       "        vertical-align: middle;\n",
       "    }\n",
       "\n",
       "    .dataframe tbody tr th {\n",
       "        vertical-align: top;\n",
       "    }\n",
       "\n",
       "    .dataframe thead th {\n",
       "        text-align: right;\n",
       "    }\n",
       "</style>\n",
       "<table border=\"1\" class=\"dataframe\">\n",
       "  <thead>\n",
       "    <tr style=\"text-align: right;\">\n",
       "      <th></th>\n",
       "      <th>Id</th>\n",
       "      <th>ProductId</th>\n",
       "      <th>UserId</th>\n",
       "      <th>ProfileName</th>\n",
       "      <th>HelpfulnessNumerator</th>\n",
       "      <th>HelpfulnessDenominator</th>\n",
       "      <th>Score</th>\n",
       "      <th>Time</th>\n",
       "      <th>Summary</th>\n",
       "      <th>Text</th>\n",
       "      <th>Text_len</th>\n",
       "      <th>ProductIdCount</th>\n",
       "      <th>ProductMostReviewed</th>\n",
       "      <th>UserIdCount</th>\n",
       "      <th>TopReviewer</th>\n",
       "      <th>Downvotes</th>\n",
       "      <th>UserHelpVotes</th>\n",
       "    </tr>\n",
       "  </thead>\n",
       "  <tbody>\n",
       "    <tr>\n",
       "      <td>562970</td>\n",
       "      <td>562971</td>\n",
       "      <td>B007JFMH8M</td>\n",
       "      <td>A368Z46FIKHSEZ</td>\n",
       "      <td>jaimoi \"Appreciator of good music\"</td>\n",
       "      <td>0</td>\n",
       "      <td>0</td>\n",
       "      <td>5</td>\n",
       "      <td>1343433600</td>\n",
       "      <td>Delicious!</td>\n",
       "      <td>I love these cookies!  Not only are they healthy but they taste great and are so soft!  I will d...</td>\n",
       "      <td>135</td>\n",
       "      <td>909</td>\n",
       "      <td>1</td>\n",
       "      <td>1</td>\n",
       "      <td>0</td>\n",
       "      <td>0</td>\n",
       "      <td>0</td>\n",
       "    </tr>\n",
       "    <tr>\n",
       "      <td>562971</td>\n",
       "      <td>562972</td>\n",
       "      <td>B007JFMH8M</td>\n",
       "      <td>A1JAPP1CXRG57A</td>\n",
       "      <td>Linda Painchaud-Steinman \"PARK EDGE BOOKS\"</td>\n",
       "      <td>0</td>\n",
       "      <td>0</td>\n",
       "      <td>5</td>\n",
       "      <td>1343433600</td>\n",
       "      <td>Great Anytime of Day!</td>\n",
       "      <td>Quaker Soft Baked Oatmeal Cookies with raisins are a delicious treat, great for anytime of day. ...</td>\n",
       "      <td>1316</td>\n",
       "      <td>909</td>\n",
       "      <td>1</td>\n",
       "      <td>24</td>\n",
       "      <td>1</td>\n",
       "      <td>0</td>\n",
       "      <td>20</td>\n",
       "    </tr>\n",
       "    <tr>\n",
       "      <td>562972</td>\n",
       "      <td>562973</td>\n",
       "      <td>B007JFMH8M</td>\n",
       "      <td>A2Z9JNXPIEL2B9</td>\n",
       "      <td>carwash169</td>\n",
       "      <td>0</td>\n",
       "      <td>0</td>\n",
       "      <td>5</td>\n",
       "      <td>1343433600</td>\n",
       "      <td>Very good!</td>\n",
       "      <td>I am usually not a huge fan of oatmeal cookies, but these literally melt in your mouth. They are...</td>\n",
       "      <td>261</td>\n",
       "      <td>909</td>\n",
       "      <td>1</td>\n",
       "      <td>1</td>\n",
       "      <td>0</td>\n",
       "      <td>0</td>\n",
       "      <td>0</td>\n",
       "    </tr>\n",
       "    <tr>\n",
       "      <td>562973</td>\n",
       "      <td>562974</td>\n",
       "      <td>B007JFMH8M</td>\n",
       "      <td>A31CYJQO3FL586</td>\n",
       "      <td>P. Titus \"Knitgirlll\"</td>\n",
       "      <td>0</td>\n",
       "      <td>0</td>\n",
       "      <td>5</td>\n",
       "      <td>1343433600</td>\n",
       "      <td>Quaker Oats Oatmeal Raisin Mom Voxbox Review Courtesy of Influenster</td>\n",
       "      <td>I participated in a product review that included a sample of &lt;a href=\"http://www.amazon.com/gp/p...</td>\n",
       "      <td>530</td>\n",
       "      <td>909</td>\n",
       "      <td>1</td>\n",
       "      <td>1</td>\n",
       "      <td>0</td>\n",
       "      <td>0</td>\n",
       "      <td>0</td>\n",
       "    </tr>\n",
       "    <tr>\n",
       "      <td>562974</td>\n",
       "      <td>562975</td>\n",
       "      <td>B007JFMH8M</td>\n",
       "      <td>A2KXQ2EKFF3K2G</td>\n",
       "      <td>Jessica</td>\n",
       "      <td>0</td>\n",
       "      <td>0</td>\n",
       "      <td>5</td>\n",
       "      <td>1343433600</td>\n",
       "      <td>Quick, simple HEALTHY snack for the kiddos!!!</td>\n",
       "      <td>My kids loved these. I was very pleased to give my kids a quick on the go healthy snack before s...</td>\n",
       "      <td>169</td>\n",
       "      <td>909</td>\n",
       "      <td>1</td>\n",
       "      <td>1</td>\n",
       "      <td>0</td>\n",
       "      <td>0</td>\n",
       "      <td>0</td>\n",
       "    </tr>\n",
       "  </tbody>\n",
       "</table>\n",
       "</div>"
      ],
      "text/plain": [
       "            Id   ProductId          UserId  \\\n",
       "562970  562971  B007JFMH8M  A368Z46FIKHSEZ   \n",
       "562971  562972  B007JFMH8M  A1JAPP1CXRG57A   \n",
       "562972  562973  B007JFMH8M  A2Z9JNXPIEL2B9   \n",
       "562973  562974  B007JFMH8M  A31CYJQO3FL586   \n",
       "562974  562975  B007JFMH8M  A2KXQ2EKFF3K2G   \n",
       "\n",
       "                                       ProfileName  HelpfulnessNumerator  \\\n",
       "562970          jaimoi \"Appreciator of good music\"                     0   \n",
       "562971  Linda Painchaud-Steinman \"PARK EDGE BOOKS\"                     0   \n",
       "562972                                  carwash169                     0   \n",
       "562973                       P. Titus \"Knitgirlll\"                     0   \n",
       "562974                                     Jessica                     0   \n",
       "\n",
       "        HelpfulnessDenominator  Score        Time  \\\n",
       "562970                       0      5  1343433600   \n",
       "562971                       0      5  1343433600   \n",
       "562972                       0      5  1343433600   \n",
       "562973                       0      5  1343433600   \n",
       "562974                       0      5  1343433600   \n",
       "\n",
       "                                                                     Summary  \\\n",
       "562970                                                            Delicious!   \n",
       "562971                                                 Great Anytime of Day!   \n",
       "562972                                                            Very good!   \n",
       "562973  Quaker Oats Oatmeal Raisin Mom Voxbox Review Courtesy of Influenster   \n",
       "562974                         Quick, simple HEALTHY snack for the kiddos!!!   \n",
       "\n",
       "                                                                                                       Text  \\\n",
       "562970  I love these cookies!  Not only are they healthy but they taste great and are so soft!  I will d...   \n",
       "562971  Quaker Soft Baked Oatmeal Cookies with raisins are a delicious treat, great for anytime of day. ...   \n",
       "562972  I am usually not a huge fan of oatmeal cookies, but these literally melt in your mouth. They are...   \n",
       "562973  I participated in a product review that included a sample of <a href=\"http://www.amazon.com/gp/p...   \n",
       "562974  My kids loved these. I was very pleased to give my kids a quick on the go healthy snack before s...   \n",
       "\n",
       "        Text_len  ProductIdCount  ProductMostReviewed  UserIdCount  \\\n",
       "562970       135             909                    1            1   \n",
       "562971      1316             909                    1           24   \n",
       "562972       261             909                    1            1   \n",
       "562973       530             909                    1            1   \n",
       "562974       169             909                    1            1   \n",
       "\n",
       "        TopReviewer  Downvotes  UserHelpVotes  \n",
       "562970            0          0              0  \n",
       "562971            1          0             20  \n",
       "562972            0          0              0  \n",
       "562973            0          0              0  \n",
       "562974            0          0              0  "
      ]
     },
     "execution_count": 86,
     "metadata": {},
     "output_type": "execute_result"
    }
   ],
   "source": [
    "# View the reviews of the most-reviewed product\n",
    "cookies = data[data.ProductIdCount == max(data.ProductIdCount)]\n",
    "cookies.head()"
   ]
  },
  {
   "cell_type": "markdown",
   "metadata": {},
   "source": [
    "The Quaker Soft-Baked Oatmeal Cookie is the most-reviewed product, with over 900 reviews in the dataset. Let's check the summary stats:"
   ]
  },
  {
   "cell_type": "code",
   "execution_count": 87,
   "metadata": {
    "ExecuteTime": {
     "end_time": "2020-01-10T18:34:56.926710Z",
     "start_time": "2020-01-10T18:34:56.857750Z"
    }
   },
   "outputs": [
    {
     "data": {
      "text/html": [
       "<div>\n",
       "<style scoped>\n",
       "    .dataframe tbody tr th:only-of-type {\n",
       "        vertical-align: middle;\n",
       "    }\n",
       "\n",
       "    .dataframe tbody tr th {\n",
       "        vertical-align: top;\n",
       "    }\n",
       "\n",
       "    .dataframe thead th {\n",
       "        text-align: right;\n",
       "    }\n",
       "</style>\n",
       "<table border=\"1\" class=\"dataframe\">\n",
       "  <thead>\n",
       "    <tr style=\"text-align: right;\">\n",
       "      <th></th>\n",
       "      <th>Id</th>\n",
       "      <th>HelpfulnessNumerator</th>\n",
       "      <th>HelpfulnessDenominator</th>\n",
       "      <th>Score</th>\n",
       "      <th>Time</th>\n",
       "      <th>Text_len</th>\n",
       "      <th>ProductIdCount</th>\n",
       "      <th>ProductMostReviewed</th>\n",
       "      <th>UserIdCount</th>\n",
       "      <th>TopReviewer</th>\n",
       "      <th>Downvotes</th>\n",
       "      <th>UserHelpVotes</th>\n",
       "    </tr>\n",
       "  </thead>\n",
       "  <tbody>\n",
       "    <tr>\n",
       "      <td>count</td>\n",
       "      <td>909.000000</td>\n",
       "      <td>909.000000</td>\n",
       "      <td>909.000000</td>\n",
       "      <td>909.000000</td>\n",
       "      <td>9.090000e+02</td>\n",
       "      <td>909.000000</td>\n",
       "      <td>909.0</td>\n",
       "      <td>909.0</td>\n",
       "      <td>909.000000</td>\n",
       "      <td>909.000000</td>\n",
       "      <td>909.000000</td>\n",
       "      <td>909.000000</td>\n",
       "    </tr>\n",
       "    <tr>\n",
       "      <td>mean</td>\n",
       "      <td>563427.156216</td>\n",
       "      <td>0.045105</td>\n",
       "      <td>0.050605</td>\n",
       "      <td>4.580858</td>\n",
       "      <td>1.342416e+09</td>\n",
       "      <td>285.096810</td>\n",
       "      <td>909.0</td>\n",
       "      <td>1.0</td>\n",
       "      <td>2.720572</td>\n",
       "      <td>0.067107</td>\n",
       "      <td>0.005501</td>\n",
       "      <td>2.097910</td>\n",
       "    </tr>\n",
       "    <tr>\n",
       "      <td>std</td>\n",
       "      <td>263.753046</td>\n",
       "      <td>0.295246</td>\n",
       "      <td>0.317743</td>\n",
       "      <td>0.706567</td>\n",
       "      <td>1.021681e+06</td>\n",
       "      <td>247.596525</td>\n",
       "      <td>0.0</td>\n",
       "      <td>0.0</td>\n",
       "      <td>6.761760</td>\n",
       "      <td>0.250344</td>\n",
       "      <td>0.087630</td>\n",
       "      <td>14.106513</td>\n",
       "    </tr>\n",
       "    <tr>\n",
       "      <td>min</td>\n",
       "      <td>562971.000000</td>\n",
       "      <td>0.000000</td>\n",
       "      <td>0.000000</td>\n",
       "      <td>1.000000</td>\n",
       "      <td>1.341792e+09</td>\n",
       "      <td>87.000000</td>\n",
       "      <td>909.0</td>\n",
       "      <td>1.0</td>\n",
       "      <td>1.000000</td>\n",
       "      <td>0.000000</td>\n",
       "      <td>0.000000</td>\n",
       "      <td>0.000000</td>\n",
       "    </tr>\n",
       "    <tr>\n",
       "      <td>25%</td>\n",
       "      <td>563199.000000</td>\n",
       "      <td>0.000000</td>\n",
       "      <td>0.000000</td>\n",
       "      <td>4.000000</td>\n",
       "      <td>1.341878e+09</td>\n",
       "      <td>146.000000</td>\n",
       "      <td>909.0</td>\n",
       "      <td>1.0</td>\n",
       "      <td>1.000000</td>\n",
       "      <td>0.000000</td>\n",
       "      <td>0.000000</td>\n",
       "      <td>0.000000</td>\n",
       "    </tr>\n",
       "    <tr>\n",
       "      <td>50%</td>\n",
       "      <td>563428.000000</td>\n",
       "      <td>0.000000</td>\n",
       "      <td>0.000000</td>\n",
       "      <td>5.000000</td>\n",
       "      <td>1.341965e+09</td>\n",
       "      <td>205.000000</td>\n",
       "      <td>909.0</td>\n",
       "      <td>1.0</td>\n",
       "      <td>1.000000</td>\n",
       "      <td>0.000000</td>\n",
       "      <td>0.000000</td>\n",
       "      <td>0.000000</td>\n",
       "    </tr>\n",
       "    <tr>\n",
       "      <td>75%</td>\n",
       "      <td>563655.000000</td>\n",
       "      <td>0.000000</td>\n",
       "      <td>0.000000</td>\n",
       "      <td>5.000000</td>\n",
       "      <td>1.342742e+09</td>\n",
       "      <td>325.000000</td>\n",
       "      <td>909.0</td>\n",
       "      <td>1.0</td>\n",
       "      <td>1.000000</td>\n",
       "      <td>0.000000</td>\n",
       "      <td>0.000000</td>\n",
       "      <td>0.000000</td>\n",
       "    </tr>\n",
       "    <tr>\n",
       "      <td>max</td>\n",
       "      <td>563883.000000</td>\n",
       "      <td>5.000000</td>\n",
       "      <td>5.000000</td>\n",
       "      <td>5.000000</td>\n",
       "      <td>1.351123e+09</td>\n",
       "      <td>3535.000000</td>\n",
       "      <td>909.0</td>\n",
       "      <td>1.0</td>\n",
       "      <td>88.000000</td>\n",
       "      <td>1.000000</td>\n",
       "      <td>2.000000</td>\n",
       "      <td>319.000000</td>\n",
       "    </tr>\n",
       "  </tbody>\n",
       "</table>\n",
       "</div>"
      ],
      "text/plain": [
       "                  Id  HelpfulnessNumerator  HelpfulnessDenominator  \\\n",
       "count     909.000000            909.000000              909.000000   \n",
       "mean   563427.156216              0.045105                0.050605   \n",
       "std       263.753046              0.295246                0.317743   \n",
       "min    562971.000000              0.000000                0.000000   \n",
       "25%    563199.000000              0.000000                0.000000   \n",
       "50%    563428.000000              0.000000                0.000000   \n",
       "75%    563655.000000              0.000000                0.000000   \n",
       "max    563883.000000              5.000000                5.000000   \n",
       "\n",
       "            Score          Time     Text_len  ProductIdCount  \\\n",
       "count  909.000000  9.090000e+02   909.000000           909.0   \n",
       "mean     4.580858  1.342416e+09   285.096810           909.0   \n",
       "std      0.706567  1.021681e+06   247.596525             0.0   \n",
       "min      1.000000  1.341792e+09    87.000000           909.0   \n",
       "25%      4.000000  1.341878e+09   146.000000           909.0   \n",
       "50%      5.000000  1.341965e+09   205.000000           909.0   \n",
       "75%      5.000000  1.342742e+09   325.000000           909.0   \n",
       "max      5.000000  1.351123e+09  3535.000000           909.0   \n",
       "\n",
       "       ProductMostReviewed  UserIdCount  TopReviewer   Downvotes  \\\n",
       "count                909.0   909.000000   909.000000  909.000000   \n",
       "mean                   1.0     2.720572     0.067107    0.005501   \n",
       "std                    0.0     6.761760     0.250344    0.087630   \n",
       "min                    1.0     1.000000     0.000000    0.000000   \n",
       "25%                    1.0     1.000000     0.000000    0.000000   \n",
       "50%                    1.0     1.000000     0.000000    0.000000   \n",
       "75%                    1.0     1.000000     0.000000    0.000000   \n",
       "max                    1.0    88.000000     1.000000    2.000000   \n",
       "\n",
       "       UserHelpVotes  \n",
       "count     909.000000  \n",
       "mean        2.097910  \n",
       "std        14.106513  \n",
       "min         0.000000  \n",
       "25%         0.000000  \n",
       "50%         0.000000  \n",
       "75%         0.000000  \n",
       "max       319.000000  "
      ]
     },
     "execution_count": 87,
     "metadata": {},
     "output_type": "execute_result"
    }
   ],
   "source": [
    "# View summary stats\n",
    "cookies.describe()"
   ]
  },
  {
   "cell_type": "markdown",
   "metadata": {},
   "source": [
    "Scores skew positive, as is typical for this dataset, and reviews are a bit shorter than average (285 v. 433 characters). \n",
    "\n",
    "Let's read some of the reviews: "
   ]
  },
  {
   "cell_type": "code",
   "execution_count": 88,
   "metadata": {
    "ExecuteTime": {
     "end_time": "2020-01-10T18:35:10.632065Z",
     "start_time": "2020-01-10T18:35:10.625381Z"
    },
    "scrolled": false
   },
   "outputs": [
    {
     "name": "stdout",
     "output_type": "stream",
     "text": [
      "I love these cookies!  Not only are they healthy but they taste great and are so soft!  I will definitely add these to my grocery list!\n",
      "\n",
      "\n",
      "Quaker Soft Baked Oatmeal Cookies with raisins are a delicious treat, great for anytime of day.  For example:<br /><br />--at breakfast, I had one with a large banana and a cup of coffee, and felt I'd had a relatively \"healthy\" start to the day.<br /><br />--the next day at lunch, following a tuna sandwich, I had one with a glass of milk, and was satisfied enough to not need a snack before dinner at 6:30.<br /><br />--the following night, after dinner, I had one with the remainder of my glass of wine. (Delicious!) And again, didn't feel the need to snack later in the evening.<br /><br />Each cookie is individually packaged, and their texture is soft and moist, with just the right amount of sweetness. Natural flavors used in the making are Cinnamon and All Spice.  These flavorings give the cookies a real old-fashioned, homemade taste.<br /><br />Nutritionally, the cookies have 170 calories each, 1.5g saturated fat, 150 mg sodium, and 12g sugar. They also have 2g of protein, and contain 25g of fiber.<br /><br />While the calorie count may seem a bit high for one cookie, they are good sized, and 1 cookie per serving is certainly enough to satisfy.<br /><br />Because of their great taste and texture, kids will probably enjoy them also.<br /><br />If you like oatmeal raisin cookies, give these a try!\n",
      "\n",
      "\n",
      "I am usually not a huge fan of oatmeal cookies, but these literally melt in your mouth. They are so soft and tasty! I would definitely recommend these to someone who loves oatmeal, and even those like me who would probably pick a different flavor over this one.\n",
      "\n",
      "\n",
      "I participated in a product review that included a sample of <a href=\"http://www.amazon.com/gp/product/B007JFMH8M\">Quaker Soft Baked Oatmeal Cookie, Raisins, 8.8-Ounce (Pack of 12)</a>.  Okay first of all I love Oatmeal Raisin cookies and this one was no exception.  It was great!!! Soft n chewy, nice portion size and and as always a high quality product from Quaker Oats.  Thanks to Quaker and Influenster to for including this in their Mom Voxbox.  If you haven't tried it you need to and make sure to share it with the family.\n",
      "\n",
      "\n",
      "My kids loved these. I was very pleased to give my kids a quick on the go healthy snack before soccer and acne practice. They loved the flavor, I loved that its healthy.\n",
      "\n",
      "\n",
      "I really enjoyed these individually wrapped big oatmeal cookies. They are really soft and chewy. You can buy different flavors. I will definately be repurchasing these cookies in the future. They are delicious and super healthy too.\n",
      "\n",
      "\n",
      "I was surprised at how soft the cookie was. I usually buy Little Debbie's cookies, and I noticed the Quaker Soft Baked Oatmeal Cookie was bigger and had a bold taste.\n",
      "\n",
      "\n",
      "Filled with oats and raisins you'll love this snack ..... Delicious and nutritious ..... what else is there to say.... you can't beat that....\n",
      "\n",
      "\n",
      "I was recently given a complimentary \"vox box\" from influenster, call the mom vox box. It came with various products in it for me to try out and review the products inside. One of the products i received was a Quaker soft baked oatmeal cookie \"raisins\" flavor. When i opened the cookie wrapper, i gave half of it to my 3 year old and i ate the other half. I was immediately surprised by how soft the cookie was when i was splitting it in half. It was like a really really good home baked cookie. Soft, chewy and tasty. I normally do not like oatmeal raisin cookies, due to the raisins, but this cookie was surprisingly yummy. My three year old loved it so much that we had to go out and buy our own box. The cookies are soft, chewy, yummy, and healthier than other kinds of cookies, so  i would definitely recommend this product to people that have kids for a healthy yummy substitute to other sweets\n",
      "\n",
      "\n",
      "the best and freshest cookie that comes in a package, we ate them up, wishing we had more. soo good\n",
      "\n",
      "\n",
      "I am a huge fan of the Quaker Chewy cookies! The moist cookies are satisfying and not too sweet. The high quality ingredients are a crowd pleaser. A must have for any car trip! After one cookie I was hooked. Highly recommend!\n",
      "\n",
      "\n",
      "yummy and delicious. i love eating it when it when its warm. the best store bought cookies! cant wait to buy more!\n",
      "\n",
      "\n",
      "I received a Quaker Oatmeal Soft Baked Oatmeal Raisin cookie to try/eat for free from Influenster [...]). I shared the cookie with my kids, and we gobbled up the cookie faster than you can say \"Quaker Oatmeal Soft Baked Cookies.\" It was soft (as advertised) and included a sufficient amount of raisins to make me happy (I like raisins). It was soft without being crumbly, moist, and not too dense (some oatmeal cookies are pretty dense). I highly recommend this cookie to anyone thinking of trying it for the first time:)\n",
      "\n",
      "\n",
      "These cookies were so good. Can't wait to go out and buy some more! A good snack when you don't want to over-indulge yourself\n",
      "\n",
      "\n",
      "I received these in my MomVox box from influenster! I loved it! Oatmeal cookies are my favorite and these are by far the best store bought brand I have tasted! I recommend these to anyone with a sweet tooth trying to stay healthy.\n",
      "\n",
      "\n"
     ]
    }
   ],
   "source": [
    "# View the review texts\n",
    "for n in cookies.index[:15]:\n",
    "    print(cookies.loc[n, 'Text'])\n",
    "    print('\\n')"
   ]
  },
  {
   "cell_type": "markdown",
   "metadata": {},
   "source": [
    "A number of reviews of this product were related to promotions offered by other companies (not Amazon alone). Apparently, some reviewers were offered free samples in exchange for a review. Since reviews in exchange for products may be biased, let's take a closer look at the \"helpful\" cookie reviews."
   ]
  },
  {
   "cell_type": "code",
   "execution_count": 95,
   "metadata": {
    "ExecuteTime": {
     "end_time": "2020-01-10T18:38:29.021449Z",
     "start_time": "2020-01-10T18:38:29.011803Z"
    },
    "scrolled": true
   },
   "outputs": [
    {
     "data": {
      "text/plain": [
       "563070                                                                                                                                                                                                                                                                                                                                                                                                                                                                                                                                                                                                             Ok so I love oatmeal cookies they are amazing. And this is one that I approve on for its soft gooey and chewy. It is absolutely amazing. I love it, and would recommend it to anyone that loves oatmeal, and the raisins are sweet they do not taste tart and are not overpowering.\n",
       "563071    I love oatmeal raisin cookies, really love them.  So, I am always on the lookout for a good cookie...especially if they are made by someone other than me.  When I got the chance to sample Quaker Soft Baked Oatmeal Cookies with Raisins, I said \"Why not?\"  The cookies come 6 to a box and are individually wrapped.  They are pleasant soft oatmeal with a balanced blend of spices and raisins.  I would have liked more raisins.  They were also very soft almost, as another reviewer mentioned...powdery.  They did have a good taste and they are very convenient (good for lunches, tucked in a backpack or desk drawer) and I found them very filling/satisfying.  But, for me, they were just a bit off mark.  I guess I expected a soft oatmeal cookie to be a bit more solid and chewy.  I will buy them occasionally if I have a specific need for something quick and easy.\n",
       "563072                                                                                                                                                                                                                                                                                                                                                                                                                                                                                                                                                         I was pleasently surprised about how soft this cookie was.  It had great flavor, I couldnt even tell there were raisins in the cookie, which is great because I dont normally like raisins.  I like that they come individually wrapped so that all the cookies don't dry out when you want to eat one.  Great snack to take on the go!\n",
       "563073                                                                                                                                                                                                                                                                                                                                                                                                                                                                                                                                                                                                                                                                                      Theses cookies are yummy and soft even with raisins my toddler likes them. My only problem is one cookie had 170 calories and is not remotely filling. It's not the healthiest snack but it sure is tasty!\n",
       "563074                                                                                                                                                                                                                                                                                                                                                                                                                                                                                                                                                                                                                                                                                                                           Love single served cookies and they are a perfect as a pick-me up. I don't cookies in the house, but this one can stay all wrapped and waiting for the perfect moment\n",
       "Name: Text, dtype: object"
      ]
     },
     "execution_count": 95,
     "metadata": {},
     "output_type": "execute_result"
    }
   ],
   "source": [
    "# View \"helpful\" reviews of the cookies\n",
    "pd.options.display.max_colwidth = 1000\n",
    "cookies[cookies.HelpfulnessNumerator > 0]['Text'].head()"
   ]
  },
  {
   "cell_type": "code",
   "execution_count": 97,
   "metadata": {
    "ExecuteTime": {
     "end_time": "2020-01-10T18:42:56.103690Z",
     "start_time": "2020-01-10T18:42:56.090911Z"
    }
   },
   "outputs": [
    {
     "data": {
      "text/plain": [
       "562970                                                                                                                                                                                                                                                                                                                                                                                                                                                                                                                                                                                                                                                                                                                                                                                                                                                                                                                                                                                                                                                                                                                                                                                                                                 I love these cookies!  Not only are they healthy but they taste great and are so soft!  I will definitely add these to my grocery list!\n",
       "562971    Quaker Soft Baked Oatmeal Cookies with raisins are a delicious treat, great for anytime of day.  For example:<br /><br />--at breakfast, I had one with a large banana and a cup of coffee, and felt I'd had a relatively \"healthy\" start to the day.<br /><br />--the next day at lunch, following a tuna sandwich, I had one with a glass of milk, and was satisfied enough to not need a snack before dinner at 6:30.<br /><br />--the following night, after dinner, I had one with the remainder of my glass of wine. (Delicious!) And again, didn't feel the need to snack later in the evening.<br /><br />Each cookie is individually packaged, and their texture is soft and moist, with just the right amount of sweetness. Natural flavors used in the making are Cinnamon and All Spice.  These flavorings give the cookies a real old-fashioned, homemade taste.<br /><br />Nutritionally, the cookies have 170 calories each, 1.5g saturated fat, 150 mg sodium, and 12g sugar. They also have 2g of protein, and contain 25g of fiber.<br /><br />While the calorie count may seem a bit high for one cookie, they are good sized, and 1 cookie per serving is certainly enough to satisfy.<br /><br />Because of their great taste and texture, kids will probably enjoy them also.<br /><br />If you like oatmeal raisin cookies, give these a try!\n",
       "562972                                                                                                                                                                                                                                                                                                                                                                                                                                                                                                                                                                                                                                                                                                                                                                                                                                                                                                                                                                                                                                                                                                   I am usually not a huge fan of oatmeal cookies, but these literally melt in your mouth. They are so soft and tasty! I would definitely recommend these to someone who loves oatmeal, and even those like me who would probably pick a different flavor over this one.\n",
       "562973                                                                                                                                                                                                                                                                                                                                                                                                                                                                                                                                                                                                                                                                                                                                                                                                                      I participated in a product review that included a sample of <a href=\"http://www.amazon.com/gp/product/B007JFMH8M\">Quaker Soft Baked Oatmeal Cookie, Raisins, 8.8-Ounce (Pack of 12)</a>.  Okay first of all I love Oatmeal Raisin cookies and this one was no exception.  It was great!!! Soft n chewy, nice portion size and and as always a high quality product from Quaker Oats.  Thanks to Quaker and Influenster to for including this in their Mom Voxbox.  If you haven't tried it you need to and make sure to share it with the family.\n",
       "562974                                                                                                                                                                                                                                                                                                                                                                                                                                                                                                                                                                                                                                                                                                                                                                                                                                                                                                                                                                                                                                                                                                                                                                                               My kids loved these. I was very pleased to give my kids a quick on the go healthy snack before soccer and acne practice. They loved the flavor, I loved that its healthy.\n",
       "Name: Text, dtype: object"
      ]
     },
     "execution_count": 97,
     "metadata": {},
     "output_type": "execute_result"
    }
   ],
   "source": [
    "# Compare \"unhelpful\" reviews\n",
    "pd.options.display.max_colwidth = 2000\n",
    "cookies[cookies.HelpfulnessNumerator == 0]['Text'].head()"
   ]
  },
  {
   "cell_type": "markdown",
   "metadata": {},
   "source": [
    "Comparing the \"helpful\" and \"unhelpful\" reviews, it's hard to perceive any pattern. In each group there are reviews that reference receiving the product as a free sample, describe the nutritional content and packaging, and offer both positive and negative assessments of taste and texture. If it is possible to distinguish helpful and unhelpful reviews, the pattern is a pretty complicated one, and we'll need machine learning to figure it out."
   ]
  },
  {
   "cell_type": "markdown",
   "metadata": {},
   "source": [
    "### Save a copy of the data for modeling"
   ]
  },
  {
   "cell_type": "markdown",
   "metadata": {},
   "source": [
    "This concludes my exploration of all the features other than the review texts and the `HelpfulnessNumerator`. I'll check for any missing values in those fields and then save a copy of the data with every other feature removed for use in the next section."
   ]
  },
  {
   "cell_type": "code",
   "execution_count": 64,
   "metadata": {
    "ExecuteTime": {
     "end_time": "2020-01-10T18:08:47.900232Z",
     "start_time": "2020-01-10T18:08:47.222540Z"
    },
    "colab": {},
    "colab_type": "code",
    "id": "aeBTEo9NNM0Q",
    "outputId": "c04d8c6e-af96-4d0c-a8c7-30170671feb9"
   },
   "outputs": [
    {
     "data": {
      "text/plain": [
       "Id                         0\n",
       "ProductId                  0\n",
       "UserId                     0\n",
       "ProfileName               11\n",
       "HelpfulnessNumerator       0\n",
       "HelpfulnessDenominator     0\n",
       "Score                      0\n",
       "Time                       0\n",
       "Summary                    3\n",
       "Text                       0\n",
       "Text_len                   0\n",
       "ProductIdCount             0\n",
       "ProductMostReviewed        0\n",
       "UserIdCount                0\n",
       "TopReviewer                0\n",
       "Downvotes                  0\n",
       "dtype: int64"
      ]
     },
     "execution_count": 64,
     "metadata": {},
     "output_type": "execute_result"
    }
   ],
   "source": [
    "# Check for missing `Text` values\n",
    "data.isna().sum()"
   ]
  },
  {
   "cell_type": "code",
   "execution_count": 0,
   "metadata": {
    "ExecuteTime": {
     "end_time": "2019-12-16T18:45:54.606900Z",
     "start_time": "2019-12-16T18:45:54.535664Z"
    },
    "colab": {},
    "colab_type": "code",
    "id": "aeBTEo9NNM0Q",
    "outputId": "c04d8c6e-af96-4d0c-a8c7-30170671feb9"
   },
   "outputs": [
    {
     "name": "stdout",
     "output_type": "stream",
     "text": [
      "<class 'pandas.core.frame.DataFrame'>\n",
      "Int64Index: 393579 entries, 0 to 568453\n",
      "Data columns (total 2 columns):\n",
      "helpful    393579 non-null int64\n",
      "text       393579 non-null object\n",
      "dtypes: int64(1), object(1)\n",
      "memory usage: 19.0+ MB\n"
     ]
    }
   ],
   "source": [
    "# Make a copy of the dataset with just the feature and target\n",
    "data_clean = data[['HelpfulnessNumerator', 'Text']]\n",
    "data_clean.columns = ['helpful', 'text']\n",
    "data_clean.info()"
   ]
  },
  {
   "cell_type": "code",
   "execution_count": 0,
   "metadata": {
    "ExecuteTime": {
     "end_time": "2019-12-16T20:16:51.589792Z",
     "start_time": "2019-12-16T20:16:45.783868Z"
    },
    "colab": {},
    "colab_type": "code",
    "id": "rXpaHMq9NM0T"
   },
   "outputs": [],
   "source": [
    "data_clean.to_csv('data_clean.csv')"
   ]
  },
  {
   "cell_type": "markdown",
   "metadata": {
    "colab_type": "text",
    "id": "MKWEOJAlNM0W"
   },
   "source": [
    "# Advanced exploration/preprocessing\n",
    "\n",
    "Things to try:\n",
    "- remove stopwords\n",
    "- lemmatize\n",
    "- frequency distributions on most upvoted reviews to see what are the most used words\n",
    "- bigrams or other n-grams and their mutual information scores"
   ]
  },
  {
   "cell_type": "markdown",
   "metadata": {
    "colab_type": "text",
    "heading_collapsed": true,
    "id": "xTjwn4jDNM0X"
   },
   "source": [
    "## Trying everything once with a single review text"
   ]
  },
  {
   "cell_type": "code",
   "execution_count": 0,
   "metadata": {
    "ExecuteTime": {
     "end_time": "2019-12-16T21:39:54.343572Z",
     "start_time": "2019-12-16T21:39:54.335644Z"
    },
    "colab": {},
    "colab_type": "code",
    "hidden": true,
    "id": "BuYuh6MONM0Y",
    "outputId": "e6467ee7-5775-47e8-bef9-5f516f779a8e"
   },
   "outputs": [
    {
     "data": {
      "text/plain": [
       "\"I don't know if it's the cactus or the tequila or just the unique combination of ingredients, but the flavour of this hot sauce makes it one of a kind!  We picked up a bottle once on a trip we were on and brought it back home with us and were totally blown away!  When we realized that we simply couldn't find it anywhere in our city we were bummed.<br /><br />Now, because of the magic of the internet, we have a case of the sauce and are ecstatic because of it.<br /><br />If you love hot sauce..I mean really love hot sauce, but don't want a sauce that tastelessly burns your throat, grab a bottle of Tequila Picante Gourmet de Inclan.  Just realize that once you taste it, you will never want to use any other sauce.<br /><br />Thank you for the personal, incredible service!\""
      ]
     },
     "execution_count": 100,
     "metadata": {
      "tags": []
     },
     "output_type": "execute_result"
    }
   ],
   "source": [
    "sample = data_clean.loc[10, 'text']\n",
    "sample"
   ]
  },
  {
   "cell_type": "code",
   "execution_count": 2,
   "metadata": {
    "colab": {
     "base_uri": "https://localhost:8080/",
     "height": 51
    },
    "colab_type": "code",
    "hidden": true,
    "id": "Svtst8_wUvXq",
    "outputId": "10041fb5-432e-4d04-e18f-4a455641fd0c"
   },
   "outputs": [
    {
     "name": "stdout",
     "output_type": "stream",
     "text": [
      "[nltk_data] Downloading package stopwords to /root/nltk_data...\n",
      "[nltk_data]   Unzipping corpora/stopwords.zip.\n"
     ]
    }
   ],
   "source": [
    "# Set up stopwords to be removed\n",
    "import nltk\n",
    "nltk.download('stopwords')\n",
    "from nltk.corpus import stopwords\n",
    "import string\n",
    "\n",
    "stop_list = stopwords.words('english')\n",
    "stop_list += list(string.punctuation)\n",
    "stop_list += ['br', '.<', '..', '...', '``', \"''\", '--']"
   ]
  },
  {
   "cell_type": "code",
   "execution_count": 0,
   "metadata": {
    "ExecuteTime": {
     "end_time": "2019-12-17T21:07:34.710984Z",
     "start_time": "2019-12-17T21:07:34.696066Z"
    },
    "colab": {},
    "colab_type": "code",
    "hidden": true,
    "id": "s65GvkVKNM0a",
    "outputId": "46c87f93-a7aa-4c58-9277-682be9e2d9f0"
   },
   "outputs": [
    {
     "data": {
      "text/plain": [
       "[\"n't\",\n",
       " 'know',\n",
       " \"'s\",\n",
       " 'cactus',\n",
       " 'tequila',\n",
       " 'unique',\n",
       " 'combination',\n",
       " 'ingredients',\n",
       " 'flavour',\n",
       " 'hot',\n",
       " 'sauce',\n",
       " 'makes',\n",
       " 'one',\n",
       " 'kind',\n",
       " 'picked',\n",
       " 'bottle',\n",
       " 'trip',\n",
       " 'brought',\n",
       " 'back',\n",
       " 'home',\n",
       " 'us',\n",
       " 'totally',\n",
       " 'blown',\n",
       " 'away',\n",
       " 'realized',\n",
       " 'simply',\n",
       " 'could',\n",
       " \"n't\",\n",
       " 'find',\n",
       " 'anywhere',\n",
       " 'city',\n",
       " 'bummed.',\n",
       " 'magic',\n",
       " 'internet',\n",
       " 'case',\n",
       " 'sauce',\n",
       " 'ecstatic',\n",
       " 'it.',\n",
       " 'love',\n",
       " 'hot',\n",
       " 'sauce..i',\n",
       " 'mean',\n",
       " 'really',\n",
       " 'love',\n",
       " 'hot',\n",
       " 'sauce',\n",
       " \"n't\",\n",
       " 'want',\n",
       " 'sauce',\n",
       " 'tastelessly',\n",
       " 'burns',\n",
       " 'throat',\n",
       " 'grab',\n",
       " 'bottle',\n",
       " 'tequila',\n",
       " 'picante',\n",
       " 'gourmet',\n",
       " 'de',\n",
       " 'inclan',\n",
       " 'realize',\n",
       " 'taste',\n",
       " 'never',\n",
       " 'want',\n",
       " 'use',\n",
       " 'sauce.',\n",
       " 'thank',\n",
       " 'personal',\n",
       " 'incredible',\n",
       " 'service']"
      ]
     },
     "execution_count": 214,
     "metadata": {
      "tags": []
     },
     "output_type": "execute_result"
    }
   ],
   "source": [
    "# Set up baseline tokenizer\n",
    "from nltk import word_tokenize\n",
    "\n",
    "tokens = word_tokenize(sample)\n",
    "clean_tokens = [word.lower() for word in tokens if word.lower() not in stop_list]\n",
    "clean_tokens"
   ]
  },
  {
   "cell_type": "code",
   "execution_count": 0,
   "metadata": {
    "ExecuteTime": {
     "end_time": "2019-12-17T21:07:37.014790Z",
     "start_time": "2019-12-17T21:07:35.895447Z"
    },
    "colab": {},
    "colab_type": "code",
    "hidden": true,
    "id": "pUqN-_ofNM0b",
    "outputId": "d11235af-ba6f-478f-bb84-2191cf620e59"
   },
   "outputs": [
    {
     "data": {
      "image/png": "[encoded data removed]",
      "text/plain": [
       "<Figure size 432x288 with 1 Axes>"
      ]
     },
     "metadata": {
      "needs_background": "light",
      "tags": []
     },
     "output_type": "display_data"
    }
   ],
   "source": [
    "# Set up FreqDist()\n",
    "from nltk import FreqDist\n",
    "\n",
    "freqdist = FreqDist(clean_tokens)\n",
    "plt.barh(y=[key for key in freqdist.keys()], width=[val for val in freqdist.values()]);"
   ]
  },
  {
   "cell_type": "code",
   "execution_count": 0,
   "metadata": {
    "ExecuteTime": {
     "end_time": "2019-12-17T21:07:47.727762Z",
     "start_time": "2019-12-17T21:07:47.718333Z"
    },
    "colab": {},
    "colab_type": "code",
    "hidden": true,
    "id": "fh32tGM8NM0d",
    "outputId": "f265d138-5816-482f-c5ec-aabd8fd7b4b8",
    "scrolled": true
   },
   "outputs": [
    {
     "data": {
      "text/plain": [
       "[\"n't\",\n",
       " 'know',\n",
       " \"'s\",\n",
       " 'cactus',\n",
       " 'tequila',\n",
       " 'unique',\n",
       " 'combination',\n",
       " 'ingredient',\n",
       " 'flavour',\n",
       " 'hot',\n",
       " 'sauce',\n",
       " 'make',\n",
       " 'one',\n",
       " 'kind',\n",
       " 'picked',\n",
       " 'bottle',\n",
       " 'trip',\n",
       " 'brought',\n",
       " 'back',\n",
       " 'home',\n",
       " 'u',\n",
       " 'totally',\n",
       " 'blown',\n",
       " 'away',\n",
       " 'realized',\n",
       " 'simply',\n",
       " 'could',\n",
       " \"n't\",\n",
       " 'find',\n",
       " 'anywhere',\n",
       " 'city',\n",
       " 'bummed.',\n",
       " 'magic',\n",
       " 'internet',\n",
       " 'case',\n",
       " 'sauce',\n",
       " 'ecstatic',\n",
       " 'it.',\n",
       " 'love',\n",
       " 'hot',\n",
       " 'sauce..i',\n",
       " 'mean',\n",
       " 'really',\n",
       " 'love',\n",
       " 'hot',\n",
       " 'sauce',\n",
       " \"n't\",\n",
       " 'want',\n",
       " 'sauce',\n",
       " 'tastelessly',\n",
       " 'burn',\n",
       " 'throat',\n",
       " 'grab',\n",
       " 'bottle',\n",
       " 'tequila',\n",
       " 'picante',\n",
       " 'gourmet',\n",
       " 'de',\n",
       " 'inclan',\n",
       " 'realize',\n",
       " 'taste',\n",
       " 'never',\n",
       " 'want',\n",
       " 'use',\n",
       " 'sauce.',\n",
       " 'thank',\n",
       " 'personal',\n",
       " 'incredible',\n",
       " 'service']"
      ]
     },
     "execution_count": 216,
     "metadata": {
      "tags": []
     },
     "output_type": "execute_result"
    }
   ],
   "source": [
    "# Set up lemmatizer\n",
    "from nltk.stem.wordnet import WordNetLemmatizer\n",
    "\n",
    "lem = WordNetLemmatizer()\n",
    "lemmata = []\n",
    "for word in clean_tokens:\n",
    "    lemmata.append(lem.lemmatize(word))\n",
    "lemmata"
   ]
  },
  {
   "cell_type": "markdown",
   "metadata": {
    "colab_type": "text",
    "heading_collapsed": true,
    "id": "6CkYKW4NNM0g"
   },
   "source": [
    "## Try it all again with every \"helpful\" review combined"
   ]
  },
  {
   "cell_type": "code",
   "execution_count": 0,
   "metadata": {
    "ExecuteTime": {
     "end_time": "2019-12-16T21:56:13.679701Z",
     "start_time": "2019-12-16T21:56:11.374226Z"
    },
    "colab": {},
    "colab_type": "code",
    "hidden": true,
    "id": "nDQm6x4eNM0g",
    "outputId": "46fc1066-feb6-4865-ee08-6eaa95834d8f",
    "scrolled": true
   },
   "outputs": [
    {
     "data": {
      "text/plain": [
       "91666026"
      ]
     },
     "execution_count": 126,
     "metadata": {
      "tags": []
     },
     "output_type": "execute_result"
    }
   ],
   "source": [
    "# Get all helpful reviews\n",
    "helpful = data_clean[data_clean.helpful > 0]\n",
    "combined_text = ''\n",
    "for row in helpful.index:\n",
    "    combined_text += helpful.loc[row, 'text']\n",
    "\n",
    "len(combined_text)"
   ]
  },
  {
   "cell_type": "code",
   "execution_count": 0,
   "metadata": {
    "ExecuteTime": {
     "end_time": "2019-12-16T23:48:21.803194Z",
     "start_time": "2019-12-16T23:48:21.793398Z"
    },
    "colab": {},
    "colab_type": "code",
    "hidden": true,
    "id": "htlgJ7FZNM0j",
    "outputId": "b194d430-424c-494b-bfc4-10d31fa066b5"
   },
   "outputs": [
    {
     "data": {
      "text/plain": [
       "186453"
      ]
     },
     "execution_count": 187,
     "metadata": {
      "tags": []
     },
     "output_type": "execute_result"
    }
   ],
   "source": [
    "# Get number of reviews\n",
    "len(helpful)"
   ]
  },
  {
   "cell_type": "code",
   "execution_count": 0,
   "metadata": {
    "ExecuteTime": {
     "end_time": "2019-12-17T21:10:50.263348Z",
     "start_time": "2019-12-17T21:08:19.304348Z"
    },
    "colab": {},
    "colab_type": "code",
    "hidden": true,
    "id": "J9LEAs5VNM0m"
   },
   "outputs": [],
   "source": [
    "# Tokenize\n",
    "tokens = word_tokenize(combined_text)"
   ]
  },
  {
   "cell_type": "code",
   "execution_count": 0,
   "metadata": {
    "ExecuteTime": {
     "end_time": "2019-12-17T21:03:17.436705Z",
     "start_time": "2019-12-17T21:03:17.430443Z"
    },
    "colab": {},
    "colab_type": "code",
    "hidden": true,
    "id": "lhX-ORyHNM0n",
    "outputId": "79c49b2a-bcb0-41b6-c7f3-f7cd86653234"
   },
   "outputs": [
    {
     "data": {
      "text/plain": [
       "150"
      ]
     },
     "execution_count": 212,
     "metadata": {
      "tags": []
     },
     "output_type": "execute_result"
    }
   ],
   "source": [
    "# Get total number of tokens\n",
    "len(tokens)"
   ]
  },
  {
   "cell_type": "code",
   "execution_count": 0,
   "metadata": {
    "ExecuteTime": {
     "end_time": "2019-12-16T22:19:30.754352Z",
     "start_time": "2019-12-16T22:18:44.615054Z"
    },
    "colab": {},
    "colab_type": "code",
    "hidden": true,
    "id": "JfZWCl-JNM0p"
   },
   "outputs": [],
   "source": [
    "# Convert all tokens to lowercase\n",
    "lower_tokens = [word.lower() for word in tokens if word.lower() not in stop_list]"
   ]
  },
  {
   "cell_type": "code",
   "execution_count": 0,
   "metadata": {
    "ExecuteTime": {
     "end_time": "2019-12-16T22:20:16.435729Z",
     "start_time": "2019-12-16T22:19:30.757646Z"
    },
    "colab": {},
    "colab_type": "code",
    "hidden": true,
    "id": "cwIXoyFKNM0r"
   },
   "outputs": [],
   "source": [
    "# Lemmatize\n",
    "lemma_tokens = [lem.lemmatize(word) for word in lower_tokens]"
   ]
  },
  {
   "cell_type": "code",
   "execution_count": 0,
   "metadata": {
    "ExecuteTime": {
     "end_time": "2019-12-16T22:20:25.019647Z",
     "start_time": "2019-12-16T22:20:16.439059Z"
    },
    "colab": {},
    "colab_type": "code",
    "hidden": true,
    "id": "CG3MRbDbNM0s"
   },
   "outputs": [],
   "source": [
    "# Get frequency distribution\n",
    "freqdist = FreqDist(lemma_tokens)"
   ]
  },
  {
   "cell_type": "code",
   "execution_count": 0,
   "metadata": {
    "ExecuteTime": {
     "end_time": "2019-12-16T23:49:12.776350Z",
     "start_time": "2019-12-16T23:49:12.770281Z"
    },
    "colab": {},
    "colab_type": "code",
    "hidden": true,
    "id": "Wg0BPFi6NM0w",
    "outputId": "477b75ee-91e1-4cc5-c06d-a8ef3c9a393c"
   },
   "outputs": [
    {
     "data": {
      "text/plain": [
       "201856"
      ]
     },
     "execution_count": 188,
     "metadata": {
      "tags": []
     },
     "output_type": "execute_result"
    }
   ],
   "source": [
    "# Get number of unique tokens\n",
    "len(freqdist)"
   ]
  },
  {
   "cell_type": "code",
   "execution_count": 0,
   "metadata": {
    "ExecuteTime": {
     "end_time": "2019-12-16T22:13:14.316225Z",
     "start_time": "2019-12-16T22:13:14.251622Z"
    },
    "colab": {},
    "colab_type": "code",
    "hidden": true,
    "id": "dpqCz4XmNM00"
   },
   "outputs": [],
   "source": [
    "# Select top 50 words\n",
    "top_50 = freqdist.most_common(50)"
   ]
  },
  {
   "cell_type": "code",
   "execution_count": 0,
   "metadata": {
    "ExecuteTime": {
     "end_time": "2019-12-16T22:13:15.659103Z",
     "start_time": "2019-12-16T22:13:14.318930Z"
    },
    "colab": {},
    "colab_type": "code",
    "hidden": true,
    "id": "bCkopE0fNM02",
    "outputId": "0ac412ad-fc8e-4505-aa0e-dae4a7f164ce"
   },
   "outputs": [
    {
     "data": {
      "image/png": "[encoded data removed]",
      "text/plain": [
       "<Figure size 1152x720 with 1 Axes>"
      ]
     },
     "metadata": {
      "needs_background": "light",
      "tags": []
     },
     "output_type": "display_data"
    }
   ],
   "source": [
    "# Plot top 50 words\n",
    "plt.figure(figsize=(16,10))\n",
    "plt.barh(y=[x[0] for x in top_50], width=[x[1] for x in top_50])\n",
    "plt.xlabel('Number of occurences')\n",
    "plt.ylabel('Top words')\n",
    "plt.title('Most common words in \"helpful\" reviews')\n",
    "plt.show();"
   ]
  },
  {
   "cell_type": "code",
   "execution_count": 0,
   "metadata": {
    "ExecuteTime": {
     "end_time": "2019-12-16T22:20:25.079002Z",
     "start_time": "2019-12-16T22:20:25.022826Z"
    },
    "colab": {},
    "colab_type": "code",
    "hidden": true,
    "id": "pZbnTf31NM03"
   },
   "outputs": [],
   "source": [
    "# Get top 100 words\n",
    "top_100 = freqdist.most_common(100)"
   ]
  },
  {
   "cell_type": "code",
   "execution_count": 0,
   "metadata": {
    "ExecuteTime": {
     "end_time": "2019-12-16T22:20:28.982902Z",
     "start_time": "2019-12-16T22:20:25.083432Z"
    },
    "colab": {},
    "colab_type": "code",
    "hidden": true,
    "id": "SZUOkUfQNM09",
    "outputId": "7bac80a1-72a0-486c-f0ef-c712c289e5b7"
   },
   "outputs": [
    {
     "data": {
      "image/png": "[encoded data removed]",
      "text/plain": [
       "<Figure size 1152x1152 with 1 Axes>"
      ]
     },
     "metadata": {
      "needs_background": "light",
      "tags": []
     },
     "output_type": "display_data"
    }
   ],
   "source": [
    "# Plot top 100 words\n",
    "plt.figure(figsize=(16,16))\n",
    "plt.barh(y=[x[0] for x in top_100], width=[x[1] for x in top_100])\n",
    "plt.xlabel('Number of occurences')\n",
    "plt.ylabel('Top words')\n",
    "plt.title('Most common words in \"helpful\" reviews')\n",
    "plt.show();"
   ]
  },
  {
   "cell_type": "markdown",
   "metadata": {
    "colab_type": "text",
    "heading_collapsed": true,
    "hidden": true,
    "id": "WpAjsDxeNM1B"
   },
   "source": [
    "### Look at bigrams"
   ]
  },
  {
   "cell_type": "code",
   "execution_count": 0,
   "metadata": {
    "ExecuteTime": {
     "end_time": "2019-12-16T22:23:24.496935Z",
     "start_time": "2019-12-16T22:22:29.016010Z"
    },
    "colab": {},
    "colab_type": "code",
    "hidden": true,
    "id": "3R7u581LNM1B",
    "outputId": "f72fe4f6-bdf0-490a-90ad-631c08cf0c9b",
    "scrolled": false
   },
   "outputs": [
    {
     "data": {
      "text/plain": [
       "[(('ca', \"n't\"), 0.00152568357473086),\n",
       " (('taste', 'like'), 0.001025859242584942),\n",
       " (('wo', \"n't\"), 0.0007550925729135553),\n",
       " (('grocery', 'store'), 0.0007136114837888143),\n",
       " (('href=', 'http'), 0.0006616461633468311),\n",
       " (('green', 'tea'), 0.0005728720742584429),\n",
       " ((\"'ve\", 'tried'), 0.000554752587525383),\n",
       " (('highly', 'recommend'), 0.0005403937489822033),\n",
       " (('peanut', 'butter'), 0.0005251232381505679),\n",
       " (('could', \"n't\"), 0.000507117710453565),\n",
       " (('taste', 'good'), 0.0004998243321459181),\n",
       " ((\"n't\", 'like'), 0.0004817048454128582),\n",
       " (('taste', 'great'), 0.00047703252493452197),\n",
       " ((\"n't\", 'know'), 0.0004758929345739522),\n",
       " (('much', 'better'), 0.00047008102373504617),\n",
       " (('dog', 'food'), 0.0004442123225501115),\n",
       " (('gluten', 'free'), 0.0004381724936390915),\n",
       " (('would', \"n't\"), 0.0004368049852064077),\n",
       " ((\"n't\", 'get'), 0.0003870048864495071),\n",
       " (('really', 'good'), 0.00034438420696419626),\n",
       " (('olive', 'oil'), 0.0003440423298560253),\n",
       " (('year', 'old'), 0.00033583727925992266),\n",
       " (('really', 'like'), 0.00032888577806044686),\n",
       " (('year', 'ago'), 0.00032797410577199097),\n",
       " (('first', 'time'), 0.0003211365636085721),\n",
       " (('cat', 'food'), 0.00031441298048121024),\n",
       " (('coconut', 'oil'), 0.0003080312744620193),\n",
       " ((\"n't\", 'even'), 0.0002988005925414039),\n",
       " ((\"'s\", 'good'), 0.00029845871543323293),\n",
       " ((\"'ve\", 'ever'), 0.0002952678624236375),\n",
       " (('great', 'product'), 0.00028888615640444655),\n",
       " (('would', 'recommend'), 0.0002880884431520477),\n",
       " ((\"'m\", 'sure'), 0.0002853534262866801),\n",
       " (('dark', 'chocolate'), 0.00028353008170976845),\n",
       " ((\"n't\", 'taste'), 0.00027840192508720433),\n",
       " (('tea', 'bag'), 0.0002760087853300077),\n",
       " (('even', 'though'), 0.0002737296046088681),\n",
       " ((\"'s\", 'great'), 0.00027315980942858317),\n",
       " (('subscribe', 'save'), 0.0002712225058156145),\n",
       " (('cup', 'coffee'), 0.0002696270793108168),\n",
       " ((\"n't\", 'find'), 0.00026746185762573413),\n",
       " (('hard', 'find'), 0.00026256161907528395),\n",
       " ((\"n't\", 'want'), 0.00025845909377723267),\n",
       " ((\"n't\", 'think'), 0.00025731950341666284),\n",
       " (('long', 'time'), 0.0002480888214960474),\n",
       " (('pretty', 'good'), 0.0002379464672869761),\n",
       " (('5', 'star'), 0.00023521145042160855),\n",
       " (('make', 'sure'), 0.00023521145042160855),\n",
       " (('local', 'store'), 0.00022928558054664553),\n",
       " (('dog', 'love'), 0.00022392950585196743)]"
      ]
     },
     "execution_count": 167,
     "metadata": {
      "tags": []
     },
     "output_type": "execute_result"
    }
   ],
   "source": [
    "# Do bigrams\n",
    "import nltk\n",
    "bigram_measures = nltk.collocations.BigramAssocMeasures()\n",
    "\n",
    "finder = nltk.collocations.BigramCollocationFinder.from_words(lemma_tokens)\n",
    "\n",
    "scored = finder.score_ngrams(bigram_measures.raw_freq)\n",
    "\n",
    "scored[:50]"
   ]
  },
  {
   "cell_type": "code",
   "execution_count": 0,
   "metadata": {
    "ExecuteTime": {
     "end_time": "2019-12-16T22:25:32.974333Z",
     "start_time": "2019-12-16T22:25:00.770677Z"
    },
    "colab": {},
    "colab_type": "code",
    "hidden": true,
    "id": "Y_9pICiaNM1D",
    "outputId": "b1847d88-2616-49ef-f910-4f274e7d20b6",
    "scrolled": false
   },
   "outputs": [
    {
     "data": {
      "text/plain": [
       "[(('vergnano', '1882'), 20.743053245793853),\n",
       " (('algernon', 'freeman-mitford'), 20.48001883996006),\n",
       " (('ping', 'pong'), 20.257626418623612),\n",
       " (('riso', 'bello'), 20.257626418623612),\n",
       " (('bbp', 'okc'), 20.25762641862361),\n",
       " (('dentie', 'toothpowder'), 20.25762641862361),\n",
       " (('dunaliella', 'salina'), 20.25762641862361),\n",
       " (('saf®', 'bakipan®'), 20.25762641862361),\n",
       " (('vialone', 'nano'), 20.216984434126264),\n",
       " (('192f', '204'), 20.064981340681214),\n",
       " (('cucina', 'antica'), 20.064981340681214),\n",
       " (('j.j.', 'gottenbos'), 20.064981340681214),\n",
       " (('nagasaki', 'jjamppong'), 20.064981340681214),\n",
       " (('r.k.', 'downey'), 20.064981340681214),\n",
       " (('r.o', 'vles'), 20.064981340681214),\n",
       " (('robblen', 'r.k.'), 20.064981340681214),\n",
       " (('vles', 'j.j.'), 20.064981340681214),\n",
       " (('y.', 'golovko'), 20.064981340681214),\n",
       " (('fischer', 'wieser'), 20.06498134068121),\n",
       " (('star®', 'saf®'), 20.06498134068121),\n",
       " (('lymph', 'node'), 20.035233997287165),\n",
       " (('insightful', 'inspirational'), 19.994592012789816),\n",
       " (('//www.amazon.com/gp/product/b000buddty', 'rsvp'), 19.895056339238902),\n",
       " (('teeli', 'frieling/swissgold'), 19.895056339238902),\n",
       " (('uva', 'ursi'), 19.895056339238902),\n",
       " (('bona', 'fide'), 19.842588919344767),\n",
       " (('sao', 'tome'), 19.842588919344767),\n",
       " (('readable', 'insightful'), 19.801946934847418),\n",
       " (('keratosis', 'pilaris'), 19.743053245793853),\n",
       " (('roo', 'rook'), 19.743053245793853),\n",
       " (('taj', 'mahal'), 19.743053245793853),\n",
       " (('101012', 'crunch®'), 19.672663917902455),\n",
       " (('tovolo', 'teeli'), 19.632021933405106),\n",
       " (('kaldi', 's04'), 19.605549722043918),\n",
       " (('mikhail', 'y.'), 19.605549722043918),\n",
       " (('trichoderma', 'longibrachiatum'), 19.605549722043918),\n",
       " (('cepes', 'bolets'), 19.57955451351097),\n",
       " (('burrowing', 'varment'), 19.550408167851455),\n",
       " (('phu', 'quoc'), 19.550408167851455),\n",
       " (('huevos', 'rancheros'), 19.532486259854192),\n",
       " (('maurice', 'sendak'), 19.520660824457405),\n",
       " (('yip', 'yap'), 19.520660824457405),\n",
       " (('agua', 'frescas'), 19.48001883996006),\n",
       " (('saudi', 'arabia'), 19.48001883996006),\n",
       " (('duane', 'reade'), 19.480018839960056),\n",
       " (('fattoria', 'estense'), 19.480018839960056),\n",
       " (('tex', 'mex'), 19.480018839960056),\n",
       " (('jacques', 'pepin'), 19.386909435568576),\n",
       " (('carne', 'asada'), 19.364541622540123),\n",
       " (('edgar', 'cayce'), 19.364541622540123)]"
      ]
     },
     "execution_count": 168,
     "metadata": {
      "tags": []
     },
     "output_type": "execute_result"
    }
   ],
   "source": [
    "# Get mutual information scores\n",
    "pmi_finder = nltk.collocations.BigramCollocationFinder.from_words(lemma_tokens)\n",
    "\n",
    "pmi_finder.apply_freq_filter(5)\n",
    "\n",
    "pmi_scored = pmi_finder.score_ngrams(bigram_measures.pmi)\n",
    "\n",
    "pmi_scored[:50]"
   ]
  },
  {
   "cell_type": "markdown",
   "metadata": {
    "colab_type": "text",
    "heading_collapsed": true,
    "hidden": true,
    "id": "Eh3MXbqDNM1G"
   },
   "source": [
    "### Look at trigrams"
   ]
  },
  {
   "cell_type": "code",
   "execution_count": 0,
   "metadata": {
    "ExecuteTime": {
     "end_time": "2019-12-16T22:37:33.361186Z",
     "start_time": "2019-12-16T22:34:44.648696Z"
    },
    "colab": {},
    "colab_type": "code",
    "hidden": true,
    "id": "gV-qAvQ6NM1H",
    "outputId": "2c94bf2e-20c9-4258-e323-9a324945271a"
   },
   "outputs": [
    {
     "data": {
      "text/plain": [
       "[(('local', 'grocery', 'store'), 0.00016672206975136303),\n",
       " (('ca', \"n't\", 'find'), 0.00011407299509303787),\n",
       " (('health', 'food', 'store'), 0.00010461439510030845),\n",
       " (('ca', \"n't\", 'get'), 0.00010438647702819449),\n",
       " ((\"'s\", 'red', 'mill'), 9.469995896335112e-05),\n",
       " (('could', \"n't\", 'find'), 9.196494209798357e-05),\n",
       " (('bob', \"'s\", 'red'), 9.093931077347075e-05),\n",
       " (('ca', \"n't\", 'wait'), 9.059743366529981e-05),\n",
       " (('high', 'fructose', 'corn'), 8.854617101627414e-05),\n",
       " (('ca', \"n't\", 'beat'), 8.809033487204622e-05),\n",
       " (('fructose', 'corn', 'syrup'), 8.444364571822283e-05),\n",
       " ((\"n't\", 'taste', 'like'), 7.45292095812655e-05),\n",
       " (('ca', \"n't\", 'say'), 7.247794693223985e-05),\n",
       " (('would', 'highly', 'recommend'), 7.099647946349909e-05),\n",
       " (('go', 'long', 'way'), 7.008480717504325e-05),\n",
       " (('/a', 'href=', 'http'), 6.928709392264438e-05),\n",
       " (('trader', 'joe', \"'s\"), 6.86033397063025e-05),\n",
       " (('pack', '6', '/a'), 6.495665055247911e-05),\n",
       " (('ca', \"n't\", 'go'), 6.484269151642213e-05),\n",
       " (('pack', '12', '/a'), 6.301934693951043e-05),\n",
       " (('earth', \"'s\", 'best'), 6.039828911019987e-05),\n",
       " (('highly', 'recommend', 'product'), 5.914473971357308e-05),\n",
       " (('ca', \"n't\", 'believe'), 5.732139513666138e-05),\n",
       " ((\"n't\", 'go', 'wrong'), 5.675159995637648e-05),\n",
       " (('last', 'long', 'time'), 5.105364815352744e-05),\n",
       " (('wo', \"n't\", 'eat'), 4.88884264684448e-05),\n",
       " (('local', 'health', 'food'), 4.717904092759009e-05),\n",
       " (('ca', \"n't\", 'tell'), 4.70650818915331e-05),\n",
       " (('decided', 'give', 'try'), 4.672320478336216e-05),\n",
       " (('little', 'go', 'long'), 4.660924574730518e-05),\n",
       " ((\"'ve\", 'ever', 'tasted'), 4.489986020645047e-05),\n",
       " (('taste', 'much', 'better'), 4.489986020645047e-05),\n",
       " (('wo', \"n't\", 'buy'), 4.489986020645047e-05),\n",
       " (('ca', \"n't\", 'even'), 4.2848597557424814e-05),\n",
       " (('taste', 'like', 'real'), 4.2734638521367834e-05),\n",
       " (('amazon', \"'s\", 'price'), 4.2164843341082927e-05),\n",
       " ((\"'ve\", 'tried', 'many'), 4.2050884305025946e-05),\n",
       " (('give', '5', 'star'), 4.2050884305025946e-05),\n",
       " (('ca', \"n't\", 'eat'), 4.068337587234218e-05),\n",
       " (('wo', \"n't\", 'buying'), 4.056941683628519e-05),\n",
       " (('would', 'recommend', 'anyone'), 4.034149876417123e-05),\n",
       " ((\"'s\", 'hard', 'find'), 4.022753972811425e-05),\n",
       " (('could', \"n't\", 'get'), 3.9657744547829345e-05),\n",
       " ((\"n't\", 'get', 'enough'), 3.840419515120256e-05),\n",
       " (('would', 'definitely', 'recommend'), 3.772044093486067e-05),\n",
       " (('find', 'grocery', 'store'), 3.760648189880369e-05),\n",
       " (('taste', 'exactly', 'like'), 3.760648189880369e-05),\n",
       " (('probably', 'wo', \"n't\"), 3.63529325021769e-05),\n",
       " ((\"n't\", 'wait', 'try'), 3.601105539400596e-05),\n",
       " (('taste', 'really', 'good'), 3.601105539400596e-05)]"
      ]
     },
     "execution_count": 170,
     "metadata": {
      "tags": []
     },
     "output_type": "execute_result"
    }
   ],
   "source": [
    "# View top trigrams by raw frequency\n",
    "trigram_measures = nltk.collocations.TrigramAssocMeasures()\n",
    "\n",
    "tri_finder = nltk.collocations.TrigramCollocationFinder.from_words(lemma_tokens)\n",
    "\n",
    "tri_scored = tri_finder.score_ngrams(trigram_measures.raw_freq)\n",
    "\n",
    "tri_scored[:50]"
   ]
  },
  {
   "cell_type": "code",
   "execution_count": 0,
   "metadata": {
    "ExecuteTime": {
     "end_time": "2019-12-16T22:38:40.445039Z",
     "start_time": "2019-12-16T22:37:33.370703Z"
    },
    "colab": {},
    "colab_type": "code",
    "hidden": true,
    "id": "oREE6SJJNM1J",
    "outputId": "9fbce6bb-3e8f-48c3-971a-e069bfa6ee17",
    "scrolled": true
   },
   "outputs": [
    {
     "data": {
      "text/plain": [
       "[(('tovolo', 'teeli', 'frieling/swissgold'), 40.37507517919895),\n",
       " (('star®', 'saf®', 'bakipan®'), 40.322607759304816),\n",
       " (('r.o', 'vles', 'j.j.'), 40.12996268136243),\n",
       " (('robblen', 'r.k.', 'downey'), 40.12996268136243),\n",
       " (('vles', 'j.j.', 'gottenbos'), 40.12996268136243),\n",
       " (('readable', 'insightful', 'inspirational'), 40.05957335347102),\n",
       " (('//www.amazon.com/gp/product/b0012s1v2a', 'oster', '5965'),\n",
       "  39.73764525858367),\n",
       " (('mikhail', 'y.', 'golovko'), 39.67053106272513),\n",
       " (('5965', 'stainless-steel', '1-1/2-liter'), 39.28196577480747),\n",
       " (('h.m.s', 'peregrine', 'cavendish'), 38.466048839246454),\n",
       " (('oster', '5965', 'stainless-steel'), 38.05957335347102),\n",
       " (('sir', 'algernon', 'freeman-mitford'), 38.0531470843116),\n",
       " (('y.', 'golovko', 'eric'), 37.96003767992011),\n",
       " (('dunaliella', 'salina', 'algae'), 37.930290336526056),\n",
       " (('downey', 'a.', 'ashri'), 37.70369792666033),\n",
       " (('r.k.', 'downey', 'a.'), 37.70369792666033),\n",
       " (('nutr', '1982', 'apr'), 37.67463546105787),\n",
       " (('192f', '204', 'f.'), 37.60640072530541),\n",
       " (('hoo', 'roo', 'rook'), 37.598581220846114),\n",
       " (('bifidobacgterium', 'longum', 'enterococcus'), 37.50060606128281),\n",
       " (('anthony', 'trendl', 'editor'), 37.4157171636963),\n",
       " (('acidolphilus', 'bacillus', 'subtilis'), 37.37507517919895),\n",
       " (('1989', 'pp', '36-86.'), 37.16417839670034),\n",
       " (('bircherm', 'uuml', 'esli'), 37.14412074435908),\n",
       " (('epigallocatechin', 'gallate', 'egcg'), 37.08556856200397),\n",
       " (('ne', 'sais', 'quoi'), 37.050144596150076),\n",
       " (('g.', 'robblen', 'r.k.'), 36.901143990866544),\n",
       " (('gottenbos', 'g.', 'robblen'), 36.901143990866544),\n",
       " (('j.j.', 'gottenbos', 'g.'), 36.901143990866544),\n",
       " (('aaa', 'aaa', 'aaa'), 36.84561175966896),\n",
       " (('101012', 'crunch®', 'thinkthin'), 36.830754662975146),\n",
       " (('clandinin', 'mt', 'yamashiro'), 36.80803458647507),\n",
       " (('haba', 'ntilde', 'ero'), 36.80803458647507),\n",
       " (('je', 'ne', 'sais'), 36.80503209831354),\n",
       " (('aceto', 'balsamico', 'tradizionale'), 36.67053106272513),\n",
       " (('1982', 'apr', '112'), 36.45224303972142),\n",
       " (('kramer', 'et', 'al.'), 36.32623515480931),\n",
       " (('d.', 'mikels', 'esq.i'), 36.20960982594735),\n",
       " (('rescuing', 'fostering', 'adopting'), 36.127147665755366),\n",
       " (('li', 'hing', 'mui'), 36.12353641220299),\n",
       " (('fat-induced', 'myocardial', 'lesion'), 36.06521991661217),\n",
       " (('myocardial', 'lesion', 'clandinin'), 36.06521991661217),\n",
       " (('ting', 'ting', 'jahe'), 35.99896319182844),\n",
       " (('quickly-nice', 'story.', 'niederegger'), 35.96254453553068),\n",
       " (('contributed', '632,500', 'propaganda'), 35.95200930616417),\n",
       " (('austrian', 'swede', 'renowned'), 35.93766986689165),\n",
       " (('a.', 'ashri', 'editor'), 35.89634300460273),\n",
       " (('632,500', 'propaganda', 'campaign'), 35.87257483866978),\n",
       " (('//www.amazon.com/gp/product/b000buddty', 'rsvp', 'manual'),\n",
       "  35.77814003681172),\n",
       " ((\"5'-monophosphate\", 'disodium', 'uridine'), 35.74194539601729)]"
      ]
     },
     "execution_count": 171,
     "metadata": {
      "tags": []
     },
     "output_type": "execute_result"
    }
   ],
   "source": [
    "# View top trigrams by mutual information score\n",
    "tri_pmi_finder = nltk.collocations.TrigramCollocationFinder.from_words(lemma_tokens)\n",
    "\n",
    "tri_pmi_finder.apply_freq_filter(5)\n",
    "\n",
    "tri_pmi_scored = tri_pmi_finder.score_ngrams(trigram_measures.pmi)\n",
    "\n",
    "tri_pmi_scored[:50]"
   ]
  },
  {
   "cell_type": "markdown",
   "metadata": {
    "colab_type": "text",
    "heading_collapsed": true,
    "id": "a2qwe3DsNM1K"
   },
   "source": [
    "## Advanced EDA takeaways"
   ]
  },
  {
   "cell_type": "markdown",
   "metadata": {
    "colab_type": "text",
    "hidden": true,
    "id": "eNyIU-v0NM1L"
   },
   "source": [
    "Takeaways from frequency distributions:\n",
    "- The most common words represent a mix of positive and negative feelings toward products and situations. One the one hand, reviewers talk about \"liking\" or \"loving\" products, but they also talk about things they \"can't,\" \"won't,\" or \"don't\" do. \n",
    "- Tea, coffee, and chocolate stand out as top products; sugar, oil, and milk are frequently mentioned ingredients.\n",
    "- Cat and dog feature heavily because the dataset includes reviews of pet foods as well as gourmet products.\n",
    "- Comments on the packaging appear to be common (bag, box, and pack appear in the top 100).\n",
    "- There may be a frequent contrast between Amazon and local stores."
   ]
  },
  {
   "cell_type": "markdown",
   "metadata": {
    "colab_type": "text",
    "hidden": true,
    "id": "vfgKDzykNM1L"
   },
   "source": [
    "Takeaways from bigrams:\n",
    "\n",
    "- The most frequently occurring bigram is \"can't\"; there seems to be an emphasis in reviews on something the writer can't get or do, and maybe the product is solving that (or exacerbating the problem).\n",
    "- Green tea, peanut butter, olive oil, coconut oil, dark chocolate, and tea bags are frequently mentioned foods.\n",
    "- There are lots of positive comparisons in the bigrams: tastes good, tastes great, much better.\n",
    "- Although there is no correlation between positivity and helpfulness of a review, \"highly recommend,\" \"would recommend,\" and \"5 star\" occur frequently.\n",
    "- The bigrams highlight gluten allergy/sensitivity as a major concern of reviewers."
   ]
  },
  {
   "cell_type": "markdown",
   "metadata": {
    "colab_type": "text",
    "hidden": true,
    "id": "q0xWS-H5NM1L"
   },
   "source": [
    "Takeaways from trigrams:\n",
    "\n",
    "Trigrams highlight key phrases that aren't as apparent when looking at frequency distributions or bigrams. \n",
    "\n",
    "- Trigrams show an emphasis on pain points that the product/Amazon may have solved. Phrases like \"can't/couldn't get,\" \"can't/couldn't find,\" \"can't/won't eat\" occur relatively frequently.\n",
    "- Trigrams also highlight discussion of local stores and \"Amazon's price.\"\n",
    "- Bob's Red Mill and Trader Joe's are frequently named in reviews.\n",
    "- High fructose corn syrup is the only ingredient that appears at the trigram level.\n",
    "- Trigrams highlight taste comparisons as a common feature of reviews."
   ]
  },
  {
   "cell_type": "markdown",
   "metadata": {
    "colab_type": "text",
    "hidden": true,
    "id": "Uo3RSDMjNM1M"
   },
   "source": [
    "Mutual information scores do not seem very helpful at either the bigram or trigram level. At best they highlight a few additional brand names. At worst they pick up on phrases that look spammy. "
   ]
  },
  {
   "cell_type": "markdown",
   "metadata": {
    "colab_type": "text",
    "heading_collapsed": true,
    "id": "YwkO24PzNM1M"
   },
   "source": [
    "## Try looking at the unhelpful reviews to see if they're very different"
   ]
  },
  {
   "cell_type": "code",
   "execution_count": 0,
   "metadata": {
    "ExecuteTime": {
     "end_time": "2019-12-16T23:21:04.739420Z",
     "start_time": "2019-12-16T23:21:00.134976Z"
    },
    "colab": {},
    "colab_type": "code",
    "hidden": true,
    "id": "NFv_RaHoNM1N",
    "outputId": "f4d8f49b-2482-4a4a-da1d-18b733ae9779",
    "scrolled": true
   },
   "outputs": [
    {
     "data": {
      "text/plain": [
       "79080028"
      ]
     },
     "execution_count": 172,
     "metadata": {
      "tags": []
     },
     "output_type": "execute_result"
    }
   ],
   "source": [
    "# Get all unhelpful reviews\n",
    "unhelpful = data_clean[data_clean.helpful == 0]\n",
    "combined_text_unhelpful = ''\n",
    "for row in unhelpful.index:\n",
    "    combined_text_unhelpful += unhelpful.loc[row, 'text']\n",
    "\n",
    "len(combined_text_unhelpful)"
   ]
  },
  {
   "cell_type": "code",
   "execution_count": 0,
   "metadata": {
    "ExecuteTime": {
     "end_time": "2019-12-16T23:48:11.683314Z",
     "start_time": "2019-12-16T23:48:11.675687Z"
    },
    "colab": {},
    "colab_type": "code",
    "hidden": true,
    "id": "5gUTL0gBNM1R",
    "outputId": "0d72d7a0-427e-4640-985b-33b7d30a6abe"
   },
   "outputs": [
    {
     "data": {
      "text/plain": [
       "207126"
      ]
     },
     "execution_count": 186,
     "metadata": {
      "tags": []
     },
     "output_type": "execute_result"
    }
   ],
   "source": [
    "# Get number of reviews\n",
    "len(unhelpful)"
   ]
  },
  {
   "cell_type": "code",
   "execution_count": 0,
   "metadata": {
    "ExecuteTime": {
     "end_time": "2019-12-16T23:26:36.840481Z",
     "start_time": "2019-12-16T23:24:13.188322Z"
    },
    "colab": {},
    "colab_type": "code",
    "hidden": true,
    "id": "xRSHG0E3NM1S"
   },
   "outputs": [],
   "source": [
    "# Tokenize\n",
    "tokens_unhelpful = word_tokenize(combined_text_unhelpful)"
   ]
  },
  {
   "cell_type": "code",
   "execution_count": 0,
   "metadata": {
    "ExecuteTime": {
     "end_time": "2019-12-16T23:47:52.393946Z",
     "start_time": "2019-12-16T23:47:52.383738Z"
    },
    "colab": {},
    "colab_type": "code",
    "hidden": true,
    "id": "dICeU36_NM1T",
    "outputId": "3c6cf219-ee03-4063-909b-4b9f87f8a6e7"
   },
   "outputs": [
    {
     "data": {
      "text/plain": [
       "17132378"
      ]
     },
     "execution_count": 185,
     "metadata": {
      "tags": []
     },
     "output_type": "execute_result"
    }
   ],
   "source": [
    "# Get total number of tokens\n",
    "len(tokens_unhelpful)"
   ]
  },
  {
   "cell_type": "code",
   "execution_count": 0,
   "metadata": {
    "ExecuteTime": {
     "end_time": "2019-12-16T23:27:19.381865Z",
     "start_time": "2019-12-16T23:26:36.850676Z"
    },
    "colab": {},
    "colab_type": "code",
    "hidden": true,
    "id": "dZOHvZ-2NM1V"
   },
   "outputs": [],
   "source": [
    "# Convert all tokens to lowercase\n",
    "lower_tokens_unhelpful = [word.lower() for word in tokens_unhelpful if word.lower() not in stop_list]"
   ]
  },
  {
   "cell_type": "code",
   "execution_count": 0,
   "metadata": {
    "ExecuteTime": {
     "end_time": "2019-12-16T23:27:59.820347Z",
     "start_time": "2019-12-16T23:27:19.386325Z"
    },
    "colab": {},
    "colab_type": "code",
    "hidden": true,
    "id": "ZUkQo47ENM1W"
   },
   "outputs": [],
   "source": [
    "# Lemmatize\n",
    "lemma_tokens_unhelpful = [lem.lemmatize(word) for word in lower_tokens_unhelpful]"
   ]
  },
  {
   "cell_type": "code",
   "execution_count": 0,
   "metadata": {
    "ExecuteTime": {
     "end_time": "2019-12-16T23:28:08.629187Z",
     "start_time": "2019-12-16T23:27:59.825145Z"
    },
    "colab": {},
    "colab_type": "code",
    "hidden": true,
    "id": "8449dk3ENM1a"
   },
   "outputs": [],
   "source": [
    "# Get frequency distribution\n",
    "freqdist_unhelpful = FreqDist(lemma_tokens_unhelpful)"
   ]
  },
  {
   "cell_type": "code",
   "execution_count": 0,
   "metadata": {
    "ExecuteTime": {
     "end_time": "2019-12-16T23:49:58.922435Z",
     "start_time": "2019-12-16T23:49:58.916085Z"
    },
    "colab": {},
    "colab_type": "code",
    "hidden": true,
    "id": "WKPEVqrcNM1d",
    "outputId": "4b9e0ac8-6231-480e-9a4e-5d34b577269f"
   },
   "outputs": [
    {
     "data": {
      "text/plain": [
       "183037"
      ]
     },
     "execution_count": 189,
     "metadata": {
      "tags": []
     },
     "output_type": "execute_result"
    }
   ],
   "source": [
    "# Get number of unique tokens\n",
    "len(freqdist_unhelpful)"
   ]
  },
  {
   "cell_type": "code",
   "execution_count": 0,
   "metadata": {
    "ExecuteTime": {
     "end_time": "2019-12-16T23:28:08.681771Z",
     "start_time": "2019-12-16T23:28:08.632364Z"
    },
    "colab": {},
    "colab_type": "code",
    "hidden": true,
    "id": "6YQn7F80NM1g"
   },
   "outputs": [],
   "source": [
    "# Select top 50 words\n",
    "top_50_unhelpful = freqdist_unhelpful.most_common(50)"
   ]
  },
  {
   "cell_type": "code",
   "execution_count": 0,
   "metadata": {
    "ExecuteTime": {
     "end_time": "2019-12-16T23:28:10.871236Z",
     "start_time": "2019-12-16T23:28:08.685104Z"
    },
    "colab": {},
    "colab_type": "code",
    "hidden": true,
    "id": "nfD_UDUdNM1j",
    "outputId": "9e9c469c-b749-44dd-a3c3-f1ce31f6aaf3"
   },
   "outputs": [
    {
     "data": {
      "image/png": "[encoded data removed]",
      "text/plain": [
       "<Figure size 1152x720 with 1 Axes>"
      ]
     },
     "metadata": {
      "needs_background": "light",
      "tags": []
     },
     "output_type": "display_data"
    }
   ],
   "source": [
    "# Plot top 50 words\n",
    "plt.figure(figsize=(16,10))\n",
    "plt.barh(y=[x[0] for x in top_50_unhelpful], \n",
    "         width=[x[1] for x in top_50_unhelpful])\n",
    "plt.xlabel('Number of occurences')\n",
    "plt.ylabel('Top words')\n",
    "plt.title('Most common words in \"unhelpful\" reviews')\n",
    "plt.show();"
   ]
  },
  {
   "cell_type": "code",
   "execution_count": 0,
   "metadata": {
    "ExecuteTime": {
     "end_time": "2019-12-16T23:28:10.929287Z",
     "start_time": "2019-12-16T23:28:10.874430Z"
    },
    "colab": {},
    "colab_type": "code",
    "hidden": true,
    "id": "a7-gAv7oNM1k"
   },
   "outputs": [],
   "source": [
    "# Get top 100 words\n",
    "top_100_unhelpful = freqdist_unhelpful.most_common(100)"
   ]
  },
  {
   "cell_type": "code",
   "execution_count": 0,
   "metadata": {
    "ExecuteTime": {
     "end_time": "2019-12-16T23:28:12.630814Z",
     "start_time": "2019-12-16T23:28:10.933448Z"
    },
    "colab": {},
    "colab_type": "code",
    "hidden": true,
    "id": "9R_S-2z5NM1m",
    "outputId": "79be4ae7-d435-46e1-df9d-2913fa9633e9",
    "scrolled": true
   },
   "outputs": [
    {
     "data": {
      "image/png": "[encoded data removed]",
      "text/plain": [
       "<Figure size 1152x1152 with 1 Axes>"
      ]
     },
     "metadata": {
      "needs_background": "light",
      "tags": []
     },
     "output_type": "display_data"
    }
   ],
   "source": [
    "# Plot top 100 words\n",
    "plt.figure(figsize=(16,16))\n",
    "plt.barh(y=[x[0] for x in top_100_unhelpful], \n",
    "         width=[x[1] for x in top_100_unhelpful])\n",
    "plt.xlabel('Number of occurences')\n",
    "plt.ylabel('Top words')\n",
    "plt.title('Most common words in \"unhelpful\" reviews')\n",
    "plt.show();"
   ]
  },
  {
   "cell_type": "code",
   "execution_count": 0,
   "metadata": {
    "ExecuteTime": {
     "end_time": "2019-12-17T00:08:26.201173Z",
     "start_time": "2019-12-17T00:08:25.779325Z"
    },
    "colab": {},
    "colab_type": "code",
    "hidden": true,
    "id": "bcNw1eSqNM1o",
    "outputId": "e0b2ec43-eadf-4844-e295-7dde513fe541"
   },
   "outputs": [
    {
     "data": {
      "image/png": "[encoded data removed]",
      "text/plain": [
       "<Figure size 1152x432 with 3 Axes>"
      ]
     },
     "metadata": {
      "needs_background": "light",
      "tags": []
     },
     "output_type": "display_data"
    }
   ],
   "source": [
    "# Compare helpful and unhelpful review data subsets\n",
    "fig, axes = plt.subplots(1, 3, figsize=(16,6))\n",
    "\n",
    "ax1 = axes[0]\n",
    "ax1.bar(x=['Helpful', 'Unhelpful'], height=[len(helpful), len(unhelpful)], \n",
    "        color=['tab:cyan', 'tab:olive'])\n",
    "ax1.set_title('Number of reviews')\n",
    "\n",
    "ax2 = axes[1]\n",
    "ax2.bar(x=['Helpful', 'Unhelpful'], height=[len(tokens), len(tokens_unhelpful)],\n",
    "        color=['tab:cyan', 'tab:olive'])\n",
    "ax2.set_title('Total number of tokens')\n",
    "\n",
    "ax3 = axes[2]\n",
    "ax3.bar(x=['Helpful', 'Unhelpful'], height=[len(freqdist), len(freqdist_unhelpful)],\n",
    "        color=['tab:cyan', 'tab:olive'])\n",
    "ax3.set_title('Number of unique tokens')\n",
    "\n",
    "plt.show();"
   ]
  },
  {
   "cell_type": "markdown",
   "metadata": {
    "colab_type": "text",
    "hidden": true,
    "id": "I2tIIhdQNM1r"
   },
   "source": [
    "GUESS WHAT: The vocabularies of helpful and unhelpful reviews are VERY SIMILAR. This means we have a machine learning problem on our hands. I would not be able to distinguish a helpful from an unhelpful review by vocabulary alone. Let's see if a neural network can do it!"
   ]
  },
  {
   "cell_type": "markdown",
   "metadata": {
    "colab_type": "text",
    "id": "PTRS6JLwNM1s"
   },
   "source": [
    "# Preprocessing and modeling\n",
    "\n",
    "Things to try:\n",
    "- word2vec (which requires tokenization, stopword removal first)\n",
    "- glove or word2vec\n",
    "\n",
    "Modeling things to try\n",
    "Shallow models:\n",
    "- Random forest\n",
    "- Logistic regression\n",
    "- SVM\n",
    "\n",
    "Deep models:\n",
    "- RNNs of various dimensions\n"
   ]
  },
  {
   "cell_type": "code",
   "execution_count": 0,
   "metadata": {
    "colab": {},
    "colab_type": "code",
    "id": "xEeLAFDqNM1s"
   },
   "outputs": [],
   "source": []
  },
  {
   "cell_type": "code",
   "execution_count": 0,
   "metadata": {
    "colab": {},
    "colab_type": "code",
    "id": "HttW_wdqNM1v"
   },
   "outputs": [],
   "source": []
  },
  {
   "cell_type": "code",
   "execution_count": 3,
   "metadata": {
    "colab": {
     "base_uri": "https://localhost:8080/",
     "height": 122
    },
    "colab_type": "code",
    "id": "4EqSV8inNM1w",
    "outputId": "18b9bdc5-4562-41ca-c063-353a329e666a"
   },
   "outputs": [
    {
     "name": "stdout",
     "output_type": "stream",
     "text": [
      "Go to this URL in a browser: https://accounts.google.com/o/oauth2/auth?client_id=947318989803-6bn6qk8qdgf4n4g3pfee6491hc0brc4i.apps.googleusercontent.com&redirect_uri=urn%3aietf%3awg%3aoauth%3a2.0%3aoob&response_type=code&scope=email%20https%3a%2f%2fwww.googleapis.com%2fauth%2fdocs.test%20https%3a%2f%2fwww.googleapis.com%2fauth%2fdrive%20https%3a%2f%2fwww.googleapis.com%2fauth%2fdrive.photos.readonly%20https%3a%2f%2fwww.googleapis.com%2fauth%2fpeopleapi.readonly\n",
      "\n",
      "Enter your authorization code:\n",
      "··········\n",
      "Mounted at /content/drive\n"
     ]
    }
   ],
   "source": [
    "# If needed, re-read in the clean dataset\n",
    "from google.colab import drive\n",
    "drive.mount('/content/drive')"
   ]
  },
  {
   "cell_type": "code",
   "execution_count": 7,
   "metadata": {
    "colab": {
     "base_uri": "https://localhost:8080/",
     "height": 204
    },
    "colab_type": "code",
    "id": "Vdq_SEV3ZUe2",
    "outputId": "40a48a0e-7bbc-4db2-fb4c-d1cd088446ce"
   },
   "outputs": [
    {
     "data": {
      "text/html": [
       "<div>\n",
       "<style scoped>\n",
       "    .dataframe tbody tr th:only-of-type {\n",
       "        vertical-align: middle;\n",
       "    }\n",
       "\n",
       "    .dataframe tbody tr th {\n",
       "        vertical-align: top;\n",
       "    }\n",
       "\n",
       "    .dataframe thead th {\n",
       "        text-align: right;\n",
       "    }\n",
       "</style>\n",
       "<table border=\"1\" class=\"dataframe\">\n",
       "  <thead>\n",
       "    <tr style=\"text-align: right;\">\n",
       "      <th></th>\n",
       "      <th>helpful</th>\n",
       "      <th>text</th>\n",
       "      <th>helpful_1</th>\n",
       "    </tr>\n",
       "  </thead>\n",
       "  <tbody>\n",
       "    <tr>\n",
       "      <th>0</th>\n",
       "      <td>1</td>\n",
       "      <td>I have bought several of the Vitality canned d...</td>\n",
       "      <td>1</td>\n",
       "    </tr>\n",
       "    <tr>\n",
       "      <th>1</th>\n",
       "      <td>0</td>\n",
       "      <td>Product arrived labeled as Jumbo Salted Peanut...</td>\n",
       "      <td>0</td>\n",
       "    </tr>\n",
       "    <tr>\n",
       "      <th>2</th>\n",
       "      <td>1</td>\n",
       "      <td>This is a confection that has been around a fe...</td>\n",
       "      <td>1</td>\n",
       "    </tr>\n",
       "    <tr>\n",
       "      <th>3</th>\n",
       "      <td>3</td>\n",
       "      <td>If you are looking for the secret ingredient i...</td>\n",
       "      <td>1</td>\n",
       "    </tr>\n",
       "    <tr>\n",
       "      <th>4</th>\n",
       "      <td>0</td>\n",
       "      <td>Great taffy at a great price.  There was a wid...</td>\n",
       "      <td>0</td>\n",
       "    </tr>\n",
       "  </tbody>\n",
       "</table>\n",
       "</div>"
      ],
      "text/plain": [
       "   helpful                                               text  helpful_1\n",
       "0        1  I have bought several of the Vitality canned d...          1\n",
       "1        0  Product arrived labeled as Jumbo Salted Peanut...          0\n",
       "2        1  This is a confection that has been around a fe...          1\n",
       "3        3  If you are looking for the secret ingredient i...          1\n",
       "4        0  Great taffy at a great price.  There was a wid...          0"
      ]
     },
     "execution_count": 7,
     "metadata": {
      "tags": []
     },
     "output_type": "execute_result"
    }
   ],
   "source": [
    "data_clean = pd.read_csv(\"/content/drive/My Drive/helpful-reviews/data_clean.csv\")\n",
    "data_clean.drop('Unnamed: 0', axis=1, inplace=True)\n",
    "data_clean['helpful_1'] = np.where(data_clean['helpful'] > 0, 1, 0)\n",
    "data_clean.head()"
   ]
  },
  {
   "cell_type": "code",
   "execution_count": 0,
   "metadata": {
    "colab": {
     "base_uri": "https://localhost:8080/",
     "height": 68
    },
    "colab_type": "code",
    "id": "XhY4JrK1Lhla",
    "outputId": "8bcd6b0d-ce66-4cec-ee2c-b6e680e13585"
   },
   "outputs": [
    {
     "data": {
      "text/plain": [
       "0    0.526263\n",
       "1    0.473737\n",
       "Name: helpful_1, dtype: float64"
      ]
     },
     "execution_count": 70,
     "metadata": {
      "tags": []
     },
     "output_type": "execute_result"
    }
   ],
   "source": [
    "data_clean.helpful_1.value_counts(normalize=True)"
   ]
  },
  {
   "cell_type": "code",
   "execution_count": 0,
   "metadata": {
    "ExecuteTime": {
     "end_time": "2019-12-17T21:12:33.998524Z",
     "start_time": "2019-12-17T21:12:32.459364Z"
    },
    "colab": {},
    "colab_type": "code",
    "id": "2x8F68q_NM1y"
   },
   "outputs": [],
   "source": [
    "# Train-val-test split\n",
    "from sklearn.model_selection import train_test_split\n",
    "\n",
    "y = data_clean['helpful_1']\n",
    "X = data_clean['text']\n",
    "\n",
    "X_train, X_test, y_train, y_test = train_test_split(X, y, test_size=0.2,\n",
    "                                                    random_state=123)\n",
    "X_val, X_test, y_val, y_test = train_test_split(X_test, y_test, test_size=0.5,\n",
    "                                                random_state=123)"
   ]
  },
  {
   "cell_type": "code",
   "execution_count": 0,
   "metadata": {
    "colab": {
     "base_uri": "https://localhost:8080/",
     "height": 170
    },
    "colab_type": "code",
    "id": "MWifK7hpLoMQ",
    "outputId": "27ea3c2e-f3c8-4b6e-f24a-160db9711462"
   },
   "outputs": [
    {
     "name": "stdout",
     "output_type": "stream",
     "text": [
      "0    0.525673\n",
      "1    0.474327\n",
      "Name: helpful_1, dtype: float64\n",
      "0    0.528787\n",
      "1    0.471213\n",
      "Name: helpful_1, dtype: float64\n",
      "0    0.528457\n",
      "1    0.471543\n",
      "Name: helpful_1, dtype: float64\n"
     ]
    }
   ],
   "source": [
    "print(y_train.value_counts(normalize=True))\n",
    "print(y_val.value_counts(normalize=True))\n",
    "print(y_test.value_counts(normalize=True))"
   ]
  },
  {
   "cell_type": "markdown",
   "metadata": {
    "colab_type": "text",
    "id": "Ha7yaQ8rNM10"
   },
   "source": [
    "## Make bigrams, run through a Random Forest for baseline"
   ]
  },
  {
   "cell_type": "code",
   "execution_count": 0,
   "metadata": {
    "ExecuteTime": {
     "end_time": "2019-12-17T21:00:16.881240Z",
     "start_time": "2019-12-17T21:00:11.621505Z"
    },
    "colab": {
     "base_uri": "https://localhost:8080/",
     "height": 408
    },
    "colab_type": "code",
    "id": "UpC_3J0rNM10",
    "outputId": "9483e715-8eb5-4f1f-ddc2-b58c9e2af643",
    "scrolled": true
   },
   "outputs": [
    {
     "data": {
      "text/plain": [
       "Pipeline(memory=None,\n",
       "         steps=[('vectorizer',\n",
       "                 CountVectorizer(analyzer='word', binary=False,\n",
       "                                 decode_error='strict',\n",
       "                                 dtype=<class 'numpy.int64'>, encoding='utf-8',\n",
       "                                 input='content', lowercase=True, max_df=1.0,\n",
       "                                 max_features=100, min_df=1, ngram_range=(2, 2),\n",
       "                                 preprocessor=None,\n",
       "                                 stop_words=['i', 'me', 'my', 'myself', 'we',\n",
       "                                             'our', 'ours', 'ourselves', 'you',\n",
       "                                             \"you're\", \"you've\", \"you...\n",
       "                 RandomForestClassifier(bootstrap=True, class_weight=None,\n",
       "                                        criterion='gini', max_depth=None,\n",
       "                                        max_features='auto',\n",
       "                                        max_leaf_nodes=None,\n",
       "                                        min_impurity_decrease=0.0,\n",
       "                                        min_impurity_split=None,\n",
       "                                        min_samples_leaf=1, min_samples_split=2,\n",
       "                                        min_weight_fraction_leaf=0.0,\n",
       "                                        n_estimators=100, n_jobs=-1,\n",
       "                                        oob_score=False, random_state=None,\n",
       "                                        verbose=0, warm_start=False))],\n",
       "         verbose=False)"
      ]
     },
     "execution_count": 28,
     "metadata": {
      "tags": []
     },
     "output_type": "execute_result"
    }
   ],
   "source": [
    "# Fit a CountVectorizer-RandomForest pipeline (~2 min.)\n",
    "from sklearn.feature_extraction.text import CountVectorizer\n",
    "from sklearn.pipeline import Pipeline\n",
    "from sklearn.ensemble import RandomForestClassifier\n",
    "\n",
    "pipe_bigram_rf = Pipeline([('vectorizer', CountVectorizer(analyzer='word', \n",
    "                                                          ngram_range=(2, 2), \n",
    "                                                          stop_words=stop_list, \n",
    "                                                          max_features=100)),\n",
    "                        ('forest', RandomForestClassifier(n_estimators=100,\n",
    "                                                          n_jobs=-1))])\n",
    "\n",
    "pipe_bigram_rf.fit(X_train, y_train)\n"
   ]
  },
  {
   "cell_type": "code",
   "execution_count": 0,
   "metadata": {
    "colab": {
     "base_uri": "https://localhost:8080/",
     "height": 34
    },
    "colab_type": "code",
    "id": "GAXyUV_zNM13",
    "outputId": "f335d21e-1553-47b1-8bf0-53687eb67743"
   },
   "outputs": [
    {
     "name": "stdout",
     "output_type": "stream",
     "text": [
      "Training accuracy: 0.5917748354046045\n"
     ]
    }
   ],
   "source": [
    "# Predict and score\n",
    "from sklearn.metrics import accuracy_score, confusion_matrix, classification_report\n",
    "\n",
    "y_pred_train = pipe_bigram_rf.predict(X_train)\n",
    "print('Training accuracy:', accuracy_score(y_pred_train, y_train))"
   ]
  },
  {
   "cell_type": "code",
   "execution_count": 0,
   "metadata": {
    "colab": {
     "base_uri": "https://localhost:8080/",
     "height": 34
    },
    "colab_type": "code",
    "id": "IuZVJhqrNM15",
    "outputId": "25eb2377-cc6f-464e-d644-533b7d69a3b1"
   },
   "outputs": [
    {
     "name": "stdout",
     "output_type": "stream",
     "text": [
      "Validation accuracy: 0.540779511154022\n"
     ]
    }
   ],
   "source": [
    "# Validate\n",
    "y_pred_val = pipe_bigram_rf.predict(X_val)\n",
    "print('Validation accuracy:', accuracy_score(y_pred_val, y_val))"
   ]
  },
  {
   "cell_type": "code",
   "execution_count": 0,
   "metadata": {
    "colab": {
     "base_uri": "https://localhost:8080/",
     "height": 170
    },
    "colab_type": "code",
    "id": "BAJymdo_NM16",
    "outputId": "a065fde4-95d6-4bdc-c403-8bea6b337fbd"
   },
   "outputs": [
    {
     "name": "stdout",
     "output_type": "stream",
     "text": [
      "              precision    recall  f1-score   support\n",
      "\n",
      "           0       0.84      0.54      0.66     32248\n",
      "           1       0.20      0.53      0.30      7110\n",
      "\n",
      "    accuracy                           0.54     39358\n",
      "   macro avg       0.52      0.54      0.48     39358\n",
      "weighted avg       0.73      0.54      0.59     39358\n",
      "\n"
     ]
    }
   ],
   "source": [
    "# View additional metrics\n",
    "print(classification_report(y_pred_val, y_val))"
   ]
  },
  {
   "cell_type": "markdown",
   "metadata": {
    "colab_type": "text",
    "id": "YjSHr4XVNM18"
   },
   "source": [
    "## Make term-document matrix, run through a Random Forest for baseline"
   ]
  },
  {
   "cell_type": "code",
   "execution_count": 0,
   "metadata": {
    "ExecuteTime": {
     "start_time": "2019-12-17T21:58:31.984Z"
    },
    "colab": {
     "base_uri": "https://localhost:8080/",
     "height": 408
    },
    "colab_type": "code",
    "id": "k11C_tzsNM1-",
    "outputId": "9411fa34-bcb0-4594-94f5-15eb97ae8e6d"
   },
   "outputs": [
    {
     "data": {
      "text/plain": [
       "Pipeline(memory=None,\n",
       "         steps=[('vectorizer',\n",
       "                 CountVectorizer(analyzer='word', binary=False,\n",
       "                                 decode_error='strict',\n",
       "                                 dtype=<class 'numpy.int64'>, encoding='utf-8',\n",
       "                                 input='content', lowercase=True, max_df=1.0,\n",
       "                                 max_features=100, min_df=1, ngram_range=(1, 1),\n",
       "                                 preprocessor=None,\n",
       "                                 stop_words=['i', 'me', 'my', 'myself', 'we',\n",
       "                                             'our', 'ours', 'ourselves', 'you',\n",
       "                                             \"you're\", \"you've\", \"you...\n",
       "                 RandomForestClassifier(bootstrap=True, class_weight=None,\n",
       "                                        criterion='gini', max_depth=None,\n",
       "                                        max_features='auto',\n",
       "                                        max_leaf_nodes=None,\n",
       "                                        min_impurity_decrease=0.0,\n",
       "                                        min_impurity_split=None,\n",
       "                                        min_samples_leaf=1, min_samples_split=2,\n",
       "                                        min_weight_fraction_leaf=0.0,\n",
       "                                        n_estimators=100, n_jobs=-1,\n",
       "                                        oob_score=False, random_state=None,\n",
       "                                        verbose=0, warm_start=False))],\n",
       "         verbose=False)"
      ]
     },
     "execution_count": 19,
     "metadata": {
      "tags": []
     },
     "output_type": "execute_result"
    }
   ],
   "source": [
    "# Tokenize + lower case\n",
    "from sklearn.feature_extraction.text import CountVectorizer\n",
    "from sklearn.pipeline import Pipeline\n",
    "from sklearn.ensemble import RandomForestClassifier\n",
    "\n",
    "pipe_tdm_rf = Pipeline([('vectorizer', CountVectorizer(stop_words=stop_list, \n",
    "                                                       max_features=100)),\n",
    "                        ('forest', RandomForestClassifier(n_estimators=100,\n",
    "                                                          n_jobs=-1))])\n",
    "\n",
    "pipe_tdm_rf.fit(X_train, y_train)"
   ]
  },
  {
   "cell_type": "code",
   "execution_count": 0,
   "metadata": {
    "ExecuteTime": {
     "start_time": "2019-12-17T21:58:32.503Z"
    },
    "colab": {
     "base_uri": "https://localhost:8080/",
     "height": 187
    },
    "colab_type": "code",
    "id": "hhTG4yvwNM1_",
    "outputId": "c67e5227-de17-404a-be7e-5b9ab3408e36"
   },
   "outputs": [
    {
     "name": "stdout",
     "output_type": "stream",
     "text": [
      "Training accuracy: 0.9722958874177023\n",
      "              precision    recall  f1-score   support\n",
      "\n",
      "           0       0.98      0.96      0.97    169148\n",
      "           1       0.96      0.98      0.97    145715\n",
      "\n",
      "    accuracy                           0.97    314863\n",
      "   macro avg       0.97      0.97      0.97    314863\n",
      "weighted avg       0.97      0.97      0.97    314863\n",
      "\n"
     ]
    }
   ],
   "source": [
    "# Predict and score\n",
    "from sklearn.metrics import accuracy_score, confusion_matrix, classification_report\n",
    "\n",
    "y_pred_train = pipe_tdm_rf.predict(X_train)\n",
    "print('Training accuracy:', accuracy_score(y_pred_train, y_train))\n",
    "print(classification_report(y_pred_train, y_train))"
   ]
  },
  {
   "cell_type": "code",
   "execution_count": 0,
   "metadata": {
    "ExecuteTime": {
     "start_time": "2019-12-17T21:58:32.992Z"
    },
    "colab": {
     "base_uri": "https://localhost:8080/",
     "height": 187
    },
    "colab_type": "code",
    "id": "-qtje2uFNM2B",
    "outputId": "1d6d766d-65f5-47fd-8af1-f4d939a4feec"
   },
   "outputs": [
    {
     "name": "stdout",
     "output_type": "stream",
     "text": [
      "Validation accuracy: 0.5493165303114995\n",
      "              precision    recall  f1-score   support\n",
      "\n",
      "           0       0.62      0.57      0.59     22556\n",
      "           1       0.47      0.52      0.50     16802\n",
      "\n",
      "    accuracy                           0.55     39358\n",
      "   macro avg       0.55      0.55      0.54     39358\n",
      "weighted avg       0.56      0.55      0.55     39358\n",
      "\n"
     ]
    }
   ],
   "source": [
    "# Validate\n",
    "y_pred_val = pipe_tdm_rf.predict(X_val)\n",
    "print('Validation accuracy:', accuracy_score(y_pred_val, y_val))\n",
    "print(classification_report(y_pred_val, y_val))"
   ]
  },
  {
   "cell_type": "markdown",
   "metadata": {
    "colab_type": "text",
    "id": "jEIuhcR2NM2H"
   },
   "source": [
    "## Do TF-IDF, run through a Random Forest for baseline"
   ]
  },
  {
   "cell_type": "code",
   "execution_count": 0,
   "metadata": {
    "ExecuteTime": {
     "end_time": "2019-12-17T21:29:22.629694Z",
     "start_time": "2019-12-17T21:28:25.047701Z"
    },
    "colab": {
     "base_uri": "https://localhost:8080/",
     "height": 408
    },
    "colab_type": "code",
    "id": "XzUSNFP-NM2K",
    "outputId": "caa4dfeb-5bcb-4c5d-e06e-0e54b83c6e41"
   },
   "outputs": [
    {
     "data": {
      "text/plain": [
       "Pipeline(memory=None,\n",
       "         steps=[('vectorizer',\n",
       "                 TfidfVectorizer(analyzer='word', binary=False,\n",
       "                                 decode_error='strict',\n",
       "                                 dtype=<class 'numpy.float64'>,\n",
       "                                 encoding='utf-8', input='content',\n",
       "                                 lowercase=True, max_df=1.0, max_features=100,\n",
       "                                 min_df=1, ngram_range=(1, 1), norm='l2',\n",
       "                                 preprocessor=None, smooth_idf=True,\n",
       "                                 stop_words=['i', 'me', 'my', 'myself', 'we',\n",
       "                                             'our', 'ours', 'ourselves',...\n",
       "                 RandomForestClassifier(bootstrap=True, class_weight=None,\n",
       "                                        criterion='gini', max_depth=None,\n",
       "                                        max_features='auto',\n",
       "                                        max_leaf_nodes=None,\n",
       "                                        min_impurity_decrease=0.0,\n",
       "                                        min_impurity_split=None,\n",
       "                                        min_samples_leaf=1, min_samples_split=2,\n",
       "                                        min_weight_fraction_leaf=0.0,\n",
       "                                        n_estimators=100, n_jobs=-1,\n",
       "                                        oob_score=False, random_state=None,\n",
       "                                        verbose=0, warm_start=False))],\n",
       "         verbose=False)"
      ]
     },
     "execution_count": 37,
     "metadata": {
      "tags": []
     },
     "output_type": "execute_result"
    }
   ],
   "source": [
    "# Build a pipeline for TF-IDF vectorization and classification (~11 min.)\n",
    "from sklearn.feature_extraction.text import TfidfVectorizer\n",
    "from sklearn.pipeline import Pipeline\n",
    "from sklearn.ensemble import RandomForestClassifier\n",
    "\n",
    "pipe_tfidf_rf = Pipeline([('vectorizer', TfidfVectorizer(stop_words=stop_list, \n",
    "                                                         max_features=100)),\n",
    "                          ('forest', RandomForestClassifier(n_estimators=100,\n",
    "                                                            n_jobs=-1))])\n",
    "\n",
    "pipe_tfidf_rf.fit(X_train, y_train)"
   ]
  },
  {
   "cell_type": "code",
   "execution_count": 0,
   "metadata": {
    "colab": {
     "base_uri": "https://localhost:8080/",
     "height": 187
    },
    "colab_type": "code",
    "id": "FsPknlk9NM2L",
    "outputId": "f3ce767b-5cbd-46cb-8e99-5d6ebdaa552f"
   },
   "outputs": [
    {
     "name": "stdout",
     "output_type": "stream",
     "text": [
      "Training accuracy: 0.9719814649545993\n",
      "              precision    recall  f1-score   support\n",
      "\n",
      "           0       0.98      0.96      0.97    168755\n",
      "           1       0.96      0.98      0.97    146108\n",
      "\n",
      "    accuracy                           0.97    314863\n",
      "   macro avg       0.97      0.97      0.97    314863\n",
      "weighted avg       0.97      0.97      0.97    314863\n",
      "\n"
     ]
    }
   ],
   "source": [
    "# Predict and score\n",
    "from sklearn.metrics import accuracy_score, confusion_matrix, classification_report\n",
    "\n",
    "y_pred_train = pipe_tfidf_rf.predict(X_train)\n",
    "print('Training accuracy:', accuracy_score(y_pred_train, y_train))\n",
    "print(classification_report(y_pred_train, y_train))"
   ]
  },
  {
   "cell_type": "code",
   "execution_count": 0,
   "metadata": {
    "colab": {
     "base_uri": "https://localhost:8080/",
     "height": 187
    },
    "colab_type": "code",
    "id": "38VF3qspNM2M",
    "outputId": "b3ffc801-cb19-4552-8295-1312a7976363"
   },
   "outputs": [
    {
     "name": "stdout",
     "output_type": "stream",
     "text": [
      "Validation accuracy: 0.5513491539204228\n",
      "              precision    recall  f1-score   support\n",
      "\n",
      "           0       0.65      0.57      0.60     23704\n",
      "           1       0.45      0.53      0.48     15654\n",
      "\n",
      "    accuracy                           0.55     39358\n",
      "   macro avg       0.55      0.55      0.54     39358\n",
      "weighted avg       0.57      0.55      0.56     39358\n",
      "\n"
     ]
    }
   ],
   "source": [
    "# Validate\n",
    "y_pred_val = pipe_tfidf_rf.predict(X_val)\n",
    "print('Validation accuracy:', accuracy_score(y_pred_val, y_val))\n",
    "print(classification_report(y_pred_val, y_val))"
   ]
  },
  {
   "cell_type": "markdown",
   "metadata": {
    "colab_type": "text",
    "id": "qheJXVL47P7p"
   },
   "source": [
    "What I've learned from these models so far is that TDM and TF-IDF can both produce models with some predictive power, although they are both overfit. Bigrams didn't do so well. All three were tested with a max_features of 100 to keep running times low. Starting from TDM or TF-IDF, a Random Forest could be tuned or other classifiers could be tried in the hope of getting better results."
   ]
  },
  {
   "cell_type": "markdown",
   "metadata": {
    "colab_type": "text",
    "id": "UUI0n0RiO1qZ"
   },
   "source": [
    "### Try to improve this RF through grid search"
   ]
  },
  {
   "cell_type": "code",
   "execution_count": 0,
   "metadata": {
    "colab": {},
    "colab_type": "code",
    "id": "1MF4KHBCTAw2"
   },
   "outputs": [],
   "source": [
    "from sklearn.feature_extraction.text import TfidfVectorizer\n",
    "tfidf_vec = TfidfVectorizer(stop_words=stop_list, max_features=100)\n",
    "train_tfidf = tfidf_vec.fit_transform(X_train)"
   ]
  },
  {
   "cell_type": "code",
   "execution_count": 0,
   "metadata": {
    "colab": {
     "base_uri": "https://localhost:8080/",
     "height": 411
    },
    "colab_type": "code",
    "id": "XykXi1T_O6Bx",
    "outputId": "e23504ec-2e43-4ed3-8319-128727019dec"
   },
   "outputs": [
    {
     "name": "stderr",
     "output_type": "stream",
     "text": [
      "/usr/local/lib/python3.6/dist-packages/joblib/externals/loky/process_executor.py:706: UserWarning: A worker stopped while some jobs were given to the executor. This can be caused by a too short worker timeout or by a memory leak.\n",
      "  \"timeout or by a memory leak.\", UserWarning\n"
     ]
    },
    {
     "data": {
      "text/plain": [
       "GridSearchCV(cv=3, error_score='raise-deprecating',\n",
       "             estimator=RandomForestClassifier(bootstrap=True, class_weight=None,\n",
       "                                              criterion='gini', max_depth=None,\n",
       "                                              max_features='auto',\n",
       "                                              max_leaf_nodes=None,\n",
       "                                              min_impurity_decrease=0.0,\n",
       "                                              min_impurity_split=None,\n",
       "                                              min_samples_leaf=1,\n",
       "                                              min_samples_split=2,\n",
       "                                              min_weight_fraction_leaf=0.0,\n",
       "                                              n_estimators='warn', n_jobs=None,\n",
       "                                              oob_score=False,\n",
       "                                              random_state=None, verbose=0,\n",
       "                                              warm_start=False),\n",
       "             iid='warn', n_jobs=-1,\n",
       "             param_grid={'n_estimators': [10, 20, 30, 40, 50, 60, 70, 80, 90,\n",
       "                                          100],\n",
       "                         'n_jobs': [-1]},\n",
       "             pre_dispatch='2*n_jobs', refit=True, return_train_score=False,\n",
       "             scoring=None, verbose=0)"
      ]
     },
     "execution_count": 44,
     "metadata": {
      "tags": []
     },
     "output_type": "execute_result"
    }
   ],
   "source": [
    "# Use GridSearchCV to find optimal number of estimators (~ 2 hrs.)\n",
    "from sklearn.model_selection import GridSearchCV\n",
    "\n",
    "params = {'n_estimators': [10, 20, 30, 40, 50, 60, 70, 80, 90, 100],\n",
    "          'n_jobs': [-1]}\n",
    "rf = RandomForestClassifier()\n",
    "\n",
    "\n",
    "grid_tfidf_rf = GridSearchCV(rf, params, cv=3, n_jobs=-1)\n",
    "\n",
    "grid_tfidf_rf.fit(train_tfidf, y_train)"
   ]
  },
  {
   "cell_type": "code",
   "execution_count": 0,
   "metadata": {
    "colab": {
     "base_uri": "https://localhost:8080/",
     "height": 51
    },
    "colab_type": "code",
    "id": "hRiL-L0sO59y",
    "outputId": "ee3133e8-b119-40cd-d3d9-840d34dd1fa3"
   },
   "outputs": [
    {
     "name": "stdout",
     "output_type": "stream",
     "text": [
      "Best score: 0.5483654795895357\n",
      "Best params: {'n_estimators': 100, 'n_jobs': -1}\n"
     ]
    }
   ],
   "source": [
    "print('Best score:', grid_tfidf_rf.best_score_)\n",
    "print('Best params:', grid_tfidf_rf.best_params_)"
   ]
  },
  {
   "cell_type": "markdown",
   "metadata": {
    "colab_type": "text",
    "id": "x-Qyt8wHc2jN"
   },
   "source": [
    "The grid search settled on 100 estimators, but it's still performing badly. I'll try another grid search with greater numbers of estimators."
   ]
  },
  {
   "cell_type": "code",
   "execution_count": 0,
   "metadata": {
    "colab": {
     "base_uri": "https://localhost:8080/",
     "height": 377
    },
    "colab_type": "code",
    "id": "vU01tHOIccKR",
    "outputId": "f041de58-ed28-47d1-8a75-4a8480dba636"
   },
   "outputs": [
    {
     "name": "stderr",
     "output_type": "stream",
     "text": [
      "/usr/local/lib/python3.6/dist-packages/joblib/externals/loky/process_executor.py:706: UserWarning: A worker stopped while some jobs were given to the executor. This can be caused by a too short worker timeout or by a memory leak.\n",
      "  \"timeout or by a memory leak.\", UserWarning\n"
     ]
    },
    {
     "data": {
      "text/plain": [
       "GridSearchCV(cv=3, error_score='raise-deprecating',\n",
       "             estimator=RandomForestClassifier(bootstrap=True, class_weight=None,\n",
       "                                              criterion='gini', max_depth=None,\n",
       "                                              max_features='auto',\n",
       "                                              max_leaf_nodes=None,\n",
       "                                              min_impurity_decrease=0.0,\n",
       "                                              min_impurity_split=None,\n",
       "                                              min_samples_leaf=1,\n",
       "                                              min_samples_split=2,\n",
       "                                              min_weight_fraction_leaf=0.0,\n",
       "                                              n_estimators='warn', n_jobs=None,\n",
       "                                              oob_score=False,\n",
       "                                              random_state=None, verbose=0,\n",
       "                                              warm_start=False),\n",
       "             iid='warn', n_jobs=-1,\n",
       "             param_grid={'n_estimators': [100, 200, 500, 1000], 'n_jobs': [-1]},\n",
       "             pre_dispatch='2*n_jobs', refit=True, return_train_score=False,\n",
       "             scoring=None, verbose=0)"
      ]
     },
     "execution_count": 8,
     "metadata": {
      "tags": []
     },
     "output_type": "execute_result"
    }
   ],
   "source": [
    "# Use GridSearchCV to find optimal number of estimators (~ 8 hrs.)\n",
    "from sklearn.model_selection import GridSearchCV\n",
    "from sklearn.ensemble import RandomForestClassifier\n",
    "\n",
    "params = {'n_estimators': [100, 200, 500, 1000],\n",
    "          'n_jobs': [-1]}\n",
    "rf = RandomForestClassifier()\n",
    "\n",
    "\n",
    "grid_tfidf_rf = GridSearchCV(rf, params, cv=3, n_jobs=-1)\n",
    "\n",
    "grid_tfidf_rf.fit(train_tfidf, y_train)"
   ]
  },
  {
   "cell_type": "code",
   "execution_count": 0,
   "metadata": {
    "colab": {
     "base_uri": "https://localhost:8080/",
     "height": 51
    },
    "colab_type": "code",
    "id": "SsvC27GsdG76",
    "outputId": "84537172-86b4-46f6-fed1-460db5c4975e"
   },
   "outputs": [
    {
     "name": "stdout",
     "output_type": "stream",
     "text": [
      "Best score: 0.5546031130999831\n",
      "Best params: {'n_estimators': 1000, 'n_jobs': -1}\n"
     ]
    }
   ],
   "source": [
    "print('Best score:', grid_tfidf_rf.best_score_)\n",
    "print('Best params:', grid_tfidf_rf.best_params_)"
   ]
  },
  {
   "cell_type": "code",
   "execution_count": 11,
   "metadata": {
    "colab": {
     "base_uri": "https://localhost:8080/",
     "height": 394
    },
    "colab_type": "code",
    "id": "y7oeEW39LWBX",
    "outputId": "c6b495ff-a0e5-46cd-9932-800639d18ba2"
   },
   "outputs": [
    {
     "name": "stderr",
     "output_type": "stream",
     "text": [
      "/usr/local/lib/python3.6/dist-packages/joblib/externals/loky/process_executor.py:706: UserWarning: A worker stopped while some jobs were given to the executor. This can be caused by a too short worker timeout or by a memory leak.\n",
      "  \"timeout or by a memory leak.\", UserWarning\n"
     ]
    },
    {
     "data": {
      "text/plain": [
       "GridSearchCV(cv=3, error_score='raise-deprecating',\n",
       "             estimator=RandomForestClassifier(bootstrap=True, class_weight=None,\n",
       "                                              criterion='gini', max_depth=None,\n",
       "                                              max_features='auto',\n",
       "                                              max_leaf_nodes=None,\n",
       "                                              min_impurity_decrease=0.0,\n",
       "                                              min_impurity_split=None,\n",
       "                                              min_samples_leaf=1,\n",
       "                                              min_samples_split=2,\n",
       "                                              min_weight_fraction_leaf=0.0,\n",
       "                                              n_estimators='warn', n_jobs=None,\n",
       "                                              oob_score=False,\n",
       "                                              random_state=None, verbose=0,\n",
       "                                              warm_start=False),\n",
       "             iid='warn', n_jobs=-1,\n",
       "             param_grid={'max_depth': [15, 20, 25], 'n_estimators': [100, 1000],\n",
       "                         'n_jobs': [-1]},\n",
       "             pre_dispatch='2*n_jobs', refit=True, return_train_score=False,\n",
       "             scoring=None, verbose=0)"
      ]
     },
     "execution_count": 11,
     "metadata": {
      "tags": []
     },
     "output_type": "execute_result"
    }
   ],
   "source": [
    "# Use GridSearchCV to find optimal number of estimators (~ 2 hrs.)\n",
    "from sklearn.model_selection import GridSearchCV\n",
    "from sklearn.ensemble import RandomForestClassifier\n",
    "\n",
    "params = {'n_estimators': [100, 1000],\n",
    "          'max_depth': [15, 20, 25],\n",
    "          'n_jobs': [-1]}\n",
    "rf = RandomForestClassifier()\n",
    "\n",
    "\n",
    "grid_tfidf_rf = GridSearchCV(rf, params, cv=3, n_jobs=-1)\n",
    "\n",
    "grid_tfidf_rf.fit(train_tfidf, y_train)"
   ]
  },
  {
   "cell_type": "code",
   "execution_count": 12,
   "metadata": {
    "colab": {
     "base_uri": "https://localhost:8080/",
     "height": 51
    },
    "colab_type": "code",
    "id": "IVadzlquLiDm",
    "outputId": "54c2250d-1a33-4c38-9595-a956ebb1fb78"
   },
   "outputs": [
    {
     "name": "stdout",
     "output_type": "stream",
     "text": [
      "Best score: 0.5672181234378126\n",
      "Best params: {'max_depth': 25, 'n_estimators': 1000, 'n_jobs': -1}\n"
     ]
    }
   ],
   "source": [
    "print('Best score:', grid_tfidf_rf.best_score_)\n",
    "print('Best params:', grid_tfidf_rf.best_params_)"
   ]
  },
  {
   "cell_type": "code",
   "execution_count": 0,
   "metadata": {
    "colab": {},
    "colab_type": "code",
    "id": "DtjUzo9z9ye9"
   },
   "outputs": [],
   "source": [
    "# Try making bigger embeddings\n",
    "tfidf_vec_bigger = TfidfVectorizer(stop_words=stop_list, max_features=200)\n",
    "train_tfidf_bigger = tfidf_vec_bigger.fit_transform(X_train)"
   ]
  },
  {
   "cell_type": "code",
   "execution_count": 14,
   "metadata": {
    "colab": {
     "base_uri": "https://localhost:8080/",
     "height": 51
    },
    "colab_type": "code",
    "id": "fR_V1LzL-Gzb",
    "outputId": "5313a790-9f35-4826-b100-91a29b59bbf2"
   },
   "outputs": [
    {
     "data": {
      "text/plain": [
       "<5x200 sparse matrix of type '<class 'numpy.float64'>'\n",
       "\twith 40 stored elements in Compressed Sparse Row format>"
      ]
     },
     "execution_count": 14,
     "metadata": {
      "tags": []
     },
     "output_type": "execute_result"
    }
   ],
   "source": [
    "train_tfidf_bigger[:5]"
   ]
  },
  {
   "cell_type": "code",
   "execution_count": 23,
   "metadata": {
    "colab": {
     "base_uri": "https://localhost:8080/",
     "height": 513
    },
    "colab_type": "code",
    "id": "JXT62Rj19yOv",
    "outputId": "1141145a-b458-4f51-e50c-4a1a2764d442"
   },
   "outputs": [
    {
     "data": {
      "image/png": "[encoded data removed]",
      "text/plain": [
       "<Figure size 720x576 with 1 Axes>"
      ]
     },
     "metadata": {
      "tags": []
     },
     "output_type": "display_data"
    }
   ],
   "source": [
    "# Use TruncatedSVD (in place of PCA) to try to explain \n",
    "from sklearn.decomposition import TruncatedSVD\n",
    "# svd = TruncatedSVD(n_components=150, n_iter=7, random_state=42)\n",
    "# svd.fit(train_tfidf_bigger)\n",
    "\n",
    "# print(svd.explained_variance_ratio_)\n",
    "\n",
    "# print(svd.explained_variance_ratio_.sum())\n",
    "\n",
    "# Try several numbers of components to explain 80% of variance\n",
    "comps = [10, 50, 100, 150, 175, 199]\n",
    "var_sums = []\n",
    "for comp in comps:\n",
    "    svd = TruncatedSVD(n_components=comp, n_iter=10, random_state=42)\n",
    "    svd.fit(train_tfidf_bigger)\n",
    "    var_sums.append(np.sum(svd.explained_variance_ratio_))\n",
    "    \n",
    "# Visualize results\n",
    "plt.figure(figsize=(10,8))\n",
    "plt.plot(comps, var_sums)\n",
    "plt.xlabel('Number of components')\n",
    "plt.ylabel('% of variance explained')\n",
    "plt.title('Variance explained by n components')\n",
    "plt.xticks([10, 50, 100, 150, 175, 199])\n",
    "plt.show();\n"
   ]
  },
  {
   "cell_type": "code",
   "execution_count": 24,
   "metadata": {
    "colab": {
     "base_uri": "https://localhost:8080/",
     "height": 408
    },
    "colab_type": "code",
    "id": "q8BcCduG9xtV",
    "outputId": "fa4798c4-a61e-4d1c-aba1-16e7177c020a"
   },
   "outputs": [
    {
     "data": {
      "text/plain": [
       "Pipeline(memory=None,\n",
       "         steps=[('tf_idf',\n",
       "                 TfidfVectorizer(analyzer='word', binary=False,\n",
       "                                 decode_error='strict',\n",
       "                                 dtype=<class 'numpy.float64'>,\n",
       "                                 encoding='utf-8', input='content',\n",
       "                                 lowercase=True, max_df=1.0, max_features=200,\n",
       "                                 min_df=1, ngram_range=(1, 1), norm='l2',\n",
       "                                 preprocessor=None, smooth_idf=True,\n",
       "                                 stop_words=['i', 'me', 'my', 'myself', 'we',\n",
       "                                             'our', 'ours', 'ourselves', 'you...\n",
       "                 RandomForestClassifier(bootstrap=True, class_weight=None,\n",
       "                                        criterion='gini', max_depth=25,\n",
       "                                        max_features='auto',\n",
       "                                        max_leaf_nodes=None,\n",
       "                                        min_impurity_decrease=0.0,\n",
       "                                        min_impurity_split=None,\n",
       "                                        min_samples_leaf=1, min_samples_split=2,\n",
       "                                        min_weight_fraction_leaf=0.0,\n",
       "                                        n_estimators=1000, n_jobs=-1,\n",
       "                                        oob_score=False, random_state=None,\n",
       "                                        verbose=0, warm_start=False))],\n",
       "         verbose=False)"
      ]
     },
     "execution_count": 24,
     "metadata": {
      "tags": []
     },
     "output_type": "execute_result"
    }
   ],
   "source": [
    "# Build and fit pipeline for Random Forest with 150 TF-IDF components (~ 40 min.)\n",
    "from sklearn.pipeline import Pipeline\n",
    "pipe_tfidf_svd_rf = Pipeline([\n",
    "    ('tf_idf', TfidfVectorizer(stop_words=stop_list, max_features=200)),\n",
    "    ('components', TruncatedSVD(n_components=150, n_iter=7, random_state=42)),\n",
    "    ('rf', RandomForestClassifier(n_estimators=1000, max_depth=25, n_jobs=-1))])\n",
    "\n",
    "pipe_tfidf_svd_rf.fit(X_train, y_train)\n"
   ]
  },
  {
   "cell_type": "code",
   "execution_count": 25,
   "metadata": {
    "colab": {
     "base_uri": "https://localhost:8080/",
     "height": 187
    },
    "colab_type": "code",
    "id": "loS1YBgwFVpo",
    "outputId": "6707c439-a295-4131-b79f-bd5bb1ddb300"
   },
   "outputs": [
    {
     "name": "stdout",
     "output_type": "stream",
     "text": [
      "Training accuracy: 0.9948136173510383\n",
      "              precision    recall  f1-score   support\n",
      "\n",
      "           0       1.00      0.99      1.00    166082\n",
      "           1       0.99      1.00      0.99    148781\n",
      "\n",
      "    accuracy                           0.99    314863\n",
      "   macro avg       0.99      0.99      0.99    314863\n",
      "weighted avg       0.99      0.99      0.99    314863\n",
      "\n"
     ]
    }
   ],
   "source": [
    "# Predict and score\n",
    "from sklearn.metrics import accuracy_score, confusion_matrix, classification_report\n",
    "\n",
    "y_pred_train = pipe_tfidf_svd_rf.predict(X_train)\n",
    "print('Training accuracy:', accuracy_score(y_pred_train, y_train))\n",
    "print(classification_report(y_pred_train, y_train))"
   ]
  },
  {
   "cell_type": "code",
   "execution_count": 26,
   "metadata": {
    "colab": {
     "base_uri": "https://localhost:8080/",
     "height": 187
    },
    "colab_type": "code",
    "id": "k3xdUzI-O9di",
    "outputId": "6ae10832-9cba-44ac-ba39-7b6743d2bd0a"
   },
   "outputs": [
    {
     "name": "stdout",
     "output_type": "stream",
     "text": [
      "Training accuracy: 0.5734031200772397\n",
      "              precision    recall  f1-score   support\n",
      "\n",
      "           0       0.75      0.57      0.65     27076\n",
      "           1       0.38      0.57      0.46     12282\n",
      "\n",
      "    accuracy                           0.57     39358\n",
      "   macro avg       0.56      0.57      0.55     39358\n",
      "weighted avg       0.63      0.57      0.59     39358\n",
      "\n"
     ]
    }
   ],
   "source": [
    "y_pred_val = pipe_tfidf_svd_rf.predict(X_val)\n",
    "print('Training accuracy:', accuracy_score(y_pred_val, y_val))\n",
    "print(classification_report(y_pred_val, y_val))"
   ]
  },
  {
   "cell_type": "markdown",
   "metadata": {
    "colab_type": "text",
    "id": "I5Dr5mHoNM2R"
   },
   "source": [
    "## Try GloVe embeddings, RF for baseline"
   ]
  },
  {
   "cell_type": "code",
   "execution_count": 29,
   "metadata": {
    "ExecuteTime": {
     "end_time": "2019-12-17T20:49:04.862608Z",
     "start_time": "2019-12-17T20:49:04.830093Z"
    },
    "colab": {
     "base_uri": "https://localhost:8080/",
     "height": 80
    },
    "colab_type": "code",
    "id": "pXJ47AqFNM2S",
    "outputId": "c4c0cd7e-9759-45d6-83fa-f7b4101c6a67"
   },
   "outputs": [
    {
     "name": "stderr",
     "output_type": "stream",
     "text": [
      "Using TensorFlow backend.\n"
     ]
    },
    {
     "data": {
      "text/html": [
       "<p style=\"color: red;\">\n",
       "The default version of TensorFlow in Colab will soon switch to TensorFlow 2.x.<br>\n",
       "We recommend you <a href=\"https://www.tensorflow.org/guide/migrate\" target=\"_blank\">upgrade</a> now \n",
       "or ensure your notebook will continue to use TensorFlow 1.x via the <code>%tensorflow_version 1.x</code> magic:\n",
       "<a href=\"https://colab.research.google.com/notebooks/tensorflow_version.ipynb\" target=\"_blank\">more info</a>.</p>\n"
      ],
      "text/plain": [
       "<IPython.core.display.HTML object>"
      ]
     },
     "metadata": {
      "tags": []
     },
     "output_type": "display_data"
    }
   ],
   "source": [
    "# Get total vocabulary\n",
    "from keras.preprocessing.text import text_to_word_sequence\n",
    "\n",
    "all_train_text = ''\n",
    "for row in X_train.index:\n",
    "    all_train_text += X_train[row]\n",
    "total_vocab = text_to_word_sequence(all_train_text, \n",
    "                                    filters='!\"#$%&()*+,-./:;<=>?@[\\\\]^_`{|}~\\t\\n', \n",
    "                                    lower=True, split=' ')\n",
    "total_vocab = set(total_vocab)"
   ]
  },
  {
   "cell_type": "code",
   "execution_count": 0,
   "metadata": {
    "colab": {},
    "colab_type": "code",
    "id": "J7rfEjHYNM2U"
   },
   "outputs": [],
   "source": [
    "# Get GloVe embeddings for words in total_vocab\n",
    "glove = {}\n",
    "with open('/content/drive/My Drive/helpful-reviews/glove.6B.50d.txt') as f:\n",
    "    for line in f:\n",
    "        parts = line.split()\n",
    "        word = parts[0]\n",
    "        if word in total_vocab:\n",
    "            vector = np.array(parts[1:], dtype=np.float32)\n",
    "            glove[word] = vector"
   ]
  },
  {
   "cell_type": "code",
   "execution_count": 31,
   "metadata": {
    "colab": {
     "base_uri": "https://localhost:8080/",
     "height": 170
    },
    "colab_type": "code",
    "id": "W0vxaziJJNch",
    "outputId": "ab912045-210a-452f-ffd6-6f69761b91cf"
   },
   "outputs": [
    {
     "data": {
      "text/plain": [
       "array([-0.54015 , -0.29931 , -0.67591 ,  0.15784 ,  0.90241 , -0.89567 ,\n",
       "       -1.1267  , -0.69013 ,  0.7116  ,  0.71231 ,  0.11031 , -0.37268 ,\n",
       "        0.93846 , -0.42899 ,  1.0807  ,  0.43785 , -0.38785 ,  0.65528 ,\n",
       "        0.34501 , -1.3793  ,  1.114   , -0.20227 ,  0.53612 ,  0.67394 ,\n",
       "       -0.52717 , -0.30703 , -0.14833 ,  0.78579 ,  0.84364 ,  0.56468 ,\n",
       "        2.1954  , -0.097544, -0.41744 ,  1.0296  ,  0.083024, -0.1552  ,\n",
       "       -1.1257  ,  0.74416 ,  1.1534  ,  0.24415 ,  0.057113,  0.63826 ,\n",
       "       -0.35989 , -0.031659,  0.88827 ,  0.78731 , -0.47028 , -0.69737 ,\n",
       "        0.12029 , -0.41486 ], dtype=float32)"
      ]
     },
     "execution_count": 31,
     "metadata": {
      "tags": []
     },
     "output_type": "execute_result"
    }
   ],
   "source": [
    "glove['coffee']"
   ]
  },
  {
   "cell_type": "code",
   "execution_count": 0,
   "metadata": {
    "colab": {},
    "colab_type": "code",
    "id": "c7SmTuE_NM2V"
   },
   "outputs": [],
   "source": [
    "# Create gloVe vectorizer class\n",
    "class GloVecto(object):\n",
    "    def __init__(self, vec):\n",
    "        self.vec = vec\n",
    "        if len(vec) == 0:\n",
    "            self.dimensions = 0\n",
    "        else:\n",
    "            self.dimensions = len(vec[next(iter(glove))])\n",
    "    \n",
    "    def fit(self, X, y):\n",
    "        return self\n",
    "    \n",
    "    def transform(self, X):\n",
    "        return np.array([np.mean([self.vec[w] for w in words if w in self.vec] \n",
    "                                 or [np.zeros(self.dimensions)], \n",
    "                                 axis=0) for words in X])"
   ]
  },
  {
   "cell_type": "markdown",
   "metadata": {
    "colab_type": "text",
    "id": "61YYBe9m5oEl"
   },
   "source": [
    "### Try baseline Random Forest with GloVe embeddings"
   ]
  },
  {
   "cell_type": "code",
   "execution_count": 0,
   "metadata": {
    "colab": {
     "base_uri": "https://localhost:8080/",
     "height": 272
    },
    "colab_type": "code",
    "id": "uElXj3eLNM2Z",
    "outputId": "64333b7e-8c5b-4eb2-f85d-fa041fab1138"
   },
   "outputs": [
    {
     "data": {
      "text/plain": [
       "Pipeline(memory=None,\n",
       "         steps=[('vectorizer', <__main__.GloVecto object at 0x7efb9bd15f98>),\n",
       "                ('forest',\n",
       "                 RandomForestClassifier(bootstrap=True, class_weight=None,\n",
       "                                        criterion='gini', max_depth=None,\n",
       "                                        max_features='auto',\n",
       "                                        max_leaf_nodes=None,\n",
       "                                        min_impurity_decrease=0.0,\n",
       "                                        min_impurity_split=None,\n",
       "                                        min_samples_leaf=1, min_samples_split=2,\n",
       "                                        min_weight_fraction_leaf=0.0,\n",
       "                                        n_estimators=100, n_jobs=-1,\n",
       "                                        oob_score=False, random_state=None,\n",
       "                                        verbose=0, warm_start=False))],\n",
       "         verbose=False)"
      ]
     },
     "execution_count": 10,
     "metadata": {
      "tags": []
     },
     "output_type": "execute_result"
    }
   ],
   "source": [
    "# Try baseline Random Forest with GloVe embeddings (~ 5 min.)\n",
    "# Move GloVecto class to separate file and import here\n",
    "# from glovecto.py import *\n",
    "from sklearn.pipeline import Pipeline\n",
    "from sklearn.ensemble import RandomForestClassifier\n",
    "\n",
    "pipe_glove_rf = Pipeline([('vectorizer', GloVecto(glove)),\n",
    "                          ('forest', RandomForestClassifier(n_estimators=100,\n",
    "                                                            n_jobs=-1))])\n",
    "pipe_glove_rf.fit(X_train, y_train)"
   ]
  },
  {
   "cell_type": "code",
   "execution_count": 0,
   "metadata": {
    "colab": {
     "base_uri": "https://localhost:8080/",
     "height": 187
    },
    "colab_type": "code",
    "id": "yHG1S0blNM2a",
    "outputId": "75e99ecc-dbb5-46eb-ae87-68c2e5a70387"
   },
   "outputs": [
    {
     "name": "stdout",
     "output_type": "stream",
     "text": [
      "Training accuracy: 0.9977196431463843\n",
      "              precision    recall  f1-score   support\n",
      "\n",
      "           0       1.00      1.00      1.00    166067\n",
      "           1       1.00      1.00      1.00    148796\n",
      "\n",
      "    accuracy                           1.00    314863\n",
      "   macro avg       1.00      1.00      1.00    314863\n",
      "weighted avg       1.00      1.00      1.00    314863\n",
      "\n"
     ]
    }
   ],
   "source": [
    "# Predict and score\n",
    "from sklearn.metrics import accuracy_score, confusion_matrix, classification_report\n",
    "\n",
    "y_pred_train = pipe_glove_rf.predict(X_train)\n",
    "print('Training accuracy:', accuracy_score(y_pred_train, y_train))\n",
    "print(classification_report(y_pred_train, y_train))"
   ]
  },
  {
   "cell_type": "code",
   "execution_count": 0,
   "metadata": {
    "colab": {
     "base_uri": "https://localhost:8080/",
     "height": 187
    },
    "colab_type": "code",
    "id": "H7ZN7r55NM2d",
    "outputId": "6f135f36-b09c-4bae-c612-37b5efcb2209"
   },
   "outputs": [
    {
     "name": "stdout",
     "output_type": "stream",
     "text": [
      "Validation accuracy: 0.547741247014584\n",
      "              precision    recall  f1-score   support\n",
      "\n",
      "           0       0.70      0.56      0.62     25930\n",
      "           1       0.38      0.53      0.44     13428\n",
      "\n",
      "    accuracy                           0.55     39358\n",
      "   macro avg       0.54      0.54      0.53     39358\n",
      "weighted avg       0.59      0.55      0.56     39358\n",
      "\n"
     ]
    }
   ],
   "source": [
    "# Validate\n",
    "y_pred_val = pipe_glove_rf.predict(X_val)\n",
    "print('Validation accuracy:', accuracy_score(y_pred_val, y_val))\n",
    "print(classification_report(y_pred_val, y_val))"
   ]
  },
  {
   "cell_type": "code",
   "execution_count": 33,
   "metadata": {
    "colab": {
     "base_uri": "https://localhost:8080/",
     "height": 272
    },
    "colab_type": "code",
    "id": "bKoTWcxKPrzN",
    "outputId": "373367f5-7e0a-4b6b-c1d8-03b3ab3c5f1c"
   },
   "outputs": [
    {
     "data": {
      "text/plain": [
       "Pipeline(memory=None,\n",
       "         steps=[('vectorizer', <__main__.GloVecto object at 0x7f82fa4c6630>),\n",
       "                ('forest',\n",
       "                 RandomForestClassifier(bootstrap=True, class_weight=None,\n",
       "                                        criterion='gini', max_depth=25,\n",
       "                                        max_features='auto',\n",
       "                                        max_leaf_nodes=None,\n",
       "                                        min_impurity_decrease=0.0,\n",
       "                                        min_impurity_split=None,\n",
       "                                        min_samples_leaf=1, min_samples_split=2,\n",
       "                                        min_weight_fraction_leaf=0.0,\n",
       "                                        n_estimators=1000, n_jobs=-1,\n",
       "                                        oob_score=False, random_state=None,\n",
       "                                        verbose=0, warm_start=False))],\n",
       "         verbose=False)"
      ]
     },
     "execution_count": 33,
     "metadata": {
      "tags": []
     },
     "output_type": "execute_result"
    }
   ],
   "source": [
    "# Try again with better model hyperparams (~ 25 min.)\n",
    "from sklearn.pipeline import Pipeline\n",
    "from sklearn.ensemble import RandomForestClassifier\n",
    "\n",
    "pipe_glove_rf = Pipeline([('vectorizer', GloVecto(glove)),\n",
    "                          ('forest', RandomForestClassifier(n_estimators=1000,\n",
    "                                                            max_depth=25,\n",
    "                                                            n_jobs=-1))])\n",
    "pipe_glove_rf.fit(X_train, y_train)"
   ]
  },
  {
   "cell_type": "code",
   "execution_count": 34,
   "metadata": {
    "colab": {
     "base_uri": "https://localhost:8080/",
     "height": 187
    },
    "colab_type": "code",
    "id": "SWg3jLrqPst7",
    "outputId": "05014d1b-a019-4e74-8dc1-da11870f8098"
   },
   "outputs": [
    {
     "name": "stdout",
     "output_type": "stream",
     "text": [
      "Training accuracy: 0.963946224230856\n",
      "              precision    recall  f1-score   support\n",
      "\n",
      "           0       0.94      1.00      0.96    155409\n",
      "           1       1.00      0.93      0.96    159454\n",
      "\n",
      "    accuracy                           0.96    314863\n",
      "   macro avg       0.97      0.96      0.96    314863\n",
      "weighted avg       0.97      0.96      0.96    314863\n",
      "\n"
     ]
    }
   ],
   "source": [
    "# Predict and score\n",
    "from sklearn.metrics import accuracy_score, confusion_matrix, classification_report\n",
    "\n",
    "y_pred_train = pipe_glove_rf.predict(X_train)\n",
    "print('Training accuracy:', accuracy_score(y_pred_train, y_train))\n",
    "print(classification_report(y_pred_train, y_train))"
   ]
  },
  {
   "cell_type": "code",
   "execution_count": 35,
   "metadata": {
    "colab": {
     "base_uri": "https://localhost:8080/",
     "height": 187
    },
    "colab_type": "code",
    "id": "XZAMK5VWPseM",
    "outputId": "2289a888-790c-4ee2-e3a1-2bbf465540c5"
   },
   "outputs": [
    {
     "name": "stdout",
     "output_type": "stream",
     "text": [
      "Validation accuracy: 0.558692006707658\n",
      "              precision    recall  f1-score   support\n",
      "\n",
      "           0       0.70      0.57      0.63     25803\n",
      "           1       0.40      0.54      0.46     13555\n",
      "\n",
      "    accuracy                           0.56     39358\n",
      "   macro avg       0.55      0.56      0.54     39358\n",
      "weighted avg       0.60      0.56      0.57     39358\n",
      "\n"
     ]
    }
   ],
   "source": [
    "# Validate\n",
    "y_pred_val = pipe_glove_rf.predict(X_val)\n",
    "print('Validation accuracy:', accuracy_score(y_pred_val, y_val))\n",
    "print(classification_report(y_pred_val, y_val))"
   ]
  },
  {
   "cell_type": "markdown",
   "metadata": {
    "colab_type": "text",
    "id": "4ibEj5na5syW"
   },
   "source": [
    "### Try baseline RNN with GloVe embeddings"
   ]
  },
  {
   "cell_type": "code",
   "execution_count": 0,
   "metadata": {
    "colab": {},
    "colab_type": "code",
    "id": "SH0mPq4k5yRQ"
   },
   "outputs": [],
   "source": [
    "glover = GloVecto(glove)"
   ]
  },
  {
   "cell_type": "code",
   "execution_count": 0,
   "metadata": {
    "colab": {},
    "colab_type": "code",
    "id": "iETE5BgH5yI-"
   },
   "outputs": [],
   "source": [
    "glover.fit(X_train, y_train)\n",
    "train_vectors = glover.transform(X_train)"
   ]
  },
  {
   "cell_type": "code",
   "execution_count": 38,
   "metadata": {
    "colab": {
     "base_uri": "https://localhost:8080/",
     "height": 34
    },
    "colab_type": "code",
    "id": "LchVAx5l5yBf",
    "outputId": "3215af3f-8cdd-44eb-e2b2-8cdc63459d0d"
   },
   "outputs": [
    {
     "data": {
      "text/plain": [
       "(314863, 50)"
      ]
     },
     "execution_count": 38,
     "metadata": {
      "tags": []
     },
     "output_type": "execute_result"
    }
   ],
   "source": [
    "train_vectors.shape"
   ]
  },
  {
   "cell_type": "code",
   "execution_count": 39,
   "metadata": {
    "colab": {
     "base_uri": "https://localhost:8080/",
     "height": 187
    },
    "colab_type": "code",
    "id": "UHz2iJkO8lNY",
    "outputId": "45174fb9-cf7e-4714-fa0c-f3a197512d4b"
   },
   "outputs": [
    {
     "data": {
      "text/plain": [
       "array([-0.02979157,  0.80339068,  0.73508865,  0.73802662,  0.31115863,\n",
       "       -0.05402605,  0.36502108, -0.78685367, -0.21796748, -0.00696375,\n",
       "       -0.15668103,  0.36596268, -0.49041498, -0.54363018, -0.04395203,\n",
       "       -0.16033545, -0.33571538, -0.05535617, -0.25227007, -0.38795507,\n",
       "       -0.42024651, -0.29403883,  0.71216279,  0.44612595, -0.22873893,\n",
       "       -0.72100133, -0.32850808, -0.06946214,  0.10686357, -0.30526054,\n",
       "        2.51734114, -0.04231355, -0.31020129,  0.5133428 ,  0.08696886,\n",
       "       -0.7985118 ,  0.48479873, -0.42359108,  0.26642141,  0.07531922,\n",
       "        0.84278125,  0.06943642, -0.18357362, -0.00781526, -0.05576645,\n",
       "        0.21922252,  0.18697366, -0.42867249,  0.32948476,  0.97879654])"
      ]
     },
     "execution_count": 39,
     "metadata": {
      "tags": []
     },
     "output_type": "execute_result"
    }
   ],
   "source": [
    "train_vectors[0]"
   ]
  },
  {
   "cell_type": "code",
   "execution_count": 40,
   "metadata": {
    "colab": {
     "base_uri": "https://localhost:8080/",
     "height": 34
    },
    "colab_type": "code",
    "id": "u0breQFU9C_m",
    "outputId": "42bc8f3b-0b7f-45e2-a3fd-e386c7043733"
   },
   "outputs": [
    {
     "data": {
      "text/plain": [
       "(39358, 50)"
      ]
     },
     "execution_count": 40,
     "metadata": {
      "tags": []
     },
     "output_type": "execute_result"
    }
   ],
   "source": [
    "val_vectors = glover.transform(X_val)\n",
    "val_vectors.shape"
   ]
  },
  {
   "cell_type": "code",
   "execution_count": 44,
   "metadata": {
    "colab": {
     "base_uri": "https://localhost:8080/",
     "height": 375
    },
    "colab_type": "code",
    "id": "NmwV3gOT8lFE",
    "outputId": "a20ee59b-2df9-4f0c-fa86-0013cda34174"
   },
   "outputs": [
    {
     "ename": "ValueError",
     "evalue": "ignored",
     "output_type": "error",
     "traceback": [
      "\u001b[0;31m---------------------------------------------------------------------------\u001b[0m",
      "\u001b[0;31mValueError\u001b[0m                                Traceback (most recent call last)",
      "\u001b[0;32m<ipython-input-44-683bf72203bc>\u001b[0m in \u001b[0;36m<module>\u001b[0;34m()\u001b[0m\n\u001b[1;32m      9\u001b[0m \u001b[0mmodel\u001b[0m \u001b[0;34m=\u001b[0m \u001b[0mSequential\u001b[0m\u001b[0;34m(\u001b[0m\u001b[0;34m)\u001b[0m\u001b[0;34m\u001b[0m\u001b[0;34m\u001b[0m\u001b[0m\n\u001b[1;32m     10\u001b[0m \u001b[0mmodel\u001b[0m\u001b[0;34m.\u001b[0m\u001b[0madd\u001b[0m\u001b[0;34m(\u001b[0m\u001b[0mlayers\u001b[0m\u001b[0;34m.\u001b[0m\u001b[0mInputLayer\u001b[0m\u001b[0;34m(\u001b[0m\u001b[0minput_shape\u001b[0m\u001b[0;34m=\u001b[0m\u001b[0;34m(\u001b[0m\u001b[0;36m50\u001b[0m\u001b[0;34m,\u001b[0m\u001b[0;34m)\u001b[0m\u001b[0;34m)\u001b[0m\u001b[0;34m)\u001b[0m\u001b[0;34m\u001b[0m\u001b[0;34m\u001b[0m\u001b[0m\n\u001b[0;32m---> 11\u001b[0;31m \u001b[0mmodel\u001b[0m\u001b[0;34m.\u001b[0m\u001b[0madd\u001b[0m\u001b[0;34m(\u001b[0m\u001b[0mlayers\u001b[0m\u001b[0;34m.\u001b[0m\u001b[0mLSTM\u001b[0m\u001b[0;34m(\u001b[0m\u001b[0;36m25\u001b[0m\u001b[0;34m,\u001b[0m \u001b[0mreturn_sequences\u001b[0m\u001b[0;34m=\u001b[0m\u001b[0;32mTrue\u001b[0m\u001b[0;34m)\u001b[0m\u001b[0;34m)\u001b[0m\u001b[0;34m\u001b[0m\u001b[0;34m\u001b[0m\u001b[0m\n\u001b[0m\u001b[1;32m     12\u001b[0m \u001b[0mmodel\u001b[0m\u001b[0;34m.\u001b[0m\u001b[0madd\u001b[0m\u001b[0;34m(\u001b[0m\u001b[0mlayers\u001b[0m\u001b[0;34m.\u001b[0m\u001b[0mLSTM\u001b[0m\u001b[0;34m(\u001b[0m\u001b[0;36m25\u001b[0m\u001b[0;34m,\u001b[0m \u001b[0mreturn_sequences\u001b[0m\u001b[0;34m=\u001b[0m\u001b[0;32mTrue\u001b[0m\u001b[0;34m)\u001b[0m\u001b[0;34m)\u001b[0m\u001b[0;34m\u001b[0m\u001b[0;34m\u001b[0m\u001b[0m\n\u001b[1;32m     13\u001b[0m \u001b[0mmodel\u001b[0m\u001b[0;34m.\u001b[0m\u001b[0madd\u001b[0m\u001b[0;34m(\u001b[0m\u001b[0mlayers\u001b[0m\u001b[0;34m.\u001b[0m\u001b[0mGlobalMaxPool1D\u001b[0m\u001b[0;34m(\u001b[0m\u001b[0;34m)\u001b[0m\u001b[0;34m)\u001b[0m\u001b[0;34m\u001b[0m\u001b[0;34m\u001b[0m\u001b[0m\n",
      "\u001b[0;32m/usr/local/lib/python3.6/dist-packages/keras/engine/sequential.py\u001b[0m in \u001b[0;36madd\u001b[0;34m(self, layer)\u001b[0m\n\u001b[1;32m    180\u001b[0m                 \u001b[0mself\u001b[0m\u001b[0;34m.\u001b[0m\u001b[0minputs\u001b[0m \u001b[0;34m=\u001b[0m \u001b[0mnetwork\u001b[0m\u001b[0;34m.\u001b[0m\u001b[0mget_source_inputs\u001b[0m\u001b[0;34m(\u001b[0m\u001b[0mself\u001b[0m\u001b[0;34m.\u001b[0m\u001b[0moutputs\u001b[0m\u001b[0;34m[\u001b[0m\u001b[0;36m0\u001b[0m\u001b[0;34m]\u001b[0m\u001b[0;34m)\u001b[0m\u001b[0;34m\u001b[0m\u001b[0;34m\u001b[0m\u001b[0m\n\u001b[1;32m    181\u001b[0m         \u001b[0;32melif\u001b[0m \u001b[0mself\u001b[0m\u001b[0;34m.\u001b[0m\u001b[0moutputs\u001b[0m\u001b[0;34m:\u001b[0m\u001b[0;34m\u001b[0m\u001b[0;34m\u001b[0m\u001b[0m\n\u001b[0;32m--> 182\u001b[0;31m             \u001b[0moutput_tensor\u001b[0m \u001b[0;34m=\u001b[0m \u001b[0mlayer\u001b[0m\u001b[0;34m(\u001b[0m\u001b[0mself\u001b[0m\u001b[0;34m.\u001b[0m\u001b[0moutputs\u001b[0m\u001b[0;34m[\u001b[0m\u001b[0;36m0\u001b[0m\u001b[0;34m]\u001b[0m\u001b[0;34m)\u001b[0m\u001b[0;34m\u001b[0m\u001b[0;34m\u001b[0m\u001b[0m\n\u001b[0m\u001b[1;32m    183\u001b[0m             \u001b[0;32mif\u001b[0m \u001b[0misinstance\u001b[0m\u001b[0;34m(\u001b[0m\u001b[0moutput_tensor\u001b[0m\u001b[0;34m,\u001b[0m \u001b[0mlist\u001b[0m\u001b[0;34m)\u001b[0m\u001b[0;34m:\u001b[0m\u001b[0;34m\u001b[0m\u001b[0;34m\u001b[0m\u001b[0m\n\u001b[1;32m    184\u001b[0m                 raise TypeError('All layers in a Sequential model '\n",
      "\u001b[0;32m/usr/local/lib/python3.6/dist-packages/keras/layers/recurrent.py\u001b[0m in \u001b[0;36m__call__\u001b[0;34m(self, inputs, initial_state, constants, **kwargs)\u001b[0m\n\u001b[1;32m    531\u001b[0m \u001b[0;34m\u001b[0m\u001b[0m\n\u001b[1;32m    532\u001b[0m         \u001b[0;32mif\u001b[0m \u001b[0minitial_state\u001b[0m \u001b[0;32mis\u001b[0m \u001b[0;32mNone\u001b[0m \u001b[0;32mand\u001b[0m \u001b[0mconstants\u001b[0m \u001b[0;32mis\u001b[0m \u001b[0;32mNone\u001b[0m\u001b[0;34m:\u001b[0m\u001b[0;34m\u001b[0m\u001b[0;34m\u001b[0m\u001b[0m\n\u001b[0;32m--> 533\u001b[0;31m             \u001b[0;32mreturn\u001b[0m \u001b[0msuper\u001b[0m\u001b[0;34m(\u001b[0m\u001b[0mRNN\u001b[0m\u001b[0;34m,\u001b[0m \u001b[0mself\u001b[0m\u001b[0;34m)\u001b[0m\u001b[0;34m.\u001b[0m\u001b[0m__call__\u001b[0m\u001b[0;34m(\u001b[0m\u001b[0minputs\u001b[0m\u001b[0;34m,\u001b[0m \u001b[0;34m**\u001b[0m\u001b[0mkwargs\u001b[0m\u001b[0;34m)\u001b[0m\u001b[0;34m\u001b[0m\u001b[0;34m\u001b[0m\u001b[0m\n\u001b[0m\u001b[1;32m    534\u001b[0m \u001b[0;34m\u001b[0m\u001b[0m\n\u001b[1;32m    535\u001b[0m         \u001b[0;31m# If any of `initial_state` or `constants` are specified and are Keras\u001b[0m\u001b[0;34m\u001b[0m\u001b[0;34m\u001b[0m\u001b[0;34m\u001b[0m\u001b[0m\n",
      "\u001b[0;32m/usr/local/lib/python3.6/dist-packages/keras/engine/base_layer.py\u001b[0m in \u001b[0;36m__call__\u001b[0;34m(self, inputs, **kwargs)\u001b[0m\n\u001b[1;32m    406\u001b[0m                 \u001b[0;31m# Raise exceptions in case the input is not compatible\u001b[0m\u001b[0;34m\u001b[0m\u001b[0;34m\u001b[0m\u001b[0;34m\u001b[0m\u001b[0m\n\u001b[1;32m    407\u001b[0m                 \u001b[0;31m# with the input_spec specified in the layer constructor.\u001b[0m\u001b[0;34m\u001b[0m\u001b[0;34m\u001b[0m\u001b[0;34m\u001b[0m\u001b[0m\n\u001b[0;32m--> 408\u001b[0;31m                 \u001b[0mself\u001b[0m\u001b[0;34m.\u001b[0m\u001b[0massert_input_compatibility\u001b[0m\u001b[0;34m(\u001b[0m\u001b[0minputs\u001b[0m\u001b[0;34m)\u001b[0m\u001b[0;34m\u001b[0m\u001b[0;34m\u001b[0m\u001b[0m\n\u001b[0m\u001b[1;32m    409\u001b[0m \u001b[0;34m\u001b[0m\u001b[0m\n\u001b[1;32m    410\u001b[0m                 \u001b[0;31m# Collect input shapes to build layer.\u001b[0m\u001b[0;34m\u001b[0m\u001b[0;34m\u001b[0m\u001b[0;34m\u001b[0m\u001b[0m\n",
      "\u001b[0;32m/usr/local/lib/python3.6/dist-packages/keras/engine/base_layer.py\u001b[0m in \u001b[0;36massert_input_compatibility\u001b[0;34m(self, inputs)\u001b[0m\n\u001b[1;32m    303\u001b[0m                                      \u001b[0mself\u001b[0m\u001b[0;34m.\u001b[0m\u001b[0mname\u001b[0m \u001b[0;34m+\u001b[0m \u001b[0;34m': expected ndim='\u001b[0m \u001b[0;34m+\u001b[0m\u001b[0;34m\u001b[0m\u001b[0;34m\u001b[0m\u001b[0m\n\u001b[1;32m    304\u001b[0m                                      \u001b[0mstr\u001b[0m\u001b[0;34m(\u001b[0m\u001b[0mspec\u001b[0m\u001b[0;34m.\u001b[0m\u001b[0mndim\u001b[0m\u001b[0;34m)\u001b[0m \u001b[0;34m+\u001b[0m \u001b[0;34m', found ndim='\u001b[0m \u001b[0;34m+\u001b[0m\u001b[0;34m\u001b[0m\u001b[0;34m\u001b[0m\u001b[0m\n\u001b[0;32m--> 305\u001b[0;31m                                      str(K.ndim(x)))\n\u001b[0m\u001b[1;32m    306\u001b[0m             \u001b[0;32mif\u001b[0m \u001b[0mspec\u001b[0m\u001b[0;34m.\u001b[0m\u001b[0mmax_ndim\u001b[0m \u001b[0;32mis\u001b[0m \u001b[0;32mnot\u001b[0m \u001b[0;32mNone\u001b[0m\u001b[0;34m:\u001b[0m\u001b[0;34m\u001b[0m\u001b[0;34m\u001b[0m\u001b[0m\n\u001b[1;32m    307\u001b[0m                 \u001b[0mndim\u001b[0m \u001b[0;34m=\u001b[0m \u001b[0mK\u001b[0m\u001b[0;34m.\u001b[0m\u001b[0mndim\u001b[0m\u001b[0;34m(\u001b[0m\u001b[0mx\u001b[0m\u001b[0;34m)\u001b[0m\u001b[0;34m\u001b[0m\u001b[0;34m\u001b[0m\u001b[0m\n",
      "\u001b[0;31mValueError\u001b[0m: Input 0 is incompatible with layer lstm_1: expected ndim=3, found ndim=2"
     ]
    }
   ],
   "source": [
    "# Currently not working\n",
    "import tensorflow as tf\n",
    "from tensorflow import keras\n",
    "\n",
    "from keras.layers import Input, Dense, LSTM, Embedding\n",
    "from keras.layers import Dropout, Activation, Bidirectional, GlobalMaxPool1D\n",
    "from keras.models import Model, Sequential\n",
    "from keras import initializers, regularizers, constraints, optimizers, layers\n",
    "\n",
    "model = Sequential()\n",
    "model.add(layers.InputLayer(input_shape=(50,)))\n",
    "model.add(layers.LSTM(25, return_sequences=True))\n",
    "model.add(layers.LSTM(25, return_sequences=True))\n",
    "model.add(layers.GlobalMaxPool1D())\n",
    "model.add(layers.Dropout(0.5))\n",
    "model.add(layers.Dense(50, activation='relu'))\n",
    "model.add(layers.Dropout(0.5))\n",
    "model.add(layers.Dense(1, activation='relu'))\n",
    "\n",
    "model.compile(loss='binary_crossentropy', optimizer='adam', metrics=['accuracy'])\n",
    "history = model.fit(train_vectors, y_train, epochs=2, batch_size=32, \n",
    "                    validation_data=(val_vectors, y_val))\n"
   ]
  },
  {
   "cell_type": "code",
   "execution_count": 0,
   "metadata": {
    "colab": {},
    "colab_type": "code",
    "id": "eWkNi2nt-kz2"
   },
   "outputs": [],
   "source": [
    "# This is a model that calculates its own embeddings\n",
    "import tensorflow as tf\n",
    "from tensorflow import keras\n",
    "\n",
    "from keras.layers import Input, Dense, LSTM, Embedding\n",
    "from keras.layers import Dropout, Activation, Bidirectional, GlobalMaxPool1D\n",
    "from keras.models import Model\n",
    "from keras import initializers, regularizers, constraints, optimizers, layers\n",
    "\n",
    "embedding_size = 128\n",
    "input_ = Input(shape=(50,))\n",
    "x = Embedding(20000, embedding_size)(input_)\n",
    "x = LSTM(25, return_sequences=True)(x)\n",
    "x = GlobalMaxPool1D()(x)\n",
    "x = Dropout(0.5)(x)\n",
    "x = Dense(50, activation='relu')(x)\n",
    "x = Dropout(0.5)(x)\n",
    "x = Dense(1, activation='relu')(x)\n",
    "\n",
    "model = Model(inputs=input_, outputs=x)"
   ]
  },
  {
   "cell_type": "code",
   "execution_count": 0,
   "metadata": {
    "colab": {
     "base_uri": "https://localhost:8080/",
     "height": 411
    },
    "colab_type": "code",
    "id": "Uwsfxz8R--iG",
    "outputId": "0163a116-c502-4ca9-bc2b-f5334e241447"
   },
   "outputs": [
    {
     "name": "stdout",
     "output_type": "stream",
     "text": [
      "WARNING:tensorflow:From /usr/local/lib/python3.6/dist-packages/keras/optimizers.py:793: The name tf.train.Optimizer is deprecated. Please use tf.compat.v1.train.Optimizer instead.\n",
      "\n",
      "WARNING:tensorflow:From /usr/local/lib/python3.6/dist-packages/keras/backend/tensorflow_backend.py:3657: The name tf.log is deprecated. Please use tf.math.log instead.\n",
      "\n",
      "WARNING:tensorflow:From /usr/local/lib/python3.6/dist-packages/tensorflow_core/python/ops/nn_impl.py:183: where (from tensorflow.python.ops.array_ops) is deprecated and will be removed in a future version.\n",
      "Instructions for updating:\n",
      "Use tf.where in 2.0, which has the same broadcast rule as np.where\n",
      "WARNING:tensorflow:From /usr/local/lib/python3.6/dist-packages/keras/backend/tensorflow_backend.py:3005: The name tf.Session is deprecated. Please use tf.compat.v1.Session instead.\n",
      "\n",
      "Train on 314863 samples, validate on 39358 samples\n",
      "Epoch 1/2\n",
      "WARNING:tensorflow:From /usr/local/lib/python3.6/dist-packages/keras/backend/tensorflow_backend.py:190: The name tf.get_default_session is deprecated. Please use tf.compat.v1.get_default_session instead.\n",
      "\n",
      "WARNING:tensorflow:From /usr/local/lib/python3.6/dist-packages/keras/backend/tensorflow_backend.py:207: The name tf.global_variables is deprecated. Please use tf.compat.v1.global_variables instead.\n",
      "\n",
      "WARNING:tensorflow:From /usr/local/lib/python3.6/dist-packages/keras/backend/tensorflow_backend.py:216: The name tf.is_variable_initialized is deprecated. Please use tf.compat.v1.is_variable_initialized instead.\n",
      "\n",
      "WARNING:tensorflow:From /usr/local/lib/python3.6/dist-packages/keras/backend/tensorflow_backend.py:223: The name tf.variables_initializer is deprecated. Please use tf.compat.v1.variables_initializer instead.\n",
      "\n",
      "314863/314863 [==============================] - 1014s 3ms/step - loss: 0.6991 - acc: 0.5152 - val_loss: 0.6920 - val_acc: 0.5288\n",
      "Epoch 2/2\n",
      "314863/314863 [==============================] - 1025s 3ms/step - loss: 0.6920 - acc: 0.5249 - val_loss: 0.6915 - val_acc: 0.5288\n"
     ]
    }
   ],
   "source": [
    "model.compile(loss='binary_crossentropy', optimizer='adam', metrics=['accuracy'])\n",
    "history = model.fit(train_vectors, y_train, epochs=2, batch_size=32, \n",
    "                    validation_data=(val_vectors, y_val))"
   ]
  },
  {
   "cell_type": "code",
   "execution_count": 0,
   "metadata": {
    "colab": {},
    "colab_type": "code",
    "id": "K6H7fBmS5x4s"
   },
   "outputs": [],
   "source": []
  },
  {
   "cell_type": "markdown",
   "metadata": {
    "colab_type": "text",
    "id": "MzEKVNyvrb0W"
   },
   "source": [
    "## Try making own embeddings, RF for baseline"
   ]
  },
  {
   "cell_type": "code",
   "execution_count": 0,
   "metadata": {
    "colab": {
     "base_uri": "https://localhost:8080/",
     "height": 34
    },
    "colab_type": "code",
    "id": "qQlHhZSLNM2g",
    "outputId": "26ee5c24-a450-4498-c865-e1f7170ce117"
   },
   "outputs": [
    {
     "data": {
      "text/plain": [
       "'I was expecting these to be gum, my mistake. But I still like candy. I tried one, and they tasted horrible!'"
      ]
     },
     "execution_count": 26,
     "metadata": {
      "tags": []
     },
     "output_type": "execute_result"
    }
   ],
   "source": [
    "# Get all training text as a list of 'sentences' (reviews)\n",
    "from gensim.models import Word2Vec\n",
    "from keras.preprocessing.text import text_to_word_sequence\n",
    "\n",
    "all_train_text = []\n",
    "for row in X_train.index:\n",
    "    all_train_text.append(X_train[row])\n",
    "all_train_text[0]"
   ]
  },
  {
   "cell_type": "code",
   "execution_count": 0,
   "metadata": {
    "colab": {},
    "colab_type": "code",
    "id": "kXQEtDvd4JDj"
   },
   "outputs": [],
   "source": [
    "# Tokenize the training reviews\n",
    "# Note that stopwords have not been removed\n",
    "train_tokens = []\n",
    "for sentence in all_train_text:\n",
    "    sentence_tok = text_to_word_sequence(sentence, \n",
    "                                         filters='!\"#$%&()*+,-./:;<=>?@[\\\\]^_`{|}~\\t\\n', \n",
    "                                         lower=True, split=' ')\n",
    "    train_tokens.append(sentence_tok)\n",
    "train_tokens[0]"
   ]
  },
  {
   "cell_type": "code",
   "execution_count": 0,
   "metadata": {
    "colab": {
     "base_uri": "https://localhost:8080/",
     "height": 68
    },
    "colab_type": "code",
    "id": "dsoUneKdDYWU",
    "outputId": "41405a24-a444-4d63-bab1-dea53d180eb5"
   },
   "outputs": [
    {
     "name": "stdout",
     "output_type": "stream",
     "text": [
      "[nltk_data] Downloading package wordnet to /root/nltk_data...\n",
      "[nltk_data]   Unzipping corpora/wordnet.zip.\n"
     ]
    },
    {
     "data": {
      "text/plain": [
       "True"
      ]
     },
     "execution_count": 18,
     "metadata": {
      "tags": []
     },
     "output_type": "execute_result"
    }
   ],
   "source": [
    "import nltk\n",
    "nltk.download('wordnet')"
   ]
  },
  {
   "cell_type": "code",
   "execution_count": 0,
   "metadata": {
    "colab": {
     "base_uri": "https://localhost:8080/",
     "height": 1000
    },
    "colab_type": "code",
    "id": "gQZFlBqCDAU5",
    "outputId": "c22d9787-ebb3-4fac-8a46-56ca0b715ff6"
   },
   "outputs": [
    {
     "data": {
      "text/plain": [
       "[['i',\n",
       "  'wa',\n",
       "  'expecting',\n",
       "  'these',\n",
       "  'to',\n",
       "  'be',\n",
       "  'gum',\n",
       "  'my',\n",
       "  'mistake',\n",
       "  'but',\n",
       "  'i',\n",
       "  'still',\n",
       "  'like',\n",
       "  'candy',\n",
       "  'i',\n",
       "  'tried',\n",
       "  'one',\n",
       "  'and',\n",
       "  'they',\n",
       "  'tasted',\n",
       "  'horrible'],\n",
       " ['i',\n",
       "  'wa',\n",
       "  'a',\n",
       "  'bit',\n",
       "  'hesitant',\n",
       "  'at',\n",
       "  'first',\n",
       "  'but',\n",
       "  'this',\n",
       "  'sauce',\n",
       "  'is',\n",
       "  'awesome',\n",
       "  'i',\n",
       "  'made',\n",
       "  'a',\n",
       "  'casserole',\n",
       "  'dish',\n",
       "  'and',\n",
       "  'added',\n",
       "  'a',\n",
       "  'bit',\n",
       "  'for',\n",
       "  'extra',\n",
       "  'flavor',\n",
       "  'and',\n",
       "  'everyone',\n",
       "  'raved',\n",
       "  'about',\n",
       "  'it',\n",
       "  'def',\n",
       "  'a',\n",
       "  'must',\n",
       "  'have',\n",
       "  'for',\n",
       "  'your',\n",
       "  'kitchen',\n",
       "  'cabinet']]"
      ]
     },
     "execution_count": 28,
     "metadata": {
      "tags": []
     },
     "output_type": "execute_result"
    }
   ],
   "source": [
    "# Lemmatize the tokens\n",
    "from nltk.stem.wordnet import WordNetLemmatizer\n",
    "\n",
    "lem = WordNetLemmatizer()\n",
    "train_tokens_lem = []\n",
    "for sentence in train_tokens:\n",
    "    words_lem = []\n",
    "    for word in sentence:\n",
    "        words_lem.append(lem.lemmatize(word))\n",
    "    train_tokens_lem.append(words_lem)\n",
    "train_tokens_lem[:2]"
   ]
  },
  {
   "cell_type": "code",
   "execution_count": 0,
   "metadata": {
    "colab": {
     "base_uri": "https://localhost:8080/",
     "height": 34
    },
    "colab_type": "code",
    "id": "vgBI5Bq42rCz",
    "outputId": "5dd02537-4be7-4386-dd39-06bc6c0ebe9b"
   },
   "outputs": [
    {
     "name": "stdout",
     "output_type": "stream",
     "text": [
      "Total sentences in training set: 314863\n"
     ]
    }
   ],
   "source": [
    "print('Total sentences in training set:', len(train_tokens_lem))"
   ]
  },
  {
   "cell_type": "code",
   "execution_count": 0,
   "metadata": {
    "colab": {
     "base_uri": "https://localhost:8080/",
     "height": 34
    },
    "colab_type": "code",
    "id": "VKEx2qxew9tz",
    "outputId": "1e93b811-621b-4bed-d8df-bc967ea71e14"
   },
   "outputs": [
    {
     "data": {
      "text/plain": [
       "(37473314, 51073620)"
      ]
     },
     "execution_count": 30,
     "metadata": {
      "tags": []
     },
     "output_type": "execute_result"
    }
   ],
   "source": [
    "# (~ 4 min.)\n",
    "model = Word2Vec(train_tokens_lem, size=100, window=5, min_count=5, workers=4)\n",
    "model.train(train_tokens_lem, total_examples=model.corpus_count, epochs=2)"
   ]
  },
  {
   "cell_type": "code",
   "execution_count": 0,
   "metadata": {
    "colab": {},
    "colab_type": "code",
    "id": "IiStCJ6jNM2j"
   },
   "outputs": [],
   "source": [
    "w2v_weights = model.wv"
   ]
  },
  {
   "cell_type": "code",
   "execution_count": 0,
   "metadata": {
    "colab": {},
    "colab_type": "code",
    "id": "WkY6MEMKNM2k"
   },
   "outputs": [],
   "source": [
    "w2v_weights.vectors.shape"
   ]
  },
  {
   "cell_type": "code",
   "execution_count": 0,
   "metadata": {
    "colab": {
     "base_uri": "https://localhost:8080/",
     "height": 241
    },
    "colab_type": "code",
    "id": "_klYledty-qf",
    "outputId": "835c750f-7577-40dd-bfe0-3d9227c0e631"
   },
   "outputs": [
    {
     "name": "stderr",
     "output_type": "stream",
     "text": [
      "/usr/local/lib/python3.6/dist-packages/gensim/matutils.py:737: FutureWarning: Conversion of the second argument of issubdtype from `int` to `np.signedinteger` is deprecated. In future, it will be treated as `np.int64 == np.dtype(int).type`.\n",
      "  if np.issubdtype(vec.dtype, np.int):\n"
     ]
    },
    {
     "data": {
      "text/plain": [
       "[('dill', 0.7812861204147339),\n",
       " ('relish', 0.7334139943122864),\n",
       " ('pickled', 0.6779618859291077),\n",
       " ('jalapeno', 0.661675751209259),\n",
       " ('mustard', 0.659802258014679),\n",
       " ('guacamole', 0.6531776785850525),\n",
       " ('mayonnaise', 0.65268874168396),\n",
       " ('branston', 0.6448863744735718),\n",
       " ('ketchup', 0.6447923183441162),\n",
       " ('salsa', 0.638229489326477)]"
      ]
     },
     "execution_count": 33,
     "metadata": {
      "tags": []
     },
     "output_type": "execute_result"
    }
   ],
   "source": [
    "w2v_weights.most_similar('pickle')"
   ]
  },
  {
   "cell_type": "code",
   "execution_count": 0,
   "metadata": {
    "colab": {},
    "colab_type": "code",
    "id": "pc6kraWuA2v7"
   },
   "outputs": [],
   "source": []
  },
  {
   "cell_type": "code",
   "execution_count": 0,
   "metadata": {
    "colab": {},
    "colab_type": "code",
    "id": "a-Pr4GqLdZQR"
   },
   "outputs": [],
   "source": []
  },
  {
   "cell_type": "code",
   "execution_count": 0,
   "metadata": {
    "colab": {},
    "colab_type": "code",
    "id": "dKfg06irieNY"
   },
   "outputs": [],
   "source": [
    "TFHUB_CACHE_DIR = os.path.join(os.curdir, \"my_tfhub_cache\")\n",
    "os.environ[\"TFHUB_CACHE_DIR\"] = TFHUB_CACHE_DIR"
   ]
  },
  {
   "cell_type": "code",
   "execution_count": 0,
   "metadata": {
    "colab": {},
    "colab_type": "code",
    "id": "ds2XYgvkieGO"
   },
   "outputs": [],
   "source": [
    "import tensorflow_hub as hub\n",
    "\n",
    "model = keras.Sequential([\n",
    "    hub.KerasLayer(\"https://tfhub.dev/google/tf2-preview/nnlm-en-dim50/1\",\n",
    "                   dtype=tf.string, input_shape=[], output_shape=[50]),\n",
    "    keras.layers.Dense(128, activation=\"relu\"),\n",
    "    keras.layers.Dense(1, activation=\"relu\")\n",
    "])\n",
    "model.compile(loss=\"binary_crossentropy\", optimizer=\"nadam\",\n",
    "              metrics=[\"accuracy\"])"
   ]
  },
  {
   "cell_type": "code",
   "execution_count": 0,
   "metadata": {
    "colab": {
     "base_uri": "https://localhost:8080/",
     "height": 714
    },
    "colab_type": "code",
    "id": "aVKdGWf3id-v",
    "outputId": "6e9d8467-38ba-4125-ee0d-8099b183ab81"
   },
   "outputs": [
    {
     "name": "stdout",
     "output_type": "stream",
     "text": [
      "Train for 781 steps\n",
      "Epoch 1/20\n",
      "781/781 [==============================] - 8s 10ms/step - loss: 2.5624 - accuracy: 0.6589\n",
      "Epoch 2/20\n",
      "781/781 [==============================] - 8s 10ms/step - loss: 7.7090 - accuracy: 0.5001\n",
      "Epoch 3/20\n",
      "781/781 [==============================] - 8s 10ms/step - loss: 7.7078 - accuracy: 0.5002\n",
      "Epoch 4/20\n",
      "781/781 [==============================] - 9s 11ms/step - loss: 6.2831 - accuracy: 0.5429\n",
      "Epoch 5/20\n",
      "781/781 [==============================] - 9s 12ms/step - loss: 4.3249 - accuracy: 0.6093\n",
      "Epoch 6/20\n",
      "781/781 [==============================] - 9s 11ms/step - loss: 3.3020 - accuracy: 0.6286\n",
      "Epoch 7/20\n",
      "781/781 [==============================] - 9s 11ms/step - loss: 7.6833 - accuracy: 0.5008\n",
      "Epoch 8/20\n",
      "781/781 [==============================] - 9s 11ms/step - loss: 3.9545 - accuracy: 0.6192\n",
      "Epoch 9/20\n",
      "781/781 [==============================] - 9s 11ms/step - loss: 7.6247 - accuracy: 0.5000\n",
      "Epoch 10/20\n",
      "781/781 [==============================] - 8s 11ms/step - loss: 7.6229 - accuracy: 0.5001\n",
      "Epoch 11/20\n",
      "781/781 [==============================] - 9s 11ms/step - loss: 7.6235 - accuracy: 0.5000\n",
      "Epoch 12/20\n",
      "781/781 [==============================] - 9s 11ms/step - loss: 7.6241 - accuracy: 0.5000\n",
      "Epoch 13/20\n",
      "781/781 [==============================] - 9s 11ms/step - loss: 7.6241 - accuracy: 0.5000\n",
      "Epoch 14/20\n",
      "781/781 [==============================] - 9s 11ms/step - loss: 7.6235 - accuracy: 0.5000\n",
      "Epoch 15/20\n",
      "781/781 [==============================] - 9s 12ms/step - loss: 7.6247 - accuracy: 0.5000\n",
      "Epoch 16/20\n",
      "781/781 [==============================] - 9s 11ms/step - loss: 7.6235 - accuracy: 0.5000\n",
      "Epoch 17/20\n",
      "781/781 [==============================] - 9s 11ms/step - loss: 7.6241 - accuracy: 0.5000\n",
      "Epoch 18/20\n",
      "781/781 [==============================] - 9s 11ms/step - loss: 7.6234 - accuracy: 0.5000\n",
      "Epoch 19/20\n",
      "781/781 [==============================] - 9s 12ms/step - loss: 7.6247 - accuracy: 0.5000\n",
      "Epoch 20/20\n",
      "781/781 [==============================] - 9s 12ms/step - loss: 7.6234 - accuracy: 0.5000\n"
     ]
    }
   ],
   "source": [
    "import tensorflow_datasets as tfds\n",
    "\n",
    "datasets, info = tfds.load(\"imdb_reviews\", as_supervised=True, with_info=True)\n",
    "train_size = info.splits[\"train\"].num_examples\n",
    "batch_size = 32\n",
    "train_set = datasets[\"train\"].repeat().batch(batch_size).prefetch(1)\n",
    "history = model.fit(train_set, steps_per_epoch=train_size // batch_size, epochs=20)"
   ]
  },
  {
   "cell_type": "code",
   "execution_count": 0,
   "metadata": {
    "colab": {},
    "colab_type": "code",
    "id": "oztrQxFYid2I"
   },
   "outputs": [],
   "source": [
    "test_size = info.splits[\"test\"].num_examples\n",
    "test_set = datasets[\"test\"].repeat().batch(batch_size).prefetch(1)"
   ]
  },
  {
   "cell_type": "code",
   "execution_count": 0,
   "metadata": {
    "colab": {},
    "colab_type": "code",
    "id": "RHOEPdk6idtz"
   },
   "outputs": [],
   "source": [
    "y_pred = model.predict(test_set, steps=781)"
   ]
  },
  {
   "cell_type": "code",
   "execution_count": 0,
   "metadata": {
    "colab": {
     "base_uri": "https://localhost:8080/",
     "height": 34
    },
    "colab_type": "code",
    "id": "UrYhv6DvhJhN",
    "outputId": "0d84c405-e87d-44bb-9cc4-0f00320d4b06"
   },
   "outputs": [
    {
     "data": {
      "text/plain": [
       "array([0, 1, 1, ..., 0, 0, 0])"
      ]
     },
     "execution_count": 57,
     "metadata": {
      "tags": []
     },
     "output_type": "execute_result"
    }
   ],
   "source": [
    "y_test"
   ]
  },
  {
   "cell_type": "code",
   "execution_count": 0,
   "metadata": {
    "colab": {
     "base_uri": "https://localhost:8080/",
     "height": 136
    },
    "colab_type": "code",
    "id": "0GOUV-OKjAHW",
    "outputId": "c5b8a44b-787c-41cf-a133-02918a41582d"
   },
   "outputs": [
    {
     "data": {
      "text/plain": [
       "array([[0.7813596 ],\n",
       "       [0.7155528 ],\n",
       "       [1.5576302 ],\n",
       "       ...,\n",
       "       [0.5891824 ],\n",
       "       [0.9902361 ],\n",
       "       [0.73839027]], dtype=float32)"
      ]
     },
     "execution_count": 62,
     "metadata": {
      "tags": []
     },
     "output_type": "execute_result"
    }
   ],
   "source": [
    "y_pred"
   ]
  },
  {
   "cell_type": "markdown",
   "metadata": {
    "colab_type": "text",
    "id": "cptZdLwrspbU"
   },
   "source": [
    "## NN with Embedding layer\n",
    "\n",
    "embeddings computed by the network on the fly"
   ]
  },
  {
   "cell_type": "code",
   "execution_count": 0,
   "metadata": {
    "colab": {},
    "colab_type": "code",
    "id": "5Cn9Huqvt-lF"
   },
   "outputs": [],
   "source": [
    "# Python ≥3.5 is required\n",
    "import sys\n",
    "assert sys.version_info >= (3, 5)\n",
    "\n",
    "# Scikit-Learn ≥0.20 is required\n",
    "import sklearn\n",
    "assert sklearn.__version__ >= \"0.20\"\n",
    "\n",
    "try:\n",
    "    # %tensorflow_version only exists in Colab.\n",
    "    %tensorflow_version 2.x\n",
    "    !pip install -q -U tensorflow-addons\n",
    "    IS_COLAB = True\n",
    "except Exception:\n",
    "    IS_COLAB = False\n",
    "\n",
    "# TensorFlow ≥2.0 is required\n",
    "import tensorflow as tf\n",
    "from tensorflow import keras\n",
    "assert tf.__version__ >= \"2.0\""
   ]
  },
  {
   "cell_type": "code",
   "execution_count": 0,
   "metadata": {
    "colab": {},
    "colab_type": "code",
    "id": "A0OIzf_FjBGe"
   },
   "outputs": [],
   "source": [
    "\n",
    "from keras.preprocessing.sequence import pad_sequences\n",
    "from keras.layers import Input, Dense, LSTM, Embedding\n",
    "from keras.layers import Dropout, Activation, Bidirectional, GlobalMaxPool1D\n",
    "from keras.models import Sequential\n",
    "from keras import initializers, regularizers, constraints, optimizers, layers\n",
    "from keras.preprocessing import text, sequence"
   ]
  },
  {
   "cell_type": "code",
   "execution_count": 0,
   "metadata": {
    "colab": {},
    "colab_type": "code",
    "id": "nv-_RSbTs8DU"
   },
   "outputs": [],
   "source": [
    "tokenizer = text.Tokenizer(num_words=20000)\n",
    "tokenizer.fit_on_texts(list(X_train))\n",
    "X_train_tok = tokenizer.texts_to_sequences(X_train)\n",
    "X_train_tok_pad = sequence.pad_sequences(X_train_tok, maxlen=100)\n",
    "\n",
    "X_val_tok = tokenizer.texts_to_sequences(X_val)\n",
    "X_val_tok_pad = sequence.pad_sequences(X_val_tok, maxlen=100)\n",
    "\n",
    "X_test_tok = tokenizer.texts_to_sequences(X_test)\n",
    "X_test_tok_pad = sequence.pad_sequences(X_test_tok, maxlen=100)"
   ]
  },
  {
   "cell_type": "code",
   "execution_count": 0,
   "metadata": {
    "colab": {
     "base_uri": "https://localhost:8080/",
     "height": 156
    },
    "colab_type": "code",
    "id": "SQtazmcltRK3",
    "outputId": "d1759e94-a3fa-4359-a0dc-b49d72b48236"
   },
   "outputs": [
    {
     "name": "stdout",
     "output_type": "stream",
     "text": [
      "Train on 314863 samples, validate on 39358 samples\n",
      "Epoch 1/5\n",
      "314848/314863 [============================>.] - ETA: 0s - loss: 0.7047 - accuracy: 0.5457 - val_loss: 0.6752 - val_accuracy: 0.5832Epoch 2/5\n",
      "314831/314863 [============================>.] - ETA: 0s - loss: 0.6744 - accuracy: 0.5876 - val_loss: 0.6697 - val_accuracy: 0.5924Epoch 3/5\n",
      "314831/314863 [============================>.] - ETA: 0s - loss: 0.6641 - accuracy: 0.6111 - val_loss: 0.6672 - val_accuracy: 0.5930Epoch 4/5\n",
      "314831/314863 [============================>.] - ETA: 0s - loss: 0.6560 - accuracy: 0.6266 - val_loss: 0.6691 - val_accuracy: 0.5949Epoch 5/5\n",
      "314831/314863 [============================>.] - ETA: 0s - loss: 0.6483 - accuracy: 0.6405 - val_loss: 0.6711 - val_accuracy: 0.5928"
     ]
    }
   ],
   "source": [
    "embedding_size = 128\n",
    "model = tf.keras.models.Sequential()\n",
    "model.add(tf.keras.layers.Embedding(20000, embedding_size, input_shape=(100,)))\n",
    "model.add(tf.keras.layers.LSTM(25, return_sequences=True))\n",
    "model.add(tf.keras.layers.LSTM(25, return_sequences=True))\n",
    "model.add(tf.keras.layers.GlobalMaxPool1D())\n",
    "model.add(tf.keras.layers.Dropout(0.5))\n",
    "model.add(tf.keras.layers.Dense(50, activation='relu'))\n",
    "model.add(tf.keras.layers.Dropout(0.5))\n",
    "model.add(tf.keras.layers.Dense(50, activation='relu'))\n",
    "model.add(tf.keras.layers.Dropout(0.5))\n",
    "model.add(tf.keras.layers.Dense(1, activation='relu'))\n",
    "\n",
    "model.compile(loss='binary_crossentropy', optimizer='adam', metrics=['accuracy'])\n",
    "history = model.fit(X_train_tok_pad, y_train, epochs=5, batch_size=32, \n",
    "                    steps_per_epoch=9839, validation_data=(X_val_tok_pad, y_val))"
   ]
  },
  {
   "cell_type": "code",
   "execution_count": 0,
   "metadata": {
    "colab": {
     "base_uri": "https://localhost:8080/",
     "height": 187
    },
    "colab_type": "code",
    "id": "qkB6iQcFzDSE",
    "outputId": "576e7f6c-d17d-4598-ec2c-1b19b9a7411a"
   },
   "outputs": [
    {
     "data": {
      "text/plain": [
       "array([ 312, 1525,   42,   12, 3191, 1682,    2,   17,    5,  118,  581,\n",
       "        122,   47,   99,    9,   47,   49,   48,   42,   56,  245,   60,\n",
       "        581,  122,   47,   96,  187,  267,    2,  108,    5,  118,    1,\n",
       "        224, 2886,  514,    7,    9,   47,   82,    8,  116,    7,   47,\n",
       "          3,    1,  169, 1564,  131,    1,  169,    1,  224,  514,    8,\n",
       "        661,   12, 5348, 4440,  616,  581,   38,    2, 8180,    4,  121,\n",
       "         31,  129,    7,    1,  224,  514,   32,    1,  106, 2643,    7,\n",
       "          4,    6,   54, 2107,    1, 7629, 6062,  100, 1810,   98,    9,\n",
       "        581,  122,   31,    1,  224,  514,  244,   21,  140,  158,   31,\n",
       "        683], dtype=int32)"
      ]
     },
     "execution_count": 103,
     "metadata": {
      "tags": []
     },
     "output_type": "execute_result"
    }
   ],
   "source": [
    "X_train_tok_pad[22343]"
   ]
  },
  {
   "cell_type": "code",
   "execution_count": 0,
   "metadata": {
    "colab": {
     "base_uri": "https://localhost:8080/",
     "height": 34
    },
    "colab_type": "code",
    "id": "3GJZ5kA26GOk",
    "outputId": "eb224c18-cf08-4355-c575-6cb4ffc1bd2a"
   },
   "outputs": [
    {
     "data": {
      "text/plain": [
       "2535"
      ]
     },
     "execution_count": 110,
     "metadata": {
      "tags": []
     },
     "output_type": "execute_result"
    }
   ],
   "source": [
    "lens = []\n",
    "for x in range(len(X_train_tok)):\n",
    "  lens.append(len(X_train_tok[x]))\n",
    "max(lens)"
   ]
  },
  {
   "cell_type": "markdown",
   "metadata": {
    "colab_type": "text",
    "id": "6wkBi3q07ly5"
   },
   "source": [
    "### Try again with bigger embeddings"
   ]
  },
  {
   "cell_type": "code",
   "execution_count": 0,
   "metadata": {
    "colab": {},
    "colab_type": "code",
    "id": "8C1APuiS6zTd"
   },
   "outputs": [],
   "source": [
    "# Tokenize and pad text vectors (~ 1 min.)\n",
    "tokenizer = text.Tokenizer(num_words=200000)\n",
    "tokenizer.fit_on_texts(list(X_train))\n",
    "X_train_tok = tokenizer.texts_to_sequences(X_train)\n",
    "X_train_tok_pad = sequence.pad_sequences(X_train_tok, maxlen=2000)\n",
    "\n",
    "X_val_tok = tokenizer.texts_to_sequences(X_val)\n",
    "X_val_tok_pad = sequence.pad_sequences(X_val_tok, maxlen=2000)\n",
    "\n",
    "X_test_tok = tokenizer.texts_to_sequences(X_test)\n",
    "X_test_tok_pad = sequence.pad_sequences(X_test_tok, maxlen=2000)"
   ]
  },
  {
   "cell_type": "code",
   "execution_count": 0,
   "metadata": {
    "colab": {
     "base_uri": "https://localhost:8080/",
     "height": 105
    },
    "colab_type": "code",
    "id": "uH8EbjD-7xKF",
    "outputId": "c9643cc8-f59d-4f17-8e4d-855b8d03f000"
   },
   "outputs": [
    {
     "name": "stdout",
     "output_type": "stream",
     "text": [
      "Train on 314863 samples, validate on 39358 samples\n",
      "Epoch 1/2\n",
      "314848/314863 [============================>.] - ETA: 0s - loss: 0.6994 - accuracy: 0.5552 - val_loss: 0.6677 - val_accuracy: 0.5990Epoch 2/2\n",
      "314831/314863 [============================>.] - ETA: 0s - loss: 0.6672 - accuracy: 0.6043 - val_loss: 0.6655 - val_accuracy: 0.5989"
     ]
    }
   ],
   "source": [
    "embedding_size = 128\n",
    "model = tf.keras.models.Sequential()\n",
    "model.add(tf.keras.layers.Embedding(200000, embedding_size, input_shape=(2000,)))\n",
    "model.add(tf.keras.layers.LSTM(25, return_sequences=True))\n",
    "model.add(tf.keras.layers.LSTM(25, return_sequences=True))\n",
    "model.add(tf.keras.layers.GlobalMaxPool1D())\n",
    "model.add(tf.keras.layers.Dropout(0.5))\n",
    "model.add(tf.keras.layers.Dense(50, activation='relu'))\n",
    "model.add(tf.keras.layers.Dropout(0.5))\n",
    "model.add(tf.keras.layers.Dense(50, activation='relu'))\n",
    "model.add(tf.keras.layers.Dropout(0.5))\n",
    "model.add(tf.keras.layers.Dense(1, activation='relu'))\n",
    "\n",
    "model.compile(loss='binary_crossentropy', optimizer='adam', metrics=['accuracy'])\n",
    "history = model.fit(X_train_tok_pad, y_train, epochs=2, batch_size=32, \n",
    "                    validation_data=(X_val_tok_pad, y_val))"
   ]
  },
  {
   "cell_type": "code",
   "execution_count": 0,
   "metadata": {
    "colab": {
     "base_uri": "https://localhost:8080/",
     "height": 493
    },
    "colab_type": "code",
    "id": "iyYiRtiS8Aqz",
    "outputId": "ecab5f63-71a8-45d4-94ca-69253c7e079d"
   },
   "outputs": [
    {
     "name": "stdout",
     "output_type": "stream",
     "text": [
      "Model: \"sequential_9\"\n",
      "_________________________________________________________________\n",
      "Layer (type)                 Output Shape              Param #   \n",
      "=================================================================\n",
      "embedding_7 (Embedding)      (None, 2000, 128)         25600000  \n",
      "_________________________________________________________________\n",
      "lstm_7 (LSTM)                (None, 2000, 25)          15400     \n",
      "_________________________________________________________________\n",
      "lstm_8 (LSTM)                (None, 2000, 25)          5100      \n",
      "_________________________________________________________________\n",
      "global_max_pooling1d_5 (Glob (None, 25)                0         \n",
      "_________________________________________________________________\n",
      "dropout_9 (Dropout)          (None, 25)                0         \n",
      "_________________________________________________________________\n",
      "dense_15 (Dense)             (None, 50)                1300      \n",
      "_________________________________________________________________\n",
      "dropout_10 (Dropout)         (None, 50)                0         \n",
      "_________________________________________________________________\n",
      "dense_16 (Dense)             (None, 50)                2550      \n",
      "_________________________________________________________________\n",
      "dropout_11 (Dropout)         (None, 50)                0         \n",
      "_________________________________________________________________\n",
      "dense_17 (Dense)             (None, 1)                 51        \n",
      "=================================================================\n",
      "Total params: 25,624,401\n",
      "Trainable params: 25,624,401\n",
      "Non-trainable params: 0\n",
      "_________________________________________________________________\n"
     ]
    }
   ],
   "source": [
    "model.summary()"
   ]
  },
  {
   "cell_type": "code",
   "execution_count": 0,
   "metadata": {
    "colab": {
     "base_uri": "https://localhost:8080/",
     "height": 238
    },
    "colab_type": "code",
    "id": "sZXR7dkTS_Bb",
    "outputId": "1cf9eab0-cd75-4a38-e9a1-60b9ed34da6a"
   },
   "outputs": [
    {
     "name": "stdout",
     "output_type": "stream",
     "text": [
      "Train on 314863 samples, validate on 39358 samples\n",
      "Epoch 1/10\n",
      "314863/314863 [==============================] - 3220s 10ms/sample - loss: 0.7873 - acc: 0.5260 - val_loss: 0.6808 - val_acc: 0.5554\n",
      "Epoch 2/10\n",
      "314863/314863 [==============================] - 3204s 10ms/sample - loss: 0.7005 - acc: 0.5568 - val_loss: 0.6718 - val_acc: 0.5824\n",
      "Epoch 3/10\n",
      "314863/314863 [==============================] - 3210s 10ms/sample - loss: 0.6850 - acc: 0.5813 - val_loss: 0.6729 - val_acc: 0.5806\n",
      "Epoch 4/10\n",
      "314863/314863 [==============================] - 3229s 10ms/sample - loss: 0.6745 - acc: 0.5983 - val_loss: 0.6735 - val_acc: 0.5866\n",
      "Epoch 5/10\n",
      "314863/314863 [==============================] - 3235s 10ms/sample - loss: 0.6594 - acc: 0.6185 - val_loss: 0.6714 - val_acc: 0.5916\n",
      "Epoch 6/10\n",
      "148992/314863 [=============>................] - ETA: 27:42 - loss: 0.6719 - acc: 0.6003"
     ]
    }
   ],
   "source": [
    "# Try again with more epochs, callbacks\n",
    "from keras import callbacks\n",
    "\n",
    "checkpoint = callbacks.ModelCheckpoint(\"lstm_model.h5\", save_best_only=True)\n",
    "early_stop = callbacks.EarlyStopping(monitor='val_loss', \n",
    "                                     min_delta=0.01, \n",
    "                                     patience=5) \n",
    "\n",
    "embedding_size = 128\n",
    "model = tf.keras.models.Sequential()\n",
    "model.add(tf.keras.layers.Embedding(200000, embedding_size, input_shape=(2000,)))\n",
    "model.add(tf.keras.layers.LSTM(25, return_sequences=True))\n",
    "model.add(tf.keras.layers.LSTM(25, return_sequences=True))\n",
    "model.add(tf.keras.layers.GlobalMaxPool1D())\n",
    "model.add(tf.keras.layers.Dropout(0.5))\n",
    "model.add(tf.keras.layers.Dense(50, activation='relu'))\n",
    "model.add(tf.keras.layers.Dropout(0.5))\n",
    "model.add(tf.keras.layers.Dense(50, activation='relu'))\n",
    "model.add(tf.keras.layers.Dropout(0.5))\n",
    "model.add(tf.keras.layers.Dense(1, activation='relu'))\n",
    "\n",
    "model.compile(loss='binary_crossentropy', optimizer='adam', metrics=['accuracy'])\n",
    "history = model.fit(X_train_tok_pad, y_train, epochs=10, batch_size=512, \n",
    "                    validation_data=(X_val_tok_pad, y_val),\n",
    "                    callbacks=[checkpoint, early_stop])"
   ]
  },
  {
   "cell_type": "markdown",
   "metadata": {
    "colab_type": "text",
    "id": "WND9irtIraIO"
   },
   "source": [
    "The connection to the runtime dropped at this point, so this is all I've got."
   ]
  },
  {
   "cell_type": "code",
   "execution_count": 0,
   "metadata": {
    "colab": {},
    "colab_type": "code",
    "id": "0owmNkG7k04p"
   },
   "outputs": [],
   "source": []
  }
 ],
 "metadata": {
  "accelerator": "GPU",
  "colab": {
   "machine_shape": "hm",
   "name": "project-notes.ipynb",
   "provenance": [],
   "toc_visible": true
  },
  "kernelspec": {
   "display_name": "Python 3",
   "language": "python",
   "name": "python3"
  },
  "language_info": {
   "codemirror_mode": {
    "name": "ipython",
    "version": 3
   },
   "file_extension": ".py",
   "mimetype": "text/x-python",
   "name": "python",
   "nbconvert_exporter": "python",
   "pygments_lexer": "ipython3",
   "version": "3.6.6"
  },
  "toc": {
   "base_numbering": 1,
   "nav_menu": {},
   "number_sections": true,
   "sideBar": true,
   "skip_h1_title": false,
   "title_cell": "Table of Contents",
   "title_sidebar": "Contents",
   "toc_cell": false,
   "toc_position": {
    "height": "calc(100% - 180px)",
    "left": "10px",
    "top": "150px",
    "width": "276.52px"
   },
   "toc_section_display": true,
   "toc_window_display": true
  }
 },
 "nbformat": 4,
 "nbformat_minor": 1
}
